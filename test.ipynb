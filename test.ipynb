{
 "cells": [
  {
   "cell_type": "markdown",
   "metadata": {},
   "source": [
    "Load dataset:"
   ]
  },
  {
   "cell_type": "code",
   "execution_count": 1,
   "metadata": {},
   "outputs": [
    {
     "name": "stderr",
     "output_type": "stream",
     "text": [
      "c:\\Users\\giuli\\anaconda3\\lib\\site-packages\\pandas\\core\\arrays\\masked.py:60: UserWarning: Pandas requires version '1.3.6' or newer of 'bottleneck' (version '1.3.5' currently installed).\n",
      "  from pandas.core import (\n"
     ]
    },
    {
     "data": {
      "text/html": [
       "<div>\n",
       "<style scoped>\n",
       "    .dataframe tbody tr th:only-of-type {\n",
       "        vertical-align: middle;\n",
       "    }\n",
       "\n",
       "    .dataframe tbody tr th {\n",
       "        vertical-align: top;\n",
       "    }\n",
       "\n",
       "    .dataframe thead th {\n",
       "        text-align: right;\n",
       "    }\n",
       "</style>\n",
       "<table border=\"1\" class=\"dataframe\">\n",
       "  <thead>\n",
       "    <tr style=\"text-align: right;\">\n",
       "      <th></th>\n",
       "      <th>ID</th>\n",
       "      <th>sequence</th>\n",
       "      <th>category</th>\n",
       "    </tr>\n",
       "  </thead>\n",
       "  <tbody>\n",
       "    <tr>\n",
       "      <th>0</th>\n",
       "      <td>NM_001368254.1</td>\n",
       "      <td>GCTGAGCTGAGCTGGGGCGCAGCCGCCTGTCTGCACCGGCAGCACC...</td>\n",
       "      <td>NM</td>\n",
       "    </tr>\n",
       "    <tr>\n",
       "      <th>1</th>\n",
       "      <td>NM_001350977.1</td>\n",
       "      <td>TCCACAACTGAAACATCCACTTCTGAACACCATGTCCTACTACAGC...</td>\n",
       "      <td>NM</td>\n",
       "    </tr>\n",
       "  </tbody>\n",
       "</table>\n",
       "</div>"
      ],
      "text/plain": [
       "               ID                                           sequence category\n",
       "0  NM_001368254.1  GCTGAGCTGAGCTGGGGCGCAGCCGCCTGTCTGCACCGGCAGCACC...       NM\n",
       "1  NM_001350977.1  TCCACAACTGAAACATCCACTTCTGAACACCATGTCCTACTACAGC...       NM"
      ]
     },
     "execution_count": 1,
     "metadata": {},
     "output_type": "execute_result"
    }
   ],
   "source": [
    "from HumanGenomeDataset.load_dataset import load_dataset\n",
    "\n",
    "data_df = load_dataset('dna_protein_coding_sequences')\n",
    "data_df.head(2)"
   ]
  },
  {
   "cell_type": "markdown",
   "metadata": {},
   "source": [
    "Start simulation:"
   ]
  },
  {
   "cell_type": "code",
   "execution_count": 2,
   "metadata": {},
   "outputs": [],
   "source": [
    "from src.simulation import ProteinSinthesisProcess"
   ]
  },
  {
   "cell_type": "code",
   "execution_count": 3,
   "metadata": {},
   "outputs": [
    {
     "name": "stdout",
     "output_type": "stream",
     "text": [
      "Simulation environment initialized, time unit: 0.0001 second.\n"
     ]
    }
   ],
   "source": [
    "SIM_TIME = 3600*2 # 2 hours\n",
    "NUMBER_RESOURCES = 5\n",
    "NUMBER_RNA_POLYMERASES = 3\n",
    "NUMBER_RIBOSOMES = 2\n",
    "URACIL_INITIAL_AMOUNT = 50000\n",
    "ADENINE_INITIAL_AMOUNT = 50000\n",
    "GUANINE_INITIAL_AMOUNT = 50000\n",
    "CYTOSINE_INITIAL_AMOUNT = 50000\n",
    "RANDOM_SEED = 42\n",
    "\n",
    "protein_synthesis_process = ProteinSinthesisProcess(\n",
    "    dna_sequences_df=data_df,\n",
    "    number_resources=NUMBER_RESOURCES,\n",
    "    number_rna_polymerases=NUMBER_RNA_POLYMERASES, \n",
    "    number_ribosomes=NUMBER_RIBOSOMES,\n",
    "    uracil_initial_amount=URACIL_INITIAL_AMOUNT,\n",
    "    adenine_initial_amount=ADENINE_INITIAL_AMOUNT,\n",
    "    guanine_initial_amount=GUANINE_INITIAL_AMOUNT,\n",
    "    cytosine_initial_amount=CYTOSINE_INITIAL_AMOUNT,\n",
    "    random_seed=RANDOM_SEED,\n",
    "    verbose=False\n",
    "    )"
   ]
  },
  {
   "cell_type": "code",
   "execution_count": 4,
   "metadata": {},
   "outputs": [
    {
     "name": "stdout",
     "output_type": "stream",
     "text": [
      "Protein Sinthesis Process:\n",
      "185310 dna sequences to synthesize,\n",
      "5 resources available,\n",
      "3 RNA polymerases,\n",
      "2 ribosomes,\n",
      "50000 uracil bases,\n",
      "50000 adenine bases,\n",
      "50000 guanine bases,\n",
      "50000 cytosine bases.\n"
     ]
    }
   ],
   "source": [
    "print(protein_synthesis_process)"
   ]
  },
  {
   "cell_type": "code",
   "execution_count": 5,
   "metadata": {},
   "outputs": [
    {
     "name": "stdout",
     "output_type": "stream",
     "text": [
      "Simulation started\n"
     ]
    }
   ],
   "source": [
    "protein_synthesis_process.run(simulation_time=SIM_TIME) # run the simulation"
   ]
  },
  {
   "cell_type": "code",
   "execution_count": null,
   "metadata": {},
   "outputs": [
    {
     "name": "stdout",
     "output_type": "stream",
     "text": [
      "Process saved.\n"
     ]
    }
   ],
   "source": [
    "protein_synthesis_process.save_process() # save the process"
   ]
  },
  {
   "cell_type": "markdown",
   "metadata": {},
   "source": [
    "Results:"
   ]
  },
  {
   "cell_type": "code",
   "execution_count": null,
   "metadata": {},
   "outputs": [],
   "source": [
    "import pandas as pd\n",
    "results_path = 'results/results.csv'\n",
    "\n",
    "results_df = pd.read_csv(results_path)"
   ]
  },
  {
   "cell_type": "code",
   "execution_count": null,
   "metadata": {},
   "outputs": [
    {
     "name": "stdout",
     "output_type": "stream",
     "text": [
      "Number of DNA sequence traslated: 41\n",
      "Number of DNA sequence not traslated: 3\n"
     ]
    }
   ],
   "source": [
    "print('Number of DNA sequence traslated:', results_df[results_df['mrna_sequences'].notna()].shape[0])\n",
    "print('Number of DNA sequence not traslated:', results_df[results_df['protein_synthesized']==False].shape[0])"
   ]
  },
  {
   "cell_type": "code",
   "execution_count": null,
   "metadata": {},
   "outputs": [
    {
     "data": {
      "text/plain": [
       "Index(['Unnamed: 0', 'ID', 'category', 'end_process_time',\n",
       "       'end_translation_time', 'length_proteins', 'mrna_sequences',\n",
       "       'number_different_proteins', 'number_of_proteins_synthesized',\n",
       "       'polypeptides_chains', 'polypeptides_chains_ext', 'protein_synthesized',\n",
       "       'request_start_process_time', 'sequence', 'start_process_time',\n",
       "       'start_transcription_time', 'start_translation_time'],\n",
       "      dtype='object')"
      ]
     },
     "execution_count": 9,
     "metadata": {},
     "output_type": "execute_result"
    }
   ],
   "source": [
    "results_df.columns"
   ]
  },
  {
   "cell_type": "code",
   "execution_count": null,
   "metadata": {},
   "outputs": [
    {
     "data": {
      "text/html": [
       "<div>\n",
       "<style scoped>\n",
       "    .dataframe tbody tr th:only-of-type {\n",
       "        vertical-align: middle;\n",
       "    }\n",
       "\n",
       "    .dataframe tbody tr th {\n",
       "        vertical-align: top;\n",
       "    }\n",
       "\n",
       "    .dataframe thead th {\n",
       "        text-align: right;\n",
       "    }\n",
       "</style>\n",
       "<table border=\"1\" class=\"dataframe\">\n",
       "  <thead>\n",
       "    <tr style=\"text-align: right;\">\n",
       "      <th></th>\n",
       "      <th>polypeptides_chains</th>\n",
       "      <th>number_of_proteins_synthesized</th>\n",
       "      <th>length_proteins</th>\n",
       "      <th>number_different_proteins</th>\n",
       "    </tr>\n",
       "  </thead>\n",
       "  <tbody>\n",
       "    <tr>\n",
       "      <th>0</th>\n",
       "      <td>['NH2-LYRFRFYFLFVEG-COOH', 'NH2-LYRFRFYFLFVEG-...</td>\n",
       "      <td>4</td>\n",
       "      <td>[13, 13, 13, 13]</td>\n",
       "      <td>1.0</td>\n",
       "    </tr>\n",
       "    <tr>\n",
       "      <th>1</th>\n",
       "      <td>['NH2-RAKLRF-COOH', 'NH2-RAKLRF-COOH', 'NH2-RA...</td>\n",
       "      <td>4</td>\n",
       "      <td>[6, 6, 6, 6]</td>\n",
       "      <td>1.0</td>\n",
       "    </tr>\n",
       "    <tr>\n",
       "      <th>2</th>\n",
       "      <td>['NH2-GRTAASGARADGGAGAGTFGGSGAQSSDRGGGCQSSATGA...</td>\n",
       "      <td>3</td>\n",
       "      <td>[53, 53, 53]</td>\n",
       "      <td>1.0</td>\n",
       "    </tr>\n",
       "    <tr>\n",
       "      <th>3</th>\n",
       "      <td>['NH2-RPTRGSGRRRRYSHDPLY-COOH', 'NH2-RPTProGSG...</td>\n",
       "      <td>3</td>\n",
       "      <td>[18, 20, 20]</td>\n",
       "      <td>2.0</td>\n",
       "    </tr>\n",
       "    <tr>\n",
       "      <th>4</th>\n",
       "      <td>['NH2-SILHSNSQIRKFRPEE-COOH', 'NH2-SILHSNSQIRK...</td>\n",
       "      <td>2</td>\n",
       "      <td>[16, 16]</td>\n",
       "      <td>1.0</td>\n",
       "    </tr>\n",
       "    <tr>\n",
       "      <th>5</th>\n",
       "      <td>['NH2-KCMSRELLLYLALFLVGRKRGNMKGYLDVAFLRDWFLYLI...</td>\n",
       "      <td>1</td>\n",
       "      <td>[62]</td>\n",
       "      <td>1.0</td>\n",
       "    </tr>\n",
       "    <tr>\n",
       "      <th>6</th>\n",
       "      <td>[None, None, None]</td>\n",
       "      <td>3</td>\n",
       "      <td>[]</td>\n",
       "      <td>0.0</td>\n",
       "    </tr>\n",
       "    <tr>\n",
       "      <th>7</th>\n",
       "      <td>['NH2-PSQGPRHPSSSPSAAWQGAPRATTSTPSTRSTTCFGGYNN...</td>\n",
       "      <td>5</td>\n",
       "      <td>[41, 41, 41, 41, 41]</td>\n",
       "      <td>2.0</td>\n",
       "    </tr>\n",
       "    <tr>\n",
       "      <th>8</th>\n",
       "      <td>['NH2-R-COOH']</td>\n",
       "      <td>1</td>\n",
       "      <td>[1]</td>\n",
       "      <td>1.0</td>\n",
       "    </tr>\n",
       "    <tr>\n",
       "      <th>9</th>\n",
       "      <td>['NH2-WEVKEPISGVHSHR-COOH', 'NH2-WEVKEPISGVHSH...</td>\n",
       "      <td>3</td>\n",
       "      <td>[14, 14, 14]</td>\n",
       "      <td>2.0</td>\n",
       "    </tr>\n",
       "    <tr>\n",
       "      <th>10</th>\n",
       "      <td>['NH2-YFWSD-COOH', 'NH2-YFWSD-COOH']</td>\n",
       "      <td>2</td>\n",
       "      <td>[5, 5]</td>\n",
       "      <td>1.0</td>\n",
       "    </tr>\n",
       "    <tr>\n",
       "      <th>11</th>\n",
       "      <td>['NH2-KNLFTDTTPPHQRILHTS-COOH', 'NH2-KNLFTDTTP...</td>\n",
       "      <td>4</td>\n",
       "      <td>[18, 18, 18, 18]</td>\n",
       "      <td>1.0</td>\n",
       "    </tr>\n",
       "    <tr>\n",
       "      <th>12</th>\n",
       "      <td>['NH2-SRSQILKFTLISHHKCSFTLTYSVEIGEGRKKSILSGII-...</td>\n",
       "      <td>3</td>\n",
       "      <td>[39, 39, 39]</td>\n",
       "      <td>2.0</td>\n",
       "    </tr>\n",
       "    <tr>\n",
       "      <th>13</th>\n",
       "      <td>['NH2-NQFALKHLVDLFHLGHLPHHEHLGLMDFLAFHKHWEWTRK...</td>\n",
       "      <td>1</td>\n",
       "      <td>[59]</td>\n",
       "      <td>1.0</td>\n",
       "    </tr>\n",
       "    <tr>\n",
       "      <th>14</th>\n",
       "      <td>['NH2-KGVKSLSGGGDARNKVFFNSWSLWLDSPKRVNRAGWDFSG...</td>\n",
       "      <td>1</td>\n",
       "      <td>[88]</td>\n",
       "      <td>1.0</td>\n",
       "    </tr>\n",
       "    <tr>\n",
       "      <th>15</th>\n",
       "      <td>['NH2-STLNLGVERG-COOH']</td>\n",
       "      <td>1</td>\n",
       "      <td>[10]</td>\n",
       "      <td>1.0</td>\n",
       "    </tr>\n",
       "    <tr>\n",
       "      <th>16</th>\n",
       "      <td>['NH2-PTTHDTSAPSSSVAPS-COOH']</td>\n",
       "      <td>1</td>\n",
       "      <td>[16]</td>\n",
       "      <td>1.0</td>\n",
       "    </tr>\n",
       "    <tr>\n",
       "      <th>17</th>\n",
       "      <td>['NH2-FLTTCYKSHLTSSVNWTVKTFVTSRSSCTSLWG-COOH']</td>\n",
       "      <td>1</td>\n",
       "      <td>[33]</td>\n",
       "      <td>1.0</td>\n",
       "    </tr>\n",
       "    <tr>\n",
       "      <th>18</th>\n",
       "      <td>['NH2-KLDRLPRA-COOH', 'NH2-KLDRLPRA-COOH', 'NH...</td>\n",
       "      <td>4</td>\n",
       "      <td>[8, 8, 8, 8]</td>\n",
       "      <td>1.0</td>\n",
       "    </tr>\n",
       "    <tr>\n",
       "      <th>20</th>\n",
       "      <td>['NH2-SVD-COOH', 'NH2-SVD-COOH', 'NH2-SVD-COOH...</td>\n",
       "      <td>7</td>\n",
       "      <td>[3, 3, 3, 3, 3, 3, 3]</td>\n",
       "      <td>1.0</td>\n",
       "    </tr>\n",
       "    <tr>\n",
       "      <th>21</th>\n",
       "      <td>['NH2-VAPEPAVAARPPAAAAAASAPPTSAAAPVAALVAAAPAPR...</td>\n",
       "      <td>1</td>\n",
       "      <td>[202]</td>\n",
       "      <td>1.0</td>\n",
       "    </tr>\n",
       "    <tr>\n",
       "      <th>22</th>\n",
       "      <td>['NH2-STE-COOH', 'NH2-STESRKKSHGPVRSPLCRNGVRTL...</td>\n",
       "      <td>3</td>\n",
       "      <td>[3, 49, 49]</td>\n",
       "      <td>2.0</td>\n",
       "    </tr>\n",
       "    <tr>\n",
       "      <th>23</th>\n",
       "      <td>['NH2-APCHKRYLGSLPMYLGVMVGGVEKGRKVGGHG-COOH', ...</td>\n",
       "      <td>4</td>\n",
       "      <td>[32, 6, 32, 32]</td>\n",
       "      <td>2.0</td>\n",
       "    </tr>\n",
       "    <tr>\n",
       "      <th>24</th>\n",
       "      <td>['NH2-CRRTDLLRPKRPWVRCHEWDRSRDLRAPLANLLVHVRDHA...</td>\n",
       "      <td>2</td>\n",
       "      <td>[172, 172]</td>\n",
       "      <td>1.0</td>\n",
       "    </tr>\n",
       "    <tr>\n",
       "      <th>25</th>\n",
       "      <td>[None]</td>\n",
       "      <td>1</td>\n",
       "      <td>[]</td>\n",
       "      <td>0.0</td>\n",
       "    </tr>\n",
       "    <tr>\n",
       "      <th>26</th>\n",
       "      <td>['NH2-EGRDGCPEVGLEAGPEGRSGDVGGERRPRRPVAAPPSARR...</td>\n",
       "      <td>2</td>\n",
       "      <td>[66, 66]</td>\n",
       "      <td>1.0</td>\n",
       "    </tr>\n",
       "    <tr>\n",
       "      <th>27</th>\n",
       "      <td>['NH2-PRIARGRNFREQLPDVGTRRLTSAETREPQT-COOH', '...</td>\n",
       "      <td>2</td>\n",
       "      <td>[31, 31]</td>\n",
       "      <td>1.0</td>\n",
       "    </tr>\n",
       "    <tr>\n",
       "      <th>28</th>\n",
       "      <td>['NH2-WVLPRPEPARPLCIPT-COOH', 'NH2-WVLPRPEPARP...</td>\n",
       "      <td>3</td>\n",
       "      <td>[16, 16, 16]</td>\n",
       "      <td>1.0</td>\n",
       "    </tr>\n",
       "    <tr>\n",
       "      <th>29</th>\n",
       "      <td>['NH2-SFILPVI-COOH', 'NH2-SFILPVI-COOH', 'NH2-...</td>\n",
       "      <td>10</td>\n",
       "      <td>[7, 7, 7, 7, 7, 7, 7, 7, 7, 7]</td>\n",
       "      <td>1.0</td>\n",
       "    </tr>\n",
       "    <tr>\n",
       "      <th>30</th>\n",
       "      <td>['NH2-NLLTFDGFTSRNQPGTRIARLRNRSQTTTESFSCIG-COO...</td>\n",
       "      <td>2</td>\n",
       "      <td>[36, 36]</td>\n",
       "      <td>2.0</td>\n",
       "    </tr>\n",
       "    <tr>\n",
       "      <th>31</th>\n",
       "      <td>['NH2-INKFNLKIIGWSTRSLCVPRNNGKGSNVETLCPRIIGSRL...</td>\n",
       "      <td>1</td>\n",
       "      <td>[89]</td>\n",
       "      <td>1.0</td>\n",
       "    </tr>\n",
       "    <tr>\n",
       "      <th>32</th>\n",
       "      <td>['NH2-SLLSFSDIFGYHKPFFYWGNGTQTSTVMMRPFYRLLLLIL...</td>\n",
       "      <td>10</td>\n",
       "      <td>[62, 62, 62, 62, 62, 62, 62, 62, 62, 62]</td>\n",
       "      <td>3.0</td>\n",
       "    </tr>\n",
       "    <tr>\n",
       "      <th>33</th>\n",
       "      <td>['NH2-FQKKKKKKRRKKRKKKRKRGKKKKERKKKKERKKERERER...</td>\n",
       "      <td>4</td>\n",
       "      <td>[58, 58, 58, 58]</td>\n",
       "      <td>1.0</td>\n",
       "    </tr>\n",
       "    <tr>\n",
       "      <th>34</th>\n",
       "      <td>['NH2-TSVT-COOH', 'NH2-TSVT-COOH', 'NH2-TSVT-C...</td>\n",
       "      <td>3</td>\n",
       "      <td>[4, 4, 4]</td>\n",
       "      <td>1.0</td>\n",
       "    </tr>\n",
       "    <tr>\n",
       "      <th>35</th>\n",
       "      <td>['NH2-GRRERRRTQEESSGRCSGPRTTLI-COOH', 'NH2-GRR...</td>\n",
       "      <td>5</td>\n",
       "      <td>[24, 24, 24, 24, 24]</td>\n",
       "      <td>1.0</td>\n",
       "    </tr>\n",
       "    <tr>\n",
       "      <th>36</th>\n",
       "      <td>[None, None, None, None, None, None]</td>\n",
       "      <td>6</td>\n",
       "      <td>[]</td>\n",
       "      <td>0.0</td>\n",
       "    </tr>\n",
       "    <tr>\n",
       "      <th>37</th>\n",
       "      <td>['NH2-VTHWSFREPRFARTS-COOH', 'NH2-VTHWSFREPRFA...</td>\n",
       "      <td>4</td>\n",
       "      <td>[15, 15, 15, 15]</td>\n",
       "      <td>1.0</td>\n",
       "    </tr>\n",
       "    <tr>\n",
       "      <th>38</th>\n",
       "      <td>['NH2-VFVPSFGKHSLDEGTGLWRTIRGGGL-COOH', 'NH2-V...</td>\n",
       "      <td>6</td>\n",
       "      <td>[26, 26, 26, 26, 26, 26]</td>\n",
       "      <td>2.0</td>\n",
       "    </tr>\n",
       "    <tr>\n",
       "      <th>39</th>\n",
       "      <td>['NH2-FPLMELASERRPSLSLVDRL-COOH', 'NH2-FPLMELA...</td>\n",
       "      <td>2</td>\n",
       "      <td>[20, 20]</td>\n",
       "      <td>1.0</td>\n",
       "    </tr>\n",
       "    <tr>\n",
       "      <th>40</th>\n",
       "      <td>['NH2-KHLWGIPIVDLNLKEFIHLLYVFPLW-COOH', 'NH2-K...</td>\n",
       "      <td>2</td>\n",
       "      <td>[26, 26]</td>\n",
       "      <td>1.0</td>\n",
       "    </tr>\n",
       "    <tr>\n",
       "      <th>43</th>\n",
       "      <td>['NH2-GCNHSSPGPAsnTGPKSVTCVRKTSFHYSVVGGVSFTSSI...</td>\n",
       "      <td>1</td>\n",
       "      <td>[48]</td>\n",
       "      <td>1.0</td>\n",
       "    </tr>\n",
       "  </tbody>\n",
       "</table>\n",
       "</div>"
      ],
      "text/plain": [
       "                                  polypeptides_chains  \\\n",
       "0   ['NH2-LYRFRFYFLFVEG-COOH', 'NH2-LYRFRFYFLFVEG-...   \n",
       "1   ['NH2-RAKLRF-COOH', 'NH2-RAKLRF-COOH', 'NH2-RA...   \n",
       "2   ['NH2-GRTAASGARADGGAGAGTFGGSGAQSSDRGGGCQSSATGA...   \n",
       "3   ['NH2-RPTRGSGRRRRYSHDPLY-COOH', 'NH2-RPTProGSG...   \n",
       "4   ['NH2-SILHSNSQIRKFRPEE-COOH', 'NH2-SILHSNSQIRK...   \n",
       "5   ['NH2-KCMSRELLLYLALFLVGRKRGNMKGYLDVAFLRDWFLYLI...   \n",
       "6                                  [None, None, None]   \n",
       "7   ['NH2-PSQGPRHPSSSPSAAWQGAPRATTSTPSTRSTTCFGGYNN...   \n",
       "8                                      ['NH2-R-COOH']   \n",
       "9   ['NH2-WEVKEPISGVHSHR-COOH', 'NH2-WEVKEPISGVHSH...   \n",
       "10               ['NH2-YFWSD-COOH', 'NH2-YFWSD-COOH']   \n",
       "11  ['NH2-KNLFTDTTPPHQRILHTS-COOH', 'NH2-KNLFTDTTP...   \n",
       "12  ['NH2-SRSQILKFTLISHHKCSFTLTYSVEIGEGRKKSILSGII-...   \n",
       "13  ['NH2-NQFALKHLVDLFHLGHLPHHEHLGLMDFLAFHKHWEWTRK...   \n",
       "14  ['NH2-KGVKSLSGGGDARNKVFFNSWSLWLDSPKRVNRAGWDFSG...   \n",
       "15                            ['NH2-STLNLGVERG-COOH']   \n",
       "16                      ['NH2-PTTHDTSAPSSSVAPS-COOH']   \n",
       "17     ['NH2-FLTTCYKSHLTSSVNWTVKTFVTSRSSCTSLWG-COOH']   \n",
       "18  ['NH2-KLDRLPRA-COOH', 'NH2-KLDRLPRA-COOH', 'NH...   \n",
       "20  ['NH2-SVD-COOH', 'NH2-SVD-COOH', 'NH2-SVD-COOH...   \n",
       "21  ['NH2-VAPEPAVAARPPAAAAAASAPPTSAAAPVAALVAAAPAPR...   \n",
       "22  ['NH2-STE-COOH', 'NH2-STESRKKSHGPVRSPLCRNGVRTL...   \n",
       "23  ['NH2-APCHKRYLGSLPMYLGVMVGGVEKGRKVGGHG-COOH', ...   \n",
       "24  ['NH2-CRRTDLLRPKRPWVRCHEWDRSRDLRAPLANLLVHVRDHA...   \n",
       "25                                             [None]   \n",
       "26  ['NH2-EGRDGCPEVGLEAGPEGRSGDVGGERRPRRPVAAPPSARR...   \n",
       "27  ['NH2-PRIARGRNFREQLPDVGTRRLTSAETREPQT-COOH', '...   \n",
       "28  ['NH2-WVLPRPEPARPLCIPT-COOH', 'NH2-WVLPRPEPARP...   \n",
       "29  ['NH2-SFILPVI-COOH', 'NH2-SFILPVI-COOH', 'NH2-...   \n",
       "30  ['NH2-NLLTFDGFTSRNQPGTRIARLRNRSQTTTESFSCIG-COO...   \n",
       "31  ['NH2-INKFNLKIIGWSTRSLCVPRNNGKGSNVETLCPRIIGSRL...   \n",
       "32  ['NH2-SLLSFSDIFGYHKPFFYWGNGTQTSTVMMRPFYRLLLLIL...   \n",
       "33  ['NH2-FQKKKKKKRRKKRKKKRKRGKKKKERKKKKERKKERERER...   \n",
       "34  ['NH2-TSVT-COOH', 'NH2-TSVT-COOH', 'NH2-TSVT-C...   \n",
       "35  ['NH2-GRRERRRTQEESSGRCSGPRTTLI-COOH', 'NH2-GRR...   \n",
       "36               [None, None, None, None, None, None]   \n",
       "37  ['NH2-VTHWSFREPRFARTS-COOH', 'NH2-VTHWSFREPRFA...   \n",
       "38  ['NH2-VFVPSFGKHSLDEGTGLWRTIRGGGL-COOH', 'NH2-V...   \n",
       "39  ['NH2-FPLMELASERRPSLSLVDRL-COOH', 'NH2-FPLMELA...   \n",
       "40  ['NH2-KHLWGIPIVDLNLKEFIHLLYVFPLW-COOH', 'NH2-K...   \n",
       "43  ['NH2-GCNHSSPGPAsnTGPKSVTCVRKTSFHYSVVGGVSFTSSI...   \n",
       "\n",
       "    number_of_proteins_synthesized                           length_proteins  \\\n",
       "0                                4                          [13, 13, 13, 13]   \n",
       "1                                4                              [6, 6, 6, 6]   \n",
       "2                                3                              [53, 53, 53]   \n",
       "3                                3                              [18, 20, 20]   \n",
       "4                                2                                  [16, 16]   \n",
       "5                                1                                      [62]   \n",
       "6                                3                                        []   \n",
       "7                                5                      [41, 41, 41, 41, 41]   \n",
       "8                                1                                       [1]   \n",
       "9                                3                              [14, 14, 14]   \n",
       "10                               2                                    [5, 5]   \n",
       "11                               4                          [18, 18, 18, 18]   \n",
       "12                               3                              [39, 39, 39]   \n",
       "13                               1                                      [59]   \n",
       "14                               1                                      [88]   \n",
       "15                               1                                      [10]   \n",
       "16                               1                                      [16]   \n",
       "17                               1                                      [33]   \n",
       "18                               4                              [8, 8, 8, 8]   \n",
       "20                               7                     [3, 3, 3, 3, 3, 3, 3]   \n",
       "21                               1                                     [202]   \n",
       "22                               3                               [3, 49, 49]   \n",
       "23                               4                           [32, 6, 32, 32]   \n",
       "24                               2                                [172, 172]   \n",
       "25                               1                                        []   \n",
       "26                               2                                  [66, 66]   \n",
       "27                               2                                  [31, 31]   \n",
       "28                               3                              [16, 16, 16]   \n",
       "29                              10            [7, 7, 7, 7, 7, 7, 7, 7, 7, 7]   \n",
       "30                               2                                  [36, 36]   \n",
       "31                               1                                      [89]   \n",
       "32                              10  [62, 62, 62, 62, 62, 62, 62, 62, 62, 62]   \n",
       "33                               4                          [58, 58, 58, 58]   \n",
       "34                               3                                 [4, 4, 4]   \n",
       "35                               5                      [24, 24, 24, 24, 24]   \n",
       "36                               6                                        []   \n",
       "37                               4                          [15, 15, 15, 15]   \n",
       "38                               6                  [26, 26, 26, 26, 26, 26]   \n",
       "39                               2                                  [20, 20]   \n",
       "40                               2                                  [26, 26]   \n",
       "43                               1                                      [48]   \n",
       "\n",
       "    number_different_proteins  \n",
       "0                         1.0  \n",
       "1                         1.0  \n",
       "2                         1.0  \n",
       "3                         2.0  \n",
       "4                         1.0  \n",
       "5                         1.0  \n",
       "6                         0.0  \n",
       "7                         2.0  \n",
       "8                         1.0  \n",
       "9                         2.0  \n",
       "10                        1.0  \n",
       "11                        1.0  \n",
       "12                        2.0  \n",
       "13                        1.0  \n",
       "14                        1.0  \n",
       "15                        1.0  \n",
       "16                        1.0  \n",
       "17                        1.0  \n",
       "18                        1.0  \n",
       "20                        1.0  \n",
       "21                        1.0  \n",
       "22                        2.0  \n",
       "23                        2.0  \n",
       "24                        1.0  \n",
       "25                        0.0  \n",
       "26                        1.0  \n",
       "27                        1.0  \n",
       "28                        1.0  \n",
       "29                        1.0  \n",
       "30                        2.0  \n",
       "31                        1.0  \n",
       "32                        3.0  \n",
       "33                        1.0  \n",
       "34                        1.0  \n",
       "35                        1.0  \n",
       "36                        0.0  \n",
       "37                        1.0  \n",
       "38                        2.0  \n",
       "39                        1.0  \n",
       "40                        1.0  \n",
       "43                        1.0  "
      ]
     },
     "execution_count": 10,
     "metadata": {},
     "output_type": "execute_result"
    }
   ],
   "source": [
    "results_df[results_df['mrna_sequences'].notna()][[\n",
    "    'polypeptides_chains', 'number_of_proteins_synthesized', 'length_proteins', 'number_different_proteins']]"
   ]
  },
  {
   "cell_type": "markdown",
   "metadata": {},
   "source": [
    "Plot results"
   ]
  },
  {
   "cell_type": "code",
   "execution_count": null,
   "metadata": {},
   "outputs": [],
   "source": [
    "from src.utils.plot_utils import barplot_proteins_number, plot_cumulative_proteins_number_over_time, plot_proteins_number_over_time"
   ]
  },
  {
   "cell_type": "code",
   "execution_count": null,
   "metadata": {},
   "outputs": [
    {
     "data": {
      "image/png": "[encoded data removed]",
      "text/plain": [
       "<Figure size 2000x500 with 1 Axes>"
      ]
     },
     "metadata": {},
     "output_type": "display_data"
    }
   ],
   "source": [
    "barplot_proteins_number(results_df)"
   ]
  },
  {
   "cell_type": "code",
   "execution_count": null,
   "metadata": {},
   "outputs": [
    {
     "data": {
      "image/png": "[encoded data removed]",
      "text/plain": [
       "<Figure size 2000x500 with 1 Axes>"
      ]
     },
     "metadata": {},
     "output_type": "display_data"
    }
   ],
   "source": [
    "plot_proteins_number_over_time(results_df)"
   ]
  },
  {
   "cell_type": "code",
   "execution_count": null,
   "metadata": {},
   "outputs": [
    {
     "data": {
      "image/png": "[encoded data removed]",
      "text/plain": [
       "<Figure size 2000x500 with 1 Axes>"
      ]
     },
     "metadata": {},
     "output_type": "display_data"
    }
   ],
   "source": [
    "plot_cumulative_proteins_number_over_time(results_df)"
   ]
  }
 ],
 "metadata": {
  "kernelspec": {
   "display_name": "base",
   "language": "python",
   "name": "python3"
  },
  "language_info": {
   "codemirror_mode": {
    "name": "ipython",
    "version": 3
   },
   "file_extension": ".py",
   "mimetype": "text/x-python",
   "name": "python",
   "nbconvert_exporter": "python",
   "pygments_lexer": "ipython3",
   "version": "3.10.9"
  }
 },
 "nbformat": 4,
 "nbformat_minor": 2
}
