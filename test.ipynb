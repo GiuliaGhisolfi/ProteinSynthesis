{
 "cells": [
  {
   "cell_type": "markdown",
   "metadata": {},
   "source": [
    "# Protein Synthesis Simulation"
   ]
  },
  {
   "cell_type": "markdown",
   "metadata": {},
   "source": [
    "Load dataset:"
   ]
  },
  {
   "cell_type": "code",
   "execution_count": 1,
   "metadata": {},
   "outputs": [
    {
     "name": "stderr",
     "output_type": "stream",
     "text": [
      "c:\\Users\\giuli\\anaconda3\\lib\\site-packages\\pandas\\core\\arrays\\masked.py:60: UserWarning: Pandas requires version '1.3.6' or newer of 'bottleneck' (version '1.3.5' currently installed).\n",
      "  from pandas.core import (\n"
     ]
    },
    {
     "data": {
      "text/html": [
       "<div>\n",
       "<style scoped>\n",
       "    .dataframe tbody tr th:only-of-type {\n",
       "        vertical-align: middle;\n",
       "    }\n",
       "\n",
       "    .dataframe tbody tr th {\n",
       "        vertical-align: top;\n",
       "    }\n",
       "\n",
       "    .dataframe thead th {\n",
       "        text-align: right;\n",
       "    }\n",
       "</style>\n",
       "<table border=\"1\" class=\"dataframe\">\n",
       "  <thead>\n",
       "    <tr style=\"text-align: right;\">\n",
       "      <th></th>\n",
       "      <th>ID</th>\n",
       "      <th>sequence</th>\n",
       "      <th>category</th>\n",
       "    </tr>\n",
       "  </thead>\n",
       "  <tbody>\n",
       "    <tr>\n",
       "      <th>0</th>\n",
       "      <td>NM_001368254.1</td>\n",
       "      <td>GCTGAGCTGAGCTGGGGCGCAGCCGCCTGTCTGCACCGGCAGCACC...</td>\n",
       "      <td>NM</td>\n",
       "    </tr>\n",
       "    <tr>\n",
       "      <th>1</th>\n",
       "      <td>NM_001350977.1</td>\n",
       "      <td>TCCACAACTGAAACATCCACTTCTGAACACCATGTCCTACTACAGC...</td>\n",
       "      <td>NM</td>\n",
       "    </tr>\n",
       "  </tbody>\n",
       "</table>\n",
       "</div>"
      ],
      "text/plain": [
       "               ID                                           sequence category\n",
       "0  NM_001368254.1  GCTGAGCTGAGCTGGGGCGCAGCCGCCTGTCTGCACCGGCAGCACC...       NM\n",
       "1  NM_001350977.1  TCCACAACTGAAACATCCACTTCTGAACACCATGTCCTACTACAGC...       NM"
      ]
     },
     "execution_count": 1,
     "metadata": {},
     "output_type": "execute_result"
    }
   ],
   "source": [
    "from HumanGenomeDataset.load_dataset import load_dataset\n",
    "\n",
    "data_df = load_dataset('dna_protein_coding_sequences')\n",
    "data_df.head(2)"
   ]
  },
  {
   "cell_type": "markdown",
   "metadata": {},
   "source": [
    "### Simulation"
   ]
  },
  {
   "cell_type": "code",
   "execution_count": 2,
   "metadata": {},
   "outputs": [],
   "source": [
    "from src.simulation import ProteinSinthesisProcess"
   ]
  },
  {
   "cell_type": "code",
   "execution_count": 3,
   "metadata": {},
   "outputs": [
    {
     "name": "stdout",
     "output_type": "stream",
     "text": [
      "Simulation environment initialized, time unit: 0.0001 second.\n"
     ]
    }
   ],
   "source": [
    "SIM_TIME = 3600*2 # 2 hours\n",
    "NUMBER_RESOURCES = 5\n",
    "NUMBER_RNA_POLYMERASES = 3\n",
    "NUMBER_RIBOSOMES = 2\n",
    "URACIL_INITIAL_AMOUNT = 50000\n",
    "ADENINE_INITIAL_AMOUNT = 50000\n",
    "GUANINE_INITIAL_AMOUNT = 50000\n",
    "CYTOSINE_INITIAL_AMOUNT = 50000\n",
    "RANDOM_SEED = 42\n",
    "\n",
    "protein_synthesis_process = ProteinSinthesisProcess(\n",
    "    dna_sequences_df=data_df,\n",
    "    number_resources=NUMBER_RESOURCES,\n",
    "    number_rna_polymerases=NUMBER_RNA_POLYMERASES, \n",
    "    number_ribosomes=NUMBER_RIBOSOMES,\n",
    "    uracil_initial_amount=URACIL_INITIAL_AMOUNT,\n",
    "    adenine_initial_amount=ADENINE_INITIAL_AMOUNT,\n",
    "    guanine_initial_amount=GUANINE_INITIAL_AMOUNT,\n",
    "    cytosine_initial_amount=CYTOSINE_INITIAL_AMOUNT,\n",
    "    random_seed=RANDOM_SEED,\n",
    "    verbose=True\n",
    "    )"
   ]
  },
  {
   "cell_type": "code",
   "execution_count": 4,
   "metadata": {},
   "outputs": [
    {
     "name": "stdout",
     "output_type": "stream",
     "text": [
      "Protein Sinthesis Process:\n",
      "185310 dna sequences to synthesize,\n",
      "5 resources available,\n",
      "3 RNA polymerases,\n",
      "2 ribosomes,\n",
      "50000 uracil bases,\n",
      "50000 adenine bases,\n",
      "50000 guanine bases,\n",
      "50000 cytosine bases.\n"
     ]
    }
   ],
   "source": [
    "print(protein_synthesis_process)"
   ]
  },
  {
   "cell_type": "markdown",
   "metadata": {},
   "source": [
    "Start simulation:"
   ]
  },
  {
   "cell_type": "code",
   "execution_count": 5,
   "metadata": {},
   "outputs": [
    {
     "name": "stdout",
     "output_type": "stream",
     "text": [
      "Simulation started\n",
      "Time 0.0000: DNA Sequence 0 requesting to start synthesis\n",
      "Time 0.0000: DNA Sequence 0 synthesize started\n",
      "Time 0.0000: DNA Sequence 0 start transcription process\n",
      "Time 0.0000: DNA Sequence 0 contains 6 promoters\n",
      "Time 0.0000: DNA Sequence 0 (mRNA sequence 0) start transcription process\n",
      "Time 11.1331: DNA Sequence 1 requesting to start synthesis\n",
      "Time 11.1331: DNA Sequence 1 synthesize started\n",
      "Time 11.1331: DNA Sequence 1 start transcription process\n",
      "Time 11.1331: DNA Sequence 1 contains 1 promoters\n",
      "Time 11.1331: DNA Sequence 1 (mRNA sequence 0) start transcription process\n",
      "Time 66.9531: DNA Sequence 1 start translation process\n",
      "Time 66.9531: DNA Sequence 1 (mRNA sequence 0) start translation process\n",
      "Time 69.3531: DNA Sequence 1 (mRNA sequence 0) end translation process\n",
      "Time 69.3531: DNA Sequence 1 end transcription and translation process\n",
      "Time 69.3531: DNA Sequence 1 synthetis ended\n",
      "Time 105.6081: DNA Sequence 2 requesting to start synthesis\n",
      "Time 105.6081: DNA Sequence 2 synthesize started\n",
      "Time 105.6081: DNA Sequence 2 start transcription process\n",
      "Time 105.6081: DNA Sequence 2 contains 2 promoters\n",
      "Time 105.6081: DNA Sequence 2 (mRNA sequence 0) start transcription process\n",
      "Time 128.5844: DNA Sequence 3 requesting to start synthesis\n",
      "Time 128.5844: DNA Sequence 3 synthesize started\n",
      "Time 128.5844: DNA Sequence 3 start transcription process\n",
      "Time 128.5844: DNA Sequence 3 contains 4 promoters\n",
      "Time 128.5844: DNA Sequence 3 (mRNA sequence 0) start transcription process\n",
      "Time 132.1681: DNA Sequence 2 start translation process\n",
      "Time 132.1681: DNA Sequence 2 (mRNA sequence 0) start translation process\n",
      "Time 135.4681: DNA Sequence 2 (mRNA sequence 0) end translation process\n",
      "Time 135.4681: DNA Sequence 2 (mRNA sequence 1) start transcription process\n",
      "Time 162.0281: DNA Sequence 2 (mRNA sequence 1) start translation process\n",
      "Time 165.3281: DNA Sequence 2 (mRNA sequence 1) end translation process\n",
      "Time 165.3281: DNA Sequence 2 end transcription and translation process\n",
      "Time 165.3281: DNA Sequence 2 synthetis ended\n",
      "Time 216.8540: DNA Sequence 4 requesting to start synthesis\n",
      "Time 216.8540: DNA Sequence 4 synthesize started\n",
      "Time 216.8540: DNA Sequence 4 start transcription process\n",
      "Time 216.8540: DNA Sequence 4 contains 3 promoters\n",
      "Time 216.8540: DNA Sequence 4 (mRNA sequence 0) start transcription process\n",
      "Time 236.3429: DNA Sequence 5 requesting to start synthesis\n",
      "Time 236.3429: DNA Sequence 5 synthesize started\n",
      "Time 236.3429: DNA Sequence 5 start transcription process\n",
      "Time 236.3429: DNA Sequence 5 contains 3 promoters\n",
      "Time 236.3429: DNA Sequence 5 (mRNA sequence 0) start transcription process\n",
      "Time 266.8977: DNA Sequence 6 requesting to start synthesis\n",
      "Time 266.8977: DNA Sequence 6 synthesize started\n",
      "Time 266.8977: DNA Sequence 6 start transcription process\n",
      "Time 266.8977: DNA Sequence 6 contains 0 promoters\n",
      "Time 266.8977: DNA Sequence 6 synthetis ended\n",
      "Time 288.2740: DNA Sequence 4 start translation process\n",
      "Time 288.2740: DNA Sequence 4 (mRNA sequence 0) start translation process\n",
      "Time 290.2240: DNA Sequence 4 (mRNA sequence 0) end translation process\n",
      "Time 290.2240: DNA Sequence 4 (mRNA sequence 1) start transcription process\n",
      "Time 297.9844: DNA Sequence 3 start translation process\n",
      "Time 297.9844: DNA Sequence 3 (mRNA sequence 0) start translation process\n",
      "Time 300.8844: DNA Sequence 3 (mRNA sequence 0) end translation process\n",
      "Time 300.8844: DNA Sequence 3 (mRNA sequence 1) start transcription process\n",
      "Time 347.0600: DNA Sequence 0 start translation process\n",
      "Time 347.0600: DNA Sequence 0 (mRNA sequence 0) start translation process\n",
      "Time 348.3600: DNA Sequence 0 (mRNA sequence 0) end translation process\n",
      "Time 348.3600: DNA Sequence 0 (mRNA sequence 1) start transcription process\n",
      "Time 351.3145: DNA Sequence 7 requesting to start synthesis\n",
      "Time 351.3145: DNA Sequence 7 synthesize started\n",
      "Time 351.3145: DNA Sequence 7 start transcription process\n",
      "Time 351.3145: DNA Sequence 7 contains 3 promoters\n",
      "Time 351.3145: DNA Sequence 7 (mRNA sequence 0) start transcription process\n",
      "Time 364.7540: DNA Sequence 5 start translation process\n",
      "Time 364.7540: DNA Sequence 5 (mRNA sequence 0) start translation process\n",
      "Time 364.9540: DNA Sequence 5 (mRNA sequence 0) end translation process\n",
      "Time 364.9540: DNA Sequence 5 (mRNA sequence 1) start transcription process\n",
      "Time 369.4044: DNA Sequence 4 (mRNA sequence 1) start translation process\n",
      "Time 371.3544: DNA Sequence 4 (mRNA sequence 1) end translation process\n",
      "Time 371.3544: DNA Sequence 4 (mRNA sequence 2) start transcription process\n",
      "Time 442.5743: DNA Sequence 8 requesting to start synthesis\n",
      "Time 451.4925: DNA Sequence 9 requesting to start synthesis\n",
      "Time 472.9844: DNA Sequence 7 start translation process\n",
      "Time 472.9844: DNA Sequence 7 (mRNA sequence 0) start translation process\n",
      "Time 473.1344: DNA Sequence 7 (mRNA sequence 0) end translation process\n",
      "Time 473.1344: DNA Sequence 7 (mRNA sequence 1) start transcription process\n",
      "Time 516.4002: DNA Sequence 10 requesting to start synthesis\n",
      "Time 516.4600: DNA Sequence 3 (mRNA sequence 1) start translation process\n",
      "Time 519.3600: DNA Sequence 3 (mRNA sequence 1) end translation process\n",
      "Time 519.3600: DNA Sequence 3 (mRNA sequence 2) start transcription process\n",
      "Time 549.4644: DNA Sequence 5 (mRNA sequence 1) start translation process\n",
      "Time 549.6644: DNA Sequence 5 (mRNA sequence 1) end translation process\n",
      "Time 549.6644: DNA Sequence 5 (mRNA sequence 2) start transcription process\n",
      "Time 587.8800: DNA Sequence 4 (mRNA sequence 2) start translation process\n",
      "Time 589.8300: DNA Sequence 4 (mRNA sequence 2) end translation process\n",
      "Time 589.8300: DNA Sequence 4 end transcription and translation process\n",
      "Time 589.8300: DNA Sequence 4 synthetis ended\n",
      "Time 589.8300: DNA Sequence 8 synthesize started\n",
      "Time 589.8300: DNA Sequence 8 start transcription process\n",
      "Time 589.8300: DNA Sequence 8 contains 2 promoters\n",
      "Time 589.8300: DNA Sequence 8 (mRNA sequence 0) start transcription process\n",
      "Time 604.0408: DNA Sequence 11 requesting to start synthesis\n",
      "Time 644.1158: DNA Sequence 12 requesting to start synthesis\n",
      "Time 653.0444: DNA Sequence 7 (mRNA sequence 1) start translation process\n",
      "Time 655.4944: DNA Sequence 7 (mRNA sequence 1) end translation process\n",
      "Time 655.4944: DNA Sequence 7 (mRNA sequence 2) start transcription process\n",
      "Time 711.8140: DNA Sequence 0 (mRNA sequence 1) start translation process\n",
      "Time 713.1140: DNA Sequence 0 (mRNA sequence 1) end translation process\n",
      "Time 713.1140: DNA Sequence 0 (mRNA sequence 2) start transcription process\n",
      "Time 724.6599: DNA Sequence 13 requesting to start synthesis\n",
      "Time 724.6691: DNA Sequence 14 requesting to start synthesis\n",
      "Time 729.5244: DNA Sequence 5 (mRNA sequence 2) start translation process\n",
      "Time 729.7244: DNA Sequence 5 (mRNA sequence 2) end translation process\n",
      "Time 729.7244: DNA Sequence 5 end transcription and translation process\n",
      "Time 729.7244: DNA Sequence 5 synthetis ended\n",
      "Time 729.7244: DNA Sequence 9 synthesize started\n",
      "Time 729.7244: DNA Sequence 9 start transcription process\n",
      "Time 729.7244: DNA Sequence 9 contains 1 promoters\n",
      "Time 729.7244: DNA Sequence 9 (mRNA sequence 0) start transcription process\n",
      "Time 753.3453: DNA Sequence 15 requesting to start synthesis\n",
      "Time 757.2800: DNA Sequence 3 (mRNA sequence 2) start translation process\n",
      "Time 760.1800: DNA Sequence 3 (mRNA sequence 2) end translation process\n",
      "Time 760.1800: DNA Sequence 3 (mRNA sequence 3) start transcription process\n",
      "Time 760.4140: DNA Sequence 8 start translation process\n",
      "Time 760.4140: DNA Sequence 8 (mRNA sequence 0) start translation process\n",
      "Time 761.2140: DNA Sequence 8 (mRNA sequence 0) end translation process\n",
      "Time 761.2140: DNA Sequence 8 (mRNA sequence 1) start transcription process\n",
      "Time 763.3687: DNA Sequence 16 requesting to start synthesis\n",
      "Time 793.1088: DNA Sequence 17 requesting to start synthesis\n",
      "Time 812.4940: DNA Sequence 9 start translation process\n",
      "Time 812.4940: DNA Sequence 9 (mRNA sequence 0) start translation process\n",
      "Time 814.1440: DNA Sequence 9 (mRNA sequence 0) end translation process\n",
      "Time 814.1440: DNA Sequence 9 end transcription and translation process\n",
      "Time 814.1440: DNA Sequence 9 synthetis ended\n",
      "Time 814.1440: DNA Sequence 10 synthesize started\n",
      "Time 814.1440: DNA Sequence 10 start transcription process\n",
      "Time 814.1440: DNA Sequence 10 contains 1 promoters\n",
      "Time 814.1440: DNA Sequence 10 (mRNA sequence 0) start transcription process\n",
      "Time 833.1044: DNA Sequence 7 (mRNA sequence 2) start translation process\n",
      "Time 835.5544: DNA Sequence 7 (mRNA sequence 2) end translation process\n",
      "Time 835.5544: DNA Sequence 7 end transcription and translation process\n",
      "Time 835.5544: DNA Sequence 7 synthetis ended\n",
      "Time 835.5544: DNA Sequence 11 synthesize started\n",
      "Time 835.5544: DNA Sequence 11 start transcription process\n",
      "Time 835.5544: DNA Sequence 11 contains 10 promoters\n",
      "Time 835.5544: DNA Sequence 11 (mRNA sequence 0) start transcription process\n",
      "Time 839.5355: DNA Sequence 18 requesting to start synthesis\n",
      "Time 881.7044: DNA Sequence 8 (mRNA sequence 1) start translation process\n",
      "Time 882.5044: DNA Sequence 8 (mRNA sequence 1) end translation process\n",
      "Time 882.5044: DNA Sequence 8 end transcription and translation process\n",
      "Time 882.5044: DNA Sequence 8 synthetis ended\n",
      "Time 882.5044: DNA Sequence 12 synthesize started\n",
      "Time 882.5044: DNA Sequence 12 start transcription process\n",
      "Time 882.5044: DNA Sequence 12 contains 4 promoters\n",
      "Time 882.5044: DNA Sequence 12 (mRNA sequence 0) start transcription process\n",
      "Time 888.9459: DNA Sequence 19 requesting to start synthesis\n",
      "Time 910.0211: DNA Sequence 20 requesting to start synthesis\n",
      "Time 934.3363: DNA Sequence 21 requesting to start synthesis\n",
      "Time 944.6844: DNA Sequence 10 start translation process\n",
      "Time 944.6844: DNA Sequence 10 (mRNA sequence 0) start translation process\n",
      "Time 944.7344: DNA Sequence 10 (mRNA sequence 0) end translation process\n",
      "Time 944.7344: DNA Sequence 10 end transcription and translation process\n",
      "Time 944.7344: DNA Sequence 10 synthetis ended\n",
      "Time 944.7344: DNA Sequence 13 synthesize started\n",
      "Time 944.7344: DNA Sequence 13 start transcription process\n",
      "Time 944.7344: DNA Sequence 13 contains 4 promoters\n",
      "Time 944.7344: DNA Sequence 13 (mRNA sequence 0) start transcription process\n",
      "Time 981.8940: DNA Sequence 3 (mRNA sequence 3) start translation process\n",
      "Time 984.7940: DNA Sequence 3 (mRNA sequence 3) end translation process\n",
      "Time 984.7940: DNA Sequence 3 end transcription and translation process\n",
      "Time 984.7940: DNA Sequence 3 synthetis ended\n",
      "Time 984.7940: DNA Sequence 14 synthesize started\n",
      "Time 984.7940: DNA Sequence 14 start transcription process\n",
      "Time 984.7940: DNA Sequence 14 contains 7 promoters\n",
      "Time 984.7940: DNA Sequence 14 (mRNA sequence 0) start transcription process\n",
      "Time 1020.5829: DNA Sequence 22 requesting to start synthesis\n",
      "Time 1097.0814: DNA Sequence 23 requesting to start synthesis\n",
      "Time 1104.3400: DNA Sequence 0 (mRNA sequence 2) start translation process\n",
      "Time 1105.6400: DNA Sequence 0 (mRNA sequence 2) end translation process\n",
      "Time 1105.6400: DNA Sequence 0 (mRNA sequence 3) start transcription process\n",
      "Time 1190.0906: DNA Sequence 24 requesting to start synthesis\n",
      "Time 1206.2540: DNA Sequence 12 start translation process\n",
      "Time 1206.2540: DNA Sequence 12 (mRNA sequence 0) start translation process\n",
      "Time 1206.6540: DNA Sequence 12 (mRNA sequence 0) end translation process\n",
      "Time 1206.6540: DNA Sequence 12 (mRNA sequence 1) start transcription process\n",
      "Time 1212.6600: DNA Sequence 13 start translation process\n",
      "Time 1212.6600: DNA Sequence 13 (mRNA sequence 0) start translation process\n",
      "Time 1213.3100: DNA Sequence 13 (mRNA sequence 0) end translation process\n",
      "Time 1213.3100: DNA Sequence 13 (mRNA sequence 1) start transcription process\n",
      "Time 1267.5977: DNA Sequence 25 requesting to start synthesis\n",
      "Time 1273.8944: DNA Sequence 26 requesting to start synthesis\n",
      "Time 1333.2843: DNA Sequence 27 requesting to start synthesis\n",
      "Time 1370.2740: DNA Sequence 14 start translation process\n",
      "Time 1370.2740: DNA Sequence 14 (mRNA sequence 0) start translation process\n",
      "Time 1370.4240: DNA Sequence 14 (mRNA sequence 0) end translation process\n",
      "Time 1370.4240: DNA Sequence 14 (mRNA sequence 1) start transcription process\n",
      "Time 1383.2459: DNA Sequence 28 requesting to start synthesis\n",
      "Time 1397.4297: DNA Sequence 29 requesting to start synthesis\n",
      "Time 1440.2986: DNA Sequence 30 requesting to start synthesis\n",
      "Time 1465.7844: DNA Sequence 11 start translation process\n",
      "Time 1465.7844: DNA Sequence 11 (mRNA sequence 0) start translation process\n",
      "Time 1468.8844: DNA Sequence 11 (mRNA sequence 0) end translation process\n",
      "Time 1468.8844: DNA Sequence 11 (mRNA sequence 1) start transcription process\n",
      "Time 1484.6809: DNA Sequence 31 requesting to start synthesis\n",
      "Time 1508.3909: DNA Sequence 32 requesting to start synthesis\n",
      "Time 1559.7200: DNA Sequence 0 (mRNA sequence 3) start translation process\n",
      "Time 1561.0200: DNA Sequence 0 (mRNA sequence 3) end translation process\n",
      "Time 1561.0200: DNA Sequence 0 (mRNA sequence 4) start transcription process\n",
      "Time 1562.4731: DNA Sequence 33 requesting to start synthesis\n",
      "Time 1574.1044: DNA Sequence 13 (mRNA sequence 1) start translation process\n",
      "Time 1574.7544: DNA Sequence 13 (mRNA sequence 1) end translation process\n",
      "Time 1574.7544: DNA Sequence 13 (mRNA sequence 2) start transcription process\n",
      "Time 1594.6340: DNA Sequence 12 (mRNA sequence 1) start translation process\n",
      "Time 1595.0340: DNA Sequence 12 (mRNA sequence 1) end translation process\n",
      "Time 1595.0340: DNA Sequence 12 (mRNA sequence 2) start transcription process\n",
      "Time 1620.9058: DNA Sequence 34 requesting to start synthesis\n",
      "Time 1635.2220: DNA Sequence 35 requesting to start synthesis\n",
      "Time 1655.9599: DNA Sequence 36 requesting to start synthesis\n",
      "Time 1723.7400: DNA Sequence 14 (mRNA sequence 1) start translation process\n",
      "Time 1723.8900: DNA Sequence 14 (mRNA sequence 1) end translation process\n",
      "Time 1723.8900: DNA Sequence 14 (mRNA sequence 2) start transcription process\n",
      "Time 1753.4141: DNA Sequence 37 requesting to start synthesis\n",
      "Time 1830.9539: DNA Sequence 38 requesting to start synthesis\n",
      "Time 1832.0600: DNA Sequence 13 (mRNA sequence 2) start translation process\n",
      "Time 1832.7100: DNA Sequence 13 (mRNA sequence 2) end translation process\n",
      "Time 1832.7100: DNA Sequence 13 (mRNA sequence 3) start transcription process\n",
      "Time 1859.7203: DNA Sequence 39 requesting to start synthesis\n",
      "Time 1907.4804: DNA Sequence 40 requesting to start synthesis\n",
      "Time 1917.8062: DNA Sequence 41 requesting to start synthesis\n",
      "Time 1941.6940: DNA Sequence 0 (mRNA sequence 4) start translation process\n",
      "Time 1942.9940: DNA Sequence 0 (mRNA sequence 4) end translation process\n",
      "Time 1942.9940: DNA Sequence 0 (mRNA sequence 5) start transcription process\n",
      "Time 1975.4166: DNA Sequence 42 requesting to start synthesis\n",
      "Time 2050.3218: DNA Sequence 43 requesting to start synthesis\n",
      "Time 2056.4200: DNA Sequence 12 (mRNA sequence 2) start translation process\n",
      "Time 2056.8200: DNA Sequence 12 (mRNA sequence 2) end translation process\n",
      "Time 2056.8200: DNA Sequence 12 (mRNA sequence 3) start transcription process\n",
      "Time 2081.3690: DNA Sequence 44 requesting to start synthesis\n",
      "Time 2095.2044: DNA Sequence 11 (mRNA sequence 1) start translation process\n",
      "Time 2098.3044: DNA Sequence 11 (mRNA sequence 1) end translation process\n",
      "Time 2098.3044: DNA Sequence 11 (mRNA sequence 2) start transcription process\n",
      "Time 2105.7140: DNA Sequence 14 (mRNA sequence 2) start translation process\n",
      "Time 2105.8640: DNA Sequence 14 (mRNA sequence 2) end translation process\n",
      "Time 2105.8640: DNA Sequence 14 (mRNA sequence 3) start transcription process\n",
      "Time 2139.0526: DNA Sequence 45 requesting to start synthesis\n",
      "Time 2164.7400: DNA Sequence 13 (mRNA sequence 3) start translation process\n",
      "Time 2165.3900: DNA Sequence 13 (mRNA sequence 3) end translation process\n",
      "Time 2165.3900: DNA Sequence 13 end transcription and translation process\n",
      "Time 2165.3900: DNA Sequence 13 synthetis ended\n",
      "Time 2165.3900: DNA Sequence 15 synthesize started\n",
      "Time 2165.3900: DNA Sequence 15 start transcription process\n",
      "Time 2165.3900: DNA Sequence 15 contains 2 promoters\n",
      "Time 2165.3900: DNA Sequence 15 (mRNA sequence 0) start transcription process\n",
      "Time 2203.2853: DNA Sequence 46 requesting to start synthesis\n",
      "Time 2292.0592: DNA Sequence 47 requesting to start synthesis\n",
      "Time 2330.0740: DNA Sequence 12 (mRNA sequence 3) start translation process\n",
      "Time 2330.4740: DNA Sequence 12 (mRNA sequence 3) end translation process\n",
      "Time 2330.4740: DNA Sequence 12 end transcription and translation process\n",
      "Time 2330.4740: DNA Sequence 12 synthetis ended\n",
      "Time 2330.4740: DNA Sequence 16 synthesize started\n",
      "Time 2330.4740: DNA Sequence 16 start transcription process\n",
      "Time 2330.4740: DNA Sequence 16 contains 1 promoters\n",
      "Time 2330.4740: DNA Sequence 16 (mRNA sequence 0) start transcription process\n",
      "Time 2359.3880: DNA Sequence 48 requesting to start synthesis\n",
      "Time 2442.2644: DNA Sequence 0 (mRNA sequence 5) start translation process\n",
      "Time 2443.5644: DNA Sequence 0 (mRNA sequence 5) end translation process\n",
      "Time 2443.5644: DNA Sequence 0 end transcription and translation process\n",
      "Time 2443.5644: DNA Sequence 0 synthetis ended\n",
      "Time 2443.5644: DNA Sequence 17 synthesize started\n",
      "Time 2443.5644: DNA Sequence 17 start transcription process\n",
      "Time 2443.5644: DNA Sequence 17 contains 3 promoters\n",
      "Time 2443.5644: DNA Sequence 17 (mRNA sequence 0) start transcription process\n",
      "Time 2457.7183: DNA Sequence 49 requesting to start synthesis\n",
      "Time 2486.0644: DNA Sequence 15 start translation process\n",
      "Time 2486.0644: DNA Sequence 15 (mRNA sequence 0) start translation process\n",
      "Time 2494.0940: DNA Sequence 14 (mRNA sequence 3) start translation process\n",
      "Time 2494.2440: DNA Sequence 14 (mRNA sequence 3) end translation process\n",
      "Time 2494.2440: DNA Sequence 14 (mRNA sequence 4) start transcription process\n",
      "Time 2494.6644: DNA Sequence 15 (mRNA sequence 0) end translation process\n",
      "Time 2494.6644: DNA Sequence 15 (mRNA sequence 1) start transcription process\n",
      "Time 2523.1444: DNA Sequence 16 start translation process\n",
      "Time 2523.1444: DNA Sequence 16 (mRNA sequence 0) start translation process\n",
      "Time 2526.0944: DNA Sequence 16 (mRNA sequence 0) end translation process\n",
      "Time 2526.0944: DNA Sequence 16 end transcription and translation process\n",
      "Time 2526.0944: DNA Sequence 16 synthetis ended\n",
      "Time 2526.0944: DNA Sequence 18 synthesize started\n",
      "Time 2526.0944: DNA Sequence 18 start transcription process\n",
      "Time 2526.0944: DNA Sequence 18 contains 2 promoters\n",
      "Time 2526.0944: DNA Sequence 18 (mRNA sequence 0) start transcription process\n",
      "Time 2529.8187: DNA Sequence 50 requesting to start synthesis\n",
      "Time 2597.1488: DNA Sequence 51 requesting to start synthesis\n",
      "Time 2613.9661: DNA Sequence 52 requesting to start synthesis\n",
      "Time 2670.4140: DNA Sequence 17 start translation process\n",
      "Time 2670.4140: DNA Sequence 17 (mRNA sequence 0) start translation process\n",
      "Time 2671.2140: DNA Sequence 17 (mRNA sequence 0) end translation process\n",
      "Time 2671.2140: DNA Sequence 17 (mRNA sequence 1) start transcription process\n",
      "Time 2685.8400: DNA Sequence 11 (mRNA sequence 2) start translation process\n",
      "Time 2687.1644: DNA Sequence 14 (mRNA sequence 4) start translation process\n",
      "Time 2687.3144: DNA Sequence 14 (mRNA sequence 4) end translation process\n",
      "Time 2687.3144: DNA Sequence 14 (mRNA sequence 5) start transcription process\n",
      "Time 2688.9400: DNA Sequence 11 (mRNA sequence 2) end translation process\n",
      "Time 2688.9400: DNA Sequence 11 (mRNA sequence 3) start transcription process\n",
      "Time 2702.3564: DNA Sequence 53 requesting to start synthesis\n",
      "Time 2714.2140: DNA Sequence 15 (mRNA sequence 1) start translation process\n",
      "Time 2722.8140: DNA Sequence 15 (mRNA sequence 1) end translation process\n",
      "Time 2722.8140: DNA Sequence 15 end transcription and translation process\n",
      "Time 2722.8140: DNA Sequence 15 synthetis ended\n",
      "Time 2722.8140: DNA Sequence 19 synthesize started\n",
      "Time 2722.8140: DNA Sequence 19 start transcription process\n",
      "Time 2722.8140: DNA Sequence 19 contains 1 promoters\n",
      "Time 2722.8140: DNA Sequence 19 (mRNA sequence 0) start transcription process\n",
      "Time 2776.2244: DNA Sequence 54 requesting to start synthesis\n",
      "Time 2784.6000: DNA Sequence 18 start translation process\n",
      "Time 2784.6000: DNA Sequence 18 (mRNA sequence 0) start translation process\n",
      "Time 2785.9000: DNA Sequence 18 (mRNA sequence 0) end translation process\n",
      "Time 2785.9000: DNA Sequence 18 (mRNA sequence 1) start transcription process\n",
      "Time 2862.2476: DNA Sequence 55 requesting to start synthesis\n",
      "Time 2863.4844: DNA Sequence 17 (mRNA sequence 1) start translation process\n",
      "Time 2864.2844: DNA Sequence 17 (mRNA sequence 1) end translation process\n",
      "Time 2864.2844: DNA Sequence 17 (mRNA sequence 2) start transcription process\n",
      "Time 2878.2340: DNA Sequence 14 (mRNA sequence 5) start translation process\n",
      "Time 2878.3840: DNA Sequence 14 (mRNA sequence 5) end translation process\n",
      "Time 2878.3840: DNA Sequence 14 (mRNA sequence 6) start transcription process\n",
      "Time 2922.6199: DNA Sequence 56 requesting to start synthesis\n",
      "Time 2964.6844: DNA Sequence 19 start translation process\n",
      "Time 2964.6844: DNA Sequence 19 (mRNA sequence 0) start translation process\n",
      "Time 2964.6844: DNA Sequence 19 (mRNA sequence 0) end translation process\n",
      "Time 2964.6844: DNA Sequence 19 end transcription and translation process\n",
      "Time 2964.6844: DNA Sequence 19 synthetis ended\n",
      "Time 2964.6844: DNA Sequence 20 synthesize started\n",
      "Time 2964.6844: DNA Sequence 20 start transcription process\n",
      "Time 2964.6844: DNA Sequence 20 contains 3 promoters\n",
      "Time 2964.6844: DNA Sequence 20 (mRNA sequence 0) start transcription process\n",
      "Time 2976.9940: DNA Sequence 18 (mRNA sequence 1) start translation process\n",
      "Time 2978.2940: DNA Sequence 18 (mRNA sequence 1) end translation process\n",
      "Time 2978.2940: DNA Sequence 18 end transcription and translation process\n",
      "Time 2978.2940: DNA Sequence 18 synthetis ended\n",
      "Time 2978.2940: DNA Sequence 21 synthesize started\n",
      "Time 2978.2940: DNA Sequence 21 start transcription process\n",
      "Time 2978.2940: DNA Sequence 21 contains 2 promoters\n",
      "Time 2978.2940: DNA Sequence 21 (mRNA sequence 0) start transcription process\n",
      "Time 3000.6787: DNA Sequence 57 requesting to start synthesis\n",
      "Time 3086.2927: DNA Sequence 58 requesting to start synthesis\n",
      "Time 3115.6661: DNA Sequence 59 requesting to start synthesis\n",
      "Time 3141.0044: DNA Sequence 17 (mRNA sequence 2) start translation process\n",
      "Time 3141.0140: DNA Sequence 14 (mRNA sequence 6) start translation process\n",
      "Time 3141.1640: DNA Sequence 14 (mRNA sequence 6) end translation process\n",
      "Time 3141.1640: DNA Sequence 14 end transcription and translation process\n",
      "Time 3141.1640: DNA Sequence 14 synthetis ended\n",
      "Time 3141.1640: DNA Sequence 22 synthesize started\n",
      "Time 3141.1640: DNA Sequence 22 start transcription process\n",
      "Time 3141.1640: DNA Sequence 22 contains 1 promoters\n",
      "Time 3141.1640: DNA Sequence 22 (mRNA sequence 0) start transcription process\n",
      "Time 3141.8044: DNA Sequence 17 (mRNA sequence 2) end translation process\n",
      "Time 3141.8044: DNA Sequence 17 end transcription and translation process\n",
      "Time 3141.8044: DNA Sequence 17 synthetis ended\n",
      "Time 3141.8044: DNA Sequence 23 synthesize started\n",
      "Time 3141.8044: DNA Sequence 23 start transcription process\n",
      "Time 3141.8044: DNA Sequence 23 contains 10 promoters\n",
      "Time 3141.8044: DNA Sequence 23 (mRNA sequence 0) start transcription process\n",
      "Time 3166.9532: DNA Sequence 60 requesting to start synthesis\n",
      "Time 3171.1192: DNA Sequence 61 requesting to start synthesis\n",
      "Time 3191.3644: DNA Sequence 20 start translation process\n",
      "Time 3191.3644: DNA Sequence 20 (mRNA sequence 0) start translation process\n",
      "Time 3192.0644: DNA Sequence 20 (mRNA sequence 0) end translation process\n",
      "Time 3192.0644: DNA Sequence 20 (mRNA sequence 1) start transcription process\n",
      "Time 3198.0236: DNA Sequence 62 requesting to start synthesis\n",
      "Time 3225.8244: DNA Sequence 22 start translation process\n",
      "Time 3225.8244: DNA Sequence 22 (mRNA sequence 0) start translation process\n",
      "Time 3228.9244: DNA Sequence 22 (mRNA sequence 0) end translation process\n",
      "Time 3228.9244: DNA Sequence 22 end transcription and translation process\n",
      "Time 3228.9244: DNA Sequence 22 synthetis ended\n",
      "Time 3228.9244: DNA Sequence 24 synthesize started\n",
      "Time 3228.9244: DNA Sequence 24 start transcription process\n",
      "Time 3228.9244: DNA Sequence 24 contains 1 promoters\n",
      "Time 3228.9244: DNA Sequence 24 (mRNA sequence 0) start transcription process\n",
      "Time 3231.5247: DNA Sequence 63 requesting to start synthesis\n",
      "Time 3249.2359: DNA Sequence 64 requesting to start synthesis\n",
      "Time 3282.9965: DNA Sequence 65 requesting to start synthesis\n",
      "Time 3305.7000: DNA Sequence 11 (mRNA sequence 3) start translation process\n",
      "Time 3308.8000: DNA Sequence 11 (mRNA sequence 3) end translation process\n",
      "Time 3308.8000: DNA Sequence 11 (mRNA sequence 4) start transcription process\n",
      "Time 3321.7368: DNA Sequence 66 requesting to start synthesis\n",
      "Time 3324.4140: DNA Sequence 21 start translation process\n",
      "Time 3324.4140: DNA Sequence 21 (mRNA sequence 0) start translation process\n",
      "Time 3325.4140: DNA Sequence 21 (mRNA sequence 0) end translation process\n",
      "Time 3325.4140: DNA Sequence 21 (mRNA sequence 1) start transcription process\n",
      "Time 3356.0600: DNA Sequence 20 (mRNA sequence 1) start translation process\n",
      "Time 3356.6388: DNA Sequence 67 requesting to start synthesis\n",
      "Time 3356.7600: DNA Sequence 20 (mRNA sequence 1) end translation process\n",
      "Time 3356.7600: DNA Sequence 20 (mRNA sequence 2) start transcription process\n",
      "Time 3371.1940: DNA Sequence 24 start translation process\n",
      "Time 3371.1940: DNA Sequence 24 (mRNA sequence 0) start translation process\n",
      "Time 3371.9940: DNA Sequence 24 (mRNA sequence 0) end translation process\n",
      "Time 3371.9940: DNA Sequence 24 end transcription and translation process\n",
      "Time 3371.9940: DNA Sequence 24 synthetis ended\n",
      "Time 3371.9940: DNA Sequence 25 synthesize started\n",
      "Time 3371.9940: DNA Sequence 25 start transcription process\n",
      "Time 3371.9940: DNA Sequence 25 contains 1 promoters\n",
      "Time 3371.9940: DNA Sequence 25 (mRNA sequence 0) start transcription process\n",
      "Time 3411.1624: DNA Sequence 68 requesting to start synthesis\n",
      "Time 3426.0644: DNA Sequence 23 start translation process\n",
      "Time 3426.0644: DNA Sequence 23 (mRNA sequence 0) start translation process\n",
      "Time 3426.4144: DNA Sequence 23 (mRNA sequence 0) end translation process\n",
      "Time 3426.4144: DNA Sequence 23 (mRNA sequence 1) start transcription process\n",
      "Time 3442.9380: DNA Sequence 69 requesting to start synthesis\n",
      "Time 3473.7153: DNA Sequence 70 requesting to start synthesis\n",
      "Time 3476.4244: DNA Sequence 20 (mRNA sequence 2) start translation process\n",
      "Time 3477.1244: DNA Sequence 20 (mRNA sequence 2) end translation process\n",
      "Time 3477.1244: DNA Sequence 20 end transcription and translation process\n",
      "Time 3477.1244: DNA Sequence 20 synthetis ended\n",
      "Time 3477.1244: DNA Sequence 26 synthesize started\n",
      "Time 3477.1244: DNA Sequence 26 start transcription process\n",
      "Time 3477.1244: DNA Sequence 26 contains 4 promoters\n",
      "Time 3477.1244: DNA Sequence 26 (mRNA sequence 0) start transcription process\n",
      "Time 3503.8287: DNA Sequence 71 requesting to start synthesis\n",
      "Time 3554.5940: DNA Sequence 21 (mRNA sequence 1) start translation process\n",
      "Time 3554.6111: DNA Sequence 72 requesting to start synthesis\n",
      "Time 3555.5940: DNA Sequence 21 (mRNA sequence 1) end translation process\n",
      "Time 3555.5940: DNA Sequence 21 end transcription and translation process\n",
      "Time 3555.5940: DNA Sequence 21 synthetis ended\n",
      "Time 3555.5940: DNA Sequence 27 synthesize started\n",
      "Time 3555.5940: DNA Sequence 27 start transcription process\n",
      "Time 3555.5940: DNA Sequence 27 contains 3 promoters\n",
      "Time 3555.5940: DNA Sequence 27 (mRNA sequence 0) start transcription process\n",
      "Time 3612.1467: DNA Sequence 73 requesting to start synthesis\n",
      "Time 3633.8644: DNA Sequence 25 start translation process\n",
      "Time 3633.8644: DNA Sequence 25 (mRNA sequence 0) start translation process\n",
      "Time 3638.3144: DNA Sequence 25 (mRNA sequence 0) end translation process\n",
      "Time 3638.3144: DNA Sequence 25 end transcription and translation process\n",
      "Time 3638.3144: DNA Sequence 25 synthetis ended\n",
      "Time 3638.3144: DNA Sequence 28 synthesize started\n",
      "Time 3638.3144: DNA Sequence 28 start transcription process\n",
      "Time 3638.3144: DNA Sequence 28 contains 1 promoters\n",
      "Time 3638.3144: DNA Sequence 28 (mRNA sequence 0) start transcription process\n",
      "Time 3703.5448: DNA Sequence 74 requesting to start synthesis\n",
      "Time 3734.4215: DNA Sequence 75 requesting to start synthesis\n",
      "Time 3754.8340: DNA Sequence 23 (mRNA sequence 1) start translation process\n",
      "Time 3755.1840: DNA Sequence 23 (mRNA sequence 1) end translation process\n",
      "Time 3755.1840: DNA Sequence 23 (mRNA sequence 2) start transcription process\n",
      "Time 3778.6244: DNA Sequence 26 start translation process\n",
      "Time 3778.6244: DNA Sequence 26 (mRNA sequence 0) start translation process\n",
      "Time 3779.5244: DNA Sequence 26 (mRNA sequence 0) end translation process\n",
      "Time 3779.5244: DNA Sequence 26 (mRNA sequence 1) start transcription process\n",
      "Time 3796.9302: DNA Sequence 76 requesting to start synthesis\n",
      "Time 3798.3140: DNA Sequence 27 start translation process\n",
      "Time 3798.3140: DNA Sequence 27 (mRNA sequence 0) start translation process\n",
      "Time 3798.3140: DNA Sequence 27 (mRNA sequence 0) end translation process\n",
      "Time 3798.3140: DNA Sequence 27 (mRNA sequence 1) start transcription process\n",
      "Time 3814.9244: DNA Sequence 28 start translation process\n",
      "Time 3814.9244: DNA Sequence 28 (mRNA sequence 0) start translation process\n",
      "Time 3815.4244: DNA Sequence 28 (mRNA sequence 0) end translation process\n",
      "Time 3815.4244: DNA Sequence 28 end transcription and translation process\n",
      "Time 3815.4244: DNA Sequence 28 synthetis ended\n",
      "Time 3815.4244: DNA Sequence 29 synthesize started\n",
      "Time 3815.4244: DNA Sequence 29 start transcription process\n",
      "Time 3815.4244: DNA Sequence 29 contains 4 promoters\n",
      "Time 3815.4244: DNA Sequence 29 (mRNA sequence 0) start transcription process\n",
      "Time 3843.7361: DNA Sequence 77 requesting to start synthesis\n",
      "Time 3877.1600: DNA Sequence 11 (mRNA sequence 4) start translation process\n",
      "Time 3880.2600: DNA Sequence 11 (mRNA sequence 4) end translation process\n",
      "Time 3880.2600: DNA Sequence 11 (mRNA sequence 5) start transcription process\n",
      "Time 3920.6400: DNA Sequence 27 (mRNA sequence 1) start translation process\n",
      "Time 3920.6400: DNA Sequence 27 (mRNA sequence 1) end translation process\n",
      "Time 3920.6400: DNA Sequence 27 (mRNA sequence 2) start transcription process\n",
      "Time 3930.8086: DNA Sequence 78 requesting to start synthesis\n",
      "Time 3959.6844: DNA Sequence 26 (mRNA sequence 1) start translation process\n",
      "Time 3960.5844: DNA Sequence 26 (mRNA sequence 1) end translation process\n",
      "Time 3960.5844: DNA Sequence 26 (mRNA sequence 2) start transcription process\n",
      "Time 3998.5540: DNA Sequence 23 (mRNA sequence 2) start translation process\n",
      "Time 3998.9040: DNA Sequence 23 (mRNA sequence 2) end translation process\n",
      "Time 3998.9040: DNA Sequence 23 (mRNA sequence 3) start transcription process\n",
      "Time 4006.3330: DNA Sequence 79 requesting to start synthesis\n",
      "Time 4009.4000: DNA Sequence 29 start translation process\n",
      "Time 4009.4000: DNA Sequence 29 (mRNA sequence 0) start translation process\n",
      "Time 4010.1500: DNA Sequence 29 (mRNA sequence 0) end translation process\n",
      "Time 4010.1500: DNA Sequence 29 (mRNA sequence 1) start transcription process\n",
      "Time 4042.0340: DNA Sequence 27 (mRNA sequence 2) start translation process\n",
      "Time 4042.0340: DNA Sequence 27 (mRNA sequence 2) end translation process\n",
      "Time 4042.0340: DNA Sequence 27 end transcription and translation process\n",
      "Time 4042.0340: DNA Sequence 27 synthetis ended\n",
      "Time 4042.0340: DNA Sequence 30 synthesize started\n",
      "Time 4042.0340: DNA Sequence 30 start transcription process\n",
      "Time 4042.0340: DNA Sequence 30 contains 0 promoters\n",
      "Time 4042.0340: DNA Sequence 30 synthetis ended\n",
      "Time 4042.0340: DNA Sequence 31 synthesize started\n",
      "Time 4042.0340: DNA Sequence 31 start transcription process\n",
      "Time 4042.0340: DNA Sequence 31 contains 3 promoters\n",
      "Time 4042.0340: DNA Sequence 31 (mRNA sequence 0) start transcription process\n",
      "Time 4084.8541: DNA Sequence 80 requesting to start synthesis\n",
      "Time 4150.5185: DNA Sequence 81 requesting to start synthesis\n",
      "Time 4154.1600: DNA Sequence 26 (mRNA sequence 2) start translation process\n",
      "Time 4155.0600: DNA Sequence 26 (mRNA sequence 2) end translation process\n",
      "Time 4155.0600: DNA Sequence 26 (mRNA sequence 3) start transcription process\n",
      "Time 4179.2605: DNA Sequence 82 requesting to start synthesis\n",
      "Time 4208.3687: DNA Sequence 83 requesting to start synthesis\n",
      "Time 4242.2740: DNA Sequence 23 (mRNA sequence 3) start translation process\n",
      "Time 4242.6240: DNA Sequence 23 (mRNA sequence 3) end translation process\n",
      "Time 4242.6240: DNA Sequence 23 (mRNA sequence 4) start transcription process\n",
      "Time 4242.9200: DNA Sequence 29 (mRNA sequence 1) start translation process\n",
      "Time 4243.6700: DNA Sequence 29 (mRNA sequence 1) end translation process\n",
      "Time 4243.6700: DNA Sequence 29 (mRNA sequence 2) start transcription process\n",
      "Time 4277.5940: DNA Sequence 31 start translation process\n",
      "Time 4277.5940: DNA Sequence 31 (mRNA sequence 0) start translation process\n",
      "Time 4280.2440: DNA Sequence 31 (mRNA sequence 0) end translation process\n",
      "Time 4280.2440: DNA Sequence 31 (mRNA sequence 1) start transcription process\n",
      "Time 4298.4504: DNA Sequence 84 requesting to start synthesis\n",
      "Time 4347.3032: DNA Sequence 85 requesting to start synthesis\n",
      "Time 4387.6800: DNA Sequence 26 (mRNA sequence 3) start translation process\n",
      "Time 4388.5800: DNA Sequence 26 (mRNA sequence 3) end translation process\n",
      "Time 4388.5800: DNA Sequence 26 end transcription and translation process\n",
      "Time 4388.5800: DNA Sequence 26 synthetis ended\n",
      "Time 4388.5800: DNA Sequence 32 synthesize started\n",
      "Time 4388.5800: DNA Sequence 32 start transcription process\n",
      "Time 4388.5800: DNA Sequence 32 contains 5 promoters\n",
      "Time 4388.5800: DNA Sequence 32 (mRNA sequence 0) start transcription process\n",
      "Time 4433.1380: DNA Sequence 86 requesting to start synthesis\n",
      "Time 4476.4400: DNA Sequence 29 (mRNA sequence 2) start translation process\n",
      "Time 4477.1900: DNA Sequence 29 (mRNA sequence 2) end translation process\n",
      "Time 4477.1900: DNA Sequence 29 (mRNA sequence 3) start transcription process\n",
      "Time 4477.8340: DNA Sequence 23 (mRNA sequence 4) start translation process\n",
      "Time 4478.1840: DNA Sequence 23 (mRNA sequence 4) end translation process\n",
      "Time 4478.1840: DNA Sequence 23 (mRNA sequence 5) start transcription process\n",
      "Time 4480.7844: DNA Sequence 11 (mRNA sequence 5) start translation process\n",
      "Time 4483.8844: DNA Sequence 11 (mRNA sequence 5) end translation process\n",
      "Time 4483.8844: DNA Sequence 11 (mRNA sequence 6) start transcription process\n",
      "Time 4511.7600: DNA Sequence 31 (mRNA sequence 1) start translation process\n",
      "Time 4514.4100: DNA Sequence 31 (mRNA sequence 1) end translation process\n",
      "Time 4514.4100: DNA Sequence 31 (mRNA sequence 2) start transcription process\n",
      "Time 4530.4185: DNA Sequence 87 requesting to start synthesis\n",
      "Time 4557.8740: DNA Sequence 32 start translation process\n",
      "Time 4557.8740: DNA Sequence 32 (mRNA sequence 0) start translation process\n",
      "Time 4559.9240: DNA Sequence 32 (mRNA sequence 0) end translation process\n",
      "Time 4559.9240: DNA Sequence 32 (mRNA sequence 1) start transcription process\n",
      "Time 4569.5444: DNA Sequence 29 (mRNA sequence 3) start translation process\n",
      "Time 4570.2944: DNA Sequence 29 (mRNA sequence 3) end translation process\n",
      "Time 4570.2944: DNA Sequence 29 end transcription and translation process\n",
      "Time 4570.2944: DNA Sequence 29 synthetis ended\n",
      "Time 4570.2944: DNA Sequence 33 synthesize started\n",
      "Time 4570.2944: DNA Sequence 33 start transcription process\n",
      "Time 4570.2944: DNA Sequence 33 contains 2 promoters\n",
      "Time 4570.2944: DNA Sequence 33 (mRNA sequence 0) start transcription process\n",
      "Time 4589.7122: DNA Sequence 88 requesting to start synthesis\n",
      "Time 4591.5494: DNA Sequence 89 requesting to start synthesis\n",
      "Time 4604.8644: DNA Sequence 31 (mRNA sequence 2) start translation process\n",
      "Time 4607.5144: DNA Sequence 31 (mRNA sequence 2) end translation process\n",
      "Time 4607.5144: DNA Sequence 31 end transcription and translation process\n",
      "Time 4607.5144: DNA Sequence 31 synthetis ended\n",
      "Time 4607.5144: DNA Sequence 34 synthesize started\n",
      "Time 4607.5144: DNA Sequence 34 start transcription process\n",
      "Time 4607.5144: DNA Sequence 34 contains 4 promoters\n",
      "Time 4607.5144: DNA Sequence 34 (mRNA sequence 0) start transcription process\n",
      "Time 4610.9510: DNA Sequence 90 requesting to start synthesis\n",
      "Time 4646.9699: DNA Sequence 91 requesting to start synthesis\n",
      "Time 4684.9044: DNA Sequence 32 (mRNA sequence 1) start translation process\n",
      "Time 4686.9544: DNA Sequence 32 (mRNA sequence 1) end translation process\n",
      "Time 4686.9544: DNA Sequence 32 (mRNA sequence 2) start transcription process\n",
      "Time 4712.0000: DNA Sequence 23 (mRNA sequence 5) start translation process\n",
      "Time 4712.3500: DNA Sequence 23 (mRNA sequence 5) end translation process\n",
      "Time 4712.3500: DNA Sequence 23 (mRNA sequence 6) start transcription process\n",
      "Time 4722.3168: DNA Sequence 92 requesting to start synthesis\n",
      "Time 4750.6986: DNA Sequence 93 requesting to start synthesis\n",
      "Time 4752.4844: DNA Sequence 33 start translation process\n",
      "Time 4752.4844: DNA Sequence 33 (mRNA sequence 0) start translation process\n",
      "Time 4752.7344: DNA Sequence 33 (mRNA sequence 0) end translation process\n",
      "Time 4752.7344: DNA Sequence 33 (mRNA sequence 1) start transcription process\n",
      "Time 4780.3482: DNA Sequence 94 requesting to start synthesis\n",
      "Time 4832.5244: DNA Sequence 32 (mRNA sequence 2) start translation process\n",
      "Time 4833.5600: DNA Sequence 34 start translation process\n",
      "Time 4833.5600: DNA Sequence 34 (mRNA sequence 0) start translation process\n",
      "Time 4833.8600: DNA Sequence 34 (mRNA sequence 0) end translation process\n",
      "Time 4833.8600: DNA Sequence 34 (mRNA sequence 1) start transcription process\n",
      "Time 4834.5744: DNA Sequence 32 (mRNA sequence 2) end translation process\n",
      "Time 4834.5744: DNA Sequence 32 (mRNA sequence 3) start transcription process\n",
      "Time 4879.4545: DNA Sequence 95 requesting to start synthesis\n",
      "Time 4901.1400: DNA Sequence 33 (mRNA sequence 1) start translation process\n",
      "Time 4901.3900: DNA Sequence 33 (mRNA sequence 1) end translation process\n",
      "Time 4901.3900: DNA Sequence 33 end transcription and translation process\n",
      "Time 4901.3900: DNA Sequence 33 synthetis ended\n",
      "Time 4901.3900: DNA Sequence 35 synthesize started\n",
      "Time 4901.3900: DNA Sequence 35 start transcription process\n",
      "Time 4901.3900: DNA Sequence 35 contains 2 promoters\n",
      "Time 4901.3900: DNA Sequence 35 (mRNA sequence 0) start transcription process\n",
      "Time 4957.8012: DNA Sequence 96 requesting to start synthesis\n",
      "Time 4972.5834: DNA Sequence 97 requesting to start synthesis\n",
      "Time 5022.7000: DNA Sequence 34 (mRNA sequence 1) start translation process\n",
      "Time 5023.0000: DNA Sequence 34 (mRNA sequence 1) end translation process\n",
      "Time 5023.0000: DNA Sequence 34 (mRNA sequence 2) start transcription process\n",
      "Time 5032.7644: DNA Sequence 23 (mRNA sequence 6) start translation process\n",
      "Time 5033.1144: DNA Sequence 23 (mRNA sequence 6) end translation process\n",
      "Time 5033.1144: DNA Sequence 23 (mRNA sequence 7) start transcription process\n",
      "Time 5061.3258: DNA Sequence 98 requesting to start synthesis\n",
      "Time 5068.4492: DNA Sequence 99 requesting to start synthesis\n",
      "Time 5078.9740: DNA Sequence 11 (mRNA sequence 6) start translation process\n",
      "Time 5082.0740: DNA Sequence 11 (mRNA sequence 6) end translation process\n",
      "Time 5082.0740: DNA Sequence 11 (mRNA sequence 7) start transcription process\n",
      "Time 5102.7400: DNA Sequence 32 (mRNA sequence 3) start translation process\n",
      "Time 5104.7900: DNA Sequence 32 (mRNA sequence 3) end translation process\n",
      "Time 5104.7900: DNA Sequence 32 (mRNA sequence 4) start transcription process\n",
      "Time 5105.6044: DNA Sequence 35 start translation process\n",
      "Time 5105.6044: DNA Sequence 35 (mRNA sequence 0) start translation process\n",
      "Time 5107.4044: DNA Sequence 35 (mRNA sequence 0) end translation process\n",
      "Time 5107.4044: DNA Sequence 35 (mRNA sequence 1) start transcription process\n",
      "Time 5165.8343: DNA Sequence 100 requesting to start synthesis\n",
      "Time 5200.5340: DNA Sequence 34 (mRNA sequence 2) start translation process\n",
      "Time 5200.8340: DNA Sequence 34 (mRNA sequence 2) end translation process\n",
      "Time 5200.8340: DNA Sequence 34 (mRNA sequence 3) start transcription process\n",
      "Time 5231.4559: DNA Sequence 101 requesting to start synthesis\n",
      "Time 5280.5740: DNA Sequence 32 (mRNA sequence 4) start translation process\n",
      "Time 5282.6240: DNA Sequence 32 (mRNA sequence 4) end translation process\n",
      "Time 5282.6240: DNA Sequence 32 end transcription and translation process\n",
      "Time 5282.6240: DNA Sequence 32 synthetis ended\n",
      "Time 5282.6240: DNA Sequence 36 synthesize started\n",
      "Time 5282.6240: DNA Sequence 36 start transcription process\n",
      "Time 5282.6240: DNA Sequence 36 contains 5 promoters\n",
      "Time 5282.6240: DNA Sequence 36 (mRNA sequence 0) start transcription process\n",
      "Time 5294.4424: DNA Sequence 102 requesting to start synthesis\n",
      "Time 5302.9800: DNA Sequence 23 (mRNA sequence 7) start translation process\n",
      "Time 5303.3300: DNA Sequence 23 (mRNA sequence 7) end translation process\n",
      "Time 5303.3300: DNA Sequence 23 (mRNA sequence 8) start transcription process\n",
      "Time 5353.4140: DNA Sequence 35 (mRNA sequence 1) start translation process\n",
      "Time 5355.2140: DNA Sequence 35 (mRNA sequence 1) end translation process\n",
      "Time 5355.2140: DNA Sequence 35 end transcription and translation process\n",
      "Time 5355.2140: DNA Sequence 35 synthetis ended\n",
      "Time 5355.2140: DNA Sequence 37 synthesize started\n",
      "Time 5355.2140: DNA Sequence 37 start transcription process\n",
      "Time 5355.2140: DNA Sequence 37 contains 2 promoters\n",
      "Time 5355.2140: DNA Sequence 37 (mRNA sequence 0) start transcription process\n",
      "Time 5364.8326: DNA Sequence 103 requesting to start synthesis\n",
      "Time 5424.5400: DNA Sequence 34 (mRNA sequence 3) start translation process\n",
      "Time 5424.8400: DNA Sequence 34 (mRNA sequence 3) end translation process\n",
      "Time 5424.8400: DNA Sequence 34 end transcription and translation process\n",
      "Time 5424.8400: DNA Sequence 34 synthetis ended\n",
      "Time 5424.8400: DNA Sequence 38 synthesize started\n",
      "Time 5424.8400: DNA Sequence 38 start transcription process\n",
      "Time 5424.8400: DNA Sequence 38 contains 6 promoters\n",
      "Time 5424.8400: DNA Sequence 38 (mRNA sequence 0) start transcription process\n",
      "Time 5457.1735: DNA Sequence 104 requesting to start synthesis\n",
      "Time 5475.1940: DNA Sequence 36 start translation process\n",
      "Time 5475.1940: DNA Sequence 36 (mRNA sequence 0) start translation process\n",
      "Time 5476.3940: DNA Sequence 36 (mRNA sequence 0) end translation process\n",
      "Time 5476.3940: DNA Sequence 36 (mRNA sequence 1) start transcription process\n",
      "Time 5499.0004: DNA Sequence 105 requesting to start synthesis\n",
      "Time 5533.6340: DNA Sequence 37 start translation process\n",
      "Time 5533.6340: DNA Sequence 37 (mRNA sequence 0) start translation process\n",
      "Time 5535.1840: DNA Sequence 37 (mRNA sequence 0) end translation process\n",
      "Time 5535.1840: DNA Sequence 37 (mRNA sequence 1) start transcription process\n",
      "Time 5578.9533: DNA Sequence 106 requesting to start synthesis\n",
      "Time 5624.7800: DNA Sequence 23 (mRNA sequence 8) start translation process\n",
      "Time 5625.1300: DNA Sequence 23 (mRNA sequence 8) end translation process\n",
      "Time 5625.1300: DNA Sequence 23 (mRNA sequence 9) start transcription process\n",
      "Time 5626.7044: DNA Sequence 11 (mRNA sequence 7) start translation process\n",
      "Time 5629.8044: DNA Sequence 11 (mRNA sequence 7) end translation process\n",
      "Time 5629.8044: DNA Sequence 11 (mRNA sequence 8) start transcription process\n",
      "Time 5672.3907: DNA Sequence 107 requesting to start synthesis\n",
      "Time 5675.0940: DNA Sequence 38 start translation process\n",
      "Time 5675.0940: DNA Sequence 38 (mRNA sequence 0) start translation process\n",
      "Time 5675.0940: DNA Sequence 38 (mRNA sequence 0) end translation process\n",
      "Time 5675.0940: DNA Sequence 38 (mRNA sequence 1) start transcription process\n",
      "Time 5685.1444: DNA Sequence 37 (mRNA sequence 1) start translation process\n",
      "Time 5686.6944: DNA Sequence 37 (mRNA sequence 1) end translation process\n",
      "Time 5686.6944: DNA Sequence 37 end transcription and translation process\n",
      "Time 5686.6944: DNA Sequence 37 synthetis ended\n",
      "Time 5686.6944: DNA Sequence 39 synthesize started\n",
      "Time 5686.6944: DNA Sequence 39 start transcription process\n",
      "Time 5686.6944: DNA Sequence 39 contains 4 promoters\n",
      "Time 5686.6944: DNA Sequence 39 (mRNA sequence 0) start transcription process\n",
      "Time 5746.4331: DNA Sequence 108 requesting to start synthesis\n",
      "Time 5746.5600: DNA Sequence 36 (mRNA sequence 1) start translation process\n",
      "Time 5747.7600: DNA Sequence 36 (mRNA sequence 1) end translation process\n",
      "Time 5747.7600: DNA Sequence 36 (mRNA sequence 2) start transcription process\n",
      "Time 5794.0956: DNA Sequence 109 requesting to start synthesis\n",
      "Time 5815.3266: DNA Sequence 110 requesting to start synthesis\n",
      "Time 5875.3340: DNA Sequence 23 (mRNA sequence 9) start translation process\n",
      "Time 5875.6840: DNA Sequence 23 (mRNA sequence 9) end translation process\n",
      "Time 5875.6840: DNA Sequence 23 end transcription and translation process\n",
      "Time 5875.6840: DNA Sequence 23 synthetis ended\n",
      "Time 5875.6840: DNA Sequence 40 synthesize started\n",
      "Time 5875.6840: DNA Sequence 40 start transcription process\n",
      "Time 5875.6840: DNA Sequence 40 contains 1 promoters\n",
      "Time 5875.6840: DNA Sequence 40 (mRNA sequence 0) start transcription process\n",
      "Time 5887.5012: DNA Sequence 111 requesting to start synthesis\n",
      "Time 5888.0200: DNA Sequence 38 (mRNA sequence 1) start translation process\n",
      "Time 5888.0200: DNA Sequence 38 (mRNA sequence 1) end translation process\n",
      "Time 5888.0200: DNA Sequence 38 (mRNA sequence 2) start transcription process\n",
      "Time 5972.9586: DNA Sequence 112 requesting to start synthesis\n",
      "Time 6009.8000: DNA Sequence 36 (mRNA sequence 2) start translation process\n",
      "Time 6011.0000: DNA Sequence 36 (mRNA sequence 2) end translation process\n",
      "Time 6011.0000: DNA Sequence 36 (mRNA sequence 3) start transcription process\n",
      "Time 6011.9448: DNA Sequence 113 requesting to start synthesis\n",
      "Time 6026.3640: DNA Sequence 114 requesting to start synthesis\n",
      "Time 6041.4340: DNA Sequence 39 start translation process\n",
      "Time 6041.4340: DNA Sequence 39 (mRNA sequence 0) start translation process\n",
      "Time 6043.0340: DNA Sequence 39 (mRNA sequence 0) end translation process\n",
      "Time 6043.0340: DNA Sequence 39 (mRNA sequence 1) start transcription process\n",
      "Time 6047.1400: DNA Sequence 40 start translation process\n",
      "Time 6047.1400: DNA Sequence 40 (mRNA sequence 0) start translation process\n",
      "Time 6051.5400: DNA Sequence 40 (mRNA sequence 0) end translation process\n",
      "Time 6051.5400: DNA Sequence 40 end transcription and translation process\n",
      "Time 6051.5400: DNA Sequence 40 synthetis ended\n",
      "Time 6051.5400: DNA Sequence 41 synthesize started\n",
      "Time 6051.5400: DNA Sequence 41 start transcription process\n",
      "Time 6051.5400: DNA Sequence 41 contains 1 promoters\n",
      "Time 6051.5400: DNA Sequence 41 (mRNA sequence 0) start transcription process\n",
      "Time 6078.7100: DNA Sequence 115 requesting to start synthesis\n",
      "Time 6135.0869: DNA Sequence 116 requesting to start synthesis\n",
      "Time 6168.9200: DNA Sequence 36 (mRNA sequence 3) start translation process\n",
      "Time 6170.1200: DNA Sequence 36 (mRNA sequence 3) end translation process\n",
      "Time 6170.1200: DNA Sequence 36 (mRNA sequence 4) start transcription process\n",
      "Time 6180.4306: DNA Sequence 117 requesting to start synthesis\n",
      "Time 6182.8940: DNA Sequence 38 (mRNA sequence 2) start translation process\n",
      "Time 6182.8940: DNA Sequence 38 (mRNA sequence 2) end translation process\n",
      "Time 6182.8940: DNA Sequence 38 (mRNA sequence 3) start transcription process\n",
      "Time 6206.2444: DNA Sequence 11 (mRNA sequence 8) start translation process\n",
      "Time 6209.3444: DNA Sequence 11 (mRNA sequence 8) end translation process\n",
      "Time 6209.3444: DNA Sequence 11 (mRNA sequence 9) start transcription process\n",
      "Time 6279.5245: DNA Sequence 118 requesting to start synthesis\n",
      "Time 6294.0940: DNA Sequence 41 start translation process\n",
      "Time 6294.0940: DNA Sequence 41 (mRNA sequence 0) start translation process\n",
      "Time 6296.2732: DNA Sequence 119 requesting to start synthesis\n",
      "Time 6304.1940: DNA Sequence 41 (mRNA sequence 0) end translation process\n",
      "Time 6304.1940: DNA Sequence 41 end transcription and translation process\n",
      "Time 6304.1940: DNA Sequence 41 synthetis ended\n",
      "Time 6304.1940: DNA Sequence 42 synthesize started\n",
      "Time 6304.1940: DNA Sequence 42 start transcription process\n",
      "Time 6304.1940: DNA Sequence 42 contains 8 promoters\n",
      "Time 6304.1940: DNA Sequence 42 (mRNA sequence 0) start transcription process\n",
      "Time 6318.8223: DNA Sequence 120 requesting to start synthesis\n",
      "Time 6328.0244: DNA Sequence 36 (mRNA sequence 4) start translation process\n",
      "Time 6329.2244: DNA Sequence 36 (mRNA sequence 4) end translation process\n",
      "Time 6329.2244: DNA Sequence 36 end transcription and translation process\n",
      "Time 6329.2244: DNA Sequence 36 synthetis ended\n",
      "Time 6329.2244: DNA Sequence 43 synthesize started\n",
      "Time 6329.2244: DNA Sequence 43 start transcription process\n",
      "Time 6329.2244: DNA Sequence 43 contains 3 promoters\n",
      "Time 6329.2244: DNA Sequence 43 (mRNA sequence 0) start transcription process\n",
      "Time 6335.0200: DNA Sequence 39 (mRNA sequence 1) start translation process\n",
      "Time 6335.3200: DNA Sequence 39 (mRNA sequence 1) end translation process\n",
      "Time 6335.3200: DNA Sequence 39 (mRNA sequence 2) start transcription process\n",
      "Time 6385.6660: DNA Sequence 121 requesting to start synthesis\n",
      "Time 6426.2552: DNA Sequence 122 requesting to start synthesis\n",
      "Time 6435.5540: DNA Sequence 38 (mRNA sequence 3) start translation process\n",
      "Time 6435.5540: DNA Sequence 38 (mRNA sequence 3) end translation process\n",
      "Time 6435.5540: DNA Sequence 38 (mRNA sequence 4) start transcription process\n",
      "Time 6494.7049: DNA Sequence 123 requesting to start synthesis\n",
      "Time 6521.6600: DNA Sequence 42 start translation process\n",
      "Time 6521.6600: DNA Sequence 42 (mRNA sequence 0) start translation process\n",
      "Time 6522.0100: DNA Sequence 42 (mRNA sequence 0) end translation process\n",
      "Time 6522.0100: DNA Sequence 42 (mRNA sequence 1) start transcription process\n",
      "Time 6573.1983: DNA Sequence 124 requesting to start synthesis\n",
      "Time 6598.0740: DNA Sequence 43 start translation process\n",
      "Time 6598.0740: DNA Sequence 43 (mRNA sequence 0) start translation process\n",
      "Time 6598.9740: DNA Sequence 43 (mRNA sequence 0) end translation process\n",
      "Time 6598.9740: DNA Sequence 43 (mRNA sequence 1) start transcription process\n",
      "Time 6672.7654: DNA Sequence 125 requesting to start synthesis\n",
      "Time 6687.7600: DNA Sequence 39 (mRNA sequence 2) start translation process\n",
      "Time 6689.3600: DNA Sequence 39 (mRNA sequence 2) end translation process\n",
      "Time 6689.3600: DNA Sequence 39 (mRNA sequence 3) start transcription process\n",
      "Time 6726.3439: DNA Sequence 126 requesting to start synthesis\n",
      "Time 6737.2152: DNA Sequence 127 requesting to start synthesis\n",
      "Time 6739.5340: DNA Sequence 38 (mRNA sequence 4) start translation process\n",
      "Time 6739.5340: DNA Sequence 38 (mRNA sequence 4) end translation process\n",
      "Time 6739.5340: DNA Sequence 38 (mRNA sequence 5) start transcription process\n",
      "Time 6805.3167: DNA Sequence 128 requesting to start synthesis\n",
      "Time 6849.1244: DNA Sequence 11 (mRNA sequence 9) start translation process\n",
      "Time 6852.2244: DNA Sequence 11 (mRNA sequence 9) end translation process\n",
      "Time 6852.2244: DNA Sequence 11 end transcription and translation process\n",
      "Time 6852.2244: DNA Sequence 11 synthetis ended\n",
      "Time 6852.2244: DNA Sequence 44 synthesize started\n",
      "Time 6852.2244: DNA Sequence 44 start transcription process\n",
      "Time 6852.2244: DNA Sequence 44 contains 0 promoters\n",
      "Time 6852.2244: DNA Sequence 44 synthetis ended\n",
      "Time 6852.2244: DNA Sequence 45 synthesize started\n",
      "Time 6852.2244: DNA Sequence 45 start transcription process\n",
      "Time 6852.2244: DNA Sequence 45 contains 4 promoters\n",
      "Time 6852.2244: DNA Sequence 45 (mRNA sequence 0) start transcription process\n",
      "Time 6874.4000: DNA Sequence 42 (mRNA sequence 1) start translation process\n",
      "Time 6874.7500: DNA Sequence 42 (mRNA sequence 1) end translation process\n",
      "Time 6874.7500: DNA Sequence 42 (mRNA sequence 2) start transcription process\n",
      "Time 6893.8185: DNA Sequence 129 requesting to start synthesis\n",
      "Time 6896.8163: DNA Sequence 130 requesting to start synthesis\n",
      "Time 6902.0540: DNA Sequence 43 (mRNA sequence 1) start translation process\n",
      "Time 6903.0540: DNA Sequence 43 (mRNA sequence 1) end translation process\n",
      "Time 6903.0540: DNA Sequence 43 (mRNA sequence 2) start transcription process\n",
      "Time 6970.1724: DNA Sequence 131 requesting to start synthesis\n",
      "Time 6988.8740: DNA Sequence 45 start translation process\n",
      "Time 6988.8740: DNA Sequence 45 (mRNA sequence 0) start translation process\n",
      "Time 6995.0740: DNA Sequence 45 (mRNA sequence 0) end translation process\n",
      "Time 6995.0740: DNA Sequence 45 (mRNA sequence 1) start transcription process\n",
      "Time 7015.2244: DNA Sequence 39 (mRNA sequence 3) start translation process\n",
      "Time 7015.8600: DNA Sequence 38 (mRNA sequence 5) start translation process\n",
      "Time 7015.8600: DNA Sequence 38 (mRNA sequence 5) end translation process\n",
      "Time 7015.8600: DNA Sequence 38 end transcription and translation process\n",
      "Time 7015.8600: DNA Sequence 38 synthetis ended\n",
      "Time 7015.8600: DNA Sequence 46 synthesize started\n",
      "Time 7015.8600: DNA Sequence 46 start transcription process\n",
      "Time 7015.8600: DNA Sequence 46 contains 2 promoters\n",
      "Time 7015.8600: DNA Sequence 46 (mRNA sequence 0) start transcription process\n",
      "Time 7016.8244: DNA Sequence 39 (mRNA sequence 3) end translation process\n",
      "Time 7016.8244: DNA Sequence 39 end transcription and translation process\n",
      "Time 7016.8244: DNA Sequence 39 synthetis ended\n",
      "Time 7016.8244: DNA Sequence 47 synthesize started\n",
      "Time 7016.8244: DNA Sequence 47 start transcription process\n",
      "Time 7016.8244: DNA Sequence 47 contains 1 promoters\n",
      "Time 7016.8244: DNA Sequence 47 (mRNA sequence 0) start transcription process\n",
      "Time 7048.1772: DNA Sequence 132 requesting to start synthesis\n",
      "Time 7064.4429: DNA Sequence 133 requesting to start synthesis\n",
      "Time 7102.6800: DNA Sequence 45 (mRNA sequence 1) start translation process\n",
      "Time 7108.8800: DNA Sequence 45 (mRNA sequence 1) end translation process\n",
      "Time 7108.8800: DNA Sequence 45 (mRNA sequence 2) start transcription process\n",
      "Time 7156.9786: DNA Sequence 134 requesting to start synthesis\n",
      "Time 7175.5140: DNA Sequence 42 (mRNA sequence 2) start translation process\n",
      "Time 7175.9640: DNA Sequence 42 (mRNA sequence 2) end translation process\n",
      "Time 7175.9640: DNA Sequence 42 (mRNA sequence 3) start transcription process\n",
      "Time 7176.7411: DNA Sequence 135 requesting to start synthesis\n",
      "Time 7177.7444: DNA Sequence 43 (mRNA sequence 2) start translation process\n",
      "Time 7178.7444: DNA Sequence 43 (mRNA sequence 2) end translation process\n",
      "Time 7178.7444: DNA Sequence 43 end transcription and translation process\n",
      "Time 7178.7444: DNA Sequence 43 synthetis ended\n",
      "Time 7178.7444: DNA Sequence 48 synthesize started\n",
      "Time 7178.7444: DNA Sequence 48 start transcription process\n",
      "Time 7178.7444: DNA Sequence 48 contains 1 promoters\n",
      "Time 7178.7444: DNA Sequence 48 (mRNA sequence 0) start transcription process\n",
      "End simulation: 128 proteins synthesized from 44 DNA sequences.\n"
     ]
    }
   ],
   "source": [
    "protein_synthesis_process.run(simulation_time=SIM_TIME) # run the simulation"
   ]
  },
  {
   "cell_type": "code",
   "execution_count": 6,
   "metadata": {},
   "outputs": [
    {
     "name": "stdout",
     "output_type": "stream",
     "text": [
      "Process saved.\n"
     ]
    }
   ],
   "source": [
    "protein_synthesis_process.save_process() # save the process"
   ]
  },
  {
   "cell_type": "markdown",
   "metadata": {},
   "source": [
    "### Results"
   ]
  },
  {
   "cell_type": "code",
   "execution_count": 7,
   "metadata": {},
   "outputs": [],
   "source": [
    "import pandas as pd\n",
    "results_path = 'results/results.csv'\n",
    "\n",
    "results_df = pd.read_csv(results_path, index_col=0)"
   ]
  },
  {
   "cell_type": "code",
   "execution_count": 8,
   "metadata": {},
   "outputs": [
    {
     "name": "stdout",
     "output_type": "stream",
     "text": [
      "Number of DNA sequence traslated: 41\n",
      "Number of DNA sequence not traslated: 3\n"
     ]
    }
   ],
   "source": [
    "print('Number of DNA sequence traslated:', results_df[results_df['mrna_sequences'].notna()].shape[0])\n",
    "print('Number of DNA sequence not traslated:', results_df[results_df['protein_synthesized']==False].shape[0])"
   ]
  },
  {
   "cell_type": "code",
   "execution_count": 10,
   "metadata": {},
   "outputs": [
    {
     "data": {
      "text/html": [
       "<div>\n",
       "<style scoped>\n",
       "    .dataframe tbody tr th:only-of-type {\n",
       "        vertical-align: middle;\n",
       "    }\n",
       "\n",
       "    .dataframe tbody tr th {\n",
       "        vertical-align: top;\n",
       "    }\n",
       "\n",
       "    .dataframe thead th {\n",
       "        text-align: right;\n",
       "    }\n",
       "</style>\n",
       "<table border=\"1\" class=\"dataframe\">\n",
       "  <thead>\n",
       "    <tr style=\"text-align: right;\">\n",
       "      <th></th>\n",
       "      <th>polypeptides_chains</th>\n",
       "      <th>number_of_proteins_synthesized</th>\n",
       "      <th>length_proteins</th>\n",
       "      <th>number_different_proteins</th>\n",
       "    </tr>\n",
       "  </thead>\n",
       "  <tbody>\n",
       "    <tr>\n",
       "      <th>2767</th>\n",
       "      <td>['NH2-LYRFRFYFLFVEG-COOH', 'NH2-LYRFRFYFLFVEG-...</td>\n",
       "      <td>4</td>\n",
       "      <td>[13, 13, 13, 13]</td>\n",
       "      <td>1.0</td>\n",
       "    </tr>\n",
       "    <tr>\n",
       "      <th>7553</th>\n",
       "      <td>['NH2-RAKLRF-COOH', 'NH2-RAKLRF-COOH', 'NH2-RA...</td>\n",
       "      <td>4</td>\n",
       "      <td>[6, 6, 6, 6]</td>\n",
       "      <td>1.0</td>\n",
       "    </tr>\n",
       "    <tr>\n",
       "      <th>11727</th>\n",
       "      <td>['NH2-GRTAASGARADGGAGAGTFGGSGAQSSDRGGGCQSSATGA...</td>\n",
       "      <td>3</td>\n",
       "      <td>[53, 53, 53]</td>\n",
       "      <td>1.0</td>\n",
       "    </tr>\n",
       "    <tr>\n",
       "      <th>11903</th>\n",
       "      <td>['NH2-RPTRGSGRRRRYSHDPLY-COOH', 'NH2-RPTProGSG...</td>\n",
       "      <td>3</td>\n",
       "      <td>[18, 20, 20]</td>\n",
       "      <td>2.0</td>\n",
       "    </tr>\n",
       "    <tr>\n",
       "      <th>16622</th>\n",
       "      <td>['NH2-SILHSNSQIRKFRPEE-COOH', 'NH2-SILHSNSQIRK...</td>\n",
       "      <td>2</td>\n",
       "      <td>[16, 16]</td>\n",
       "      <td>1.0</td>\n",
       "    </tr>\n",
       "    <tr>\n",
       "      <th>26186</th>\n",
       "      <td>['NH2-KCMSRELLLYLALFLVGRKRGNMKGYLDVAFLRDWFLYLI...</td>\n",
       "      <td>1</td>\n",
       "      <td>[62]</td>\n",
       "      <td>1.0</td>\n",
       "    </tr>\n",
       "    <tr>\n",
       "      <th>31996</th>\n",
       "      <td>[None, None, None]</td>\n",
       "      <td>3</td>\n",
       "      <td>[]</td>\n",
       "      <td>0.0</td>\n",
       "    </tr>\n",
       "    <tr>\n",
       "      <th>39859</th>\n",
       "      <td>['NH2-PSQGPRHPSSSPSAAWQGAPRATTSTPSTRSTTCFGGYNN...</td>\n",
       "      <td>5</td>\n",
       "      <td>[41, 41, 41, 41, 41]</td>\n",
       "      <td>2.0</td>\n",
       "    </tr>\n",
       "    <tr>\n",
       "      <th>47163</th>\n",
       "      <td>['NH2-R-COOH']</td>\n",
       "      <td>1</td>\n",
       "      <td>[1]</td>\n",
       "      <td>1.0</td>\n",
       "    </tr>\n",
       "    <tr>\n",
       "      <th>48738</th>\n",
       "      <td>['NH2-WEVKEPISGVHSHR-COOH', 'NH2-WEVKEPISGVHSH...</td>\n",
       "      <td>3</td>\n",
       "      <td>[14, 14, 14]</td>\n",
       "      <td>2.0</td>\n",
       "    </tr>\n",
       "    <tr>\n",
       "      <th>55058</th>\n",
       "      <td>['NH2-YFWSD-COOH', 'NH2-YFWSD-COOH']</td>\n",
       "      <td>2</td>\n",
       "      <td>[5, 5]</td>\n",
       "      <td>1.0</td>\n",
       "    </tr>\n",
       "    <tr>\n",
       "      <th>68602</th>\n",
       "      <td>['NH2-KNLFTDTTPPHQRILHTS-COOH', 'NH2-KNLFTDTTP...</td>\n",
       "      <td>4</td>\n",
       "      <td>[18, 18, 18, 18]</td>\n",
       "      <td>1.0</td>\n",
       "    </tr>\n",
       "    <tr>\n",
       "      <th>69193</th>\n",
       "      <td>['NH2-SRSQILKFTLISHHKCSFTLTYSVEIGEGRKKSILSGII-...</td>\n",
       "      <td>3</td>\n",
       "      <td>[39, 39, 39]</td>\n",
       "      <td>2.0</td>\n",
       "    </tr>\n",
       "    <tr>\n",
       "      <th>73799</th>\n",
       "      <td>['NH2-NQFALKHLVDLFHLGHLPHHEHLGLMDFLAFHKHWEWTRK...</td>\n",
       "      <td>1</td>\n",
       "      <td>[59]</td>\n",
       "      <td>1.0</td>\n",
       "    </tr>\n",
       "    <tr>\n",
       "      <th>78069</th>\n",
       "      <td>['NH2-KGVKSLSGGGDARNKVFFNSWSLWLDSPKRVNRAGWDFSG...</td>\n",
       "      <td>1</td>\n",
       "      <td>[88]</td>\n",
       "      <td>1.0</td>\n",
       "    </tr>\n",
       "    <tr>\n",
       "      <th>79180</th>\n",
       "      <td>['NH2-STLNLGVERG-COOH']</td>\n",
       "      <td>1</td>\n",
       "      <td>[10]</td>\n",
       "      <td>1.0</td>\n",
       "    </tr>\n",
       "    <tr>\n",
       "      <th>81472</th>\n",
       "      <td>['NH2-PTTHDTSAPSSSVAPS-COOH']</td>\n",
       "      <td>1</td>\n",
       "      <td>[16]</td>\n",
       "      <td>1.0</td>\n",
       "    </tr>\n",
       "    <tr>\n",
       "      <th>85323</th>\n",
       "      <td>['NH2-FLTTCYKSHLTSSVNWTVKTFVTSRSSCTSLWG-COOH']</td>\n",
       "      <td>1</td>\n",
       "      <td>[33]</td>\n",
       "      <td>1.0</td>\n",
       "    </tr>\n",
       "    <tr>\n",
       "      <th>86123</th>\n",
       "      <td>['NH2-KLDRLPRA-COOH', 'NH2-KLDRLPRA-COOH', 'NH...</td>\n",
       "      <td>4</td>\n",
       "      <td>[8, 8, 8, 8]</td>\n",
       "      <td>1.0</td>\n",
       "    </tr>\n",
       "    <tr>\n",
       "      <th>90147</th>\n",
       "      <td>['NH2-SVD-COOH', 'NH2-SVD-COOH', 'NH2-SVD-COOH...</td>\n",
       "      <td>7</td>\n",
       "      <td>[3, 3, 3, 3, 3, 3, 3]</td>\n",
       "      <td>1.0</td>\n",
       "    </tr>\n",
       "    <tr>\n",
       "      <th>92430</th>\n",
       "      <td>['NH2-VAPEPAVAARPPAAAAAASAPPTSAAAPVAALVAAAPAPR...</td>\n",
       "      <td>1</td>\n",
       "      <td>[202]</td>\n",
       "      <td>1.0</td>\n",
       "    </tr>\n",
       "    <tr>\n",
       "      <th>92980</th>\n",
       "      <td>['NH2-STE-COOH', 'NH2-STESRKKSHGPVRSPLCRNGVRTL...</td>\n",
       "      <td>3</td>\n",
       "      <td>[3, 49, 49]</td>\n",
       "      <td>2.0</td>\n",
       "    </tr>\n",
       "    <tr>\n",
       "      <th>102366</th>\n",
       "      <td>['NH2-APCHKRYLGSLPMYLGVMVGGVEKGRKVGGHG-COOH', ...</td>\n",
       "      <td>4</td>\n",
       "      <td>[32, 6, 32, 32]</td>\n",
       "      <td>2.0</td>\n",
       "    </tr>\n",
       "    <tr>\n",
       "      <th>105514</th>\n",
       "      <td>['NH2-CRRTDLLRPKRPWVRCHEWDRSRDLRAPLANLLVHVRDHA...</td>\n",
       "      <td>2</td>\n",
       "      <td>[172, 172]</td>\n",
       "      <td>1.0</td>\n",
       "    </tr>\n",
       "    <tr>\n",
       "      <th>108501</th>\n",
       "      <td>[None]</td>\n",
       "      <td>1</td>\n",
       "      <td>[]</td>\n",
       "      <td>0.0</td>\n",
       "    </tr>\n",
       "    <tr>\n",
       "      <th>109799</th>\n",
       "      <td>['NH2-EGRDGCPEVGLEAGPEGRSGDVGGERRPRRPVAAPPSARR...</td>\n",
       "      <td>2</td>\n",
       "      <td>[66, 66]</td>\n",
       "      <td>1.0</td>\n",
       "    </tr>\n",
       "    <tr>\n",
       "      <th>132901</th>\n",
       "      <td>['NH2-PRIARGRNFREQLPDVGTRRLTSAETREPQT-COOH', '...</td>\n",
       "      <td>2</td>\n",
       "      <td>[31, 31]</td>\n",
       "      <td>1.0</td>\n",
       "    </tr>\n",
       "    <tr>\n",
       "      <th>136024</th>\n",
       "      <td>['NH2-WVLPRPEPARPLCIPT-COOH', 'NH2-WVLPRPEPARP...</td>\n",
       "      <td>3</td>\n",
       "      <td>[16, 16, 16]</td>\n",
       "      <td>1.0</td>\n",
       "    </tr>\n",
       "    <tr>\n",
       "      <th>137071</th>\n",
       "      <td>['NH2-SFILPVI-COOH', 'NH2-SFILPVI-COOH', 'NH2-...</td>\n",
       "      <td>10</td>\n",
       "      <td>[7, 7, 7, 7, 7, 7, 7, 7, 7, 7]</td>\n",
       "      <td>1.0</td>\n",
       "    </tr>\n",
       "    <tr>\n",
       "      <th>140590</th>\n",
       "      <td>['NH2-NLLTFDGFTSRNQPGTRIARLRNRSQTTTESFSCIG-COO...</td>\n",
       "      <td>2</td>\n",
       "      <td>[36, 36]</td>\n",
       "      <td>2.0</td>\n",
       "    </tr>\n",
       "    <tr>\n",
       "      <th>150309</th>\n",
       "      <td>['NH2-INKFNLKIIGWSTRSLCVPRNNGKGSNVETLCPRIIGSRL...</td>\n",
       "      <td>1</td>\n",
       "      <td>[89]</td>\n",
       "      <td>1.0</td>\n",
       "    </tr>\n",
       "    <tr>\n",
       "      <th>151385</th>\n",
       "      <td>['NH2-SLLSFSDIFGYHKPFFYWGNGTQTSTVMMRPFYRLLLLIL...</td>\n",
       "      <td>10</td>\n",
       "      <td>[62, 62, 62, 62, 62, 62, 62, 62, 62, 62]</td>\n",
       "      <td>3.0</td>\n",
       "    </tr>\n",
       "    <tr>\n",
       "      <th>158901</th>\n",
       "      <td>['NH2-FQKKKKKKRRKKRKKKRKRGKKKKERKKKKERKKERERER...</td>\n",
       "      <td>4</td>\n",
       "      <td>[58, 58, 58, 58]</td>\n",
       "      <td>1.0</td>\n",
       "    </tr>\n",
       "    <tr>\n",
       "      <th>164704</th>\n",
       "      <td>['NH2-TSVT-COOH', 'NH2-TSVT-COOH', 'NH2-TSVT-C...</td>\n",
       "      <td>3</td>\n",
       "      <td>[4, 4, 4]</td>\n",
       "      <td>1.0</td>\n",
       "    </tr>\n",
       "    <tr>\n",
       "      <th>165027</th>\n",
       "      <td>['NH2-GRRERRRTQEESSGRCSGPRTTLI-COOH', 'NH2-GRR...</td>\n",
       "      <td>5</td>\n",
       "      <td>[24, 24, 24, 24, 24]</td>\n",
       "      <td>1.0</td>\n",
       "    </tr>\n",
       "    <tr>\n",
       "      <th>165196</th>\n",
       "      <td>[None, None, None, None, None, None]</td>\n",
       "      <td>6</td>\n",
       "      <td>[]</td>\n",
       "      <td>0.0</td>\n",
       "    </tr>\n",
       "    <tr>\n",
       "      <th>166894</th>\n",
       "      <td>['NH2-VTHWSFREPRFARTS-COOH', 'NH2-VTHWSFREPRFA...</td>\n",
       "      <td>4</td>\n",
       "      <td>[15, 15, 15, 15]</td>\n",
       "      <td>1.0</td>\n",
       "    </tr>\n",
       "    <tr>\n",
       "      <th>167621</th>\n",
       "      <td>['NH2-VFVPSFGKHSLDEGTGLWRTIRGGGL-COOH', 'NH2-V...</td>\n",
       "      <td>6</td>\n",
       "      <td>[26, 26, 26, 26, 26, 26]</td>\n",
       "      <td>2.0</td>\n",
       "    </tr>\n",
       "    <tr>\n",
       "      <th>171932</th>\n",
       "      <td>['NH2-FPLMELASERRPSLSLVDRL-COOH', 'NH2-FPLMELA...</td>\n",
       "      <td>2</td>\n",
       "      <td>[20, 20]</td>\n",
       "      <td>1.0</td>\n",
       "    </tr>\n",
       "    <tr>\n",
       "      <th>175380</th>\n",
       "      <td>['NH2-KHLWGIPIVDLNLKEFIHLLYVFPLW-COOH', 'NH2-K...</td>\n",
       "      <td>2</td>\n",
       "      <td>[26, 26]</td>\n",
       "      <td>1.0</td>\n",
       "    </tr>\n",
       "    <tr>\n",
       "      <th>184991</th>\n",
       "      <td>['NH2-GCNHSSPGPAsnTGPKSVTCVRKTSFHYSVVGGVSFTSSI...</td>\n",
       "      <td>1</td>\n",
       "      <td>[48]</td>\n",
       "      <td>1.0</td>\n",
       "    </tr>\n",
       "  </tbody>\n",
       "</table>\n",
       "</div>"
      ],
      "text/plain": [
       "                                      polypeptides_chains  \\\n",
       "2767    ['NH2-LYRFRFYFLFVEG-COOH', 'NH2-LYRFRFYFLFVEG-...   \n",
       "7553    ['NH2-RAKLRF-COOH', 'NH2-RAKLRF-COOH', 'NH2-RA...   \n",
       "11727   ['NH2-GRTAASGARADGGAGAGTFGGSGAQSSDRGGGCQSSATGA...   \n",
       "11903   ['NH2-RPTRGSGRRRRYSHDPLY-COOH', 'NH2-RPTProGSG...   \n",
       "16622   ['NH2-SILHSNSQIRKFRPEE-COOH', 'NH2-SILHSNSQIRK...   \n",
       "26186   ['NH2-KCMSRELLLYLALFLVGRKRGNMKGYLDVAFLRDWFLYLI...   \n",
       "31996                                  [None, None, None]   \n",
       "39859   ['NH2-PSQGPRHPSSSPSAAWQGAPRATTSTPSTRSTTCFGGYNN...   \n",
       "47163                                      ['NH2-R-COOH']   \n",
       "48738   ['NH2-WEVKEPISGVHSHR-COOH', 'NH2-WEVKEPISGVHSH...   \n",
       "55058                ['NH2-YFWSD-COOH', 'NH2-YFWSD-COOH']   \n",
       "68602   ['NH2-KNLFTDTTPPHQRILHTS-COOH', 'NH2-KNLFTDTTP...   \n",
       "69193   ['NH2-SRSQILKFTLISHHKCSFTLTYSVEIGEGRKKSILSGII-...   \n",
       "73799   ['NH2-NQFALKHLVDLFHLGHLPHHEHLGLMDFLAFHKHWEWTRK...   \n",
       "78069   ['NH2-KGVKSLSGGGDARNKVFFNSWSLWLDSPKRVNRAGWDFSG...   \n",
       "79180                             ['NH2-STLNLGVERG-COOH']   \n",
       "81472                       ['NH2-PTTHDTSAPSSSVAPS-COOH']   \n",
       "85323      ['NH2-FLTTCYKSHLTSSVNWTVKTFVTSRSSCTSLWG-COOH']   \n",
       "86123   ['NH2-KLDRLPRA-COOH', 'NH2-KLDRLPRA-COOH', 'NH...   \n",
       "90147   ['NH2-SVD-COOH', 'NH2-SVD-COOH', 'NH2-SVD-COOH...   \n",
       "92430   ['NH2-VAPEPAVAARPPAAAAAASAPPTSAAAPVAALVAAAPAPR...   \n",
       "92980   ['NH2-STE-COOH', 'NH2-STESRKKSHGPVRSPLCRNGVRTL...   \n",
       "102366  ['NH2-APCHKRYLGSLPMYLGVMVGGVEKGRKVGGHG-COOH', ...   \n",
       "105514  ['NH2-CRRTDLLRPKRPWVRCHEWDRSRDLRAPLANLLVHVRDHA...   \n",
       "108501                                             [None]   \n",
       "109799  ['NH2-EGRDGCPEVGLEAGPEGRSGDVGGERRPRRPVAAPPSARR...   \n",
       "132901  ['NH2-PRIARGRNFREQLPDVGTRRLTSAETREPQT-COOH', '...   \n",
       "136024  ['NH2-WVLPRPEPARPLCIPT-COOH', 'NH2-WVLPRPEPARP...   \n",
       "137071  ['NH2-SFILPVI-COOH', 'NH2-SFILPVI-COOH', 'NH2-...   \n",
       "140590  ['NH2-NLLTFDGFTSRNQPGTRIARLRNRSQTTTESFSCIG-COO...   \n",
       "150309  ['NH2-INKFNLKIIGWSTRSLCVPRNNGKGSNVETLCPRIIGSRL...   \n",
       "151385  ['NH2-SLLSFSDIFGYHKPFFYWGNGTQTSTVMMRPFYRLLLLIL...   \n",
       "158901  ['NH2-FQKKKKKKRRKKRKKKRKRGKKKKERKKKKERKKERERER...   \n",
       "164704  ['NH2-TSVT-COOH', 'NH2-TSVT-COOH', 'NH2-TSVT-C...   \n",
       "165027  ['NH2-GRRERRRTQEESSGRCSGPRTTLI-COOH', 'NH2-GRR...   \n",
       "165196               [None, None, None, None, None, None]   \n",
       "166894  ['NH2-VTHWSFREPRFARTS-COOH', 'NH2-VTHWSFREPRFA...   \n",
       "167621  ['NH2-VFVPSFGKHSLDEGTGLWRTIRGGGL-COOH', 'NH2-V...   \n",
       "171932  ['NH2-FPLMELASERRPSLSLVDRL-COOH', 'NH2-FPLMELA...   \n",
       "175380  ['NH2-KHLWGIPIVDLNLKEFIHLLYVFPLW-COOH', 'NH2-K...   \n",
       "184991  ['NH2-GCNHSSPGPAsnTGPKSVTCVRKTSFHYSVVGGVSFTSSI...   \n",
       "\n",
       "        number_of_proteins_synthesized  \\\n",
       "2767                                 4   \n",
       "7553                                 4   \n",
       "11727                                3   \n",
       "11903                                3   \n",
       "16622                                2   \n",
       "26186                                1   \n",
       "31996                                3   \n",
       "39859                                5   \n",
       "47163                                1   \n",
       "48738                                3   \n",
       "55058                                2   \n",
       "68602                                4   \n",
       "69193                                3   \n",
       "73799                                1   \n",
       "78069                                1   \n",
       "79180                                1   \n",
       "81472                                1   \n",
       "85323                                1   \n",
       "86123                                4   \n",
       "90147                                7   \n",
       "92430                                1   \n",
       "92980                                3   \n",
       "102366                               4   \n",
       "105514                               2   \n",
       "108501                               1   \n",
       "109799                               2   \n",
       "132901                               2   \n",
       "136024                               3   \n",
       "137071                              10   \n",
       "140590                               2   \n",
       "150309                               1   \n",
       "151385                              10   \n",
       "158901                               4   \n",
       "164704                               3   \n",
       "165027                               5   \n",
       "165196                               6   \n",
       "166894                               4   \n",
       "167621                               6   \n",
       "171932                               2   \n",
       "175380                               2   \n",
       "184991                               1   \n",
       "\n",
       "                                 length_proteins  number_different_proteins  \n",
       "2767                            [13, 13, 13, 13]                        1.0  \n",
       "7553                                [6, 6, 6, 6]                        1.0  \n",
       "11727                               [53, 53, 53]                        1.0  \n",
       "11903                               [18, 20, 20]                        2.0  \n",
       "16622                                   [16, 16]                        1.0  \n",
       "26186                                       [62]                        1.0  \n",
       "31996                                         []                        0.0  \n",
       "39859                       [41, 41, 41, 41, 41]                        2.0  \n",
       "47163                                        [1]                        1.0  \n",
       "48738                               [14, 14, 14]                        2.0  \n",
       "55058                                     [5, 5]                        1.0  \n",
       "68602                           [18, 18, 18, 18]                        1.0  \n",
       "69193                               [39, 39, 39]                        2.0  \n",
       "73799                                       [59]                        1.0  \n",
       "78069                                       [88]                        1.0  \n",
       "79180                                       [10]                        1.0  \n",
       "81472                                       [16]                        1.0  \n",
       "85323                                       [33]                        1.0  \n",
       "86123                               [8, 8, 8, 8]                        1.0  \n",
       "90147                      [3, 3, 3, 3, 3, 3, 3]                        1.0  \n",
       "92430                                      [202]                        1.0  \n",
       "92980                                [3, 49, 49]                        2.0  \n",
       "102366                           [32, 6, 32, 32]                        2.0  \n",
       "105514                                [172, 172]                        1.0  \n",
       "108501                                        []                        0.0  \n",
       "109799                                  [66, 66]                        1.0  \n",
       "132901                                  [31, 31]                        1.0  \n",
       "136024                              [16, 16, 16]                        1.0  \n",
       "137071            [7, 7, 7, 7, 7, 7, 7, 7, 7, 7]                        1.0  \n",
       "140590                                  [36, 36]                        2.0  \n",
       "150309                                      [89]                        1.0  \n",
       "151385  [62, 62, 62, 62, 62, 62, 62, 62, 62, 62]                        3.0  \n",
       "158901                          [58, 58, 58, 58]                        1.0  \n",
       "164704                                 [4, 4, 4]                        1.0  \n",
       "165027                      [24, 24, 24, 24, 24]                        1.0  \n",
       "165196                                        []                        0.0  \n",
       "166894                          [15, 15, 15, 15]                        1.0  \n",
       "167621                  [26, 26, 26, 26, 26, 26]                        2.0  \n",
       "171932                                  [20, 20]                        1.0  \n",
       "175380                                  [26, 26]                        1.0  \n",
       "184991                                      [48]                        1.0  "
      ]
     },
     "execution_count": 10,
     "metadata": {},
     "output_type": "execute_result"
    }
   ],
   "source": [
    "results_df[results_df['mrna_sequences'].notna()][[\n",
    "    'polypeptides_chains', 'number_of_proteins_synthesized', 'length_proteins', 'number_different_proteins']]"
   ]
  },
  {
   "cell_type": "markdown",
   "metadata": {},
   "source": [
    "Plot results"
   ]
  },
  {
   "cell_type": "code",
   "execution_count": 11,
   "metadata": {},
   "outputs": [],
   "source": [
    "from src.utils.plot_utils import *"
   ]
  },
  {
   "cell_type": "code",
   "execution_count": 12,
   "metadata": {},
   "outputs": [
    {
     "data": {
      "image/png": "[encoded data removed]",
      "text/plain": [
       "<Figure size 2000x500 with 1 Axes>"
      ]
     },
     "metadata": {},
     "output_type": "display_data"
    }
   ],
   "source": [
    "barplot_proteins_number(results_df)"
   ]
  },
  {
   "cell_type": "code",
   "execution_count": 13,
   "metadata": {},
   "outputs": [
    {
     "data": {
      "image/png": "[encoded data removed]",
      "text/plain": [
       "<Figure size 2000x500 with 1 Axes>"
      ]
     },
     "metadata": {},
     "output_type": "display_data"
    }
   ],
   "source": [
    "plot_proteins_number_over_time(results_df)"
   ]
  },
  {
   "cell_type": "code",
   "execution_count": 14,
   "metadata": {},
   "outputs": [
    {
     "data": {
      "image/png": "[encoded data removed]",
      "text/plain": [
       "<Figure size 2000x500 with 1 Axes>"
      ]
     },
     "metadata": {},
     "output_type": "display_data"
    }
   ],
   "source": [
    "plot_cumulative_proteins_number_over_time(results_df)"
   ]
  },
  {
   "cell_type": "code",
   "execution_count": 15,
   "metadata": {},
   "outputs": [
    {
     "data": {
      "image/png": "[encoded data removed]",
      "text/plain": [
       "<Figure size 2000x500 with 1 Axes>"
      ]
     },
     "metadata": {},
     "output_type": "display_data"
    }
   ],
   "source": [
    "barplot_proteins_length(results_df)"
   ]
  },
  {
   "cell_type": "code",
   "execution_count": 3,
   "metadata": {},
   "outputs": [],
   "source": [
    "import json\n",
    "\n",
    "with open(f'results/nucleotides_history_uracil.json') as f:\n",
    "    uracil_dict = json.load(f)\n",
    "\n",
    "with open(f'results/nucleotides_history_adenine.json') as f:\n",
    "    adenine_dict = json.load(f)\n",
    "\n",
    "with open(f'results/nucleotides_history_guanine.json') as f:\n",
    "    guanine_dict = json.load(f)\n",
    "\n",
    "with open(f'results/nucleotides_history_cytosine.json') as f:\n",
    "    cytosine_dict = json.load(f)"
   ]
  },
  {
   "cell_type": "code",
   "execution_count": 1,
   "metadata": {},
   "outputs": [
    {
     "name": "stderr",
     "output_type": "stream",
     "text": [
      "c:\\Users\\giuli\\anaconda3\\lib\\site-packages\\pandas\\core\\arrays\\masked.py:60: UserWarning: Pandas requires version '1.3.6' or newer of 'bottleneck' (version '1.3.5' currently installed).\n",
      "  from pandas.core import (\n"
     ]
    }
   ],
   "source": [
    "from src.utils.plot_utils import plot_nucleotide_level_over_time, barplot_nucleotide_level_over_time, plot_proteins_length_over_time"
   ]
  },
  {
   "cell_type": "code",
   "execution_count": 4,
   "metadata": {},
   "outputs": [
    {
     "data": {
      "image/png": "[encoded data removed]",
      "text/plain": [
       "<Figure size 640x480 with 1 Axes>"
      ]
     },
     "metadata": {},
     "output_type": "display_data"
    }
   ],
   "source": [
    "plot_nucleotide_level_over_time(\n",
    "    uracil_dict, adenine_dict, guanine_dict, cytosine_dict)"
   ]
  },
  {
   "cell_type": "code",
   "execution_count": 5,
   "metadata": {},
   "outputs": [
    {
     "data": {
      "application/vnd.plotly.v1+json": {
       "config": {
        "plotlyServerURL": "https://plot.ly"
       },
       "data": [
        {
         "alignmentgroup": "True",
         "hovertemplate": "variable=Uracil<br>Time (s)=0.0<br>index=%{x}<br>Nucleotides level=%{y}<extra></extra>",
         "legendgroup": "Uracil",
         "marker": {
          "color": "#636efa",
          "pattern": {
           "shape": ""
          }
         },
         "name": "Uracil",
         "offsetgroup": "Uracil",
         "orientation": "v",
         "showlegend": true,
         "textposition": "auto",
         "type": "bar",
         "x": [
          0
         ],
         "xaxis": "x",
         "y": [
          50000
         ],
         "yaxis": "y"
        },
        {
         "alignmentgroup": "True",
         "hovertemplate": "variable=Adenine<br>Time (s)=0.0<br>index=%{x}<br>Nucleotides level=%{y}<extra></extra>",
         "legendgroup": "Adenine",
         "marker": {
          "color": "#EF553B",
          "pattern": {
           "shape": ""
          }
         },
         "name": "Adenine",
         "offsetgroup": "Adenine",
         "orientation": "v",
         "showlegend": true,
         "textposition": "auto",
         "type": "bar",
         "x": [
          0
         ],
         "xaxis": "x",
         "y": [
          50000
         ],
         "yaxis": "y"
        },
        {
         "alignmentgroup": "True",
         "hovertemplate": "variable=Guanine<br>Time (s)=0.0<br>index=%{x}<br>Nucleotides level=%{y}<extra></extra>",
         "legendgroup": "Guanine",
         "marker": {
          "color": "#00cc96",
          "pattern": {
           "shape": ""
          }
         },
         "name": "Guanine",
         "offsetgroup": "Guanine",
         "orientation": "v",
         "showlegend": true,
         "textposition": "auto",
         "type": "bar",
         "x": [
          0
         ],
         "xaxis": "x",
         "y": [
          50000
         ],
         "yaxis": "y"
        },
        {
         "alignmentgroup": "True",
         "hovertemplate": "variable=Cytosine<br>Time (s)=0.0<br>index=%{x}<br>Nucleotides level=%{y}<extra></extra>",
         "legendgroup": "Cytosine",
         "marker": {
          "color": "#ab63fa",
          "pattern": {
           "shape": ""
          }
         },
         "name": "Cytosine",
         "offsetgroup": "Cytosine",
         "orientation": "v",
         "showlegend": true,
         "textposition": "auto",
         "type": "bar",
         "x": [
          0
         ],
         "xaxis": "x",
         "y": [
          50000
         ],
         "yaxis": "y"
        }
       ],
       "frames": [
        {
         "data": [
          {
           "alignmentgroup": "True",
           "hovertemplate": "variable=Uracil<br>Time (s)=0.0<br>index=%{x}<br>Nucleotides level=%{y}<extra></extra>",
           "legendgroup": "Uracil",
           "marker": {
            "color": "#636efa",
            "pattern": {
             "shape": ""
            }
           },
           "name": "Uracil",
           "offsetgroup": "Uracil",
           "orientation": "v",
           "showlegend": true,
           "textposition": "auto",
           "type": "bar",
           "x": [
            0
           ],
           "xaxis": "x",
           "y": [
            50000
           ],
           "yaxis": "y"
          },
          {
           "alignmentgroup": "True",
           "hovertemplate": "variable=Adenine<br>Time (s)=0.0<br>index=%{x}<br>Nucleotides level=%{y}<extra></extra>",
           "legendgroup": "Adenine",
           "marker": {
            "color": "#EF553B",
            "pattern": {
             "shape": ""
            }
           },
           "name": "Adenine",
           "offsetgroup": "Adenine",
           "orientation": "v",
           "showlegend": true,
           "textposition": "auto",
           "type": "bar",
           "x": [
            0
           ],
           "xaxis": "x",
           "y": [
            50000
           ],
           "yaxis": "y"
          },
          {
           "alignmentgroup": "True",
           "hovertemplate": "variable=Guanine<br>Time (s)=0.0<br>index=%{x}<br>Nucleotides level=%{y}<extra></extra>",
           "legendgroup": "Guanine",
           "marker": {
            "color": "#00cc96",
            "pattern": {
             "shape": ""
            }
           },
           "name": "Guanine",
           "offsetgroup": "Guanine",
           "orientation": "v",
           "showlegend": true,
           "textposition": "auto",
           "type": "bar",
           "x": [
            0
           ],
           "xaxis": "x",
           "y": [
            50000
           ],
           "yaxis": "y"
          },
          {
           "alignmentgroup": "True",
           "hovertemplate": "variable=Cytosine<br>Time (s)=0.0<br>index=%{x}<br>Nucleotides level=%{y}<extra></extra>",
           "legendgroup": "Cytosine",
           "marker": {
            "color": "#ab63fa",
            "pattern": {
             "shape": ""
            }
           },
           "name": "Cytosine",
           "offsetgroup": "Cytosine",
           "orientation": "v",
           "showlegend": true,
           "textposition": "auto",
           "type": "bar",
           "x": [
            0
           ],
           "xaxis": "x",
           "y": [
            50000
           ],
           "yaxis": "y"
          }
         ],
         "name": "0.0"
        },
        {
         "data": [
          {
           "alignmentgroup": "True",
           "hovertemplate": "variable=Uracil<br>Time (s)=0.0001<br>index=%{x}<br>Nucleotides level=%{y}<extra></extra>",
           "legendgroup": "Uracil",
           "marker": {
            "color": "#636efa",
            "pattern": {
             "shape": ""
            }
           },
           "name": "Uracil",
           "offsetgroup": "Uracil",
           "orientation": "v",
           "showlegend": true,
           "textposition": "auto",
           "type": "bar",
           "x": [
            1
           ],
           "xaxis": "x",
           "y": [
            49999
           ],
           "yaxis": "y"
          },
          {
           "alignmentgroup": "True",
           "hovertemplate": "variable=Adenine<br>Time (s)=0.0001<br>index=%{x}<br>Nucleotides level=%{y}<extra></extra>",
           "legendgroup": "Adenine",
           "marker": {
            "color": "#EF553B",
            "pattern": {
             "shape": ""
            }
           },
           "name": "Adenine",
           "offsetgroup": "Adenine",
           "orientation": "v",
           "showlegend": true,
           "textposition": "auto",
           "type": "bar",
           "x": [
            1
           ],
           "xaxis": "x",
           "y": [
            49998
           ],
           "yaxis": "y"
          },
          {
           "alignmentgroup": "True",
           "hovertemplate": "variable=Guanine<br>Time (s)=0.0001<br>index=%{x}<br>Nucleotides level=%{y}<extra></extra>",
           "legendgroup": "Guanine",
           "marker": {
            "color": "#00cc96",
            "pattern": {
             "shape": ""
            }
           },
           "name": "Guanine",
           "offsetgroup": "Guanine",
           "orientation": "v",
           "showlegend": true,
           "textposition": "auto",
           "type": "bar",
           "x": [
            1
           ],
           "xaxis": "x",
           "y": [
            49999
           ],
           "yaxis": "y"
          },
          {
           "alignmentgroup": "True",
           "hovertemplate": "variable=Cytosine<br>Time (s)=0.0001<br>index=%{x}<br>Nucleotides level=%{y}<extra></extra>",
           "legendgroup": "Cytosine",
           "marker": {
            "color": "#ab63fa",
            "pattern": {
             "shape": ""
            }
           },
           "name": "Cytosine",
           "offsetgroup": "Cytosine",
           "orientation": "v",
           "showlegend": true,
           "textposition": "auto",
           "type": "bar",
           "x": [
            1
           ],
           "xaxis": "x",
           "y": [
            49999
           ],
           "yaxis": "y"
          }
         ],
         "name": "0.0001"
        },
        {
         "data": [
          {
           "alignmentgroup": "True",
           "hovertemplate": "variable=Uracil<br>Time (s)=0.0002<br>index=%{x}<br>Nucleotides level=%{y}<extra></extra>",
           "legendgroup": "Uracil",
           "marker": {
            "color": "#636efa",
            "pattern": {
             "shape": ""
            }
           },
           "name": "Uracil",
           "offsetgroup": "Uracil",
           "orientation": "v",
           "showlegend": true,
           "textposition": "auto",
           "type": "bar",
           "x": [
            2
           ],
           "xaxis": "x",
           "y": [
            49999
           ],
           "yaxis": "y"
          },
          {
           "alignmentgroup": "True",
           "hovertemplate": "variable=Adenine<br>Time (s)=0.0002<br>index=%{x}<br>Nucleotides level=%{y}<extra></extra>",
           "legendgroup": "Adenine",
           "marker": {
            "color": "#EF553B",
            "pattern": {
             "shape": ""
            }
           },
           "name": "Adenine",
           "offsetgroup": "Adenine",
           "orientation": "v",
           "showlegend": true,
           "textposition": "auto",
           "type": "bar",
           "x": [
            2
           ],
           "xaxis": "x",
           "y": [
            49998
           ],
           "yaxis": "y"
          },
          {
           "alignmentgroup": "True",
           "hovertemplate": "variable=Guanine<br>Time (s)=0.0002<br>index=%{x}<br>Nucleotides level=%{y}<extra></extra>",
           "legendgroup": "Guanine",
           "marker": {
            "color": "#00cc96",
            "pattern": {
             "shape": ""
            }
           },
           "name": "Guanine",
           "offsetgroup": "Guanine",
           "orientation": "v",
           "showlegend": true,
           "textposition": "auto",
           "type": "bar",
           "x": [
            2
           ],
           "xaxis": "x",
           "y": [
            49999
           ],
           "yaxis": "y"
          },
          {
           "alignmentgroup": "True",
           "hovertemplate": "variable=Cytosine<br>Time (s)=0.0002<br>index=%{x}<br>Nucleotides level=%{y}<extra></extra>",
           "legendgroup": "Cytosine",
           "marker": {
            "color": "#ab63fa",
            "pattern": {
             "shape": ""
            }
           },
           "name": "Cytosine",
           "offsetgroup": "Cytosine",
           "orientation": "v",
           "showlegend": true,
           "textposition": "auto",
           "type": "bar",
           "x": [
            2
           ],
           "xaxis": "x",
           "y": [
            49999
           ],
           "yaxis": "y"
          }
         ],
         "name": "0.0002"
        },
        {
         "data": [
          {
           "alignmentgroup": "True",
           "hovertemplate": "variable=Uracil<br>Time (s)=0.00030000000000000003<br>index=%{x}<br>Nucleotides level=%{y}<extra></extra>",
           "legendgroup": "Uracil",
           "marker": {
            "color": "#636efa",
            "pattern": {
             "shape": ""
            }
           },
           "name": "Uracil",
           "offsetgroup": "Uracil",
           "orientation": "v",
           "showlegend": true,
           "textposition": "auto",
           "type": "bar",
           "x": [
            3
           ],
           "xaxis": "x",
           "y": [
            49999
           ],
           "yaxis": "y"
          },
          {
           "alignmentgroup": "True",
           "hovertemplate": "variable=Adenine<br>Time (s)=0.00030000000000000003<br>index=%{x}<br>Nucleotides level=%{y}<extra></extra>",
           "legendgroup": "Adenine",
           "marker": {
            "color": "#EF553B",
            "pattern": {
             "shape": ""
            }
           },
           "name": "Adenine",
           "offsetgroup": "Adenine",
           "orientation": "v",
           "showlegend": true,
           "textposition": "auto",
           "type": "bar",
           "x": [
            3
           ],
           "xaxis": "x",
           "y": [
            49998
           ],
           "yaxis": "y"
          },
          {
           "alignmentgroup": "True",
           "hovertemplate": "variable=Guanine<br>Time (s)=0.00030000000000000003<br>index=%{x}<br>Nucleotides level=%{y}<extra></extra>",
           "legendgroup": "Guanine",
           "marker": {
            "color": "#00cc96",
            "pattern": {
             "shape": ""
            }
           },
           "name": "Guanine",
           "offsetgroup": "Guanine",
           "orientation": "v",
           "showlegend": true,
           "textposition": "auto",
           "type": "bar",
           "x": [
            3
           ],
           "xaxis": "x",
           "y": [
            49999
           ],
           "yaxis": "y"
          },
          {
           "alignmentgroup": "True",
           "hovertemplate": "variable=Cytosine<br>Time (s)=0.00030000000000000003<br>index=%{x}<br>Nucleotides level=%{y}<extra></extra>",
           "legendgroup": "Cytosine",
           "marker": {
            "color": "#ab63fa",
            "pattern": {
             "shape": ""
            }
           },
           "name": "Cytosine",
           "offsetgroup": "Cytosine",
           "orientation": "v",
           "showlegend": true,
           "textposition": "auto",
           "type": "bar",
           "x": [
            3
           ],
           "xaxis": "x",
           "y": [
            49999
           ],
           "yaxis": "y"
          }
         ],
         "name": "0.00030000000000000003"
        },
        {
         "data": [
          {
           "alignmentgroup": "True",
           "hovertemplate": "variable=Uracil<br>Time (s)=0.0004<br>index=%{x}<br>Nucleotides level=%{y}<extra></extra>",
           "legendgroup": "Uracil",
           "marker": {
            "color": "#636efa",
            "pattern": {
             "shape": ""
            }
           },
           "name": "Uracil",
           "offsetgroup": "Uracil",
           "orientation": "v",
           "showlegend": true,
           "textposition": "auto",
           "type": "bar",
           "x": [
            4
           ],
           "xaxis": "x",
           "y": [
            49999
           ],
           "yaxis": "y"
          },
          {
           "alignmentgroup": "True",
           "hovertemplate": "variable=Adenine<br>Time (s)=0.0004<br>index=%{x}<br>Nucleotides level=%{y}<extra></extra>",
           "legendgroup": "Adenine",
           "marker": {
            "color": "#EF553B",
            "pattern": {
             "shape": ""
            }
           },
           "name": "Adenine",
           "offsetgroup": "Adenine",
           "orientation": "v",
           "showlegend": true,
           "textposition": "auto",
           "type": "bar",
           "x": [
            4
           ],
           "xaxis": "x",
           "y": [
            49998
           ],
           "yaxis": "y"
          },
          {
           "alignmentgroup": "True",
           "hovertemplate": "variable=Guanine<br>Time (s)=0.0004<br>index=%{x}<br>Nucleotides level=%{y}<extra></extra>",
           "legendgroup": "Guanine",
           "marker": {
            "color": "#00cc96",
            "pattern": {
             "shape": ""
            }
           },
           "name": "Guanine",
           "offsetgroup": "Guanine",
           "orientation": "v",
           "showlegend": true,
           "textposition": "auto",
           "type": "bar",
           "x": [
            4
           ],
           "xaxis": "x",
           "y": [
            49999
           ],
           "yaxis": "y"
          },
          {
           "alignmentgroup": "True",
           "hovertemplate": "variable=Cytosine<br>Time (s)=0.0004<br>index=%{x}<br>Nucleotides level=%{y}<extra></extra>",
           "legendgroup": "Cytosine",
           "marker": {
            "color": "#ab63fa",
            "pattern": {
             "shape": ""
            }
           },
           "name": "Cytosine",
           "offsetgroup": "Cytosine",
           "orientation": "v",
           "showlegend": true,
           "textposition": "auto",
           "type": "bar",
           "x": [
            4
           ],
           "xaxis": "x",
           "y": [
            49999
           ],
           "yaxis": "y"
          }
         ],
         "name": "0.0004"
        },
        {
         "data": [
          {
           "alignmentgroup": "True",
           "hovertemplate": "variable=Uracil<br>Time (s)=0.0005<br>index=%{x}<br>Nucleotides level=%{y}<extra></extra>",
           "legendgroup": "Uracil",
           "marker": {
            "color": "#636efa",
            "pattern": {
             "shape": ""
            }
           },
           "name": "Uracil",
           "offsetgroup": "Uracil",
           "orientation": "v",
           "showlegend": true,
           "textposition": "auto",
           "type": "bar",
           "x": [
            5
           ],
           "xaxis": "x",
           "y": [
            49999
           ],
           "yaxis": "y"
          },
          {
           "alignmentgroup": "True",
           "hovertemplate": "variable=Adenine<br>Time (s)=0.0005<br>index=%{x}<br>Nucleotides level=%{y}<extra></extra>",
           "legendgroup": "Adenine",
           "marker": {
            "color": "#EF553B",
            "pattern": {
             "shape": ""
            }
           },
           "name": "Adenine",
           "offsetgroup": "Adenine",
           "orientation": "v",
           "showlegend": true,
           "textposition": "auto",
           "type": "bar",
           "x": [
            5
           ],
           "xaxis": "x",
           "y": [
            49998
           ],
           "yaxis": "y"
          },
          {
           "alignmentgroup": "True",
           "hovertemplate": "variable=Guanine<br>Time (s)=0.0005<br>index=%{x}<br>Nucleotides level=%{y}<extra></extra>",
           "legendgroup": "Guanine",
           "marker": {
            "color": "#00cc96",
            "pattern": {
             "shape": ""
            }
           },
           "name": "Guanine",
           "offsetgroup": "Guanine",
           "orientation": "v",
           "showlegend": true,
           "textposition": "auto",
           "type": "bar",
           "x": [
            5
           ],
           "xaxis": "x",
           "y": [
            49999
           ],
           "yaxis": "y"
          },
          {
           "alignmentgroup": "True",
           "hovertemplate": "variable=Cytosine<br>Time (s)=0.0005<br>index=%{x}<br>Nucleotides level=%{y}<extra></extra>",
           "legendgroup": "Cytosine",
           "marker": {
            "color": "#ab63fa",
            "pattern": {
             "shape": ""
            }
           },
           "name": "Cytosine",
           "offsetgroup": "Cytosine",
           "orientation": "v",
           "showlegend": true,
           "textposition": "auto",
           "type": "bar",
           "x": [
            5
           ],
           "xaxis": "x",
           "y": [
            49999
           ],
           "yaxis": "y"
          }
         ],
         "name": "0.0005"
        },
        {
         "data": [
          {
           "alignmentgroup": "True",
           "hovertemplate": "variable=Uracil<br>Time (s)=0.0006000000000000001<br>index=%{x}<br>Nucleotides level=%{y}<extra></extra>",
           "legendgroup": "Uracil",
           "marker": {
            "color": "#636efa",
            "pattern": {
             "shape": ""
            }
           },
           "name": "Uracil",
           "offsetgroup": "Uracil",
           "orientation": "v",
           "showlegend": true,
           "textposition": "auto",
           "type": "bar",
           "x": [
            6
           ],
           "xaxis": "x",
           "y": [
            49999
           ],
           "yaxis": "y"
          },
          {
           "alignmentgroup": "True",
           "hovertemplate": "variable=Adenine<br>Time (s)=0.0006000000000000001<br>index=%{x}<br>Nucleotides level=%{y}<extra></extra>",
           "legendgroup": "Adenine",
           "marker": {
            "color": "#EF553B",
            "pattern": {
             "shape": ""
            }
           },
           "name": "Adenine",
           "offsetgroup": "Adenine",
           "orientation": "v",
           "showlegend": true,
           "textposition": "auto",
           "type": "bar",
           "x": [
            6
           ],
           "xaxis": "x",
           "y": [
            49998
           ],
           "yaxis": "y"
          },
          {
           "alignmentgroup": "True",
           "hovertemplate": "variable=Guanine<br>Time (s)=0.0006000000000000001<br>index=%{x}<br>Nucleotides level=%{y}<extra></extra>",
           "legendgroup": "Guanine",
           "marker": {
            "color": "#00cc96",
            "pattern": {
             "shape": ""
            }
           },
           "name": "Guanine",
           "offsetgroup": "Guanine",
           "orientation": "v",
           "showlegend": true,
           "textposition": "auto",
           "type": "bar",
           "x": [
            6
           ],
           "xaxis": "x",
           "y": [
            49999
           ],
           "yaxis": "y"
          },
          {
           "alignmentgroup": "True",
           "hovertemplate": "variable=Cytosine<br>Time (s)=0.0006000000000000001<br>index=%{x}<br>Nucleotides level=%{y}<extra></extra>",
           "legendgroup": "Cytosine",
           "marker": {
            "color": "#ab63fa",
            "pattern": {
             "shape": ""
            }
           },
           "name": "Cytosine",
           "offsetgroup": "Cytosine",
           "orientation": "v",
           "showlegend": true,
           "textposition": "auto",
           "type": "bar",
           "x": [
            6
           ],
           "xaxis": "x",
           "y": [
            49999
           ],
           "yaxis": "y"
          }
         ],
         "name": "0.0006000000000000001"
        },
        {
         "data": [
          {
           "alignmentgroup": "True",
           "hovertemplate": "variable=Uracil<br>Time (s)=0.0007<br>index=%{x}<br>Nucleotides level=%{y}<extra></extra>",
           "legendgroup": "Uracil",
           "marker": {
            "color": "#636efa",
            "pattern": {
             "shape": ""
            }
           },
           "name": "Uracil",
           "offsetgroup": "Uracil",
           "orientation": "v",
           "showlegend": true,
           "textposition": "auto",
           "type": "bar",
           "x": [
            7
           ],
           "xaxis": "x",
           "y": [
            49999
           ],
           "yaxis": "y"
          },
          {
           "alignmentgroup": "True",
           "hovertemplate": "variable=Adenine<br>Time (s)=0.0007<br>index=%{x}<br>Nucleotides level=%{y}<extra></extra>",
           "legendgroup": "Adenine",
           "marker": {
            "color": "#EF553B",
            "pattern": {
             "shape": ""
            }
           },
           "name": "Adenine",
           "offsetgroup": "Adenine",
           "orientation": "v",
           "showlegend": true,
           "textposition": "auto",
           "type": "bar",
           "x": [
            7
           ],
           "xaxis": "x",
           "y": [
            49998
           ],
           "yaxis": "y"
          },
          {
           "alignmentgroup": "True",
           "hovertemplate": "variable=Guanine<br>Time (s)=0.0007<br>index=%{x}<br>Nucleotides level=%{y}<extra></extra>",
           "legendgroup": "Guanine",
           "marker": {
            "color": "#00cc96",
            "pattern": {
             "shape": ""
            }
           },
           "name": "Guanine",
           "offsetgroup": "Guanine",
           "orientation": "v",
           "showlegend": true,
           "textposition": "auto",
           "type": "bar",
           "x": [
            7
           ],
           "xaxis": "x",
           "y": [
            49999
           ],
           "yaxis": "y"
          },
          {
           "alignmentgroup": "True",
           "hovertemplate": "variable=Cytosine<br>Time (s)=0.0007<br>index=%{x}<br>Nucleotides level=%{y}<extra></extra>",
           "legendgroup": "Cytosine",
           "marker": {
            "color": "#ab63fa",
            "pattern": {
             "shape": ""
            }
           },
           "name": "Cytosine",
           "offsetgroup": "Cytosine",
           "orientation": "v",
           "showlegend": true,
           "textposition": "auto",
           "type": "bar",
           "x": [
            7
           ],
           "xaxis": "x",
           "y": [
            49999
           ],
           "yaxis": "y"
          }
         ],
         "name": "0.0007"
        },
        {
         "data": [
          {
           "alignmentgroup": "True",
           "hovertemplate": "variable=Uracil<br>Time (s)=0.0008<br>index=%{x}<br>Nucleotides level=%{y}<extra></extra>",
           "legendgroup": "Uracil",
           "marker": {
            "color": "#636efa",
            "pattern": {
             "shape": ""
            }
           },
           "name": "Uracil",
           "offsetgroup": "Uracil",
           "orientation": "v",
           "showlegend": true,
           "textposition": "auto",
           "type": "bar",
           "x": [
            8
           ],
           "xaxis": "x",
           "y": [
            49999
           ],
           "yaxis": "y"
          },
          {
           "alignmentgroup": "True",
           "hovertemplate": "variable=Adenine<br>Time (s)=0.0008<br>index=%{x}<br>Nucleotides level=%{y}<extra></extra>",
           "legendgroup": "Adenine",
           "marker": {
            "color": "#EF553B",
            "pattern": {
             "shape": ""
            }
           },
           "name": "Adenine",
           "offsetgroup": "Adenine",
           "orientation": "v",
           "showlegend": true,
           "textposition": "auto",
           "type": "bar",
           "x": [
            8
           ],
           "xaxis": "x",
           "y": [
            49998
           ],
           "yaxis": "y"
          },
          {
           "alignmentgroup": "True",
           "hovertemplate": "variable=Guanine<br>Time (s)=0.0008<br>index=%{x}<br>Nucleotides level=%{y}<extra></extra>",
           "legendgroup": "Guanine",
           "marker": {
            "color": "#00cc96",
            "pattern": {
             "shape": ""
            }
           },
           "name": "Guanine",
           "offsetgroup": "Guanine",
           "orientation": "v",
           "showlegend": true,
           "textposition": "auto",
           "type": "bar",
           "x": [
            8
           ],
           "xaxis": "x",
           "y": [
            49999
           ],
           "yaxis": "y"
          },
          {
           "alignmentgroup": "True",
           "hovertemplate": "variable=Cytosine<br>Time (s)=0.0008<br>index=%{x}<br>Nucleotides level=%{y}<extra></extra>",
           "legendgroup": "Cytosine",
           "marker": {
            "color": "#ab63fa",
            "pattern": {
             "shape": ""
            }
           },
           "name": "Cytosine",
           "offsetgroup": "Cytosine",
           "orientation": "v",
           "showlegend": true,
           "textposition": "auto",
           "type": "bar",
           "x": [
            8
           ],
           "xaxis": "x",
           "y": [
            49999
           ],
           "yaxis": "y"
          }
         ],
         "name": "0.0008"
        },
        {
         "data": [
          {
           "alignmentgroup": "True",
           "hovertemplate": "variable=Uracil<br>Time (s)=0.0009000000000000001<br>index=%{x}<br>Nucleotides level=%{y}<extra></extra>",
           "legendgroup": "Uracil",
           "marker": {
            "color": "#636efa",
            "pattern": {
             "shape": ""
            }
           },
           "name": "Uracil",
           "offsetgroup": "Uracil",
           "orientation": "v",
           "showlegend": true,
           "textposition": "auto",
           "type": "bar",
           "x": [
            9
           ],
           "xaxis": "x",
           "y": [
            49999
           ],
           "yaxis": "y"
          },
          {
           "alignmentgroup": "True",
           "hovertemplate": "variable=Adenine<br>Time (s)=0.0009000000000000001<br>index=%{x}<br>Nucleotides level=%{y}<extra></extra>",
           "legendgroup": "Adenine",
           "marker": {
            "color": "#EF553B",
            "pattern": {
             "shape": ""
            }
           },
           "name": "Adenine",
           "offsetgroup": "Adenine",
           "orientation": "v",
           "showlegend": true,
           "textposition": "auto",
           "type": "bar",
           "x": [
            9
           ],
           "xaxis": "x",
           "y": [
            49998
           ],
           "yaxis": "y"
          },
          {
           "alignmentgroup": "True",
           "hovertemplate": "variable=Guanine<br>Time (s)=0.0009000000000000001<br>index=%{x}<br>Nucleotides level=%{y}<extra></extra>",
           "legendgroup": "Guanine",
           "marker": {
            "color": "#00cc96",
            "pattern": {
             "shape": ""
            }
           },
           "name": "Guanine",
           "offsetgroup": "Guanine",
           "orientation": "v",
           "showlegend": true,
           "textposition": "auto",
           "type": "bar",
           "x": [
            9
           ],
           "xaxis": "x",
           "y": [
            49999
           ],
           "yaxis": "y"
          },
          {
           "alignmentgroup": "True",
           "hovertemplate": "variable=Cytosine<br>Time (s)=0.0009000000000000001<br>index=%{x}<br>Nucleotides level=%{y}<extra></extra>",
           "legendgroup": "Cytosine",
           "marker": {
            "color": "#ab63fa",
            "pattern": {
             "shape": ""
            }
           },
           "name": "Cytosine",
           "offsetgroup": "Cytosine",
           "orientation": "v",
           "showlegend": true,
           "textposition": "auto",
           "type": "bar",
           "x": [
            9
           ],
           "xaxis": "x",
           "y": [
            49999
           ],
           "yaxis": "y"
          }
         ],
         "name": "0.0009000000000000001"
        }
       ],
       "layout": {
        "barmode": "relative",
        "legend": {
         "title": {
          "text": "variable"
         },
         "tracegroupgap": 0
        },
        "sliders": [
         {
          "active": 0,
          "currentvalue": {
           "prefix": "Time (s)="
          },
          "len": 0.9,
          "pad": {
           "b": 10,
           "t": 60
          },
          "steps": [
           {
            "args": [
             [
              "0.0"
             ],
             {
              "frame": {
               "duration": 0,
               "redraw": true
              },
              "fromcurrent": true,
              "mode": "immediate",
              "transition": {
               "duration": 0,
               "easing": "linear"
              }
             }
            ],
            "label": "0.0",
            "method": "animate"
           },
           {
            "args": [
             [
              "0.0001"
             ],
             {
              "frame": {
               "duration": 0,
               "redraw": true
              },
              "fromcurrent": true,
              "mode": "immediate",
              "transition": {
               "duration": 0,
               "easing": "linear"
              }
             }
            ],
            "label": "0.0001",
            "method": "animate"
           },
           {
            "args": [
             [
              "0.0002"
             ],
             {
              "frame": {
               "duration": 0,
               "redraw": true
              },
              "fromcurrent": true,
              "mode": "immediate",
              "transition": {
               "duration": 0,
               "easing": "linear"
              }
             }
            ],
            "label": "0.0002",
            "method": "animate"
           },
           {
            "args": [
             [
              "0.00030000000000000003"
             ],
             {
              "frame": {
               "duration": 0,
               "redraw": true
              },
              "fromcurrent": true,
              "mode": "immediate",
              "transition": {
               "duration": 0,
               "easing": "linear"
              }
             }
            ],
            "label": "0.00030000000000000003",
            "method": "animate"
           },
           {
            "args": [
             [
              "0.0004"
             ],
             {
              "frame": {
               "duration": 0,
               "redraw": true
              },
              "fromcurrent": true,
              "mode": "immediate",
              "transition": {
               "duration": 0,
               "easing": "linear"
              }
             }
            ],
            "label": "0.0004",
            "method": "animate"
           },
           {
            "args": [
             [
              "0.0005"
             ],
             {
              "frame": {
               "duration": 0,
               "redraw": true
              },
              "fromcurrent": true,
              "mode": "immediate",
              "transition": {
               "duration": 0,
               "easing": "linear"
              }
             }
            ],
            "label": "0.0005",
            "method": "animate"
           },
           {
            "args": [
             [
              "0.0006000000000000001"
             ],
             {
              "frame": {
               "duration": 0,
               "redraw": true
              },
              "fromcurrent": true,
              "mode": "immediate",
              "transition": {
               "duration": 0,
               "easing": "linear"
              }
             }
            ],
            "label": "0.0006000000000000001",
            "method": "animate"
           },
           {
            "args": [
             [
              "0.0007"
             ],
             {
              "frame": {
               "duration": 0,
               "redraw": true
              },
              "fromcurrent": true,
              "mode": "immediate",
              "transition": {
               "duration": 0,
               "easing": "linear"
              }
             }
            ],
            "label": "0.0007",
            "method": "animate"
           },
           {
            "args": [
             [
              "0.0008"
             ],
             {
              "frame": {
               "duration": 0,
               "redraw": true
              },
              "fromcurrent": true,
              "mode": "immediate",
              "transition": {
               "duration": 0,
               "easing": "linear"
              }
             }
            ],
            "label": "0.0008",
            "method": "animate"
           },
           {
            "args": [
             [
              "0.0009000000000000001"
             ],
             {
              "frame": {
               "duration": 0,
               "redraw": true
              },
              "fromcurrent": true,
              "mode": "immediate",
              "transition": {
               "duration": 0,
               "easing": "linear"
              }
             }
            ],
            "label": "0.0009000000000000001",
            "method": "animate"
           }
          ],
          "x": 0.1,
          "xanchor": "left",
          "y": 0,
          "yanchor": "top"
         }
        ],
        "template": {
         "data": {
          "bar": [
           {
            "error_x": {
             "color": "#2a3f5f"
            },
            "error_y": {
             "color": "#2a3f5f"
            },
            "marker": {
             "line": {
              "color": "white",
              "width": 0.5
             },
             "pattern": {
              "fillmode": "overlay",
              "size": 10,
              "solidity": 0.2
             }
            },
            "type": "bar"
           }
          ],
          "barpolar": [
           {
            "marker": {
             "line": {
              "color": "white",
              "width": 0.5
             },
             "pattern": {
              "fillmode": "overlay",
              "size": 10,
              "solidity": 0.2
             }
            },
            "type": "barpolar"
           }
          ],
          "carpet": [
           {
            "aaxis": {
             "endlinecolor": "#2a3f5f",
             "gridcolor": "#C8D4E3",
             "linecolor": "#C8D4E3",
             "minorgridcolor": "#C8D4E3",
             "startlinecolor": "#2a3f5f"
            },
            "baxis": {
             "endlinecolor": "#2a3f5f",
             "gridcolor": "#C8D4E3",
             "linecolor": "#C8D4E3",
             "minorgridcolor": "#C8D4E3",
             "startlinecolor": "#2a3f5f"
            },
            "type": "carpet"
           }
          ],
          "choropleth": [
           {
            "colorbar": {
             "outlinewidth": 0,
             "ticks": ""
            },
            "type": "choropleth"
           }
          ],
          "contour": [
           {
            "colorbar": {
             "outlinewidth": 0,
             "ticks": ""
            },
            "colorscale": [
             [
              0,
              "#0d0887"
             ],
             [
              0.1111111111111111,
              "#46039f"
             ],
             [
              0.2222222222222222,
              "#7201a8"
             ],
             [
              0.3333333333333333,
              "#9c179e"
             ],
             [
              0.4444444444444444,
              "#bd3786"
             ],
             [
              0.5555555555555556,
              "#d8576b"
             ],
             [
              0.6666666666666666,
              "#ed7953"
             ],
             [
              0.7777777777777778,
              "#fb9f3a"
             ],
             [
              0.8888888888888888,
              "#fdca26"
             ],
             [
              1,
              "#f0f921"
             ]
            ],
            "type": "contour"
           }
          ],
          "contourcarpet": [
           {
            "colorbar": {
             "outlinewidth": 0,
             "ticks": ""
            },
            "type": "contourcarpet"
           }
          ],
          "heatmap": [
           {
            "colorbar": {
             "outlinewidth": 0,
             "ticks": ""
            },
            "colorscale": [
             [
              0,
              "#0d0887"
             ],
             [
              0.1111111111111111,
              "#46039f"
             ],
             [
              0.2222222222222222,
              "#7201a8"
             ],
             [
              0.3333333333333333,
              "#9c179e"
             ],
             [
              0.4444444444444444,
              "#bd3786"
             ],
             [
              0.5555555555555556,
              "#d8576b"
             ],
             [
              0.6666666666666666,
              "#ed7953"
             ],
             [
              0.7777777777777778,
              "#fb9f3a"
             ],
             [
              0.8888888888888888,
              "#fdca26"
             ],
             [
              1,
              "#f0f921"
             ]
            ],
            "type": "heatmap"
           }
          ],
          "heatmapgl": [
           {
            "colorbar": {
             "outlinewidth": 0,
             "ticks": ""
            },
            "colorscale": [
             [
              0,
              "#0d0887"
             ],
             [
              0.1111111111111111,
              "#46039f"
             ],
             [
              0.2222222222222222,
              "#7201a8"
             ],
             [
              0.3333333333333333,
              "#9c179e"
             ],
             [
              0.4444444444444444,
              "#bd3786"
             ],
             [
              0.5555555555555556,
              "#d8576b"
             ],
             [
              0.6666666666666666,
              "#ed7953"
             ],
             [
              0.7777777777777778,
              "#fb9f3a"
             ],
             [
              0.8888888888888888,
              "#fdca26"
             ],
             [
              1,
              "#f0f921"
             ]
            ],
            "type": "heatmapgl"
           }
          ],
          "histogram": [
           {
            "marker": {
             "pattern": {
              "fillmode": "overlay",
              "size": 10,
              "solidity": 0.2
             }
            },
            "type": "histogram"
           }
          ],
          "histogram2d": [
           {
            "colorbar": {
             "outlinewidth": 0,
             "ticks": ""
            },
            "colorscale": [
             [
              0,
              "#0d0887"
             ],
             [
              0.1111111111111111,
              "#46039f"
             ],
             [
              0.2222222222222222,
              "#7201a8"
             ],
             [
              0.3333333333333333,
              "#9c179e"
             ],
             [
              0.4444444444444444,
              "#bd3786"
             ],
             [
              0.5555555555555556,
              "#d8576b"
             ],
             [
              0.6666666666666666,
              "#ed7953"
             ],
             [
              0.7777777777777778,
              "#fb9f3a"
             ],
             [
              0.8888888888888888,
              "#fdca26"
             ],
             [
              1,
              "#f0f921"
             ]
            ],
            "type": "histogram2d"
           }
          ],
          "histogram2dcontour": [
           {
            "colorbar": {
             "outlinewidth": 0,
             "ticks": ""
            },
            "colorscale": [
             [
              0,
              "#0d0887"
             ],
             [
              0.1111111111111111,
              "#46039f"
             ],
             [
              0.2222222222222222,
              "#7201a8"
             ],
             [
              0.3333333333333333,
              "#9c179e"
             ],
             [
              0.4444444444444444,
              "#bd3786"
             ],
             [
              0.5555555555555556,
              "#d8576b"
             ],
             [
              0.6666666666666666,
              "#ed7953"
             ],
             [
              0.7777777777777778,
              "#fb9f3a"
             ],
             [
              0.8888888888888888,
              "#fdca26"
             ],
             [
              1,
              "#f0f921"
             ]
            ],
            "type": "histogram2dcontour"
           }
          ],
          "mesh3d": [
           {
            "colorbar": {
             "outlinewidth": 0,
             "ticks": ""
            },
            "type": "mesh3d"
           }
          ],
          "parcoords": [
           {
            "line": {
             "colorbar": {
              "outlinewidth": 0,
              "ticks": ""
             }
            },
            "type": "parcoords"
           }
          ],
          "pie": [
           {
            "automargin": true,
            "type": "pie"
           }
          ],
          "scatter": [
           {
            "fillpattern": {
             "fillmode": "overlay",
             "size": 10,
             "solidity": 0.2
            },
            "type": "scatter"
           }
          ],
          "scatter3d": [
           {
            "line": {
             "colorbar": {
              "outlinewidth": 0,
              "ticks": ""
             }
            },
            "marker": {
             "colorbar": {
              "outlinewidth": 0,
              "ticks": ""
             }
            },
            "type": "scatter3d"
           }
          ],
          "scattercarpet": [
           {
            "marker": {
             "colorbar": {
              "outlinewidth": 0,
              "ticks": ""
             }
            },
            "type": "scattercarpet"
           }
          ],
          "scattergeo": [
           {
            "marker": {
             "colorbar": {
              "outlinewidth": 0,
              "ticks": ""
             }
            },
            "type": "scattergeo"
           }
          ],
          "scattergl": [
           {
            "marker": {
             "colorbar": {
              "outlinewidth": 0,
              "ticks": ""
             }
            },
            "type": "scattergl"
           }
          ],
          "scattermapbox": [
           {
            "marker": {
             "colorbar": {
              "outlinewidth": 0,
              "ticks": ""
             }
            },
            "type": "scattermapbox"
           }
          ],
          "scatterpolar": [
           {
            "marker": {
             "colorbar": {
              "outlinewidth": 0,
              "ticks": ""
             }
            },
            "type": "scatterpolar"
           }
          ],
          "scatterpolargl": [
           {
            "marker": {
             "colorbar": {
              "outlinewidth": 0,
              "ticks": ""
             }
            },
            "type": "scatterpolargl"
           }
          ],
          "scatterternary": [
           {
            "marker": {
             "colorbar": {
              "outlinewidth": 0,
              "ticks": ""
             }
            },
            "type": "scatterternary"
           }
          ],
          "surface": [
           {
            "colorbar": {
             "outlinewidth": 0,
             "ticks": ""
            },
            "colorscale": [
             [
              0,
              "#0d0887"
             ],
             [
              0.1111111111111111,
              "#46039f"
             ],
             [
              0.2222222222222222,
              "#7201a8"
             ],
             [
              0.3333333333333333,
              "#9c179e"
             ],
             [
              0.4444444444444444,
              "#bd3786"
             ],
             [
              0.5555555555555556,
              "#d8576b"
             ],
             [
              0.6666666666666666,
              "#ed7953"
             ],
             [
              0.7777777777777778,
              "#fb9f3a"
             ],
             [
              0.8888888888888888,
              "#fdca26"
             ],
             [
              1,
              "#f0f921"
             ]
            ],
            "type": "surface"
           }
          ],
          "table": [
           {
            "cells": {
             "fill": {
              "color": "#EBF0F8"
             },
             "line": {
              "color": "white"
             }
            },
            "header": {
             "fill": {
              "color": "#C8D4E3"
             },
             "line": {
              "color": "white"
             }
            },
            "type": "table"
           }
          ]
         },
         "layout": {
          "annotationdefaults": {
           "arrowcolor": "#2a3f5f",
           "arrowhead": 0,
           "arrowwidth": 1
          },
          "autotypenumbers": "strict",
          "coloraxis": {
           "colorbar": {
            "outlinewidth": 0,
            "ticks": ""
           }
          },
          "colorscale": {
           "diverging": [
            [
             0,
             "#8e0152"
            ],
            [
             0.1,
             "#c51b7d"
            ],
            [
             0.2,
             "#de77ae"
            ],
            [
             0.3,
             "#f1b6da"
            ],
            [
             0.4,
             "#fde0ef"
            ],
            [
             0.5,
             "#f7f7f7"
            ],
            [
             0.6,
             "#e6f5d0"
            ],
            [
             0.7,
             "#b8e186"
            ],
            [
             0.8,
             "#7fbc41"
            ],
            [
             0.9,
             "#4d9221"
            ],
            [
             1,
             "#276419"
            ]
           ],
           "sequential": [
            [
             0,
             "#0d0887"
            ],
            [
             0.1111111111111111,
             "#46039f"
            ],
            [
             0.2222222222222222,
             "#7201a8"
            ],
            [
             0.3333333333333333,
             "#9c179e"
            ],
            [
             0.4444444444444444,
             "#bd3786"
            ],
            [
             0.5555555555555556,
             "#d8576b"
            ],
            [
             0.6666666666666666,
             "#ed7953"
            ],
            [
             0.7777777777777778,
             "#fb9f3a"
            ],
            [
             0.8888888888888888,
             "#fdca26"
            ],
            [
             1,
             "#f0f921"
            ]
           ],
           "sequentialminus": [
            [
             0,
             "#0d0887"
            ],
            [
             0.1111111111111111,
             "#46039f"
            ],
            [
             0.2222222222222222,
             "#7201a8"
            ],
            [
             0.3333333333333333,
             "#9c179e"
            ],
            [
             0.4444444444444444,
             "#bd3786"
            ],
            [
             0.5555555555555556,
             "#d8576b"
            ],
            [
             0.6666666666666666,
             "#ed7953"
            ],
            [
             0.7777777777777778,
             "#fb9f3a"
            ],
            [
             0.8888888888888888,
             "#fdca26"
            ],
            [
             1,
             "#f0f921"
            ]
           ]
          },
          "colorway": [
           "#636efa",
           "#EF553B",
           "#00cc96",
           "#ab63fa",
           "#FFA15A",
           "#19d3f3",
           "#FF6692",
           "#B6E880",
           "#FF97FF",
           "#FECB52"
          ],
          "font": {
           "color": "#2a3f5f"
          },
          "geo": {
           "bgcolor": "white",
           "lakecolor": "white",
           "landcolor": "white",
           "showlakes": true,
           "showland": true,
           "subunitcolor": "#C8D4E3"
          },
          "hoverlabel": {
           "align": "left"
          },
          "hovermode": "closest",
          "mapbox": {
           "style": "light"
          },
          "paper_bgcolor": "white",
          "plot_bgcolor": "white",
          "polar": {
           "angularaxis": {
            "gridcolor": "#EBF0F8",
            "linecolor": "#EBF0F8",
            "ticks": ""
           },
           "bgcolor": "white",
           "radialaxis": {
            "gridcolor": "#EBF0F8",
            "linecolor": "#EBF0F8",
            "ticks": ""
           }
          },
          "scene": {
           "xaxis": {
            "backgroundcolor": "white",
            "gridcolor": "#DFE8F3",
            "gridwidth": 2,
            "linecolor": "#EBF0F8",
            "showbackground": true,
            "ticks": "",
            "zerolinecolor": "#EBF0F8"
           },
           "yaxis": {
            "backgroundcolor": "white",
            "gridcolor": "#DFE8F3",
            "gridwidth": 2,
            "linecolor": "#EBF0F8",
            "showbackground": true,
            "ticks": "",
            "zerolinecolor": "#EBF0F8"
           },
           "zaxis": {
            "backgroundcolor": "white",
            "gridcolor": "#DFE8F3",
            "gridwidth": 2,
            "linecolor": "#EBF0F8",
            "showbackground": true,
            "ticks": "",
            "zerolinecolor": "#EBF0F8"
           }
          },
          "shapedefaults": {
           "line": {
            "color": "#2a3f5f"
           }
          },
          "ternary": {
           "aaxis": {
            "gridcolor": "#DFE8F3",
            "linecolor": "#A2B1C6",
            "ticks": ""
           },
           "baxis": {
            "gridcolor": "#DFE8F3",
            "linecolor": "#A2B1C6",
            "ticks": ""
           },
           "bgcolor": "white",
           "caxis": {
            "gridcolor": "#DFE8F3",
            "linecolor": "#A2B1C6",
            "ticks": ""
           }
          },
          "title": {
           "x": 0.05
          },
          "xaxis": {
           "automargin": true,
           "gridcolor": "#EBF0F8",
           "linecolor": "#EBF0F8",
           "ticks": "",
           "title": {
            "standoff": 15
           },
           "zerolinecolor": "#EBF0F8",
           "zerolinewidth": 2
          },
          "yaxis": {
           "automargin": true,
           "gridcolor": "#EBF0F8",
           "linecolor": "#EBF0F8",
           "ticks": "",
           "title": {
            "standoff": 15
           },
           "zerolinecolor": "#EBF0F8",
           "zerolinewidth": 2
          }
         }
        },
        "title": {
         "text": "Nucleotides levels over time"
        },
        "updatemenus": [
         {
          "buttons": [
           {
            "args": [
             null,
             {
              "frame": {
               "duration": 500,
               "redraw": true
              },
              "fromcurrent": true,
              "mode": "immediate",
              "transition": {
               "duration": 500,
               "easing": "linear"
              }
             }
            ],
            "label": "&#9654;",
            "method": "animate"
           },
           {
            "args": [
             [
              null
             ],
             {
              "frame": {
               "duration": 0,
               "redraw": true
              },
              "fromcurrent": true,
              "mode": "immediate",
              "transition": {
               "duration": 0,
               "easing": "linear"
              }
             }
            ],
            "label": "&#9724;",
            "method": "animate"
           }
          ],
          "direction": "left",
          "pad": {
           "r": 10,
           "t": 70
          },
          "showactive": false,
          "type": "buttons",
          "x": 0.1,
          "xanchor": "right",
          "y": 0,
          "yanchor": "top"
         }
        ],
        "xaxis": {
         "anchor": "y",
         "domain": [
          0,
          1
         ],
         "title": {
          "text": "index"
         }
        },
        "yaxis": {
         "anchor": "x",
         "domain": [
          0,
          1
         ],
         "title": {
          "text": "Nucleotides level"
         }
        }
       }
      }
     },
     "metadata": {},
     "output_type": "display_data"
    }
   ],
   "source": [
    "barplot_nucleotide_level_over_time(\n",
    "    uracil_dict, adenine_dict, guanine_dict, cytosine_dict)"
   ]
  },
  {
   "cell_type": "code",
   "execution_count": 17,
   "metadata": {},
   "outputs": [],
   "source": [
    "import numpy as np\n",
    "import plotly.express as px\n",
    "TIME_UNIT = 0.01\n",
    "\n",
    "def _level_series_over_time(nucleotide_dict):\n",
    "    levels_list = nucleotide_dict['level']\n",
    "    time_list = nucleotide_dict['time']\n",
    "\n",
    "    levels = [levels_list[0]]\n",
    "    current_time = 0\n",
    "    for level, time in zip(levels_list[1:], time_list[1:]):\n",
    "        delta_t = np.round(time - current_time, 4)\n",
    "        time_steps = int(delta_t / TIME_UNIT)\n",
    "        levels.extend([level] * time_steps)\n",
    "        current_time = time\n",
    "\n",
    "    return levels\n",
    "\n",
    "def barplot_nucleotide_level_over_time1(uracil_dict, adenine_dict, guanine_dict, cytosine_dict):\n",
    "    uracil_levels = _level_series_over_time(uracil_dict)\n",
    "    adenine_levels = _level_series_over_time(adenine_dict)\n",
    "    guanine_levels = _level_series_over_time(guanine_dict)\n",
    "    cytosine_levels = _level_series_over_time(cytosine_dict)\n",
    "\n",
    "    len_min = min(len(uracil_levels), len(adenine_levels), len(guanine_levels), len(cytosine_levels))\n",
    "    len_min=10\n",
    "\n",
    "    df = pd.DataFrame({\n",
    "        'time': np.arange(0, len_min*TIME_UNIT, TIME_UNIT),\n",
    "        'Uracil': uracil_levels[:len_min],\n",
    "        'Adenine': adenine_levels[:len_min],\n",
    "        'Guanine': guanine_levels[:len_min],\n",
    "        'Cytosine': cytosine_levels[:len_min]\n",
    "        })\n",
    "    \n",
    "    fig = px.bar(df,\n",
    "        x=['Uracil', 'Adenine', 'Guanine', 'Cytosine'],\n",
    "        animation_frame='time',\n",
    "        title='Nucleotides levels over time',\n",
    "        labels={'value': 'Nucleotides level', 'time': 'Time (s)'},\n",
    "        template='plotly_white')\n",
    "    fig.show()"
   ]
  },
  {
   "cell_type": "code",
   "execution_count": 18,
   "metadata": {},
   "outputs": [
    {
     "data": {
      "application/vnd.plotly.v1+json": {
       "config": {
        "plotlyServerURL": "https://plot.ly"
       },
       "data": [
        {
         "alignmentgroup": "True",
         "hovertemplate": "variable=Uracil<br>Time (s)=0.0<br>Nucleotides level=%{x}<br>index=%{y}<extra></extra>",
         "legendgroup": "Uracil",
         "marker": {
          "color": "#636efa",
          "pattern": {
           "shape": ""
          }
         },
         "name": "Uracil",
         "offsetgroup": "Uracil",
         "orientation": "h",
         "showlegend": true,
         "textposition": "auto",
         "type": "bar",
         "x": [
          50000
         ],
         "xaxis": "x",
         "y": [
          0
         ],
         "yaxis": "y"
        },
        {
         "alignmentgroup": "True",
         "hovertemplate": "variable=Adenine<br>Time (s)=0.0<br>Nucleotides level=%{x}<br>index=%{y}<extra></extra>",
         "legendgroup": "Adenine",
         "marker": {
          "color": "#EF553B",
          "pattern": {
           "shape": ""
          }
         },
         "name": "Adenine",
         "offsetgroup": "Adenine",
         "orientation": "h",
         "showlegend": true,
         "textposition": "auto",
         "type": "bar",
         "x": [
          50000
         ],
         "xaxis": "x",
         "y": [
          0
         ],
         "yaxis": "y"
        },
        {
         "alignmentgroup": "True",
         "hovertemplate": "variable=Guanine<br>Time (s)=0.0<br>Nucleotides level=%{x}<br>index=%{y}<extra></extra>",
         "legendgroup": "Guanine",
         "marker": {
          "color": "#00cc96",
          "pattern": {
           "shape": ""
          }
         },
         "name": "Guanine",
         "offsetgroup": "Guanine",
         "orientation": "h",
         "showlegend": true,
         "textposition": "auto",
         "type": "bar",
         "x": [
          50000
         ],
         "xaxis": "x",
         "y": [
          0
         ],
         "yaxis": "y"
        },
        {
         "alignmentgroup": "True",
         "hovertemplate": "variable=Cytosine<br>Time (s)=0.0<br>Nucleotides level=%{x}<br>index=%{y}<extra></extra>",
         "legendgroup": "Cytosine",
         "marker": {
          "color": "#ab63fa",
          "pattern": {
           "shape": ""
          }
         },
         "name": "Cytosine",
         "offsetgroup": "Cytosine",
         "orientation": "h",
         "showlegend": true,
         "textposition": "auto",
         "type": "bar",
         "x": [
          50000
         ],
         "xaxis": "x",
         "y": [
          0
         ],
         "yaxis": "y"
        }
       ],
       "frames": [
        {
         "data": [
          {
           "alignmentgroup": "True",
           "hovertemplate": "variable=Uracil<br>Time (s)=0.0<br>Nucleotides level=%{x}<br>index=%{y}<extra></extra>",
           "legendgroup": "Uracil",
           "marker": {
            "color": "#636efa",
            "pattern": {
             "shape": ""
            }
           },
           "name": "Uracil",
           "offsetgroup": "Uracil",
           "orientation": "h",
           "showlegend": true,
           "textposition": "auto",
           "type": "bar",
           "x": [
            50000
           ],
           "xaxis": "x",
           "y": [
            0
           ],
           "yaxis": "y"
          },
          {
           "alignmentgroup": "True",
           "hovertemplate": "variable=Adenine<br>Time (s)=0.0<br>Nucleotides level=%{x}<br>index=%{y}<extra></extra>",
           "legendgroup": "Adenine",
           "marker": {
            "color": "#EF553B",
            "pattern": {
             "shape": ""
            }
           },
           "name": "Adenine",
           "offsetgroup": "Adenine",
           "orientation": "h",
           "showlegend": true,
           "textposition": "auto",
           "type": "bar",
           "x": [
            50000
           ],
           "xaxis": "x",
           "y": [
            0
           ],
           "yaxis": "y"
          },
          {
           "alignmentgroup": "True",
           "hovertemplate": "variable=Guanine<br>Time (s)=0.0<br>Nucleotides level=%{x}<br>index=%{y}<extra></extra>",
           "legendgroup": "Guanine",
           "marker": {
            "color": "#00cc96",
            "pattern": {
             "shape": ""
            }
           },
           "name": "Guanine",
           "offsetgroup": "Guanine",
           "orientation": "h",
           "showlegend": true,
           "textposition": "auto",
           "type": "bar",
           "x": [
            50000
           ],
           "xaxis": "x",
           "y": [
            0
           ],
           "yaxis": "y"
          },
          {
           "alignmentgroup": "True",
           "hovertemplate": "variable=Cytosine<br>Time (s)=0.0<br>Nucleotides level=%{x}<br>index=%{y}<extra></extra>",
           "legendgroup": "Cytosine",
           "marker": {
            "color": "#ab63fa",
            "pattern": {
             "shape": ""
            }
           },
           "name": "Cytosine",
           "offsetgroup": "Cytosine",
           "orientation": "h",
           "showlegend": true,
           "textposition": "auto",
           "type": "bar",
           "x": [
            50000
           ],
           "xaxis": "x",
           "y": [
            0
           ],
           "yaxis": "y"
          }
         ],
         "name": "0.0"
        },
        {
         "data": [
          {
           "alignmentgroup": "True",
           "hovertemplate": "variable=Uracil<br>Time (s)=0.01<br>Nucleotides level=%{x}<br>index=%{y}<extra></extra>",
           "legendgroup": "Uracil",
           "marker": {
            "color": "#636efa",
            "pattern": {
             "shape": ""
            }
           },
           "name": "Uracil",
           "offsetgroup": "Uracil",
           "orientation": "h",
           "showlegend": true,
           "textposition": "auto",
           "type": "bar",
           "x": [
            49999
           ],
           "xaxis": "x",
           "y": [
            1
           ],
           "yaxis": "y"
          },
          {
           "alignmentgroup": "True",
           "hovertemplate": "variable=Adenine<br>Time (s)=0.01<br>Nucleotides level=%{x}<br>index=%{y}<extra></extra>",
           "legendgroup": "Adenine",
           "marker": {
            "color": "#EF553B",
            "pattern": {
             "shape": ""
            }
           },
           "name": "Adenine",
           "offsetgroup": "Adenine",
           "orientation": "h",
           "showlegend": true,
           "textposition": "auto",
           "type": "bar",
           "x": [
            49998
           ],
           "xaxis": "x",
           "y": [
            1
           ],
           "yaxis": "y"
          },
          {
           "alignmentgroup": "True",
           "hovertemplate": "variable=Guanine<br>Time (s)=0.01<br>Nucleotides level=%{x}<br>index=%{y}<extra></extra>",
           "legendgroup": "Guanine",
           "marker": {
            "color": "#00cc96",
            "pattern": {
             "shape": ""
            }
           },
           "name": "Guanine",
           "offsetgroup": "Guanine",
           "orientation": "h",
           "showlegend": true,
           "textposition": "auto",
           "type": "bar",
           "x": [
            49999
           ],
           "xaxis": "x",
           "y": [
            1
           ],
           "yaxis": "y"
          },
          {
           "alignmentgroup": "True",
           "hovertemplate": "variable=Cytosine<br>Time (s)=0.01<br>Nucleotides level=%{x}<br>index=%{y}<extra></extra>",
           "legendgroup": "Cytosine",
           "marker": {
            "color": "#ab63fa",
            "pattern": {
             "shape": ""
            }
           },
           "name": "Cytosine",
           "offsetgroup": "Cytosine",
           "orientation": "h",
           "showlegend": true,
           "textposition": "auto",
           "type": "bar",
           "x": [
            49999
           ],
           "xaxis": "x",
           "y": [
            1
           ],
           "yaxis": "y"
          }
         ],
         "name": "0.01"
        },
        {
         "data": [
          {
           "alignmentgroup": "True",
           "hovertemplate": "variable=Uracil<br>Time (s)=0.02<br>Nucleotides level=%{x}<br>index=%{y}<extra></extra>",
           "legendgroup": "Uracil",
           "marker": {
            "color": "#636efa",
            "pattern": {
             "shape": ""
            }
           },
           "name": "Uracil",
           "offsetgroup": "Uracil",
           "orientation": "h",
           "showlegend": true,
           "textposition": "auto",
           "type": "bar",
           "x": [
            49999
           ],
           "xaxis": "x",
           "y": [
            2
           ],
           "yaxis": "y"
          },
          {
           "alignmentgroup": "True",
           "hovertemplate": "variable=Adenine<br>Time (s)=0.02<br>Nucleotides level=%{x}<br>index=%{y}<extra></extra>",
           "legendgroup": "Adenine",
           "marker": {
            "color": "#EF553B",
            "pattern": {
             "shape": ""
            }
           },
           "name": "Adenine",
           "offsetgroup": "Adenine",
           "orientation": "h",
           "showlegend": true,
           "textposition": "auto",
           "type": "bar",
           "x": [
            49998
           ],
           "xaxis": "x",
           "y": [
            2
           ],
           "yaxis": "y"
          },
          {
           "alignmentgroup": "True",
           "hovertemplate": "variable=Guanine<br>Time (s)=0.02<br>Nucleotides level=%{x}<br>index=%{y}<extra></extra>",
           "legendgroup": "Guanine",
           "marker": {
            "color": "#00cc96",
            "pattern": {
             "shape": ""
            }
           },
           "name": "Guanine",
           "offsetgroup": "Guanine",
           "orientation": "h",
           "showlegend": true,
           "textposition": "auto",
           "type": "bar",
           "x": [
            49999
           ],
           "xaxis": "x",
           "y": [
            2
           ],
           "yaxis": "y"
          },
          {
           "alignmentgroup": "True",
           "hovertemplate": "variable=Cytosine<br>Time (s)=0.02<br>Nucleotides level=%{x}<br>index=%{y}<extra></extra>",
           "legendgroup": "Cytosine",
           "marker": {
            "color": "#ab63fa",
            "pattern": {
             "shape": ""
            }
           },
           "name": "Cytosine",
           "offsetgroup": "Cytosine",
           "orientation": "h",
           "showlegend": true,
           "textposition": "auto",
           "type": "bar",
           "x": [
            49999
           ],
           "xaxis": "x",
           "y": [
            2
           ],
           "yaxis": "y"
          }
         ],
         "name": "0.02"
        },
        {
         "data": [
          {
           "alignmentgroup": "True",
           "hovertemplate": "variable=Uracil<br>Time (s)=0.03<br>Nucleotides level=%{x}<br>index=%{y}<extra></extra>",
           "legendgroup": "Uracil",
           "marker": {
            "color": "#636efa",
            "pattern": {
             "shape": ""
            }
           },
           "name": "Uracil",
           "offsetgroup": "Uracil",
           "orientation": "h",
           "showlegend": true,
           "textposition": "auto",
           "type": "bar",
           "x": [
            49999
           ],
           "xaxis": "x",
           "y": [
            3
           ],
           "yaxis": "y"
          },
          {
           "alignmentgroup": "True",
           "hovertemplate": "variable=Adenine<br>Time (s)=0.03<br>Nucleotides level=%{x}<br>index=%{y}<extra></extra>",
           "legendgroup": "Adenine",
           "marker": {
            "color": "#EF553B",
            "pattern": {
             "shape": ""
            }
           },
           "name": "Adenine",
           "offsetgroup": "Adenine",
           "orientation": "h",
           "showlegend": true,
           "textposition": "auto",
           "type": "bar",
           "x": [
            49998
           ],
           "xaxis": "x",
           "y": [
            3
           ],
           "yaxis": "y"
          },
          {
           "alignmentgroup": "True",
           "hovertemplate": "variable=Guanine<br>Time (s)=0.03<br>Nucleotides level=%{x}<br>index=%{y}<extra></extra>",
           "legendgroup": "Guanine",
           "marker": {
            "color": "#00cc96",
            "pattern": {
             "shape": ""
            }
           },
           "name": "Guanine",
           "offsetgroup": "Guanine",
           "orientation": "h",
           "showlegend": true,
           "textposition": "auto",
           "type": "bar",
           "x": [
            49999
           ],
           "xaxis": "x",
           "y": [
            3
           ],
           "yaxis": "y"
          },
          {
           "alignmentgroup": "True",
           "hovertemplate": "variable=Cytosine<br>Time (s)=0.03<br>Nucleotides level=%{x}<br>index=%{y}<extra></extra>",
           "legendgroup": "Cytosine",
           "marker": {
            "color": "#ab63fa",
            "pattern": {
             "shape": ""
            }
           },
           "name": "Cytosine",
           "offsetgroup": "Cytosine",
           "orientation": "h",
           "showlegend": true,
           "textposition": "auto",
           "type": "bar",
           "x": [
            49998
           ],
           "xaxis": "x",
           "y": [
            3
           ],
           "yaxis": "y"
          }
         ],
         "name": "0.03"
        },
        {
         "data": [
          {
           "alignmentgroup": "True",
           "hovertemplate": "variable=Uracil<br>Time (s)=0.04<br>Nucleotides level=%{x}<br>index=%{y}<extra></extra>",
           "legendgroup": "Uracil",
           "marker": {
            "color": "#636efa",
            "pattern": {
             "shape": ""
            }
           },
           "name": "Uracil",
           "offsetgroup": "Uracil",
           "orientation": "h",
           "showlegend": true,
           "textposition": "auto",
           "type": "bar",
           "x": [
            49999
           ],
           "xaxis": "x",
           "y": [
            4
           ],
           "yaxis": "y"
          },
          {
           "alignmentgroup": "True",
           "hovertemplate": "variable=Adenine<br>Time (s)=0.04<br>Nucleotides level=%{x}<br>index=%{y}<extra></extra>",
           "legendgroup": "Adenine",
           "marker": {
            "color": "#EF553B",
            "pattern": {
             "shape": ""
            }
           },
           "name": "Adenine",
           "offsetgroup": "Adenine",
           "orientation": "h",
           "showlegend": true,
           "textposition": "auto",
           "type": "bar",
           "x": [
            49998
           ],
           "xaxis": "x",
           "y": [
            4
           ],
           "yaxis": "y"
          },
          {
           "alignmentgroup": "True",
           "hovertemplate": "variable=Guanine<br>Time (s)=0.04<br>Nucleotides level=%{x}<br>index=%{y}<extra></extra>",
           "legendgroup": "Guanine",
           "marker": {
            "color": "#00cc96",
            "pattern": {
             "shape": ""
            }
           },
           "name": "Guanine",
           "offsetgroup": "Guanine",
           "orientation": "h",
           "showlegend": true,
           "textposition": "auto",
           "type": "bar",
           "x": [
            49999
           ],
           "xaxis": "x",
           "y": [
            4
           ],
           "yaxis": "y"
          },
          {
           "alignmentgroup": "True",
           "hovertemplate": "variable=Cytosine<br>Time (s)=0.04<br>Nucleotides level=%{x}<br>index=%{y}<extra></extra>",
           "legendgroup": "Cytosine",
           "marker": {
            "color": "#ab63fa",
            "pattern": {
             "shape": ""
            }
           },
           "name": "Cytosine",
           "offsetgroup": "Cytosine",
           "orientation": "h",
           "showlegend": true,
           "textposition": "auto",
           "type": "bar",
           "x": [
            49998
           ],
           "xaxis": "x",
           "y": [
            4
           ],
           "yaxis": "y"
          }
         ],
         "name": "0.04"
        },
        {
         "data": [
          {
           "alignmentgroup": "True",
           "hovertemplate": "variable=Uracil<br>Time (s)=0.05<br>Nucleotides level=%{x}<br>index=%{y}<extra></extra>",
           "legendgroup": "Uracil",
           "marker": {
            "color": "#636efa",
            "pattern": {
             "shape": ""
            }
           },
           "name": "Uracil",
           "offsetgroup": "Uracil",
           "orientation": "h",
           "showlegend": true,
           "textposition": "auto",
           "type": "bar",
           "x": [
            49999
           ],
           "xaxis": "x",
           "y": [
            5
           ],
           "yaxis": "y"
          },
          {
           "alignmentgroup": "True",
           "hovertemplate": "variable=Adenine<br>Time (s)=0.05<br>Nucleotides level=%{x}<br>index=%{y}<extra></extra>",
           "legendgroup": "Adenine",
           "marker": {
            "color": "#EF553B",
            "pattern": {
             "shape": ""
            }
           },
           "name": "Adenine",
           "offsetgroup": "Adenine",
           "orientation": "h",
           "showlegend": true,
           "textposition": "auto",
           "type": "bar",
           "x": [
            49997
           ],
           "xaxis": "x",
           "y": [
            5
           ],
           "yaxis": "y"
          },
          {
           "alignmentgroup": "True",
           "hovertemplate": "variable=Guanine<br>Time (s)=0.05<br>Nucleotides level=%{x}<br>index=%{y}<extra></extra>",
           "legendgroup": "Guanine",
           "marker": {
            "color": "#00cc96",
            "pattern": {
             "shape": ""
            }
           },
           "name": "Guanine",
           "offsetgroup": "Guanine",
           "orientation": "h",
           "showlegend": true,
           "textposition": "auto",
           "type": "bar",
           "x": [
            49999
           ],
           "xaxis": "x",
           "y": [
            5
           ],
           "yaxis": "y"
          },
          {
           "alignmentgroup": "True",
           "hovertemplate": "variable=Cytosine<br>Time (s)=0.05<br>Nucleotides level=%{x}<br>index=%{y}<extra></extra>",
           "legendgroup": "Cytosine",
           "marker": {
            "color": "#ab63fa",
            "pattern": {
             "shape": ""
            }
           },
           "name": "Cytosine",
           "offsetgroup": "Cytosine",
           "orientation": "h",
           "showlegend": true,
           "textposition": "auto",
           "type": "bar",
           "x": [
            49998
           ],
           "xaxis": "x",
           "y": [
            5
           ],
           "yaxis": "y"
          }
         ],
         "name": "0.05"
        },
        {
         "data": [
          {
           "alignmentgroup": "True",
           "hovertemplate": "variable=Uracil<br>Time (s)=0.06<br>Nucleotides level=%{x}<br>index=%{y}<extra></extra>",
           "legendgroup": "Uracil",
           "marker": {
            "color": "#636efa",
            "pattern": {
             "shape": ""
            }
           },
           "name": "Uracil",
           "offsetgroup": "Uracil",
           "orientation": "h",
           "showlegend": true,
           "textposition": "auto",
           "type": "bar",
           "x": [
            49999
           ],
           "xaxis": "x",
           "y": [
            6
           ],
           "yaxis": "y"
          },
          {
           "alignmentgroup": "True",
           "hovertemplate": "variable=Adenine<br>Time (s)=0.06<br>Nucleotides level=%{x}<br>index=%{y}<extra></extra>",
           "legendgroup": "Adenine",
           "marker": {
            "color": "#EF553B",
            "pattern": {
             "shape": ""
            }
           },
           "name": "Adenine",
           "offsetgroup": "Adenine",
           "orientation": "h",
           "showlegend": true,
           "textposition": "auto",
           "type": "bar",
           "x": [
            49997
           ],
           "xaxis": "x",
           "y": [
            6
           ],
           "yaxis": "y"
          },
          {
           "alignmentgroup": "True",
           "hovertemplate": "variable=Guanine<br>Time (s)=0.06<br>Nucleotides level=%{x}<br>index=%{y}<extra></extra>",
           "legendgroup": "Guanine",
           "marker": {
            "color": "#00cc96",
            "pattern": {
             "shape": ""
            }
           },
           "name": "Guanine",
           "offsetgroup": "Guanine",
           "orientation": "h",
           "showlegend": true,
           "textposition": "auto",
           "type": "bar",
           "x": [
            49999
           ],
           "xaxis": "x",
           "y": [
            6
           ],
           "yaxis": "y"
          },
          {
           "alignmentgroup": "True",
           "hovertemplate": "variable=Cytosine<br>Time (s)=0.06<br>Nucleotides level=%{x}<br>index=%{y}<extra></extra>",
           "legendgroup": "Cytosine",
           "marker": {
            "color": "#ab63fa",
            "pattern": {
             "shape": ""
            }
           },
           "name": "Cytosine",
           "offsetgroup": "Cytosine",
           "orientation": "h",
           "showlegend": true,
           "textposition": "auto",
           "type": "bar",
           "x": [
            49998
           ],
           "xaxis": "x",
           "y": [
            6
           ],
           "yaxis": "y"
          }
         ],
         "name": "0.06"
        },
        {
         "data": [
          {
           "alignmentgroup": "True",
           "hovertemplate": "variable=Uracil<br>Time (s)=0.07<br>Nucleotides level=%{x}<br>index=%{y}<extra></extra>",
           "legendgroup": "Uracil",
           "marker": {
            "color": "#636efa",
            "pattern": {
             "shape": ""
            }
           },
           "name": "Uracil",
           "offsetgroup": "Uracil",
           "orientation": "h",
           "showlegend": true,
           "textposition": "auto",
           "type": "bar",
           "x": [
            49999
           ],
           "xaxis": "x",
           "y": [
            7
           ],
           "yaxis": "y"
          },
          {
           "alignmentgroup": "True",
           "hovertemplate": "variable=Adenine<br>Time (s)=0.07<br>Nucleotides level=%{x}<br>index=%{y}<extra></extra>",
           "legendgroup": "Adenine",
           "marker": {
            "color": "#EF553B",
            "pattern": {
             "shape": ""
            }
           },
           "name": "Adenine",
           "offsetgroup": "Adenine",
           "orientation": "h",
           "showlegend": true,
           "textposition": "auto",
           "type": "bar",
           "x": [
            49996
           ],
           "xaxis": "x",
           "y": [
            7
           ],
           "yaxis": "y"
          },
          {
           "alignmentgroup": "True",
           "hovertemplate": "variable=Guanine<br>Time (s)=0.07<br>Nucleotides level=%{x}<br>index=%{y}<extra></extra>",
           "legendgroup": "Guanine",
           "marker": {
            "color": "#00cc96",
            "pattern": {
             "shape": ""
            }
           },
           "name": "Guanine",
           "offsetgroup": "Guanine",
           "orientation": "h",
           "showlegend": true,
           "textposition": "auto",
           "type": "bar",
           "x": [
            49999
           ],
           "xaxis": "x",
           "y": [
            7
           ],
           "yaxis": "y"
          },
          {
           "alignmentgroup": "True",
           "hovertemplate": "variable=Cytosine<br>Time (s)=0.07<br>Nucleotides level=%{x}<br>index=%{y}<extra></extra>",
           "legendgroup": "Cytosine",
           "marker": {
            "color": "#ab63fa",
            "pattern": {
             "shape": ""
            }
           },
           "name": "Cytosine",
           "offsetgroup": "Cytosine",
           "orientation": "h",
           "showlegend": true,
           "textposition": "auto",
           "type": "bar",
           "x": [
            49998
           ],
           "xaxis": "x",
           "y": [
            7
           ],
           "yaxis": "y"
          }
         ],
         "name": "0.07"
        },
        {
         "data": [
          {
           "alignmentgroup": "True",
           "hovertemplate": "variable=Uracil<br>Time (s)=0.08<br>Nucleotides level=%{x}<br>index=%{y}<extra></extra>",
           "legendgroup": "Uracil",
           "marker": {
            "color": "#636efa",
            "pattern": {
             "shape": ""
            }
           },
           "name": "Uracil",
           "offsetgroup": "Uracil",
           "orientation": "h",
           "showlegend": true,
           "textposition": "auto",
           "type": "bar",
           "x": [
            49999
           ],
           "xaxis": "x",
           "y": [
            8
           ],
           "yaxis": "y"
          },
          {
           "alignmentgroup": "True",
           "hovertemplate": "variable=Adenine<br>Time (s)=0.08<br>Nucleotides level=%{x}<br>index=%{y}<extra></extra>",
           "legendgroup": "Adenine",
           "marker": {
            "color": "#EF553B",
            "pattern": {
             "shape": ""
            }
           },
           "name": "Adenine",
           "offsetgroup": "Adenine",
           "orientation": "h",
           "showlegend": true,
           "textposition": "auto",
           "type": "bar",
           "x": [
            49996
           ],
           "xaxis": "x",
           "y": [
            8
           ],
           "yaxis": "y"
          },
          {
           "alignmentgroup": "True",
           "hovertemplate": "variable=Guanine<br>Time (s)=0.08<br>Nucleotides level=%{x}<br>index=%{y}<extra></extra>",
           "legendgroup": "Guanine",
           "marker": {
            "color": "#00cc96",
            "pattern": {
             "shape": ""
            }
           },
           "name": "Guanine",
           "offsetgroup": "Guanine",
           "orientation": "h",
           "showlegend": true,
           "textposition": "auto",
           "type": "bar",
           "x": [
            49999
           ],
           "xaxis": "x",
           "y": [
            8
           ],
           "yaxis": "y"
          },
          {
           "alignmentgroup": "True",
           "hovertemplate": "variable=Cytosine<br>Time (s)=0.08<br>Nucleotides level=%{x}<br>index=%{y}<extra></extra>",
           "legendgroup": "Cytosine",
           "marker": {
            "color": "#ab63fa",
            "pattern": {
             "shape": ""
            }
           },
           "name": "Cytosine",
           "offsetgroup": "Cytosine",
           "orientation": "h",
           "showlegend": true,
           "textposition": "auto",
           "type": "bar",
           "x": [
            49998
           ],
           "xaxis": "x",
           "y": [
            8
           ],
           "yaxis": "y"
          }
         ],
         "name": "0.08"
        },
        {
         "data": [
          {
           "alignmentgroup": "True",
           "hovertemplate": "variable=Uracil<br>Time (s)=0.09<br>Nucleotides level=%{x}<br>index=%{y}<extra></extra>",
           "legendgroup": "Uracil",
           "marker": {
            "color": "#636efa",
            "pattern": {
             "shape": ""
            }
           },
           "name": "Uracil",
           "offsetgroup": "Uracil",
           "orientation": "h",
           "showlegend": true,
           "textposition": "auto",
           "type": "bar",
           "x": [
            49999
           ],
           "xaxis": "x",
           "y": [
            9
           ],
           "yaxis": "y"
          },
          {
           "alignmentgroup": "True",
           "hovertemplate": "variable=Adenine<br>Time (s)=0.09<br>Nucleotides level=%{x}<br>index=%{y}<extra></extra>",
           "legendgroup": "Adenine",
           "marker": {
            "color": "#EF553B",
            "pattern": {
             "shape": ""
            }
           },
           "name": "Adenine",
           "offsetgroup": "Adenine",
           "orientation": "h",
           "showlegend": true,
           "textposition": "auto",
           "type": "bar",
           "x": [
            49995
           ],
           "xaxis": "x",
           "y": [
            9
           ],
           "yaxis": "y"
          },
          {
           "alignmentgroup": "True",
           "hovertemplate": "variable=Guanine<br>Time (s)=0.09<br>Nucleotides level=%{x}<br>index=%{y}<extra></extra>",
           "legendgroup": "Guanine",
           "marker": {
            "color": "#00cc96",
            "pattern": {
             "shape": ""
            }
           },
           "name": "Guanine",
           "offsetgroup": "Guanine",
           "orientation": "h",
           "showlegend": true,
           "textposition": "auto",
           "type": "bar",
           "x": [
            49999
           ],
           "xaxis": "x",
           "y": [
            9
           ],
           "yaxis": "y"
          },
          {
           "alignmentgroup": "True",
           "hovertemplate": "variable=Cytosine<br>Time (s)=0.09<br>Nucleotides level=%{x}<br>index=%{y}<extra></extra>",
           "legendgroup": "Cytosine",
           "marker": {
            "color": "#ab63fa",
            "pattern": {
             "shape": ""
            }
           },
           "name": "Cytosine",
           "offsetgroup": "Cytosine",
           "orientation": "h",
           "showlegend": true,
           "textposition": "auto",
           "type": "bar",
           "x": [
            49998
           ],
           "xaxis": "x",
           "y": [
            9
           ],
           "yaxis": "y"
          }
         ],
         "name": "0.09"
        }
       ],
       "layout": {
        "barmode": "relative",
        "legend": {
         "title": {
          "text": "variable"
         },
         "tracegroupgap": 0
        },
        "sliders": [
         {
          "active": 0,
          "currentvalue": {
           "prefix": "Time (s)="
          },
          "len": 0.9,
          "pad": {
           "b": 10,
           "t": 60
          },
          "steps": [
           {
            "args": [
             [
              "0.0"
             ],
             {
              "frame": {
               "duration": 0,
               "redraw": true
              },
              "fromcurrent": true,
              "mode": "immediate",
              "transition": {
               "duration": 0,
               "easing": "linear"
              }
             }
            ],
            "label": "0.0",
            "method": "animate"
           },
           {
            "args": [
             [
              "0.01"
             ],
             {
              "frame": {
               "duration": 0,
               "redraw": true
              },
              "fromcurrent": true,
              "mode": "immediate",
              "transition": {
               "duration": 0,
               "easing": "linear"
              }
             }
            ],
            "label": "0.01",
            "method": "animate"
           },
           {
            "args": [
             [
              "0.02"
             ],
             {
              "frame": {
               "duration": 0,
               "redraw": true
              },
              "fromcurrent": true,
              "mode": "immediate",
              "transition": {
               "duration": 0,
               "easing": "linear"
              }
             }
            ],
            "label": "0.02",
            "method": "animate"
           },
           {
            "args": [
             [
              "0.03"
             ],
             {
              "frame": {
               "duration": 0,
               "redraw": true
              },
              "fromcurrent": true,
              "mode": "immediate",
              "transition": {
               "duration": 0,
               "easing": "linear"
              }
             }
            ],
            "label": "0.03",
            "method": "animate"
           },
           {
            "args": [
             [
              "0.04"
             ],
             {
              "frame": {
               "duration": 0,
               "redraw": true
              },
              "fromcurrent": true,
              "mode": "immediate",
              "transition": {
               "duration": 0,
               "easing": "linear"
              }
             }
            ],
            "label": "0.04",
            "method": "animate"
           },
           {
            "args": [
             [
              "0.05"
             ],
             {
              "frame": {
               "duration": 0,
               "redraw": true
              },
              "fromcurrent": true,
              "mode": "immediate",
              "transition": {
               "duration": 0,
               "easing": "linear"
              }
             }
            ],
            "label": "0.05",
            "method": "animate"
           },
           {
            "args": [
             [
              "0.06"
             ],
             {
              "frame": {
               "duration": 0,
               "redraw": true
              },
              "fromcurrent": true,
              "mode": "immediate",
              "transition": {
               "duration": 0,
               "easing": "linear"
              }
             }
            ],
            "label": "0.06",
            "method": "animate"
           },
           {
            "args": [
             [
              "0.07"
             ],
             {
              "frame": {
               "duration": 0,
               "redraw": true
              },
              "fromcurrent": true,
              "mode": "immediate",
              "transition": {
               "duration": 0,
               "easing": "linear"
              }
             }
            ],
            "label": "0.07",
            "method": "animate"
           },
           {
            "args": [
             [
              "0.08"
             ],
             {
              "frame": {
               "duration": 0,
               "redraw": true
              },
              "fromcurrent": true,
              "mode": "immediate",
              "transition": {
               "duration": 0,
               "easing": "linear"
              }
             }
            ],
            "label": "0.08",
            "method": "animate"
           },
           {
            "args": [
             [
              "0.09"
             ],
             {
              "frame": {
               "duration": 0,
               "redraw": true
              },
              "fromcurrent": true,
              "mode": "immediate",
              "transition": {
               "duration": 0,
               "easing": "linear"
              }
             }
            ],
            "label": "0.09",
            "method": "animate"
           }
          ],
          "x": 0.1,
          "xanchor": "left",
          "y": 0,
          "yanchor": "top"
         }
        ],
        "template": {
         "data": {
          "bar": [
           {
            "error_x": {
             "color": "#2a3f5f"
            },
            "error_y": {
             "color": "#2a3f5f"
            },
            "marker": {
             "line": {
              "color": "white",
              "width": 0.5
             },
             "pattern": {
              "fillmode": "overlay",
              "size": 10,
              "solidity": 0.2
             }
            },
            "type": "bar"
           }
          ],
          "barpolar": [
           {
            "marker": {
             "line": {
              "color": "white",
              "width": 0.5
             },
             "pattern": {
              "fillmode": "overlay",
              "size": 10,
              "solidity": 0.2
             }
            },
            "type": "barpolar"
           }
          ],
          "carpet": [
           {
            "aaxis": {
             "endlinecolor": "#2a3f5f",
             "gridcolor": "#C8D4E3",
             "linecolor": "#C8D4E3",
             "minorgridcolor": "#C8D4E3",
             "startlinecolor": "#2a3f5f"
            },
            "baxis": {
             "endlinecolor": "#2a3f5f",
             "gridcolor": "#C8D4E3",
             "linecolor": "#C8D4E3",
             "minorgridcolor": "#C8D4E3",
             "startlinecolor": "#2a3f5f"
            },
            "type": "carpet"
           }
          ],
          "choropleth": [
           {
            "colorbar": {
             "outlinewidth": 0,
             "ticks": ""
            },
            "type": "choropleth"
           }
          ],
          "contour": [
           {
            "colorbar": {
             "outlinewidth": 0,
             "ticks": ""
            },
            "colorscale": [
             [
              0,
              "#0d0887"
             ],
             [
              0.1111111111111111,
              "#46039f"
             ],
             [
              0.2222222222222222,
              "#7201a8"
             ],
             [
              0.3333333333333333,
              "#9c179e"
             ],
             [
              0.4444444444444444,
              "#bd3786"
             ],
             [
              0.5555555555555556,
              "#d8576b"
             ],
             [
              0.6666666666666666,
              "#ed7953"
             ],
             [
              0.7777777777777778,
              "#fb9f3a"
             ],
             [
              0.8888888888888888,
              "#fdca26"
             ],
             [
              1,
              "#f0f921"
             ]
            ],
            "type": "contour"
           }
          ],
          "contourcarpet": [
           {
            "colorbar": {
             "outlinewidth": 0,
             "ticks": ""
            },
            "type": "contourcarpet"
           }
          ],
          "heatmap": [
           {
            "colorbar": {
             "outlinewidth": 0,
             "ticks": ""
            },
            "colorscale": [
             [
              0,
              "#0d0887"
             ],
             [
              0.1111111111111111,
              "#46039f"
             ],
             [
              0.2222222222222222,
              "#7201a8"
             ],
             [
              0.3333333333333333,
              "#9c179e"
             ],
             [
              0.4444444444444444,
              "#bd3786"
             ],
             [
              0.5555555555555556,
              "#d8576b"
             ],
             [
              0.6666666666666666,
              "#ed7953"
             ],
             [
              0.7777777777777778,
              "#fb9f3a"
             ],
             [
              0.8888888888888888,
              "#fdca26"
             ],
             [
              1,
              "#f0f921"
             ]
            ],
            "type": "heatmap"
           }
          ],
          "heatmapgl": [
           {
            "colorbar": {
             "outlinewidth": 0,
             "ticks": ""
            },
            "colorscale": [
             [
              0,
              "#0d0887"
             ],
             [
              0.1111111111111111,
              "#46039f"
             ],
             [
              0.2222222222222222,
              "#7201a8"
             ],
             [
              0.3333333333333333,
              "#9c179e"
             ],
             [
              0.4444444444444444,
              "#bd3786"
             ],
             [
              0.5555555555555556,
              "#d8576b"
             ],
             [
              0.6666666666666666,
              "#ed7953"
             ],
             [
              0.7777777777777778,
              "#fb9f3a"
             ],
             [
              0.8888888888888888,
              "#fdca26"
             ],
             [
              1,
              "#f0f921"
             ]
            ],
            "type": "heatmapgl"
           }
          ],
          "histogram": [
           {
            "marker": {
             "pattern": {
              "fillmode": "overlay",
              "size": 10,
              "solidity": 0.2
             }
            },
            "type": "histogram"
           }
          ],
          "histogram2d": [
           {
            "colorbar": {
             "outlinewidth": 0,
             "ticks": ""
            },
            "colorscale": [
             [
              0,
              "#0d0887"
             ],
             [
              0.1111111111111111,
              "#46039f"
             ],
             [
              0.2222222222222222,
              "#7201a8"
             ],
             [
              0.3333333333333333,
              "#9c179e"
             ],
             [
              0.4444444444444444,
              "#bd3786"
             ],
             [
              0.5555555555555556,
              "#d8576b"
             ],
             [
              0.6666666666666666,
              "#ed7953"
             ],
             [
              0.7777777777777778,
              "#fb9f3a"
             ],
             [
              0.8888888888888888,
              "#fdca26"
             ],
             [
              1,
              "#f0f921"
             ]
            ],
            "type": "histogram2d"
           }
          ],
          "histogram2dcontour": [
           {
            "colorbar": {
             "outlinewidth": 0,
             "ticks": ""
            },
            "colorscale": [
             [
              0,
              "#0d0887"
             ],
             [
              0.1111111111111111,
              "#46039f"
             ],
             [
              0.2222222222222222,
              "#7201a8"
             ],
             [
              0.3333333333333333,
              "#9c179e"
             ],
             [
              0.4444444444444444,
              "#bd3786"
             ],
             [
              0.5555555555555556,
              "#d8576b"
             ],
             [
              0.6666666666666666,
              "#ed7953"
             ],
             [
              0.7777777777777778,
              "#fb9f3a"
             ],
             [
              0.8888888888888888,
              "#fdca26"
             ],
             [
              1,
              "#f0f921"
             ]
            ],
            "type": "histogram2dcontour"
           }
          ],
          "mesh3d": [
           {
            "colorbar": {
             "outlinewidth": 0,
             "ticks": ""
            },
            "type": "mesh3d"
           }
          ],
          "parcoords": [
           {
            "line": {
             "colorbar": {
              "outlinewidth": 0,
              "ticks": ""
             }
            },
            "type": "parcoords"
           }
          ],
          "pie": [
           {
            "automargin": true,
            "type": "pie"
           }
          ],
          "scatter": [
           {
            "fillpattern": {
             "fillmode": "overlay",
             "size": 10,
             "solidity": 0.2
            },
            "type": "scatter"
           }
          ],
          "scatter3d": [
           {
            "line": {
             "colorbar": {
              "outlinewidth": 0,
              "ticks": ""
             }
            },
            "marker": {
             "colorbar": {
              "outlinewidth": 0,
              "ticks": ""
             }
            },
            "type": "scatter3d"
           }
          ],
          "scattercarpet": [
           {
            "marker": {
             "colorbar": {
              "outlinewidth": 0,
              "ticks": ""
             }
            },
            "type": "scattercarpet"
           }
          ],
          "scattergeo": [
           {
            "marker": {
             "colorbar": {
              "outlinewidth": 0,
              "ticks": ""
             }
            },
            "type": "scattergeo"
           }
          ],
          "scattergl": [
           {
            "marker": {
             "colorbar": {
              "outlinewidth": 0,
              "ticks": ""
             }
            },
            "type": "scattergl"
           }
          ],
          "scattermapbox": [
           {
            "marker": {
             "colorbar": {
              "outlinewidth": 0,
              "ticks": ""
             }
            },
            "type": "scattermapbox"
           }
          ],
          "scatterpolar": [
           {
            "marker": {
             "colorbar": {
              "outlinewidth": 0,
              "ticks": ""
             }
            },
            "type": "scatterpolar"
           }
          ],
          "scatterpolargl": [
           {
            "marker": {
             "colorbar": {
              "outlinewidth": 0,
              "ticks": ""
             }
            },
            "type": "scatterpolargl"
           }
          ],
          "scatterternary": [
           {
            "marker": {
             "colorbar": {
              "outlinewidth": 0,
              "ticks": ""
             }
            },
            "type": "scatterternary"
           }
          ],
          "surface": [
           {
            "colorbar": {
             "outlinewidth": 0,
             "ticks": ""
            },
            "colorscale": [
             [
              0,
              "#0d0887"
             ],
             [
              0.1111111111111111,
              "#46039f"
             ],
             [
              0.2222222222222222,
              "#7201a8"
             ],
             [
              0.3333333333333333,
              "#9c179e"
             ],
             [
              0.4444444444444444,
              "#bd3786"
             ],
             [
              0.5555555555555556,
              "#d8576b"
             ],
             [
              0.6666666666666666,
              "#ed7953"
             ],
             [
              0.7777777777777778,
              "#fb9f3a"
             ],
             [
              0.8888888888888888,
              "#fdca26"
             ],
             [
              1,
              "#f0f921"
             ]
            ],
            "type": "surface"
           }
          ],
          "table": [
           {
            "cells": {
             "fill": {
              "color": "#EBF0F8"
             },
             "line": {
              "color": "white"
             }
            },
            "header": {
             "fill": {
              "color": "#C8D4E3"
             },
             "line": {
              "color": "white"
             }
            },
            "type": "table"
           }
          ]
         },
         "layout": {
          "annotationdefaults": {
           "arrowcolor": "#2a3f5f",
           "arrowhead": 0,
           "arrowwidth": 1
          },
          "autotypenumbers": "strict",
          "coloraxis": {
           "colorbar": {
            "outlinewidth": 0,
            "ticks": ""
           }
          },
          "colorscale": {
           "diverging": [
            [
             0,
             "#8e0152"
            ],
            [
             0.1,
             "#c51b7d"
            ],
            [
             0.2,
             "#de77ae"
            ],
            [
             0.3,
             "#f1b6da"
            ],
            [
             0.4,
             "#fde0ef"
            ],
            [
             0.5,
             "#f7f7f7"
            ],
            [
             0.6,
             "#e6f5d0"
            ],
            [
             0.7,
             "#b8e186"
            ],
            [
             0.8,
             "#7fbc41"
            ],
            [
             0.9,
             "#4d9221"
            ],
            [
             1,
             "#276419"
            ]
           ],
           "sequential": [
            [
             0,
             "#0d0887"
            ],
            [
             0.1111111111111111,
             "#46039f"
            ],
            [
             0.2222222222222222,
             "#7201a8"
            ],
            [
             0.3333333333333333,
             "#9c179e"
            ],
            [
             0.4444444444444444,
             "#bd3786"
            ],
            [
             0.5555555555555556,
             "#d8576b"
            ],
            [
             0.6666666666666666,
             "#ed7953"
            ],
            [
             0.7777777777777778,
             "#fb9f3a"
            ],
            [
             0.8888888888888888,
             "#fdca26"
            ],
            [
             1,
             "#f0f921"
            ]
           ],
           "sequentialminus": [
            [
             0,
             "#0d0887"
            ],
            [
             0.1111111111111111,
             "#46039f"
            ],
            [
             0.2222222222222222,
             "#7201a8"
            ],
            [
             0.3333333333333333,
             "#9c179e"
            ],
            [
             0.4444444444444444,
             "#bd3786"
            ],
            [
             0.5555555555555556,
             "#d8576b"
            ],
            [
             0.6666666666666666,
             "#ed7953"
            ],
            [
             0.7777777777777778,
             "#fb9f3a"
            ],
            [
             0.8888888888888888,
             "#fdca26"
            ],
            [
             1,
             "#f0f921"
            ]
           ]
          },
          "colorway": [
           "#636efa",
           "#EF553B",
           "#00cc96",
           "#ab63fa",
           "#FFA15A",
           "#19d3f3",
           "#FF6692",
           "#B6E880",
           "#FF97FF",
           "#FECB52"
          ],
          "font": {
           "color": "#2a3f5f"
          },
          "geo": {
           "bgcolor": "white",
           "lakecolor": "white",
           "landcolor": "white",
           "showlakes": true,
           "showland": true,
           "subunitcolor": "#C8D4E3"
          },
          "hoverlabel": {
           "align": "left"
          },
          "hovermode": "closest",
          "mapbox": {
           "style": "light"
          },
          "paper_bgcolor": "white",
          "plot_bgcolor": "white",
          "polar": {
           "angularaxis": {
            "gridcolor": "#EBF0F8",
            "linecolor": "#EBF0F8",
            "ticks": ""
           },
           "bgcolor": "white",
           "radialaxis": {
            "gridcolor": "#EBF0F8",
            "linecolor": "#EBF0F8",
            "ticks": ""
           }
          },
          "scene": {
           "xaxis": {
            "backgroundcolor": "white",
            "gridcolor": "#DFE8F3",
            "gridwidth": 2,
            "linecolor": "#EBF0F8",
            "showbackground": true,
            "ticks": "",
            "zerolinecolor": "#EBF0F8"
           },
           "yaxis": {
            "backgroundcolor": "white",
            "gridcolor": "#DFE8F3",
            "gridwidth": 2,
            "linecolor": "#EBF0F8",
            "showbackground": true,
            "ticks": "",
            "zerolinecolor": "#EBF0F8"
           },
           "zaxis": {
            "backgroundcolor": "white",
            "gridcolor": "#DFE8F3",
            "gridwidth": 2,
            "linecolor": "#EBF0F8",
            "showbackground": true,
            "ticks": "",
            "zerolinecolor": "#EBF0F8"
           }
          },
          "shapedefaults": {
           "line": {
            "color": "#2a3f5f"
           }
          },
          "ternary": {
           "aaxis": {
            "gridcolor": "#DFE8F3",
            "linecolor": "#A2B1C6",
            "ticks": ""
           },
           "baxis": {
            "gridcolor": "#DFE8F3",
            "linecolor": "#A2B1C6",
            "ticks": ""
           },
           "bgcolor": "white",
           "caxis": {
            "gridcolor": "#DFE8F3",
            "linecolor": "#A2B1C6",
            "ticks": ""
           }
          },
          "title": {
           "x": 0.05
          },
          "xaxis": {
           "automargin": true,
           "gridcolor": "#EBF0F8",
           "linecolor": "#EBF0F8",
           "ticks": "",
           "title": {
            "standoff": 15
           },
           "zerolinecolor": "#EBF0F8",
           "zerolinewidth": 2
          },
          "yaxis": {
           "automargin": true,
           "gridcolor": "#EBF0F8",
           "linecolor": "#EBF0F8",
           "ticks": "",
           "title": {
            "standoff": 15
           },
           "zerolinecolor": "#EBF0F8",
           "zerolinewidth": 2
          }
         }
        },
        "title": {
         "text": "Nucleotides levels over time"
        },
        "updatemenus": [
         {
          "buttons": [
           {
            "args": [
             null,
             {
              "frame": {
               "duration": 500,
               "redraw": true
              },
              "fromcurrent": true,
              "mode": "immediate",
              "transition": {
               "duration": 500,
               "easing": "linear"
              }
             }
            ],
            "label": "&#9654;",
            "method": "animate"
           },
           {
            "args": [
             [
              null
             ],
             {
              "frame": {
               "duration": 0,
               "redraw": true
              },
              "fromcurrent": true,
              "mode": "immediate",
              "transition": {
               "duration": 0,
               "easing": "linear"
              }
             }
            ],
            "label": "&#9724;",
            "method": "animate"
           }
          ],
          "direction": "left",
          "pad": {
           "r": 10,
           "t": 70
          },
          "showactive": false,
          "type": "buttons",
          "x": 0.1,
          "xanchor": "right",
          "y": 0,
          "yanchor": "top"
         }
        ],
        "xaxis": {
         "anchor": "y",
         "domain": [
          0,
          1
         ],
         "title": {
          "text": "Nucleotides level"
         }
        },
        "yaxis": {
         "anchor": "x",
         "domain": [
          0,
          1
         ],
         "title": {
          "text": "index"
         }
        }
       }
      }
     },
     "metadata": {},
     "output_type": "display_data"
    }
   ],
   "source": [
    "barplot_nucleotide_level_over_time1(\n",
    "    uracil_dict, adenine_dict, guanine_dict, cytosine_dict)"
   ]
  }
 ],
 "metadata": {
  "kernelspec": {
   "display_name": "base",
   "language": "python",
   "name": "python3"
  },
  "language_info": {
   "codemirror_mode": {
    "name": "ipython",
    "version": 3
   },
   "file_extension": ".py",
   "mimetype": "text/x-python",
   "name": "python",
   "nbconvert_exporter": "python",
   "pygments_lexer": "ipython3",
   "version": "3.10.9"
  }
 },
 "nbformat": 4,
 "nbformat_minor": 2
}
