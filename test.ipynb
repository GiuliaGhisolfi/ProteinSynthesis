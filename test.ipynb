{
 "cells": [
  {
   "cell_type": "markdown",
   "metadata": {},
   "source": [
    "Load dataset:"
   ]
  },
  {
   "cell_type": "code",
   "execution_count": 1,
   "metadata": {},
   "outputs": [
    {
     "name": "stderr",
     "output_type": "stream",
     "text": [
      "c:\\Users\\giuli\\anaconda3\\lib\\site-packages\\pandas\\core\\arrays\\masked.py:60: UserWarning: Pandas requires version '1.3.6' or newer of 'bottleneck' (version '1.3.5' currently installed).\n",
      "  from pandas.core import (\n"
     ]
    },
    {
     "data": {
      "text/html": [
       "<div>\n",
       "<style scoped>\n",
       "    .dataframe tbody tr th:only-of-type {\n",
       "        vertical-align: middle;\n",
       "    }\n",
       "\n",
       "    .dataframe tbody tr th {\n",
       "        vertical-align: top;\n",
       "    }\n",
       "\n",
       "    .dataframe thead th {\n",
       "        text-align: right;\n",
       "    }\n",
       "</style>\n",
       "<table border=\"1\" class=\"dataframe\">\n",
       "  <thead>\n",
       "    <tr style=\"text-align: right;\">\n",
       "      <th></th>\n",
       "      <th>ID</th>\n",
       "      <th>sequence</th>\n",
       "      <th>category</th>\n",
       "    </tr>\n",
       "  </thead>\n",
       "  <tbody>\n",
       "    <tr>\n",
       "      <th>0</th>\n",
       "      <td>NM_001368254.1</td>\n",
       "      <td>GCTGAGCTGAGCTGGGGCGCAGCCGCCTGTCTGCACCGGCAGCACC...</td>\n",
       "      <td>NM</td>\n",
       "    </tr>\n",
       "    <tr>\n",
       "      <th>1</th>\n",
       "      <td>NM_001350977.1</td>\n",
       "      <td>TCCACAACTGAAACATCCACTTCTGAACACCATGTCCTACTACAGC...</td>\n",
       "      <td>NM</td>\n",
       "    </tr>\n",
       "  </tbody>\n",
       "</table>\n",
       "</div>"
      ],
      "text/plain": [
       "               ID                                           sequence category\n",
       "0  NM_001368254.1  GCTGAGCTGAGCTGGGGCGCAGCCGCCTGTCTGCACCGGCAGCACC...       NM\n",
       "1  NM_001350977.1  TCCACAACTGAAACATCCACTTCTGAACACCATGTCCTACTACAGC...       NM"
      ]
     },
     "execution_count": 1,
     "metadata": {},
     "output_type": "execute_result"
    }
   ],
   "source": [
    "from HumanGenomeDataset.load_dataset import load_dataset\n",
    "\n",
    "data_df = load_dataset('dna_protein_coding_sequences')\n",
    "data_df.head(2)"
   ]
  },
  {
   "cell_type": "markdown",
   "metadata": {},
   "source": [
    "Start simulation:"
   ]
  },
  {
   "cell_type": "code",
   "execution_count": 2,
   "metadata": {},
   "outputs": [],
   "source": [
    "from src.simulation import ProteinSinthesisProcess\n",
    "SIM_TIME = 30"
   ]
  },
  {
   "cell_type": "code",
   "execution_count": 3,
   "metadata": {},
   "outputs": [
    {
     "name": "stdout",
     "output_type": "stream",
     "text": [
      "DNA Sequence 0 requesting at 0\n",
      "DNA Sequence 0 got resource at 0\n",
      "DNA Sequence TAGGACCTGTCTAGGTTTTC requesting at 0\n",
      "DNA Sequence TAGGACCTGTCTAGGTTTTC got resource at 0\n",
      "DNA Sequence TATATTTGAGACTCATTAGC requesting at 1.4000000000000004\n",
      "DNA Sequence TATATTTGAGACTCATTAGC got resource at 1.4000000000000004\n",
      "DNA Sequence AGACTCTAGGCCAGAATCTC requesting at 2.5\n",
      "DNA Sequence AGACTCTAGGCCAGAATCTC got resource at 2.5\n",
      "DNA Sequence CCATCAGCTCTCATGAGAAC requesting at 5.749999999999992\n",
      "DNA Sequence CCATCAGCTCTCATGAGAAC got resource at 5.749999999999992\n",
      "DNA Sequence AATACTATGTGGGCTGAGGC requesting at 6.8999999999999915\n",
      "DNA Sequence AATACTATGTGGGCTGAGGC got resource at 6.8999999999999915\n",
      "DNA Sequence CAACTAACAACATTGCACTT requesting at 8.65\n",
      "DNA Sequence CAACTAACAACATTGCACTT got resource at 8.65\n",
      "DNA Sequence 1 requesting at 10.100000000000007\n",
      "DNA Sequence 1 got resource at 10.100000000000007\n",
      "DNA Sequence 2 requesting at 10.150000000000007\n",
      "DNA Sequence 2 got resource at 10.150000000000007\n",
      "DNA Sequence 3 requesting at 10.200000000000008\n",
      "DNA Sequence 3 got resource at 10.200000000000008\n",
      "DNA Sequence 4 requesting at 10.250000000000009\n",
      "DNA Sequence 4 got resource at 10.250000000000009\n",
      "DNA Sequence 5 requesting at 10.30000000000001\n",
      "DNA Sequence 5 got resource at 10.30000000000001\n",
      "DNA Sequence GGCAATTTTTAAAAAC requesting at 10.30000000000001\n",
      "DNA Sequence GGCAATTTTTAAAAAC got resource at 10.30000000000001\n",
      "DNA Sequence ACAGTATTTTAAACTGAATG requesting at 11.30000000000001\n",
      "DNA Sequence ACAGTATTTTAAACTGAATG got resource at 11.30000000000001\n",
      "DNA Sequence  requesting at 13.300000000000024\n",
      "DNA Sequence  got resource at 13.300000000000024\n",
      "DNA Sequence CCTTATTGGAAGTATTAATT requesting at 14.300000000000024\n",
      "DNA Sequence CCTTATTGGAAGTATTAATT got resource at 14.300000000000024\n",
      "DNA Sequence AGTATAGGTCAAATTTAAAT requesting at 19.850000000000087\n",
      "DNA Sequence AGTATAGGTCAAATTTAAAT got resource at 19.850000000000087\n",
      "DNA Sequence GGTAATATTTCCCCAGAGGG requesting at 20.950000000000088\n",
      "DNA Sequence GGTAATATTTCCCCAGAGGG got resource at 20.950000000000088\n",
      "DNA Sequence TGGAATTTAAAGTTCACTTA requesting at 23.350000000000108\n",
      "DNA Sequence TGGAATTTAAAGTTCACTTA got resource at 23.350000000000108\n",
      "DNA Sequence  requesting at 28.05000000000016\n",
      "DNA Sequence  got resource at 28.05000000000016\n",
      "DNA Sequence  requesting at 29.05000000000016\n",
      "DNA Sequence  got resource at 29.05000000000016\n"
     ]
    }
   ],
   "source": [
    "protein_synthesis_process = ProteinSinthesisProcess(dna_sequences_df=data_df, verbose=False)\n",
    "protein_synthesis_process.run(simulation_time=SIM_TIME) # run the simulation"
   ]
  },
  {
   "cell_type": "markdown",
   "metadata": {},
   "source": [
    "Results:"
   ]
  },
  {
   "cell_type": "code",
   "execution_count": 4,
   "metadata": {},
   "outputs": [],
   "source": [
    "results_df = protein_synthesis_process.dna_sequences_df"
   ]
  },
  {
   "cell_type": "code",
   "execution_count": 5,
   "metadata": {},
   "outputs": [
    {
     "name": "stdout",
     "output_type": "stream",
     "text": [
      "Number of DNA sequence traslated: 1\n",
      "Number of DNA sequence not traslated: 4\n"
     ]
    }
   ],
   "source": [
    "print('Number of DNA sequence traslated:', results_df[results_df['mrna_sequences'].notna()].shape[0])\n",
    "print('Number of DNA sequence not traslated:', results_df[results_df['protein_synthesized']==False].shape[0])"
   ]
  },
  {
   "cell_type": "code",
   "execution_count": 6,
   "metadata": {},
   "outputs": [
    {
     "data": {
      "text/html": [
       "<div>\n",
       "<style scoped>\n",
       "    .dataframe tbody tr th:only-of-type {\n",
       "        vertical-align: middle;\n",
       "    }\n",
       "\n",
       "    .dataframe tbody tr th {\n",
       "        vertical-align: top;\n",
       "    }\n",
       "\n",
       "    .dataframe thead th {\n",
       "        text-align: right;\n",
       "    }\n",
       "</style>\n",
       "<table border=\"1\" class=\"dataframe\">\n",
       "  <thead>\n",
       "    <tr style=\"text-align: right;\">\n",
       "      <th></th>\n",
       "      <th>polypeptides_chains</th>\n",
       "      <th>number_of_proteins_synthesized</th>\n",
       "    </tr>\n",
       "  </thead>\n",
       "  <tbody>\n",
       "    <tr>\n",
       "      <th>167621</th>\n",
       "      <td>[NH2-YIGIGKK-COOH, NH2-V-COOH, NH2-YVVPIKKTHKN...</td>\n",
       "      <td>6</td>\n",
       "    </tr>\n",
       "  </tbody>\n",
       "</table>\n",
       "</div>"
      ],
      "text/plain": [
       "                                      polypeptides_chains  \\\n",
       "167621  [NH2-YIGIGKK-COOH, NH2-V-COOH, NH2-YVVPIKKTHKN...   \n",
       "\n",
       "       number_of_proteins_synthesized  \n",
       "167621                              6  "
      ]
     },
     "execution_count": 6,
     "metadata": {},
     "output_type": "execute_result"
    }
   ],
   "source": [
    "results_df[results_df['mrna_sequences'].notna()][[\n",
    "    'polypeptides_chains', 'number_of_proteins_synthesized']]"
   ]
  }
 ],
 "metadata": {
  "kernelspec": {
   "display_name": "base",
   "language": "python",
   "name": "python3"
  },
  "language_info": {
   "codemirror_mode": {
    "name": "ipython",
    "version": 3
   },
   "file_extension": ".py",
   "mimetype": "text/x-python",
   "name": "python",
   "nbconvert_exporter": "python",
   "pygments_lexer": "ipython3",
   "version": "3.10.9"
  }
 },
 "nbformat": 4,
 "nbformat_minor": 2
}
