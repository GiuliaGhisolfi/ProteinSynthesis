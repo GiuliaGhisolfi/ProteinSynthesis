{
 "cells": [
  {
   "cell_type": "markdown",
   "metadata": {},
   "source": [
    "Load dataset:"
   ]
  },
  {
   "cell_type": "code",
   "execution_count": 1,
   "metadata": {},
   "outputs": [
    {
     "data": {
      "text/html": [
       "<div>\n",
       "<style scoped>\n",
       "    .dataframe tbody tr th:only-of-type {\n",
       "        vertical-align: middle;\n",
       "    }\n",
       "\n",
       "    .dataframe tbody tr th {\n",
       "        vertical-align: top;\n",
       "    }\n",
       "\n",
       "    .dataframe thead th {\n",
       "        text-align: right;\n",
       "    }\n",
       "</style>\n",
       "<table border=\"1\" class=\"dataframe\">\n",
       "  <thead>\n",
       "    <tr style=\"text-align: right;\">\n",
       "      <th></th>\n",
       "      <th>ID</th>\n",
       "      <th>sequence</th>\n",
       "      <th>category</th>\n",
       "    </tr>\n",
       "  </thead>\n",
       "  <tbody>\n",
       "    <tr>\n",
       "      <th>0</th>\n",
       "      <td>NM_001368254.1</td>\n",
       "      <td>GCTGAGCTGAGCTGGGGCGCAGCCGCCTGTCTGCACCGGCAGCACC...</td>\n",
       "      <td>NM</td>\n",
       "    </tr>\n",
       "    <tr>\n",
       "      <th>1</th>\n",
       "      <td>NM_001350977.1</td>\n",
       "      <td>TCCACAACTGAAACATCCACTTCTGAACACCATGTCCTACTACAGC...</td>\n",
       "      <td>NM</td>\n",
       "    </tr>\n",
       "  </tbody>\n",
       "</table>\n",
       "</div>"
      ],
      "text/plain": [
       "               ID                                           sequence category\n",
       "0  NM_001368254.1  GCTGAGCTGAGCTGGGGCGCAGCCGCCTGTCTGCACCGGCAGCACC...       NM\n",
       "1  NM_001350977.1  TCCACAACTGAAACATCCACTTCTGAACACCATGTCCTACTACAGC...       NM"
      ]
     },
     "execution_count": 1,
     "metadata": {},
     "output_type": "execute_result"
    }
   ],
   "source": [
    "from HumanGenomeDataset.load_dataset import load_dataset\n",
    "\n",
    "data_df = load_dataset('dna_protein_coding_sequences')\n",
    "data_df.head(2)"
   ]
  },
  {
   "cell_type": "markdown",
   "metadata": {},
   "source": [
    "Start simulation:"
   ]
  },
  {
   "cell_type": "code",
   "execution_count": 2,
   "metadata": {},
   "outputs": [],
   "source": [
    "from src.simulation import ProteinSinthesisProcess\n",
    "SIM_TIME = 30"
   ]
  },
  {
   "cell_type": "code",
   "execution_count": 3,
   "metadata": {},
   "outputs": [
    {
     "name": "stdout",
     "output_type": "stream",
     "text": [
      "Simulation environment initialized \t\n",
      "Simulation started: \n",
      "\n",
      "Time 8.197832205239298: Protein synthesis started\n",
      "Time 8.197832205239298: Transcription started\n",
      "Time 8.197832205239298: Transcription ended\n",
      "mRNA synthesized: 3\n",
      "Time 8.197832205239298: Translation started\n",
      "Time 8.197832205239298: Translation ended\n",
      "Protein synthesized: 3 \n",
      "\n",
      "Time 15.490860917162344: Protein synthesis started\n",
      "Time 15.490860917162344: Transcription started\n",
      "Time 15.490860917162344: Transcription ended\n",
      "mRNA synthesized: 5\n",
      "Time 15.490860917162344: Translation started\n",
      "Time 15.490860917162344: Translation ended\n",
      "Protein synthesized: 5 \n",
      "\n",
      "Time 17.013733032216063: Protein synthesis started\n",
      "Time 17.013733032216063: Transcription started\n",
      "Time 17.013733032216063: Transcription ended\n",
      "mRNA synthesized: 1\n",
      "Time 17.013733032216063: Translation started\n",
      "Time 17.013733032216063: Translation ended\n",
      "Protein synthesized: 1 \n",
      "\n",
      "Time 21.4814389494896: Protein synthesis started\n",
      "Time 21.4814389494896: Transcription started\n",
      "Time 21.4814389494896: Transcription ended\n",
      "mRNA synthesized: 1\n",
      "Time 21.4814389494896: Translation started\n",
      "Time 21.4814389494896: Translation ended\n",
      "Protein synthesized: 1 \n",
      "\n"
     ]
    }
   ],
   "source": [
    "protein_synthesis_process = ProteinSinthesisProcess(dna_sequences_df=data_df, verbose=True)\n",
    "protein_synthesis_process.run(simulation_time=SIM_TIME) # run the simulation"
   ]
  },
  {
   "cell_type": "markdown",
   "metadata": {},
   "source": [
    "Results:"
   ]
  },
  {
   "cell_type": "code",
   "execution_count": 4,
   "metadata": {},
   "outputs": [],
   "source": [
    "results_df = protein_synthesis_process.dna_sequences_df"
   ]
  },
  {
   "cell_type": "code",
   "execution_count": 5,
   "metadata": {},
   "outputs": [
    {
     "name": "stdout",
     "output_type": "stream",
     "text": [
      "Number of DNA sequence traslated: 4\n",
      "Number of DNA sequence not traslated: 0\n"
     ]
    }
   ],
   "source": [
    "print('Number of DNA sequence traslated:', results_df[results_df['mrna_sequences'].notna()].shape[0])\n",
    "print('Number of DNA sequence not traslated:', results_df[results_df['protein_synthesized']==False].shape[0])"
   ]
  },
  {
   "cell_type": "code",
   "execution_count": 6,
   "metadata": {},
   "outputs": [
    {
     "data": {
      "text/html": [
       "<div>\n",
       "<style scoped>\n",
       "    .dataframe tbody tr th:only-of-type {\n",
       "        vertical-align: middle;\n",
       "    }\n",
       "\n",
       "    .dataframe tbody tr th {\n",
       "        vertical-align: top;\n",
       "    }\n",
       "\n",
       "    .dataframe thead th {\n",
       "        text-align: right;\n",
       "    }\n",
       "</style>\n",
       "<table border=\"1\" class=\"dataframe\">\n",
       "  <thead>\n",
       "    <tr style=\"text-align: right;\">\n",
       "      <th></th>\n",
       "      <th>polypeptides_chains</th>\n",
       "      <th>number_of_proteins_synthesized</th>\n",
       "    </tr>\n",
       "  </thead>\n",
       "  <tbody>\n",
       "    <tr>\n",
       "      <th>81711</th>\n",
       "      <td>[NH2-TS-COOH]</td>\n",
       "      <td>1</td>\n",
       "    </tr>\n",
       "    <tr>\n",
       "      <th>112820</th>\n",
       "      <td>[NH2-TCKGKYTPQI-COOH, NH2--COOH, NH2-TLLTFSCS-...</td>\n",
       "      <td>5</td>\n",
       "    </tr>\n",
       "    <tr>\n",
       "      <th>123062</th>\n",
       "      <td>[NH2--COOH, NH2-TVKLIGYKLSKRKT-COOH, NH2--COOH]</td>\n",
       "      <td>3</td>\n",
       "    </tr>\n",
       "    <tr>\n",
       "      <th>184853</th>\n",
       "      <td>[NH2--COOH]</td>\n",
       "      <td>1</td>\n",
       "    </tr>\n",
       "  </tbody>\n",
       "</table>\n",
       "</div>"
      ],
      "text/plain": [
       "                                      polypeptides_chains  \\\n",
       "81711                                       [NH2-TS-COOH]   \n",
       "112820  [NH2-TCKGKYTPQI-COOH, NH2--COOH, NH2-TLLTFSCS-...   \n",
       "123062    [NH2--COOH, NH2-TVKLIGYKLSKRKT-COOH, NH2--COOH]   \n",
       "184853                                        [NH2--COOH]   \n",
       "\n",
       "       number_of_proteins_synthesized  \n",
       "81711                               1  \n",
       "112820                              5  \n",
       "123062                              3  \n",
       "184853                              1  "
      ]
     },
     "execution_count": 6,
     "metadata": {},
     "output_type": "execute_result"
    }
   ],
   "source": [
    "results_df[results_df['mrna_sequences'].notna()][[\n",
    "    'polypeptides_chains', 'number_of_proteins_synthesized']]"
   ]
  }
 ],
 "metadata": {
  "kernelspec": {
   "display_name": "base",
   "language": "python",
   "name": "python3"
  },
  "language_info": {
   "codemirror_mode": {
    "name": "ipython",
    "version": 3
   },
   "file_extension": ".py",
   "mimetype": "text/x-python",
   "name": "python",
   "nbconvert_exporter": "python",
   "pygments_lexer": "ipython3",
   "version": "3.10.9"
  }
 },
 "nbformat": 4,
 "nbformat_minor": 2
}
