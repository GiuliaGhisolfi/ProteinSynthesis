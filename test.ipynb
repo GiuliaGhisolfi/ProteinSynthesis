{
 "cells": [
  {
   "cell_type": "markdown",
   "metadata": {},
   "source": [
    "Load dataset:"
   ]
  },
  {
   "cell_type": "code",
   "execution_count": 1,
   "metadata": {},
   "outputs": [
    {
     "name": "stderr",
     "output_type": "stream",
     "text": [
      "c:\\Users\\giuli\\anaconda3\\lib\\site-packages\\pandas\\core\\arrays\\masked.py:60: UserWarning: Pandas requires version '1.3.6' or newer of 'bottleneck' (version '1.3.5' currently installed).\n",
      "  from pandas.core import (\n"
     ]
    },
    {
     "data": {
      "text/html": [
       "<div>\n",
       "<style scoped>\n",
       "    .dataframe tbody tr th:only-of-type {\n",
       "        vertical-align: middle;\n",
       "    }\n",
       "\n",
       "    .dataframe tbody tr th {\n",
       "        vertical-align: top;\n",
       "    }\n",
       "\n",
       "    .dataframe thead th {\n",
       "        text-align: right;\n",
       "    }\n",
       "</style>\n",
       "<table border=\"1\" class=\"dataframe\">\n",
       "  <thead>\n",
       "    <tr style=\"text-align: right;\">\n",
       "      <th></th>\n",
       "      <th>ID</th>\n",
       "      <th>sequence</th>\n",
       "      <th>category</th>\n",
       "    </tr>\n",
       "  </thead>\n",
       "  <tbody>\n",
       "    <tr>\n",
       "      <th>0</th>\n",
       "      <td>NM_001368254.1</td>\n",
       "      <td>GCTGAGCTGAGCTGGGGCGCAGCCGCCTGTCTGCACCGGCAGCACC...</td>\n",
       "      <td>NM</td>\n",
       "    </tr>\n",
       "    <tr>\n",
       "      <th>1</th>\n",
       "      <td>NM_001350977.1</td>\n",
       "      <td>TCCACAACTGAAACATCCACTTCTGAACACCATGTCCTACTACAGC...</td>\n",
       "      <td>NM</td>\n",
       "    </tr>\n",
       "  </tbody>\n",
       "</table>\n",
       "</div>"
      ],
      "text/plain": [
       "               ID                                           sequence category\n",
       "0  NM_001368254.1  GCTGAGCTGAGCTGGGGCGCAGCCGCCTGTCTGCACCGGCAGCACC...       NM\n",
       "1  NM_001350977.1  TCCACAACTGAAACATCCACTTCTGAACACCATGTCCTACTACAGC...       NM"
      ]
     },
     "execution_count": 1,
     "metadata": {},
     "output_type": "execute_result"
    }
   ],
   "source": [
    "from HumanGenomeDataset.load_dataset import load_dataset\n",
    "\n",
    "data_df = load_dataset('dna_protein_coding_sequences')\n",
    "data_df.head(2)"
   ]
  },
  {
   "cell_type": "markdown",
   "metadata": {},
   "source": [
    "Start simulation:"
   ]
  },
  {
   "cell_type": "code",
   "execution_count": 2,
   "metadata": {},
   "outputs": [],
   "source": [
    "from src.simulation import ProteinSinthesisProcess\n",
    "SIM_TIME = 5"
   ]
  },
  {
   "cell_type": "code",
   "execution_count": 3,
   "metadata": {},
   "outputs": [
    {
     "name": "stdout",
     "output_type": "stream",
     "text": [
      "Time 0.0000: DNA Sequence 0 requesting resources\n",
      "Time 0.0000: DNA Sequence 0 got resource\n",
      "Time 0.1113: DNA Sequence 1 requesting resources\n",
      "Time 0.1113: DNA Sequence 1 got resource\n",
      "Time 0.7526: DNA Sequence 2 requesting resources\n",
      "Time 0.7526: DNA Sequence 2 got resource\n",
      "Time 0.9057: DNA Sequence 3 requesting resources\n",
      "Time 0.9057: DNA Sequence 3 got resource\n",
      "Time 1.8512: DNA Sequence 4 requesting resources\n",
      "Time 1.8512: DNA Sequence 4 got resource\n",
      "Time 1.8512: DNA Sequence 4 synthetis ended\n",
      "Time 2.2016: DNA Sequence 5 requesting resources\n",
      "Time 2.2016: DNA Sequence 5 got resource\n",
      "Time 2.2016: DNA Sequence 5 synthetis ended\n",
      "Time 2.6410: DNA Sequence 6 requesting resources\n",
      "Time 2.6410: DNA Sequence 6 got resource\n",
      "Time 2.6410: DNA Sequence 6 synthetis ended\n",
      "Time 3.1507: DNA Sequence 7 requesting resources\n",
      "Time 3.1507: DNA Sequence 7 got resource\n",
      "Time 3.4414: DNA Sequence 8 requesting resources\n",
      "Time 3.4793: DNA Sequence 9 requesting resources\n",
      "Time 4.3113: DNA Sequence 1 synthetis ended\n",
      "Time 4.3113: DNA Sequence 8 got resource\n",
      "Time 4.4676: DNA Sequence 10 requesting resources\n",
      "Time 4.5613: DNA Sequence 2 synthetis ended\n",
      "Time 4.5613: DNA Sequence 9 got resource\n",
      "Time 4.5613: DNA Sequence 9 synthetis ended\n",
      "Time 4.5613: DNA Sequence 10 got resource\n",
      "Time 4.6613: DNA Sequence 3 synthetis ended\n"
     ]
    }
   ],
   "source": [
    "protein_synthesis_process = ProteinSinthesisProcess(dna_sequences_df=data_df, verbose=False)\n",
    "protein_synthesis_process.run(simulation_time=SIM_TIME) # run the simulation"
   ]
  },
  {
   "cell_type": "markdown",
   "metadata": {},
   "source": [
    "Results:"
   ]
  },
  {
   "cell_type": "code",
   "execution_count": 4,
   "metadata": {},
   "outputs": [],
   "source": [
    "results_df = protein_synthesis_process.dna_sequences_df"
   ]
  },
  {
   "cell_type": "code",
   "execution_count": 5,
   "metadata": {},
   "outputs": [
    {
     "data": {
      "text/html": [
       "<div>\n",
       "<style scoped>\n",
       "    .dataframe tbody tr th:only-of-type {\n",
       "        vertical-align: middle;\n",
       "    }\n",
       "\n",
       "    .dataframe tbody tr th {\n",
       "        vertical-align: top;\n",
       "    }\n",
       "\n",
       "    .dataframe thead th {\n",
       "        text-align: right;\n",
       "    }\n",
       "</style>\n",
       "<table border=\"1\" class=\"dataframe\">\n",
       "  <thead>\n",
       "    <tr style=\"text-align: right;\">\n",
       "      <th></th>\n",
       "      <th>ID</th>\n",
       "      <th>sequence</th>\n",
       "      <th>category</th>\n",
       "      <th>mrna_sequences</th>\n",
       "      <th>polypeptides_chains</th>\n",
       "      <th>polypeptides_chains_ext</th>\n",
       "      <th>number_of_proteins_synthesized</th>\n",
       "      <th>protein_synthesized</th>\n",
       "    </tr>\n",
       "  </thead>\n",
       "  <tbody>\n",
       "    <tr>\n",
       "      <th>38095</th>\n",
       "      <td>NM_001400874.1</td>\n",
       "      <td>GTATTCAGCGGCGACAGCGGCGACTGCGGCGGCCGCGGGAGGGCAT...</td>\n",
       "      <td>NM</td>\n",
       "      <td>[CH3GPPP-CAUAAGUCGCCGCUGUCGCCGCUGACGCCGCCGGCGC...</td>\n",
       "      <td>[NH2-QKPRWGLVYYRHKLVFRQSLY-COOH, NH2-QKPRWGLVY...</td>\n",
       "      <td>[NH2-Gln-Lys-Pro-Arg-Trp-Gly-Leu-Val-Tyr-Tyr-A...</td>\n",
       "      <td>2</td>\n",
       "      <td>True</td>\n",
       "    </tr>\n",
       "    <tr>\n",
       "      <th>113258</th>\n",
       "      <td>XM_054330259.1</td>\n",
       "      <td>TACCAGATTCTATTTGTTAAAACTGAGTCACTCAGTACAGCTCCCA...</td>\n",
       "      <td>XM</td>\n",
       "      <td>[CH3GPPP-AUGGUCUAAGAUAAACAAUUUUGACUCAGUGAGUCAU...</td>\n",
       "      <td>[NH2-V-COOH, NH2-V-COOH]</td>\n",
       "      <td>[NH2-Val-COOH, NH2-Val-COOH]</td>\n",
       "      <td>2</td>\n",
       "      <td>True</td>\n",
       "    </tr>\n",
       "  </tbody>\n",
       "</table>\n",
       "</div>"
      ],
      "text/plain": [
       "                    ID                                           sequence  \\\n",
       "38095   NM_001400874.1  GTATTCAGCGGCGACAGCGGCGACTGCGGCGGCCGCGGGAGGGCAT...   \n",
       "113258  XM_054330259.1  TACCAGATTCTATTTGTTAAAACTGAGTCACTCAGTACAGCTCCCA...   \n",
       "\n",
       "       category                                     mrna_sequences  \\\n",
       "38095        NM  [CH3GPPP-CAUAAGUCGCCGCUGUCGCCGCUGACGCCGCCGGCGC...   \n",
       "113258       XM  [CH3GPPP-AUGGUCUAAGAUAAACAAUUUUGACUCAGUGAGUCAU...   \n",
       "\n",
       "                                      polypeptides_chains  \\\n",
       "38095   [NH2-QKPRWGLVYYRHKLVFRQSLY-COOH, NH2-QKPRWGLVY...   \n",
       "113258                           [NH2-V-COOH, NH2-V-COOH]   \n",
       "\n",
       "                                  polypeptides_chains_ext  \\\n",
       "38095   [NH2-Gln-Lys-Pro-Arg-Trp-Gly-Leu-Val-Tyr-Tyr-A...   \n",
       "113258                       [NH2-Val-COOH, NH2-Val-COOH]   \n",
       "\n",
       "       number_of_proteins_synthesized protein_synthesized  \n",
       "38095                               2                True  \n",
       "113258                              2                True  "
      ]
     },
     "execution_count": 5,
     "metadata": {},
     "output_type": "execute_result"
    }
   ],
   "source": [
    "results_df[results_df['mrna_sequences'].notna()].head(2)"
   ]
  },
  {
   "cell_type": "code",
   "execution_count": 6,
   "metadata": {},
   "outputs": [
    {
     "name": "stdout",
     "output_type": "stream",
     "text": [
      "Number of DNA sequence traslated: 3\n",
      "Number of DNA sequence not traslated: 4\n"
     ]
    }
   ],
   "source": [
    "print('Number of DNA sequence traslated:', results_df[results_df['mrna_sequences'].notna()].shape[0])\n",
    "print('Number of DNA sequence not traslated:', results_df[results_df['protein_synthesized']==False].shape[0])"
   ]
  },
  {
   "cell_type": "code",
   "execution_count": 7,
   "metadata": {},
   "outputs": [
    {
     "data": {
      "text/html": [
       "<div>\n",
       "<style scoped>\n",
       "    .dataframe tbody tr th:only-of-type {\n",
       "        vertical-align: middle;\n",
       "    }\n",
       "\n",
       "    .dataframe tbody tr th {\n",
       "        vertical-align: top;\n",
       "    }\n",
       "\n",
       "    .dataframe thead th {\n",
       "        text-align: right;\n",
       "    }\n",
       "</style>\n",
       "<table border=\"1\" class=\"dataframe\">\n",
       "  <thead>\n",
       "    <tr style=\"text-align: right;\">\n",
       "      <th></th>\n",
       "      <th>polypeptides_chains</th>\n",
       "      <th>number_of_proteins_synthesized</th>\n",
       "    </tr>\n",
       "  </thead>\n",
       "  <tbody>\n",
       "    <tr>\n",
       "      <th>38095</th>\n",
       "      <td>[NH2-QKPRWGLVYYRHKLVFRQSLY-COOH, NH2-QKPRWGLVY...</td>\n",
       "      <td>2</td>\n",
       "    </tr>\n",
       "    <tr>\n",
       "      <th>113258</th>\n",
       "      <td>[NH2-V-COOH, NH2-V-COOH]</td>\n",
       "      <td>2</td>\n",
       "    </tr>\n",
       "    <tr>\n",
       "      <th>132315</th>\n",
       "      <td>[NH2-SEPPTRSTAEERERATGAWTGATHGSTSLTTSRTPYGTGKG...</td>\n",
       "      <td>1</td>\n",
       "    </tr>\n",
       "  </tbody>\n",
       "</table>\n",
       "</div>"
      ],
      "text/plain": [
       "                                      polypeptides_chains  \\\n",
       "38095   [NH2-QKPRWGLVYYRHKLVFRQSLY-COOH, NH2-QKPRWGLVY...   \n",
       "113258                           [NH2-V-COOH, NH2-V-COOH]   \n",
       "132315  [NH2-SEPPTRSTAEERERATGAWTGATHGSTSLTTSRTPYGTGKG...   \n",
       "\n",
       "       number_of_proteins_synthesized  \n",
       "38095                               2  \n",
       "113258                              2  \n",
       "132315                              1  "
      ]
     },
     "execution_count": 7,
     "metadata": {},
     "output_type": "execute_result"
    }
   ],
   "source": [
    "results_df[results_df['mrna_sequences'].notna()][[\n",
    "    'polypeptides_chains', 'number_of_proteins_synthesized']]"
   ]
  }
 ],
 "metadata": {
  "kernelspec": {
   "display_name": "base",
   "language": "python",
   "name": "python3"
  },
  "language_info": {
   "codemirror_mode": {
    "name": "ipython",
    "version": 3
   },
   "file_extension": ".py",
   "mimetype": "text/x-python",
   "name": "python",
   "nbconvert_exporter": "python",
   "pygments_lexer": "ipython3",
   "version": "3.10.9"
  }
 },
 "nbformat": 4,
 "nbformat_minor": 2
}
