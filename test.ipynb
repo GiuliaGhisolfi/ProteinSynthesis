{
 "cells": [
  {
   "cell_type": "markdown",
   "metadata": {},
   "source": [
    "Load dataset:"
   ]
  },
  {
   "cell_type": "code",
   "execution_count": 1,
   "metadata": {},
   "outputs": [
    {
     "data": {
      "text/html": [
       "<div>\n",
       "<style scoped>\n",
       "    .dataframe tbody tr th:only-of-type {\n",
       "        vertical-align: middle;\n",
       "    }\n",
       "\n",
       "    .dataframe tbody tr th {\n",
       "        vertical-align: top;\n",
       "    }\n",
       "\n",
       "    .dataframe thead th {\n",
       "        text-align: right;\n",
       "    }\n",
       "</style>\n",
       "<table border=\"1\" class=\"dataframe\">\n",
       "  <thead>\n",
       "    <tr style=\"text-align: right;\">\n",
       "      <th></th>\n",
       "      <th>ID</th>\n",
       "      <th>sequence</th>\n",
       "      <th>category</th>\n",
       "    </tr>\n",
       "  </thead>\n",
       "  <tbody>\n",
       "    <tr>\n",
       "      <th>0</th>\n",
       "      <td>NM_001368254.1</td>\n",
       "      <td>GCTGAGCTGAGCTGGGGCGCAGCCGCCTGTCTGCACCGGCAGCACC...</td>\n",
       "      <td>NM</td>\n",
       "    </tr>\n",
       "    <tr>\n",
       "      <th>1</th>\n",
       "      <td>NM_001350977.1</td>\n",
       "      <td>TCCACAACTGAAACATCCACTTCTGAACACCATGTCCTACTACAGC...</td>\n",
       "      <td>NM</td>\n",
       "    </tr>\n",
       "  </tbody>\n",
       "</table>\n",
       "</div>"
      ],
      "text/plain": [
       "               ID                                           sequence category\n",
       "0  NM_001368254.1  GCTGAGCTGAGCTGGGGCGCAGCCGCCTGTCTGCACCGGCAGCACC...       NM\n",
       "1  NM_001350977.1  TCCACAACTGAAACATCCACTTCTGAACACCATGTCCTACTACAGC...       NM"
      ]
     },
     "execution_count": 1,
     "metadata": {},
     "output_type": "execute_result"
    }
   ],
   "source": [
    "from HumanGenomeDataset.load_dataset import load_dataset\n",
    "\n",
    "data_df = load_dataset('dna_protein_coding_sequences')\n",
    "data_df.head(2)"
   ]
  },
  {
   "cell_type": "markdown",
   "metadata": {},
   "source": [
    "Start simulation:"
   ]
  },
  {
   "cell_type": "code",
   "execution_count": 2,
   "metadata": {},
   "outputs": [],
   "source": [
    "from src.simulation import ProteinSinthesisProcess\n",
    "SIM_TIME = 30"
   ]
  },
  {
   "cell_type": "code",
   "execution_count": 3,
   "metadata": {},
   "outputs": [
    {
     "name": "stdout",
     "output_type": "stream",
     "text": [
      "Simulation environment initialized \t\n",
      "Simulation started: \n",
      "\n",
      "Time 0: Protein synthesis started for sequence 0\n",
      "Time 0: Transcription started\n",
      "Promoters found: 6\n",
      "Time 0: Transcription started for mRNA sequence 0\n",
      "Time 1: Transcription ended for mRNA sequence 0\n",
      "Time 1: Translation started for mRNA sequence 0\n",
      "Time 1.4000000000000004: Translation ended for mRNA sequence 0\n",
      "Time 1.4000000000000004: Transcription started for mRNA sequence 1\n",
      "Time 2.4000000000000004: Transcription ended for mRNA sequence 1\n",
      "Time 2.4000000000000004: Translation started for mRNA sequence 1\n",
      "Time 2.5: Translation ended for mRNA sequence 1\n",
      "Time 2.5: Transcription started for mRNA sequence 2\n",
      "Time 3.5: Transcription ended for mRNA sequence 2\n",
      "Time 3.5: Translation started for mRNA sequence 2\n",
      "Time 5.749999999999992: Translation ended for mRNA sequence 2\n",
      "Time 5.749999999999992: Transcription started for mRNA sequence 3\n",
      "Time 6.749999999999992: Transcription ended for mRNA sequence 3\n",
      "Time 6.749999999999992: Translation started for mRNA sequence 3\n",
      "Time 6.8999999999999915: Translation ended for mRNA sequence 3\n",
      "Time 6.8999999999999915: Transcription started for mRNA sequence 4\n",
      "Time 7.8999999999999915: Transcription ended for mRNA sequence 4\n",
      "Time 7.8999999999999915: Translation started for mRNA sequence 4\n",
      "Time 8.65: Translation ended for mRNA sequence 4\n",
      "Time 8.65: Transcription started for mRNA sequence 5\n",
      "Time 9.65: Transcription ended for mRNA sequence 5\n",
      "Time 9.65: Transcription ended\n",
      "Time 9.65: Translation started for mRNA sequence 5\n",
      "Time 10.050000000000006: Translation ended for mRNA sequence 5\n",
      "Time 10.050000000000006: Translation ended\n",
      "Protein synthesized: 6 \n",
      "\n",
      "Time 10.050000000000006: Protein synthesis started for sequence 1\n",
      "Time 10.050000000000006: Transcription started\n",
      "Promoters found: 0\n",
      "Protein synthesized: 0 \n",
      "\n",
      "Time 10.050000000000006: Protein synthesis started for sequence 2\n",
      "Time 10.050000000000006: Transcription started\n",
      "Promoters found: 0\n",
      "Protein synthesized: 0 \n",
      "\n",
      "Time 10.050000000000006: Protein synthesis started for sequence 3\n",
      "Time 10.050000000000006: Transcription started\n",
      "Promoters found: 0\n",
      "Protein synthesized: 0 \n",
      "\n",
      "Time 10.050000000000006: Protein synthesis started for sequence 4\n",
      "Time 10.050000000000006: Transcription started\n",
      "Promoters found: 0\n",
      "Protein synthesized: 0 \n",
      "\n",
      "Time 10.050000000000006: Protein synthesis started for sequence 5\n",
      "Time 10.050000000000006: Transcription started\n",
      "Promoters found: 16\n",
      "Time 10.050000000000006: Transcription started for mRNA sequence 0\n",
      "Time 11.050000000000006: Transcription ended for mRNA sequence 0\n",
      "Time 11.050000000000006: Translation started for mRNA sequence 0\n",
      "Time 11.050000000000006: Translation ended for mRNA sequence 0\n",
      "Time 11.050000000000006: Transcription started for mRNA sequence 1\n",
      "Time 12.050000000000006: Transcription ended for mRNA sequence 1\n",
      "Time 12.050000000000006: Translation started for mRNA sequence 1\n",
      "Time 13.05000000000002: Translation ended for mRNA sequence 1\n",
      "Time 13.05000000000002: Transcription started for mRNA sequence 2\n",
      "Time 14.05000000000002: Transcription ended for mRNA sequence 2\n",
      "Time 14.05000000000002: Translation started for mRNA sequence 2\n",
      "Time 14.05000000000002: Translation ended for mRNA sequence 2\n",
      "Time 14.05000000000002: Transcription started for mRNA sequence 3\n",
      "Time 15.05000000000002: Transcription ended for mRNA sequence 3\n",
      "Time 15.05000000000002: Translation started for mRNA sequence 3\n",
      "Time 19.600000000000083: Translation ended for mRNA sequence 3\n",
      "Time 19.600000000000083: Transcription started for mRNA sequence 4\n",
      "Time 20.600000000000083: Transcription ended for mRNA sequence 4\n",
      "Time 20.600000000000083: Translation started for mRNA sequence 4\n",
      "Time 20.700000000000085: Translation ended for mRNA sequence 4\n",
      "Time 20.700000000000085: Transcription started for mRNA sequence 5\n",
      "Time 21.700000000000085: Transcription ended for mRNA sequence 5\n",
      "Time 21.700000000000085: Translation started for mRNA sequence 5\n",
      "Time 23.100000000000104: Translation ended for mRNA sequence 5\n",
      "Time 23.100000000000104: Transcription started for mRNA sequence 6\n",
      "Time 24.100000000000104: Transcription ended for mRNA sequence 6\n",
      "Time 24.100000000000104: Translation started for mRNA sequence 6\n",
      "Time 27.800000000000157: Translation ended for mRNA sequence 6\n",
      "Time 27.800000000000157: Transcription started for mRNA sequence 7\n",
      "Time 28.800000000000157: Transcription ended for mRNA sequence 7\n",
      "Time 28.800000000000157: Translation started for mRNA sequence 7\n",
      "Time 28.800000000000157: Translation ended for mRNA sequence 7\n",
      "Time 28.800000000000157: Transcription started for mRNA sequence 8\n",
      "Time 29.800000000000157: Transcription ended for mRNA sequence 8\n",
      "Time 29.800000000000157: Translation started for mRNA sequence 8\n",
      "Time 29.800000000000157: Translation ended for mRNA sequence 8\n",
      "Time 29.800000000000157: Transcription started for mRNA sequence 9\n"
     ]
    }
   ],
   "source": [
    "protein_synthesis_process = ProteinSinthesisProcess(dna_sequences_df=data_df, verbose=True)\n",
    "protein_synthesis_process.run(simulation_time=SIM_TIME) # run the simulation"
   ]
  },
  {
   "cell_type": "markdown",
   "metadata": {},
   "source": [
    "Results:"
   ]
  },
  {
   "cell_type": "code",
   "execution_count": 4,
   "metadata": {},
   "outputs": [],
   "source": [
    "results_df = protein_synthesis_process.dna_sequences_df"
   ]
  },
  {
   "cell_type": "code",
   "execution_count": 5,
   "metadata": {},
   "outputs": [
    {
     "name": "stdout",
     "output_type": "stream",
     "text": [
      "Number of DNA sequence traslated: 1\n",
      "Number of DNA sequence not traslated: 4\n"
     ]
    }
   ],
   "source": [
    "print('Number of DNA sequence traslated:', results_df[results_df['mrna_sequences'].notna()].shape[0])\n",
    "print('Number of DNA sequence not traslated:', results_df[results_df['protein_synthesized']==False].shape[0])"
   ]
  },
  {
   "cell_type": "code",
   "execution_count": 6,
   "metadata": {},
   "outputs": [
    {
     "data": {
      "text/html": [
       "<div>\n",
       "<style scoped>\n",
       "    .dataframe tbody tr th:only-of-type {\n",
       "        vertical-align: middle;\n",
       "    }\n",
       "\n",
       "    .dataframe tbody tr th {\n",
       "        vertical-align: top;\n",
       "    }\n",
       "\n",
       "    .dataframe thead th {\n",
       "        text-align: right;\n",
       "    }\n",
       "</style>\n",
       "<table border=\"1\" class=\"dataframe\">\n",
       "  <thead>\n",
       "    <tr style=\"text-align: right;\">\n",
       "      <th></th>\n",
       "      <th>polypeptides_chains</th>\n",
       "      <th>number_of_proteins_synthesized</th>\n",
       "    </tr>\n",
       "  </thead>\n",
       "  <tbody>\n",
       "    <tr>\n",
       "      <th>167621</th>\n",
       "      <td>[NH2-YIGIGKK-COOH, NH2-V-COOH, NH2-YVVPIKKTHKN...</td>\n",
       "      <td>6</td>\n",
       "    </tr>\n",
       "  </tbody>\n",
       "</table>\n",
       "</div>"
      ],
      "text/plain": [
       "                                      polypeptides_chains  \\\n",
       "167621  [NH2-YIGIGKK-COOH, NH2-V-COOH, NH2-YVVPIKKTHKN...   \n",
       "\n",
       "       number_of_proteins_synthesized  \n",
       "167621                              6  "
      ]
     },
     "execution_count": 6,
     "metadata": {},
     "output_type": "execute_result"
    }
   ],
   "source": [
    "results_df[results_df['mrna_sequences'].notna()][[\n",
    "    'polypeptides_chains', 'number_of_proteins_synthesized']]"
   ]
  }
 ],
 "metadata": {
  "kernelspec": {
   "display_name": "base",
   "language": "python",
   "name": "python3"
  },
  "language_info": {
   "codemirror_mode": {
    "name": "ipython",
    "version": 3
   },
   "file_extension": ".py",
   "mimetype": "text/x-python",
   "name": "python",
   "nbconvert_exporter": "python",
   "pygments_lexer": "ipython3",
   "version": "3.10.9"
  }
 },
 "nbformat": 4,
 "nbformat_minor": 2
}
