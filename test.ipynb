{
 "cells": [
  {
   "cell_type": "code",
   "execution_count": 38,
   "metadata": {},
   "outputs": [],
   "source": [
    "from src.simulation import ProteinSinthesisProcess, save_data\n",
    "\n",
    "RESULTS_PATH = 'data/human_genoma_results.pkl'\n",
    "SIM_TIME = 30"
   ]
  },
  {
   "cell_type": "code",
   "execution_count": 39,
   "metadata": {},
   "outputs": [
    {
     "name": "stdout",
     "output_type": "stream",
     "text": [
      "DNA sequences loaded\n",
      "Eucaryotes cell initialized\n",
      "Simulation environment initialized \t\n",
      "Simulation started: \t\n",
      "Protein synthesized\n",
      "Protein synthesized\n",
      "Protein synthesized\n",
      "Protein not synthesized\n"
     ]
    }
   ],
   "source": [
    "protein_synthesis_process = ProteinSinthesisProcess(data='human_genoma', verbose=True)\n",
    "protein_synthesis_process.run(simulation_time=SIM_TIME) # run the simulation\n",
    "save_data(protein_synthesis_process.dna_sequences_df, RESULTS_PATH, verbose=False)"
   ]
  },
  {
   "cell_type": "markdown",
   "metadata": {},
   "source": [
    "Results:"
   ]
  },
  {
   "cell_type": "code",
   "execution_count": 40,
   "metadata": {},
   "outputs": [],
   "source": [
    "results_df = protein_synthesis_process.dna_sequences_df"
   ]
  },
  {
   "cell_type": "code",
   "execution_count": 41,
   "metadata": {},
   "outputs": [
    {
     "name": "stdout",
     "output_type": "stream",
     "text": [
      "Total number of dna sequences processed: 17\n",
      "Total number of proteins synthesized: 5\n",
      "Number of true positives:  3\n",
      "Number of false positives:  2\n"
     ]
    }
   ],
   "source": [
    "print('Total number of dna sequences processed:', results_df[results_df['protein_synthesized'].notnull()].shape[0])\n",
    "print('Total number of proteins synthesized:', results_df['protein_synthesized'].sum())\n",
    "print('Number of true positives: ', results_df['protein_synthesized'].sum()-results_df[\n",
    "    results_df['peptides_cardinality']==0]['peptides_cardinality'].size)\n",
    "print('Number of false positives: ', results_df[results_df['peptides_cardinality']==0]['peptides_cardinality'].size)"
   ]
  },
  {
   "cell_type": "code",
   "execution_count": 47,
   "metadata": {},
   "outputs": [
    {
     "data": {
      "text/html": [
       "<div>\n",
       "<style scoped>\n",
       "    .dataframe tbody tr th:only-of-type {\n",
       "        vertical-align: middle;\n",
       "    }\n",
       "\n",
       "    .dataframe tbody tr th {\n",
       "        vertical-align: top;\n",
       "    }\n",
       "\n",
       "    .dataframe thead th {\n",
       "        text-align: right;\n",
       "    }\n",
       "</style>\n",
       "<table border=\"1\" class=\"dataframe\">\n",
       "  <thead>\n",
       "    <tr style=\"text-align: right;\">\n",
       "      <th></th>\n",
       "      <th>polypeptides_chain_synthetized</th>\n",
       "      <th>polypeptides_chain_extended</th>\n",
       "      <th>peptides_cardinality</th>\n",
       "    </tr>\n",
       "  </thead>\n",
       "  <tbody>\n",
       "    <tr>\n",
       "      <th>38477</th>\n",
       "      <td>H2N-SY-COOH</td>\n",
       "      <td>H2N-Ser-Tyr-COOH</td>\n",
       "      <td>2</td>\n",
       "    </tr>\n",
       "    <tr>\n",
       "      <th>38477</th>\n",
       "      <td>H2N-SY-COOH</td>\n",
       "      <td>H2N-Ser-Tyr-COOH</td>\n",
       "      <td>2</td>\n",
       "    </tr>\n",
       "    <tr>\n",
       "      <th>53080</th>\n",
       "      <td>H2N-YYICIQTPTGKRVEY-COOH</td>\n",
       "      <td>H2N-Tyr-Tyr-Ile-Cys-Ile-Gln-Thr-Pro-Thr-Gly-Ly...</td>\n",
       "      <td>15</td>\n",
       "    </tr>\n",
       "  </tbody>\n",
       "</table>\n",
       "</div>"
      ],
      "text/plain": [
       "      polypeptides_chain_synthetized  \\\n",
       "38477                    H2N-SY-COOH   \n",
       "38477                    H2N-SY-COOH   \n",
       "53080       H2N-YYICIQTPTGKRVEY-COOH   \n",
       "\n",
       "                             polypeptides_chain_extended peptides_cardinality  \n",
       "38477                                   H2N-Ser-Tyr-COOH                    2  \n",
       "38477                                   H2N-Ser-Tyr-COOH                    2  \n",
       "53080  H2N-Tyr-Tyr-Ile-Cys-Ile-Gln-Thr-Pro-Thr-Gly-Ly...                   15  "
      ]
     },
     "execution_count": 47,
     "metadata": {},
     "output_type": "execute_result"
    }
   ],
   "source": [
    "results_df[results_df['peptides_cardinality']>0][\n",
    "    ['polypeptides_chain_synthetized', 'polypeptides_chain_extended','peptides_cardinality']]"
   ]
  },
  {
   "cell_type": "markdown",
   "metadata": {},
   "source": [
    "Try to translate sequence false positive using BioPython"
   ]
  },
  {
   "cell_type": "code",
   "execution_count": 48,
   "metadata": {},
   "outputs": [
    {
     "data": {
      "text/html": [
       "<div>\n",
       "<style scoped>\n",
       "    .dataframe tbody tr th:only-of-type {\n",
       "        vertical-align: middle;\n",
       "    }\n",
       "\n",
       "    .dataframe tbody tr th {\n",
       "        vertical-align: top;\n",
       "    }\n",
       "\n",
       "    .dataframe thead th {\n",
       "        text-align: right;\n",
       "    }\n",
       "</style>\n",
       "<table border=\"1\" class=\"dataframe\">\n",
       "  <thead>\n",
       "    <tr style=\"text-align: right;\">\n",
       "      <th></th>\n",
       "      <th>sequence</th>\n",
       "    </tr>\n",
       "  </thead>\n",
       "  <tbody>\n",
       "    <tr>\n",
       "      <th>44471</th>\n",
       "      <td>GGGCCGCGAGAGGCGCCGGGATCGCGGGCGCCGGCTGAGCCAGCGG...</td>\n",
       "    </tr>\n",
       "    <tr>\n",
       "      <th>44471</th>\n",
       "      <td>TCTCCCGCGCGTCGCCGAAAGCGGCTCTGACCCAGCGGAAGTAATT...</td>\n",
       "    </tr>\n",
       "  </tbody>\n",
       "</table>\n",
       "</div>"
      ],
      "text/plain": [
       "                                                sequence\n",
       "44471  GGGCCGCGAGAGGCGCCGGGATCGCGGGCGCCGGCTGAGCCAGCGG...\n",
       "44471  TCTCCCGCGCGTCGCCGAAAGCGGCTCTGACCCAGCGGAAGTAATT..."
      ]
     },
     "execution_count": 48,
     "metadata": {},
     "output_type": "execute_result"
    }
   ],
   "source": [
    "results_df[results_df['peptides_cardinality']==0][['sequence']]"
   ]
  },
  {
   "cell_type": "code",
   "execution_count": 49,
   "metadata": {},
   "outputs": [],
   "source": [
    "from Bio.Seq import Seq\n",
    "import random\n",
    "from src.nucleotides import NucleotidesSymbolsAllocations"
   ]
  },
  {
   "cell_type": "code",
   "execution_count": 53,
   "metadata": {},
   "outputs": [],
   "source": [
    "PROMOTERS = ['TATAAAA', 'TATAAAT', 'TATATAA', 'TATATAT']\n",
    "\n",
    "def find_promoter(dna_sequence):\n",
    "    # find promoter sequence\n",
    "    positions_list = [dna_sequence.find(promoter) for promoter in PROMOTERS]\n",
    "\n",
    "    if not any([pos > 0 for pos in positions_list]):\n",
    "        #raise ValueError('No promoter found')\n",
    "        return None\n",
    "    else:\n",
    "        promoter_posotion = min([pos for pos in positions_list if pos > 0])\n",
    "\n",
    "    promoter_string = PROMOTERS[positions_list.index(promoter_posotion)]\n",
    "    len_promoter = len(promoter_string)\n",
    "\n",
    "    return dna_sequence[promoter_posotion+len_promoter:]"
   ]
  },
  {
   "cell_type": "code",
   "execution_count": 65,
   "metadata": {},
   "outputs": [
    {
     "name": "stdout",
     "output_type": "stream",
     "text": [
      "UACAGAGUUAUACAUACUACUUUGUAAGAUAACUUUUCUUUUCAAAACUGAAGUCAAUGUGAUAGAAUGGUGAGCAUUAUUUUGGAAGGCCAGACUAGGAGGAGGUGGGAGGAAGAAGUCAGACUCAGCCUGUGAACAGACGCUAACCUUGGCAGAAGCCAAAACAGUCAGACAGUGUUGUCUAAAAAUGAUCAUUCAAGAAGAGCGAAACAGCAAGGUGAUUUGUGAAAGAGAUUUAUUAGAAAAUGAAACACAUUUAUACCUCUGUUCAAUAAAAAUCUGCUUUUCGUC\n",
      "YRVIHTTL\n",
      "\t\n",
      "AGUUCAUUGCAAAGCAGAUUAUCUUGUUUUUUUGCAUAGCAAUCAAAGUUGAAAUUUGUUUGCUACAUCAACAAAUUAAGGACAUUUUCACAAACUGAGAAAUAAACAAAUAUGCCAAUUCGUAGGUGGUUUUGCCUUAUCCUUUGAAUGUGACUUAAAAUCAGCAAUGAUGAUAUAGUAAAUACUGAAAUUUAGGUGUAAAUCAAUACGUUCUACAGGGAAAUAAUGAGGCUAAGUAUUUUUAUGUUUUUAGUGGUUUUUUAGAAACCUAAUCUUAUAGCCGCCAUUAGCAUUACUAGAGUUAUGCAAAUAAUUGCAUUAUAAACAUGUUUAUAACUUAGCCAAAACAUUGAUUUUUAUAACUCUCCAAGUAUGAGUUGAAAUUUCUUAUGUCUUUUGAUAAACUGCAGUAUUCUUUAAGUGUACUUUGUCCUUUUGUUUAUUGCUACAAUUUAAGAACUUUAUUUAAAAACAAUUUUGGAAGGUUACUAGGUACAGCUUUUGCAGAAGAAACUGAACUGUAGCCAGAUGGUCAGCAAGUAAACUACAUGACUUAGAGUUCUUGUGCAUUAUACAUUUUGGGUAAUUCAAAGUACUGUAUUUGCAUUGACUAUAAAGCGUCGUUUGCAAUAUUUAUUCUUCCUUCAUAGUCCCUUGUUGUGAUUAUACUUCCAGUUGUUUAAAUGUAUUUUAAAAGACUCACUAUUAACUUUAUUCAGAUCUUAAAAGCUACACCUUUUUGAACUAUUCCAGUCUUUCUCCAUCCAAUUAGAAUGUUAUGGAAUAACAUGUGAAGAGAUACAGUGAAAAUCAUAUUAUAAUGCAUUGAAGAUAUCCUACAUGAAUUAUCUUCUAUUAAAAUAUGUCCCAAUAAAUAUACCCAUAAUCAGUGGGUCUUCUACUGAAAUCAAGCUCAUUCAGCUUUUCUAUUAAGCAGCCAAAAAAUUUUUUGAAAAAAUAUGACAGCAUCAUUCCUUAUGCAUGGGGAAAGAAGCACUGGAGAUGGGUUUAGUAUUGUCUUUAUCUCAGAGGUGGAACAAAGUUGUCAUUAUAGGGUCUAUAAACUUAAGUCUCCAGCUUAUUUGAGACUGGCUUAAUAUGGCUGAGCCCGGUGGCUCAUGCCUGUAAUCCCAGCACUUUCAGAGGACGAGGCGGGUAGAUCACUUGAGGCCAGGAGUUUGAGACCAGCCUGGCCACCAUGGCAAAACCCCAUCUCUACCAAAAAUGCAAAAAUUAGCUAGGCCAUGGUGGCACACGCCUGUAAUCCCAGCUACUUGUGAGGCUGAGGCAUGAGAAUCGCUUGAACCUGGGAGGUGGAGGUGGCAGUGAGCCGAGAUCGCACCACUGCACUCCAGCCUGGGUGACAGAGCGAGACUGUCUCAAAAAAAAAAAAAAAAA\n",
      "SSLQSRLSCFFA\n",
      "\t\n"
     ]
    }
   ],
   "source": [
    "for dna_sequence in results_df[results_df['peptides_cardinality']==0]['sequence']:\n",
    "    dna_sequence = ''.join([random.choice(NucleotidesSymbolsAllocations[n]) for n in dna_sequence])\n",
    "    dna_sequence = find_promoter(dna_sequence)\n",
    "\n",
    "    dna_sequence = Seq(dna_sequence)\n",
    "    mRNA_sequence = dna_sequence.transcribe()\n",
    "    mRNA_sequence = mRNA_sequence[:-(len(mRNA_sequence)%3)]\n",
    "    print(mRNA_sequence)\n",
    "    protein_sequence = mRNA_sequence.translate()\n",
    "\n",
    "    if \"*\" in protein_sequence:\n",
    "        # If there's a stop codon, truncate the protein sequence at the stop codon\n",
    "        protein_sequence = protein_sequence[:protein_sequence.index(\"*\")]\n",
    "\n",
    "    print(protein_sequence)\n",
    "    print('\\t')"
   ]
  },
  {
   "cell_type": "markdown",
   "metadata": {},
   "source": [
    "See how many TATA box in each dna sequence:"
   ]
  },
  {
   "cell_type": "code",
   "execution_count": 77,
   "metadata": {},
   "outputs": [],
   "source": [
    "PROMOTERS = ['TATAAAA', 'TATAAAT', 'TATATAA', 'TATATAT']\n",
    "tata_box_cardinality = []\n",
    "\n",
    "for dna_sequence in results_df['sequence'].unique():\n",
    "    # count how many tata boxes are in the sequence\n",
    "    dna_sequence = Seq(dna_sequence)\n",
    "    tata_box_count = 0\n",
    "    for promoter in PROMOTERS:\n",
    "        tata_box_count += dna_sequence.count(promoter)\n",
    "        \n",
    "    tata_box_cardinality.append(tata_box_count)"
   ]
  },
  {
   "cell_type": "code",
   "execution_count": 79,
   "metadata": {},
   "outputs": [
    {
     "data": {
      "text/plain": [
       "117"
      ]
     },
     "execution_count": 79,
     "metadata": {},
     "output_type": "execute_result"
    }
   ],
   "source": [
    "max(tata_box_cardinality)"
   ]
  },
  {
   "cell_type": "code",
   "execution_count": 82,
   "metadata": {},
   "outputs": [
    {
     "data": {
      "image/png": "[encoded data removed]",
      "text/plain": [
       "<Figure size 2000x600 with 1 Axes>"
      ]
     },
     "metadata": {},
     "output_type": "display_data"
    }
   ],
   "source": [
    "import matplotlib.pyplot as plt\n",
    "\n",
    "plt.figure(figsize=(20,6))\n",
    "plt.bar(range(1,117), [tata_box_cardinality.count(i) for i in range(1,117)]);"
   ]
  },
  {
   "cell_type": "markdown",
   "metadata": {},
   "source": [
    "### New dataset"
   ]
  },
  {
   "cell_type": "code",
   "execution_count": 1,
   "metadata": {},
   "outputs": [],
   "source": [
    "from HumanGenomeDataset.load_dataset import load_dataset\n",
    "\n",
    "protein_coding_sequences_df = load_dataset('dna_protein_coding_sequences')\n",
    "rna_sequences_df = load_dataset('rna_sequences') \n",
    "protein_sequences_df = load_dataset('protein_sequences')"
   ]
  },
  {
   "cell_type": "code",
   "execution_count": 2,
   "metadata": {},
   "outputs": [
    {
     "data": {
      "text/html": [
       "<div>\n",
       "<style scoped>\n",
       "    .dataframe tbody tr th:only-of-type {\n",
       "        vertical-align: middle;\n",
       "    }\n",
       "\n",
       "    .dataframe tbody tr th {\n",
       "        vertical-align: top;\n",
       "    }\n",
       "\n",
       "    .dataframe thead th {\n",
       "        text-align: right;\n",
       "    }\n",
       "</style>\n",
       "<table border=\"1\" class=\"dataframe\">\n",
       "  <thead>\n",
       "    <tr style=\"text-align: right;\">\n",
       "      <th></th>\n",
       "      <th>ID</th>\n",
       "      <th>sequence</th>\n",
       "      <th>category</th>\n",
       "    </tr>\n",
       "  </thead>\n",
       "  <tbody>\n",
       "    <tr>\n",
       "      <th>0</th>\n",
       "      <td>NM_001368254.1</td>\n",
       "      <td>GCTGAGCTGAGCTGGGGCGCAGCCGCCTGTCTGCACCGGCAGCACC...</td>\n",
       "      <td>NM</td>\n",
       "    </tr>\n",
       "    <tr>\n",
       "      <th>1</th>\n",
       "      <td>NM_001350977.1</td>\n",
       "      <td>TCCACAACTGAAACATCCACTTCTGAACACCATGTCCTACTACAGC...</td>\n",
       "      <td>NM</td>\n",
       "    </tr>\n",
       "  </tbody>\n",
       "</table>\n",
       "</div>"
      ],
      "text/plain": [
       "               ID                                           sequence category\n",
       "0  NM_001368254.1  GCTGAGCTGAGCTGGGGCGCAGCCGCCTGTCTGCACCGGCAGCACC...       NM\n",
       "1  NM_001350977.1  TCCACAACTGAAACATCCACTTCTGAACACCATGTCCTACTACAGC...       NM"
      ]
     },
     "execution_count": 2,
     "metadata": {},
     "output_type": "execute_result"
    }
   ],
   "source": [
    "protein_coding_sequences_df.head(2)"
   ]
  },
  {
   "cell_type": "code",
   "execution_count": 3,
   "metadata": {},
   "outputs": [
    {
     "data": {
      "text/html": [
       "<div>\n",
       "<style scoped>\n",
       "    .dataframe tbody tr th:only-of-type {\n",
       "        vertical-align: middle;\n",
       "    }\n",
       "\n",
       "    .dataframe tbody tr th {\n",
       "        vertical-align: top;\n",
       "    }\n",
       "\n",
       "    .dataframe thead th {\n",
       "        text-align: right;\n",
       "    }\n",
       "</style>\n",
       "<table border=\"1\" class=\"dataframe\">\n",
       "  <thead>\n",
       "    <tr style=\"text-align: right;\">\n",
       "      <th></th>\n",
       "      <th>ID</th>\n",
       "      <th>sequence</th>\n",
       "    </tr>\n",
       "  </thead>\n",
       "  <tbody>\n",
       "    <tr>\n",
       "      <th>0</th>\n",
       "      <td>NR_168385.1</td>\n",
       "      <td>AGCAGGGCGTCCAGCGGAGAAGGCAGAGGAGGGGAGATGCGGGCTC...</td>\n",
       "    </tr>\n",
       "    <tr>\n",
       "      <th>1</th>\n",
       "      <td>NR_168384.1</td>\n",
       "      <td>AGCAGGGCGTCCAGCGGAGAAGGCAGAGGAGGGGAGATGCGGGCTC...</td>\n",
       "    </tr>\n",
       "  </tbody>\n",
       "</table>\n",
       "</div>"
      ],
      "text/plain": [
       "            ID                                           sequence\n",
       "0  NR_168385.1  AGCAGGGCGTCCAGCGGAGAAGGCAGAGGAGGGGAGATGCGGGCTC...\n",
       "1  NR_168384.1  AGCAGGGCGTCCAGCGGAGAAGGCAGAGGAGGGGAGATGCGGGCTC..."
      ]
     },
     "execution_count": 3,
     "metadata": {},
     "output_type": "execute_result"
    }
   ],
   "source": [
    "rna_sequences_df.head(2)"
   ]
  },
  {
   "cell_type": "code",
   "execution_count": 4,
   "metadata": {},
   "outputs": [
    {
     "data": {
      "text/html": [
       "<div>\n",
       "<style scoped>\n",
       "    .dataframe tbody tr th:only-of-type {\n",
       "        vertical-align: middle;\n",
       "    }\n",
       "\n",
       "    .dataframe tbody tr th {\n",
       "        vertical-align: top;\n",
       "    }\n",
       "\n",
       "    .dataframe thead th {\n",
       "        text-align: right;\n",
       "    }\n",
       "</style>\n",
       "<table border=\"1\" class=\"dataframe\">\n",
       "  <thead>\n",
       "    <tr style=\"text-align: right;\">\n",
       "      <th></th>\n",
       "      <th>ID</th>\n",
       "      <th>protein</th>\n",
       "    </tr>\n",
       "  </thead>\n",
       "  <tbody>\n",
       "    <tr>\n",
       "      <th>0</th>\n",
       "      <td>NP_001355183.1</td>\n",
       "      <td>MLLMVVSMACVGLFLVQRAGPHMGGQDKPFLSAWPSAVVPRGGHVT...</td>\n",
       "    </tr>\n",
       "    <tr>\n",
       "      <th>1</th>\n",
       "      <td>NP_001337906.1</td>\n",
       "      <td>MSYYSHLSGGLGCGLAVAVTMGRTVAVAEYGRCRHGCHSSYSAR</td>\n",
       "    </tr>\n",
       "  </tbody>\n",
       "</table>\n",
       "</div>"
      ],
      "text/plain": [
       "               ID                                            protein\n",
       "0  NP_001355183.1  MLLMVVSMACVGLFLVQRAGPHMGGQDKPFLSAWPSAVVPRGGHVT...\n",
       "1  NP_001337906.1       MSYYSHLSGGLGCGLAVAVTMGRTVAVAEYGRCRHGCHSSYSAR"
      ]
     },
     "execution_count": 4,
     "metadata": {},
     "output_type": "execute_result"
    }
   ],
   "source": [
    "protein_sequences_df.head(2)"
   ]
  }
 ],
 "metadata": {
  "kernelspec": {
   "display_name": "base",
   "language": "python",
   "name": "python3"
  },
  "language_info": {
   "codemirror_mode": {
    "name": "ipython",
    "version": 3
   },
   "file_extension": ".py",
   "mimetype": "text/x-python",
   "name": "python",
   "nbconvert_exporter": "python",
   "pygments_lexer": "ipython3",
   "version": "3.10.9"
  }
 },
 "nbformat": 4,
 "nbformat_minor": 2
}
