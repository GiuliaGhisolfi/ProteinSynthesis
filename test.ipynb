{
 "cells": [
  {
   "cell_type": "markdown",
   "metadata": {},
   "source": [
    "Load dataset:"
   ]
  },
  {
   "cell_type": "code",
   "execution_count": 1,
   "metadata": {},
   "outputs": [
    {
     "data": {
      "text/html": [
       "<div>\n",
       "<style scoped>\n",
       "    .dataframe tbody tr th:only-of-type {\n",
       "        vertical-align: middle;\n",
       "    }\n",
       "\n",
       "    .dataframe tbody tr th {\n",
       "        vertical-align: top;\n",
       "    }\n",
       "\n",
       "    .dataframe thead th {\n",
       "        text-align: right;\n",
       "    }\n",
       "</style>\n",
       "<table border=\"1\" class=\"dataframe\">\n",
       "  <thead>\n",
       "    <tr style=\"text-align: right;\">\n",
       "      <th></th>\n",
       "      <th>ID</th>\n",
       "      <th>sequence</th>\n",
       "      <th>category</th>\n",
       "    </tr>\n",
       "  </thead>\n",
       "  <tbody>\n",
       "    <tr>\n",
       "      <th>0</th>\n",
       "      <td>NM_001368254.1</td>\n",
       "      <td>GCTGAGCTGAGCTGGGGCGCAGCCGCCTGTCTGCACCGGCAGCACC...</td>\n",
       "      <td>NM</td>\n",
       "    </tr>\n",
       "    <tr>\n",
       "      <th>1</th>\n",
       "      <td>NM_001350977.1</td>\n",
       "      <td>TCCACAACTGAAACATCCACTTCTGAACACCATGTCCTACTACAGC...</td>\n",
       "      <td>NM</td>\n",
       "    </tr>\n",
       "  </tbody>\n",
       "</table>\n",
       "</div>"
      ],
      "text/plain": [
       "               ID                                           sequence category\n",
       "0  NM_001368254.1  GCTGAGCTGAGCTGGGGCGCAGCCGCCTGTCTGCACCGGCAGCACC...       NM\n",
       "1  NM_001350977.1  TCCACAACTGAAACATCCACTTCTGAACACCATGTCCTACTACAGC...       NM"
      ]
     },
     "execution_count": 1,
     "metadata": {},
     "output_type": "execute_result"
    }
   ],
   "source": [
    "from HumanGenomeDataset.load_dataset import load_dataset\n",
    "\n",
    "data_df = load_dataset('dna_protein_coding_sequences')\n",
    "data_df.head(2)"
   ]
  },
  {
   "cell_type": "markdown",
   "metadata": {},
   "source": [
    "Start simulation:"
   ]
  },
  {
   "cell_type": "code",
   "execution_count": 2,
   "metadata": {},
   "outputs": [],
   "source": [
    "from src.simulation import ProteinSinthesisProcess\n",
    "SIM_TIME = 30"
   ]
  },
  {
   "cell_type": "code",
   "execution_count": 3,
   "metadata": {},
   "outputs": [
    {
     "name": "stdout",
     "output_type": "stream",
     "text": [
      "Simulation environment initialized \t\n",
      "Simulation started: \n",
      "\n",
      "Time 0: Protein synthesis started for sequence 0\n",
      "Time 0: Transcription started\n",
      "Time 0: Transcription ended\n",
      "mRNA synthesized: 6\n",
      "Time 0: Translation started\n",
      "Time 0: Translation ended\n",
      "Protein synthesized: 6 \n",
      "\n",
      "Time 0: Protein synthesis started for sequence 1\n",
      "Time 0: Transcription started\n",
      "Time 0: Transcription ended\n",
      "mRNA synthesized: 0\n",
      "Protein synthesized: 0 \n",
      "\n",
      "Time 0: Protein synthesis started for sequence 2\n",
      "Time 0: Transcription started\n",
      "Time 0: Transcription ended\n",
      "mRNA synthesized: 0\n",
      "Protein synthesized: 0 \n",
      "\n",
      "Time 9.830241589045176: Protein synthesis started for sequence 3\n",
      "Time 9.830241589045176: Transcription started\n",
      "Time 9.830241589045176: Transcription ended\n",
      "mRNA synthesized: 0\n",
      "Protein synthesized: 0 \n",
      "\n",
      "Time 18.162574403242342: Protein synthesis started for sequence 4\n",
      "Time 18.162574403242342: Transcription started\n",
      "Time 18.162574403242342: Transcription ended\n",
      "mRNA synthesized: 16\n",
      "Time 18.162574403242342: Translation started\n",
      "Time 18.162574403242342: Translation ended\n",
      "Protein synthesized: 16 \n",
      "\n",
      "Time 22.569106481024278: Protein synthesis started for sequence 5\n",
      "Time 22.569106481024278: Transcription started\n",
      "Time 22.569106481024278: Transcription ended\n",
      "mRNA synthesized: 21\n",
      "Time 22.569106481024278: Translation started\n",
      "Time 22.569106481024278: Translation ended\n",
      "Protein synthesized: 21 \n",
      "\n",
      "Time 27.539984294418538: Protein synthesis started for sequence 6\n",
      "Time 27.539984294418538: Transcription started\n",
      "Time 27.539984294418538: Transcription ended\n",
      "mRNA synthesized: 0\n",
      "Protein synthesized: 0 \n",
      "\n"
     ]
    }
   ],
   "source": [
    "protein_synthesis_process = ProteinSinthesisProcess(dna_sequences_df=data_df, verbose=True)\n",
    "protein_synthesis_process.run(simulation_time=SIM_TIME) # run the simulation"
   ]
  },
  {
   "cell_type": "markdown",
   "metadata": {},
   "source": [
    "Results:"
   ]
  },
  {
   "cell_type": "code",
   "execution_count": 4,
   "metadata": {},
   "outputs": [],
   "source": [
    "results_df = protein_synthesis_process.dna_sequences_df"
   ]
  },
  {
   "cell_type": "code",
   "execution_count": 5,
   "metadata": {},
   "outputs": [
    {
     "name": "stdout",
     "output_type": "stream",
     "text": [
      "Number of DNA sequence traslated: 3\n",
      "Number of DNA sequence not traslated: 4\n"
     ]
    }
   ],
   "source": [
    "print('Number of DNA sequence traslated:', results_df[results_df['mrna_sequences'].notna()].shape[0])\n",
    "print('Number of DNA sequence not traslated:', results_df[results_df['protein_synthesized']==False].shape[0])"
   ]
  },
  {
   "cell_type": "code",
   "execution_count": 6,
   "metadata": {},
   "outputs": [
    {
     "data": {
      "text/html": [
       "<div>\n",
       "<style scoped>\n",
       "    .dataframe tbody tr th:only-of-type {\n",
       "        vertical-align: middle;\n",
       "    }\n",
       "\n",
       "    .dataframe tbody tr th {\n",
       "        vertical-align: top;\n",
       "    }\n",
       "\n",
       "    .dataframe thead th {\n",
       "        text-align: right;\n",
       "    }\n",
       "</style>\n",
       "<table border=\"1\" class=\"dataframe\">\n",
       "  <thead>\n",
       "    <tr style=\"text-align: right;\">\n",
       "      <th></th>\n",
       "      <th>polypeptides_chains</th>\n",
       "      <th>number_of_proteins_synthesized</th>\n",
       "    </tr>\n",
       "  </thead>\n",
       "  <tbody>\n",
       "    <tr>\n",
       "      <th>149563</th>\n",
       "      <td>[NH2-KNKIFPVVMYSTIKYKVHVNTRSGNTISLK-COOH, NH2-...</td>\n",
       "      <td>21</td>\n",
       "    </tr>\n",
       "    <tr>\n",
       "      <th>167621</th>\n",
       "      <td>[NH2-YIGIGKK-COOH, NH2-V-COOH, NH2-YVVPIKKTHKN...</td>\n",
       "      <td>6</td>\n",
       "    </tr>\n",
       "    <tr>\n",
       "      <th>185125</th>\n",
       "      <td>[NH2--COOH, NH2-NLNEQVRYLILYRRYVPFF-COOH, NH2-...</td>\n",
       "      <td>16</td>\n",
       "    </tr>\n",
       "  </tbody>\n",
       "</table>\n",
       "</div>"
      ],
      "text/plain": [
       "                                      polypeptides_chains  \\\n",
       "149563  [NH2-KNKIFPVVMYSTIKYKVHVNTRSGNTISLK-COOH, NH2-...   \n",
       "167621  [NH2-YIGIGKK-COOH, NH2-V-COOH, NH2-YVVPIKKTHKN...   \n",
       "185125  [NH2--COOH, NH2-NLNEQVRYLILYRRYVPFF-COOH, NH2-...   \n",
       "\n",
       "       number_of_proteins_synthesized  \n",
       "149563                             21  \n",
       "167621                              6  \n",
       "185125                             16  "
      ]
     },
     "execution_count": 6,
     "metadata": {},
     "output_type": "execute_result"
    }
   ],
   "source": [
    "results_df[results_df['mrna_sequences'].notna()][[\n",
    "    'polypeptides_chains', 'number_of_proteins_synthesized']]"
   ]
  }
 ],
 "metadata": {
  "kernelspec": {
   "display_name": "base",
   "language": "python",
   "name": "python3"
  },
  "language_info": {
   "codemirror_mode": {
    "name": "ipython",
    "version": 3
   },
   "file_extension": ".py",
   "mimetype": "text/x-python",
   "name": "python",
   "nbconvert_exporter": "python",
   "pygments_lexer": "ipython3",
   "version": "3.10.9"
  }
 },
 "nbformat": 4,
 "nbformat_minor": 2
}
