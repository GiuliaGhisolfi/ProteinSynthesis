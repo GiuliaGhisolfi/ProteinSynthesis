{
 "cells": [
  {
   "cell_type": "markdown",
   "metadata": {},
   "source": [
    "# Protein Synthesis Simulation"
   ]
  },
  {
   "cell_type": "markdown",
   "metadata": {},
   "source": [
    "Load dataset:"
   ]
  },
  {
   "cell_type": "code",
   "execution_count": 1,
   "metadata": {},
   "outputs": [
    {
     "name": "stderr",
     "output_type": "stream",
     "text": [
      "c:\\Users\\giuli\\anaconda3\\lib\\site-packages\\pandas\\core\\arrays\\masked.py:60: UserWarning: Pandas requires version '1.3.6' or newer of 'bottleneck' (version '1.3.5' currently installed).\n",
      "  from pandas.core import (\n"
     ]
    },
    {
     "data": {
      "text/html": [
       "<div>\n",
       "<style scoped>\n",
       "    .dataframe tbody tr th:only-of-type {\n",
       "        vertical-align: middle;\n",
       "    }\n",
       "\n",
       "    .dataframe tbody tr th {\n",
       "        vertical-align: top;\n",
       "    }\n",
       "\n",
       "    .dataframe thead th {\n",
       "        text-align: right;\n",
       "    }\n",
       "</style>\n",
       "<table border=\"1\" class=\"dataframe\">\n",
       "  <thead>\n",
       "    <tr style=\"text-align: right;\">\n",
       "      <th></th>\n",
       "      <th>ID</th>\n",
       "      <th>sequence</th>\n",
       "      <th>category</th>\n",
       "    </tr>\n",
       "  </thead>\n",
       "  <tbody>\n",
       "    <tr>\n",
       "      <th>0</th>\n",
       "      <td>NM_001368254.1</td>\n",
       "      <td>GCTGAGCTGAGCTGGGGCGCAGCCGCCTGTCTGCACCGGCAGCACC...</td>\n",
       "      <td>NM</td>\n",
       "    </tr>\n",
       "    <tr>\n",
       "      <th>1</th>\n",
       "      <td>NM_001350977.1</td>\n",
       "      <td>TCCACAACTGAAACATCCACTTCTGAACACCATGTCCTACTACAGC...</td>\n",
       "      <td>NM</td>\n",
       "    </tr>\n",
       "  </tbody>\n",
       "</table>\n",
       "</div>"
      ],
      "text/plain": [
       "               ID                                           sequence category\n",
       "0  NM_001368254.1  GCTGAGCTGAGCTGGGGCGCAGCCGCCTGTCTGCACCGGCAGCACC...       NM\n",
       "1  NM_001350977.1  TCCACAACTGAAACATCCACTTCTGAACACCATGTCCTACTACAGC...       NM"
      ]
     },
     "execution_count": 1,
     "metadata": {},
     "output_type": "execute_result"
    }
   ],
   "source": [
    "from HumanGenomeDataset.load_dataset import load_dataset\n",
    "\n",
    "data_df = load_dataset('dna_protein_coding_sequences')\n",
    "data_df.head(2)"
   ]
  },
  {
   "cell_type": "markdown",
   "metadata": {},
   "source": [
    "### Simulation"
   ]
  },
  {
   "cell_type": "code",
   "execution_count": 2,
   "metadata": {},
   "outputs": [],
   "source": [
    "from src.simulation import ProteinSinthesisProcess"
   ]
  },
  {
   "cell_type": "code",
   "execution_count": 3,
   "metadata": {},
   "outputs": [],
   "source": [
    "import random\n",
    "random.seed(42)"
   ]
  },
  {
   "cell_type": "code",
   "execution_count": 4,
   "metadata": {},
   "outputs": [],
   "source": [
    "SIM_TIME = 3600*2 # 2 hours\n",
    "NUMBER_RESOURCES = 20\n",
    "NUMBER_RNA_POLYMERASES = 15\n",
    "NUMBER_RIBOSOMES = 8\n",
    "URACIL_INITIAL_AMOUNT = random.randint(1e+4, 5e+4)\n",
    "ADENINE_INITIAL_AMOUNT = random.randint(1e+4, 5e+4)\n",
    "GUANINE_INITIAL_AMOUNT = random.randint(1e+4, 5e+4)\n",
    "CYTOSINE_INITIAL_AMOUNT = random.randint(1e+4, 5e+4)\n",
    "RANDOM_SEED = 42"
   ]
  },
  {
   "cell_type": "code",
   "execution_count": 5,
   "metadata": {},
   "outputs": [
    {
     "name": "stdout",
     "output_type": "stream",
     "text": [
      "Simulation environment initialized, time unit: 0.0001 second.\n"
     ]
    }
   ],
   "source": [
    "protein_synthesis_process = ProteinSinthesisProcess(\n",
    "    dna_sequences_df=data_df,\n",
    "    number_resources=NUMBER_RESOURCES,\n",
    "    number_rna_polymerases=NUMBER_RNA_POLYMERASES, \n",
    "    number_ribosomes=NUMBER_RIBOSOMES,\n",
    "    uracil_initial_amount=URACIL_INITIAL_AMOUNT,\n",
    "    adenine_initial_amount=ADENINE_INITIAL_AMOUNT,\n",
    "    guanine_initial_amount=GUANINE_INITIAL_AMOUNT,\n",
    "    cytosine_initial_amount=CYTOSINE_INITIAL_AMOUNT,\n",
    "    random_seed=RANDOM_SEED,\n",
    "    verbose=False\n",
    "    )"
   ]
  },
  {
   "cell_type": "code",
   "execution_count": 6,
   "metadata": {},
   "outputs": [
    {
     "name": "stdout",
     "output_type": "stream",
     "text": [
      "Protein Sinthesis Process:\n",
      "185310 dna sequences to synthesize,\n",
      "20 resources available,\n",
      "15 RNA polymerases,\n",
      "8 ribosomes,\n",
      "17296 uracil bases,\n",
      "11639 adenine bases,\n",
      "28024 guanine bases,\n",
      "26049 cytosine bases.\n"
     ]
    }
   ],
   "source": [
    "print(protein_synthesis_process)"
   ]
  },
  {
   "cell_type": "markdown",
   "metadata": {},
   "source": [
    "Start simulation:"
   ]
  },
  {
   "cell_type": "code",
   "execution_count": 7,
   "metadata": {},
   "outputs": [
    {
     "name": "stdout",
     "output_type": "stream",
     "text": [
      "Simulation started\n",
      "End simulation: 39 proteins synthesized from 19 DNA sequences.\n"
     ]
    }
   ],
   "source": [
    "protein_synthesis_process.run(simulation_time=SIM_TIME) # run the simulation"
   ]
  },
  {
   "cell_type": "code",
   "execution_count": 8,
   "metadata": {},
   "outputs": [
    {
     "name": "stdout",
     "output_type": "stream",
     "text": [
      "Process saved.\n"
     ]
    }
   ],
   "source": [
    "protein_synthesis_process.save_process() # save the process"
   ]
  },
  {
   "cell_type": "markdown",
   "metadata": {},
   "source": [
    "### Results"
   ]
  },
  {
   "cell_type": "code",
   "execution_count": 9,
   "metadata": {},
   "outputs": [],
   "source": [
    "import pandas as pd\n",
    "results_path = 'results/results.csv'\n",
    "\n",
    "results_df = pd.read_csv(results_path, index_col=0)"
   ]
  },
  {
   "cell_type": "code",
   "execution_count": 10,
   "metadata": {},
   "outputs": [
    {
     "name": "stdout",
     "output_type": "stream",
     "text": [
      "Number of DNA sequence traslated: 18\n",
      "Number of DNA sequence not traslated: 1\n"
     ]
    }
   ],
   "source": [
    "print('Number of DNA sequence traslated:', results_df[results_df['mrna_sequences'].notna()].shape[0])\n",
    "print('Number of DNA sequence not traslated:', results_df[results_df['protein_synthesized']==False].shape[0])"
   ]
  },
  {
   "cell_type": "code",
   "execution_count": 11,
   "metadata": {},
   "outputs": [
    {
     "data": {
      "text/html": [
       "<div>\n",
       "<style scoped>\n",
       "    .dataframe tbody tr th:only-of-type {\n",
       "        vertical-align: middle;\n",
       "    }\n",
       "\n",
       "    .dataframe tbody tr th {\n",
       "        vertical-align: top;\n",
       "    }\n",
       "\n",
       "    .dataframe thead th {\n",
       "        text-align: right;\n",
       "    }\n",
       "</style>\n",
       "<table border=\"1\" class=\"dataframe\">\n",
       "  <thead>\n",
       "    <tr style=\"text-align: right;\">\n",
       "      <th></th>\n",
       "      <th>polypeptides_chains</th>\n",
       "      <th>number_of_proteins_synthesized</th>\n",
       "      <th>length_proteins</th>\n",
       "      <th>number_different_proteins</th>\n",
       "    </tr>\n",
       "  </thead>\n",
       "  <tbody>\n",
       "    <tr>\n",
       "      <th>1372</th>\n",
       "      <td>['NH2-RGLGRGPSQRVADVVVPRLPSSTEVCPVCTCLNPDVP-CO...</td>\n",
       "      <td>3</td>\n",
       "      <td>[37, 37, 37]</td>\n",
       "      <td>1.0</td>\n",
       "    </tr>\n",
       "    <tr>\n",
       "      <th>5653</th>\n",
       "      <td>['NH2-WCVFELFELWLKLRCAVMDL-COOH', 'NH2-WCVFELF...</td>\n",
       "      <td>2</td>\n",
       "      <td>[20, 20]</td>\n",
       "      <td>1.0</td>\n",
       "    </tr>\n",
       "    <tr>\n",
       "      <th>17123</th>\n",
       "      <td>['NH2-REEGGILKRKVTGEMTKPRSDSNSYMSD-COOH', 'NH2...</td>\n",
       "      <td>2</td>\n",
       "      <td>[28, 28]</td>\n",
       "      <td>1.0</td>\n",
       "    </tr>\n",
       "    <tr>\n",
       "      <th>43843</th>\n",
       "      <td>['NH2-SYDALGRLGHRRLGFVSPRKAMNVPYDLRPRPPRGSSSVP...</td>\n",
       "      <td>1</td>\n",
       "      <td>[44]</td>\n",
       "      <td>1.0</td>\n",
       "    </tr>\n",
       "    <tr>\n",
       "      <th>45544</th>\n",
       "      <td>['NH2-AKSPPPAPPPPSPPPAPPSTSSLGAVPRCPDLTAFYGRTT...</td>\n",
       "      <td>2</td>\n",
       "      <td>[41, 41]</td>\n",
       "      <td>1.0</td>\n",
       "    </tr>\n",
       "    <tr>\n",
       "      <th>64893</th>\n",
       "      <td>['NH2-KLYTTFTTTYPK-COOH']</td>\n",
       "      <td>1</td>\n",
       "      <td>[12]</td>\n",
       "      <td>1.0</td>\n",
       "    </tr>\n",
       "    <tr>\n",
       "      <th>69193</th>\n",
       "      <td>['NH2-SRSQILKFTLISHHKCSFTLTYSVEIGEGRKKSILSGII-...</td>\n",
       "      <td>3</td>\n",
       "      <td>[39, 39, 39]</td>\n",
       "      <td>1.0</td>\n",
       "    </tr>\n",
       "    <tr>\n",
       "      <th>83896</th>\n",
       "      <td>['NH2-NFSANASFFYRNYYS-COOH']</td>\n",
       "      <td>1</td>\n",
       "      <td>[15]</td>\n",
       "      <td>1.0</td>\n",
       "    </tr>\n",
       "    <tr>\n",
       "      <th>109799</th>\n",
       "      <td>['NH2-EGRDGCPEVGLEAGPEGRSGDVGGERRPRRPVAAPPSARR...</td>\n",
       "      <td>2</td>\n",
       "      <td>[66, 66]</td>\n",
       "      <td>1.0</td>\n",
       "    </tr>\n",
       "    <tr>\n",
       "      <th>112897</th>\n",
       "      <td>['NH2-PGGPLSPPPRSPTSRGRVDPAGAGLSGSL-COOH', 'NH...</td>\n",
       "      <td>4</td>\n",
       "      <td>[29, 29, 29, 29]</td>\n",
       "      <td>1.0</td>\n",
       "    </tr>\n",
       "    <tr>\n",
       "      <th>146186</th>\n",
       "      <td>['NH2-VVPSSVTWVFLTFVLRRVVSGGRRGGPRPLLPQGVYAPQV...</td>\n",
       "      <td>1</td>\n",
       "      <td>[102]</td>\n",
       "      <td>1.0</td>\n",
       "    </tr>\n",
       "    <tr>\n",
       "      <th>158901</th>\n",
       "      <td>['NH2-FQKKKKKKRRKKRKKKRKRGKKKKERKKKKERKKERERER...</td>\n",
       "      <td>4</td>\n",
       "      <td>[58, 58, 58, 58]</td>\n",
       "      <td>1.0</td>\n",
       "    </tr>\n",
       "    <tr>\n",
       "      <th>159728</th>\n",
       "      <td>['NH2-GQGCTPERT-COOH']</td>\n",
       "      <td>1</td>\n",
       "      <td>[9]</td>\n",
       "      <td>1.0</td>\n",
       "    </tr>\n",
       "    <tr>\n",
       "      <th>160698</th>\n",
       "      <td>['NH2-F-COOH', 'NH2-F-COOH']</td>\n",
       "      <td>2</td>\n",
       "      <td>[1, 1]</td>\n",
       "      <td>1.0</td>\n",
       "    </tr>\n",
       "    <tr>\n",
       "      <th>164704</th>\n",
       "      <td>['NH2-TSVT-COOH', 'NH2-TSVT-COOH', 'NH2-TSVT-C...</td>\n",
       "      <td>3</td>\n",
       "      <td>[4, 4, 4]</td>\n",
       "      <td>1.0</td>\n",
       "    </tr>\n",
       "    <tr>\n",
       "      <th>169358</th>\n",
       "      <td>['NH2-ISLEKRMTL-COOH', 'NH2-ISLEKRMTL-COOH']</td>\n",
       "      <td>2</td>\n",
       "      <td>[9, 9]</td>\n",
       "      <td>1.0</td>\n",
       "    </tr>\n",
       "    <tr>\n",
       "      <th>181739</th>\n",
       "      <td>['NH2-AADPTKAKARAKGYEP-COOH', 'NH2-AADPTKAKARA...</td>\n",
       "      <td>4</td>\n",
       "      <td>[16, 16, 16, 16]</td>\n",
       "      <td>1.0</td>\n",
       "    </tr>\n",
       "    <tr>\n",
       "      <th>184991</th>\n",
       "      <td>['NH2-GCNHSSPGPAsnTGPKSVTCVRKTSFHYSVVGGVSFTSSI...</td>\n",
       "      <td>1</td>\n",
       "      <td>[48]</td>\n",
       "      <td>1.0</td>\n",
       "    </tr>\n",
       "  </tbody>\n",
       "</table>\n",
       "</div>"
      ],
      "text/plain": [
       "                                      polypeptides_chains  \\\n",
       "1372    ['NH2-RGLGRGPSQRVADVVVPRLPSSTEVCPVCTCLNPDVP-CO...   \n",
       "5653    ['NH2-WCVFELFELWLKLRCAVMDL-COOH', 'NH2-WCVFELF...   \n",
       "17123   ['NH2-REEGGILKRKVTGEMTKPRSDSNSYMSD-COOH', 'NH2...   \n",
       "43843   ['NH2-SYDALGRLGHRRLGFVSPRKAMNVPYDLRPRPPRGSSSVP...   \n",
       "45544   ['NH2-AKSPPPAPPPPSPPPAPPSTSSLGAVPRCPDLTAFYGRTT...   \n",
       "64893                           ['NH2-KLYTTFTTTYPK-COOH']   \n",
       "69193   ['NH2-SRSQILKFTLISHHKCSFTLTYSVEIGEGRKKSILSGII-...   \n",
       "83896                        ['NH2-NFSANASFFYRNYYS-COOH']   \n",
       "109799  ['NH2-EGRDGCPEVGLEAGPEGRSGDVGGERRPRRPVAAPPSARR...   \n",
       "112897  ['NH2-PGGPLSPPPRSPTSRGRVDPAGAGLSGSL-COOH', 'NH...   \n",
       "146186  ['NH2-VVPSSVTWVFLTFVLRRVVSGGRRGGPRPLLPQGVYAPQV...   \n",
       "158901  ['NH2-FQKKKKKKRRKKRKKKRKRGKKKKERKKKKERKKERERER...   \n",
       "159728                             ['NH2-GQGCTPERT-COOH']   \n",
       "160698                       ['NH2-F-COOH', 'NH2-F-COOH']   \n",
       "164704  ['NH2-TSVT-COOH', 'NH2-TSVT-COOH', 'NH2-TSVT-C...   \n",
       "169358       ['NH2-ISLEKRMTL-COOH', 'NH2-ISLEKRMTL-COOH']   \n",
       "181739  ['NH2-AADPTKAKARAKGYEP-COOH', 'NH2-AADPTKAKARA...   \n",
       "184991  ['NH2-GCNHSSPGPAsnTGPKSVTCVRKTSFHYSVVGGVSFTSSI...   \n",
       "\n",
       "        number_of_proteins_synthesized   length_proteins  \\\n",
       "1372                                 3      [37, 37, 37]   \n",
       "5653                                 2          [20, 20]   \n",
       "17123                                2          [28, 28]   \n",
       "43843                                1              [44]   \n",
       "45544                                2          [41, 41]   \n",
       "64893                                1              [12]   \n",
       "69193                                3      [39, 39, 39]   \n",
       "83896                                1              [15]   \n",
       "109799                               2          [66, 66]   \n",
       "112897                               4  [29, 29, 29, 29]   \n",
       "146186                               1             [102]   \n",
       "158901                               4  [58, 58, 58, 58]   \n",
       "159728                               1               [9]   \n",
       "160698                               2            [1, 1]   \n",
       "164704                               3         [4, 4, 4]   \n",
       "169358                               2            [9, 9]   \n",
       "181739                               4  [16, 16, 16, 16]   \n",
       "184991                               1              [48]   \n",
       "\n",
       "        number_different_proteins  \n",
       "1372                          1.0  \n",
       "5653                          1.0  \n",
       "17123                         1.0  \n",
       "43843                         1.0  \n",
       "45544                         1.0  \n",
       "64893                         1.0  \n",
       "69193                         1.0  \n",
       "83896                         1.0  \n",
       "109799                        1.0  \n",
       "112897                        1.0  \n",
       "146186                        1.0  \n",
       "158901                        1.0  \n",
       "159728                        1.0  \n",
       "160698                        1.0  \n",
       "164704                        1.0  \n",
       "169358                        1.0  \n",
       "181739                        1.0  \n",
       "184991                        1.0  "
      ]
     },
     "execution_count": 11,
     "metadata": {},
     "output_type": "execute_result"
    }
   ],
   "source": [
    "results_df[results_df['mrna_sequences'].notna()][[\n",
    "    'polypeptides_chains', 'number_of_proteins_synthesized', 'length_proteins', 'number_different_proteins']]"
   ]
  },
  {
   "cell_type": "markdown",
   "metadata": {},
   "source": [
    "### Protein Length"
   ]
  },
  {
   "cell_type": "code",
   "execution_count": 12,
   "metadata": {},
   "outputs": [],
   "source": [
    "from src.utils.plot_utils import *"
   ]
  },
  {
   "cell_type": "code",
   "execution_count": 13,
   "metadata": {},
   "outputs": [],
   "source": [
    "results_df = pd.read_csv('results/results.csv', index_col=0)"
   ]
  },
  {
   "cell_type": "code",
   "execution_count": 14,
   "metadata": {},
   "outputs": [
    {
     "data": {
      "image/png": "[encoded data removed]",
      "text/plain": [
       "<Figure size 2000x500 with 1 Axes>"
      ]
     },
     "metadata": {},
     "output_type": "display_data"
    }
   ],
   "source": [
    "barplot_proteins_number(results_df)"
   ]
  },
  {
   "cell_type": "code",
   "execution_count": 15,
   "metadata": {},
   "outputs": [
    {
     "data": {
      "image/png": "[encoded data removed]",
      "text/plain": [
       "<Figure size 2000x500 with 1 Axes>"
      ]
     },
     "metadata": {},
     "output_type": "display_data"
    }
   ],
   "source": [
    "plot_proteins_number_over_time(results_df)"
   ]
  },
  {
   "cell_type": "code",
   "execution_count": 16,
   "metadata": {},
   "outputs": [
    {
     "data": {
      "image/png": "[encoded data removed]",
      "text/plain": [
       "<Figure size 2000x500 with 1 Axes>"
      ]
     },
     "metadata": {},
     "output_type": "display_data"
    }
   ],
   "source": [
    "plot_cumulative_proteins_number_over_time(results_df)"
   ]
  },
  {
   "cell_type": "code",
   "execution_count": 17,
   "metadata": {},
   "outputs": [
    {
     "data": {
      "image/png": "[encoded data removed]",
      "text/plain": [
       "<Figure size 2000x500 with 1 Axes>"
      ]
     },
     "metadata": {},
     "output_type": "display_data"
    }
   ],
   "source": [
    "barplot_proteins_length(results_df)"
   ]
  },
  {
   "cell_type": "markdown",
   "metadata": {},
   "source": [
    "### Nucleotides Level"
   ]
  },
  {
   "cell_type": "code",
   "execution_count": 18,
   "metadata": {},
   "outputs": [],
   "source": [
    "import json\n",
    "\n",
    "with open('results/nucleotides_history_uracil.json') as f:\n",
    "    uracil_dict = json.load(f)\n",
    "\n",
    "with open('results/nucleotides_history_adenine.json') as f:\n",
    "    adenine_dict = json.load(f)\n",
    "\n",
    "with open('results/nucleotides_history_guanine.json') as f:\n",
    "    guanine_dict = json.load(f)\n",
    "\n",
    "with open('results/nucleotides_history_cytosine.json') as f:\n",
    "    cytosine_dict = json.load(f)"
   ]
  },
  {
   "cell_type": "code",
   "execution_count": 19,
   "metadata": {},
   "outputs": [
    {
     "data": {
      "text/plain": [
       "'\\nplot_nucleotide_level_over_time(\\n    uracil_dict, adenine_dict, guanine_dict, cytosine_dict)\\n'"
      ]
     },
     "execution_count": 19,
     "metadata": {},
     "output_type": "execute_result"
    }
   ],
   "source": [
    "\"\"\"\n",
    "plot_nucleotide_level_over_time(\n",
    "    uracil_dict, adenine_dict, guanine_dict, cytosine_dict)\n",
    "\"\"\""
   ]
  },
  {
   "cell_type": "code",
   "execution_count": 20,
   "metadata": {},
   "outputs": [
    {
     "data": {
      "text/plain": [
       "'\\nbarplot_nucleotide_level_over_time(\\n    uracil_dict, adenine_dict, guanine_dict, cytosine_dict, time_unit=1)\\n'"
      ]
     },
     "execution_count": 20,
     "metadata": {},
     "output_type": "execute_result"
    }
   ],
   "source": [
    "\"\"\"\n",
    "barplot_nucleotide_level_over_time(\n",
    "    uracil_dict, adenine_dict, guanine_dict, cytosine_dict, time_unit=1)\n",
    "\"\"\""
   ]
  },
  {
   "cell_type": "markdown",
   "metadata": {},
   "source": [
    "### RNA Polymerase"
   ]
  },
  {
   "cell_type": "code",
   "execution_count": 21,
   "metadata": {},
   "outputs": [],
   "source": [
    "with open('results/rna_polymerase_history.json') as f:\n",
    "    rna_polymerase_dict = json.load(f)"
   ]
  },
  {
   "cell_type": "code",
   "execution_count": 22,
   "metadata": {},
   "outputs": [],
   "source": [
    "rna_polymerase_df = dict_to_dataframe(rna_polymerase_dict)"
   ]
  },
  {
   "cell_type": "code",
   "execution_count": 23,
   "metadata": {},
   "outputs": [
    {
     "data": {
      "text/html": [
       "<div>\n",
       "<style scoped>\n",
       "    .dataframe tbody tr th:only-of-type {\n",
       "        vertical-align: middle;\n",
       "    }\n",
       "\n",
       "    .dataframe tbody tr th {\n",
       "        vertical-align: top;\n",
       "    }\n",
       "\n",
       "    .dataframe thead th {\n",
       "        text-align: right;\n",
       "    }\n",
       "</style>\n",
       "<table border=\"1\" class=\"dataframe\">\n",
       "  <thead>\n",
       "    <tr style=\"text-align: right;\">\n",
       "      <th></th>\n",
       "      <th>queue</th>\n",
       "      <th>request_time</th>\n",
       "      <th>available_time</th>\n",
       "      <th>wait_time</th>\n",
       "      <th>end_time</th>\n",
       "      <th>usage_time</th>\n",
       "    </tr>\n",
       "  </thead>\n",
       "  <tbody>\n",
       "    <tr>\n",
       "      <th>count</th>\n",
       "      <td>47.0</td>\n",
       "      <td>47.000000</td>\n",
       "      <td>47.000000</td>\n",
       "      <td>47.0</td>\n",
       "      <td>47.000000</td>\n",
       "      <td>47.000000</td>\n",
       "    </tr>\n",
       "    <tr>\n",
       "      <th>mean</th>\n",
       "      <td>0.0</td>\n",
       "      <td>475.146228</td>\n",
       "      <td>475.146228</td>\n",
       "      <td>0.0</td>\n",
       "      <td>581.950353</td>\n",
       "      <td>15.875804</td>\n",
       "    </tr>\n",
       "    <tr>\n",
       "      <th>std</th>\n",
       "      <td>0.0</td>\n",
       "      <td>226.793990</td>\n",
       "      <td>226.793990</td>\n",
       "      <td>0.0</td>\n",
       "      <td>229.160965</td>\n",
       "      <td>13.591274</td>\n",
       "    </tr>\n",
       "    <tr>\n",
       "      <th>min</th>\n",
       "      <td>0.0</td>\n",
       "      <td>0.000000</td>\n",
       "      <td>0.000000</td>\n",
       "      <td>0.0</td>\n",
       "      <td>66.953100</td>\n",
       "      <td>1.410000</td>\n",
       "    </tr>\n",
       "    <tr>\n",
       "      <th>25%</th>\n",
       "      <td>0.0</td>\n",
       "      <td>318.533850</td>\n",
       "      <td>318.533850</td>\n",
       "      <td>0.0</td>\n",
       "      <td>409.819300</td>\n",
       "      <td>4.126450</td>\n",
       "    </tr>\n",
       "    <tr>\n",
       "      <th>50%</th>\n",
       "      <td>0.0</td>\n",
       "      <td>432.082300</td>\n",
       "      <td>432.082300</td>\n",
       "      <td>0.0</td>\n",
       "      <td>580.267500</td>\n",
       "      <td>10.157100</td>\n",
       "    </tr>\n",
       "    <tr>\n",
       "      <th>75%</th>\n",
       "      <td>0.0</td>\n",
       "      <td>679.813300</td>\n",
       "      <td>679.813300</td>\n",
       "      <td>0.0</td>\n",
       "      <td>787.529950</td>\n",
       "      <td>25.406000</td>\n",
       "    </tr>\n",
       "    <tr>\n",
       "      <th>max</th>\n",
       "      <td>0.0</td>\n",
       "      <td>820.621800</td>\n",
       "      <td>820.621800</td>\n",
       "      <td>0.0</td>\n",
       "      <td>930.963300</td>\n",
       "      <td>55.820000</td>\n",
       "    </tr>\n",
       "  </tbody>\n",
       "</table>\n",
       "</div>"
      ],
      "text/plain": [
       "       queue  request_time  available_time  wait_time    end_time  usage_time\n",
       "count   47.0     47.000000       47.000000       47.0   47.000000   47.000000\n",
       "mean     0.0    475.146228      475.146228        0.0  581.950353   15.875804\n",
       "std      0.0    226.793990      226.793990        0.0  229.160965   13.591274\n",
       "min      0.0      0.000000        0.000000        0.0   66.953100    1.410000\n",
       "25%      0.0    318.533850      318.533850        0.0  409.819300    4.126450\n",
       "50%      0.0    432.082300      432.082300        0.0  580.267500   10.157100\n",
       "75%      0.0    679.813300      679.813300        0.0  787.529950   25.406000\n",
       "max      0.0    820.621800      820.621800        0.0  930.963300   55.820000"
      ]
     },
     "execution_count": 23,
     "metadata": {},
     "output_type": "execute_result"
    }
   ],
   "source": [
    "rna_polymerase_df.describe() # values in seconds"
   ]
  },
  {
   "cell_type": "markdown",
   "metadata": {},
   "source": [
    "### Ribosome"
   ]
  },
  {
   "cell_type": "code",
   "execution_count": 24,
   "metadata": {},
   "outputs": [],
   "source": [
    "with open('results/ribosome_history.json') as f:\n",
    "    ribosome_dict = json.load(f)"
   ]
  },
  {
   "cell_type": "code",
   "execution_count": 25,
   "metadata": {},
   "outputs": [],
   "source": [
    "ribosome_df = dict_to_dataframe(ribosome_dict)"
   ]
  },
  {
   "cell_type": "code",
   "execution_count": 26,
   "metadata": {},
   "outputs": [
    {
     "data": {
      "text/html": [
       "<div>\n",
       "<style scoped>\n",
       "    .dataframe tbody tr th:only-of-type {\n",
       "        vertical-align: middle;\n",
       "    }\n",
       "\n",
       "    .dataframe tbody tr th {\n",
       "        vertical-align: top;\n",
       "    }\n",
       "\n",
       "    .dataframe thead th {\n",
       "        text-align: right;\n",
       "    }\n",
       "</style>\n",
       "<table border=\"1\" class=\"dataframe\">\n",
       "  <thead>\n",
       "    <tr style=\"text-align: right;\">\n",
       "      <th></th>\n",
       "      <th>queue</th>\n",
       "      <th>request_time</th>\n",
       "      <th>available_time</th>\n",
       "      <th>wait_time</th>\n",
       "      <th>end_time</th>\n",
       "      <th>usage_time</th>\n",
       "    </tr>\n",
       "  </thead>\n",
       "  <tbody>\n",
       "    <tr>\n",
       "      <th>count</th>\n",
       "      <td>47.0</td>\n",
       "      <td>47.000000</td>\n",
       "      <td>47.000000</td>\n",
       "      <td>47.0</td>\n",
       "      <td>47.000000</td>\n",
       "      <td>47.000000</td>\n",
       "    </tr>\n",
       "    <tr>\n",
       "      <th>mean</th>\n",
       "      <td>0.0</td>\n",
       "      <td>581.950353</td>\n",
       "      <td>581.950353</td>\n",
       "      <td>0.0</td>\n",
       "      <td>583.325885</td>\n",
       "      <td>1.312621</td>\n",
       "    </tr>\n",
       "    <tr>\n",
       "      <th>std</th>\n",
       "      <td>0.0</td>\n",
       "      <td>229.160965</td>\n",
       "      <td>229.160965</td>\n",
       "      <td>0.0</td>\n",
       "      <td>228.893273</td>\n",
       "      <td>1.109284</td>\n",
       "    </tr>\n",
       "    <tr>\n",
       "      <th>min</th>\n",
       "      <td>0.0</td>\n",
       "      <td>66.953100</td>\n",
       "      <td>66.953100</td>\n",
       "      <td>0.0</td>\n",
       "      <td>69.353100</td>\n",
       "      <td>0.050000</td>\n",
       "    </tr>\n",
       "    <tr>\n",
       "      <th>25%</th>\n",
       "      <td>0.0</td>\n",
       "      <td>409.819300</td>\n",
       "      <td>409.819300</td>\n",
       "      <td>0.0</td>\n",
       "      <td>410.969300</td>\n",
       "      <td>0.380100</td>\n",
       "    </tr>\n",
       "    <tr>\n",
       "      <th>50%</th>\n",
       "      <td>0.0</td>\n",
       "      <td>580.267500</td>\n",
       "      <td>580.267500</td>\n",
       "      <td>0.0</td>\n",
       "      <td>582.467500</td>\n",
       "      <td>1.146700</td>\n",
       "    </tr>\n",
       "    <tr>\n",
       "      <th>75%</th>\n",
       "      <td>0.0</td>\n",
       "      <td>787.529950</td>\n",
       "      <td>787.529950</td>\n",
       "      <td>0.0</td>\n",
       "      <td>788.954950</td>\n",
       "      <td>1.900000</td>\n",
       "    </tr>\n",
       "    <tr>\n",
       "      <th>max</th>\n",
       "      <td>0.0</td>\n",
       "      <td>930.963300</td>\n",
       "      <td>930.963300</td>\n",
       "      <td>0.0</td>\n",
       "      <td>932.413300</td>\n",
       "      <td>5.100000</td>\n",
       "    </tr>\n",
       "  </tbody>\n",
       "</table>\n",
       "</div>"
      ],
      "text/plain": [
       "       queue  request_time  available_time  wait_time    end_time  usage_time\n",
       "count   47.0     47.000000       47.000000       47.0   47.000000   47.000000\n",
       "mean     0.0    581.950353      581.950353        0.0  583.325885    1.312621\n",
       "std      0.0    229.160965      229.160965        0.0  228.893273    1.109284\n",
       "min      0.0     66.953100       66.953100        0.0   69.353100    0.050000\n",
       "25%      0.0    409.819300      409.819300        0.0  410.969300    0.380100\n",
       "50%      0.0    580.267500      580.267500        0.0  582.467500    1.146700\n",
       "75%      0.0    787.529950      787.529950        0.0  788.954950    1.900000\n",
       "max      0.0    930.963300      930.963300        0.0  932.413300    5.100000"
      ]
     },
     "execution_count": 26,
     "metadata": {},
     "output_type": "execute_result"
    }
   ],
   "source": [
    "ribosome_df.describe()"
   ]
  }
 ],
 "metadata": {
  "kernelspec": {
   "display_name": "base",
   "language": "python",
   "name": "python3"
  },
  "language_info": {
   "codemirror_mode": {
    "name": "ipython",
    "version": 3
   },
   "file_extension": ".py",
   "mimetype": "text/x-python",
   "name": "python",
   "nbconvert_exporter": "python",
   "pygments_lexer": "ipython3",
   "version": "3.10.9"
  }
 },
 "nbformat": 4,
 "nbformat_minor": 2
}
