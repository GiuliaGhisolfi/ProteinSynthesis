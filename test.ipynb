{
 "cells": [
  {
   "cell_type": "markdown",
   "metadata": {},
   "source": [
    "Load dataset:"
   ]
  },
  {
   "cell_type": "code",
   "execution_count": 1,
   "metadata": {},
   "outputs": [
    {
     "name": "stderr",
     "output_type": "stream",
     "text": [
      "c:\\Users\\giuli\\anaconda3\\lib\\site-packages\\pandas\\core\\arrays\\masked.py:60: UserWarning: Pandas requires version '1.3.6' or newer of 'bottleneck' (version '1.3.5' currently installed).\n",
      "  from pandas.core import (\n"
     ]
    },
    {
     "data": {
      "text/html": [
       "<div>\n",
       "<style scoped>\n",
       "    .dataframe tbody tr th:only-of-type {\n",
       "        vertical-align: middle;\n",
       "    }\n",
       "\n",
       "    .dataframe tbody tr th {\n",
       "        vertical-align: top;\n",
       "    }\n",
       "\n",
       "    .dataframe thead th {\n",
       "        text-align: right;\n",
       "    }\n",
       "</style>\n",
       "<table border=\"1\" class=\"dataframe\">\n",
       "  <thead>\n",
       "    <tr style=\"text-align: right;\">\n",
       "      <th></th>\n",
       "      <th>ID</th>\n",
       "      <th>sequence</th>\n",
       "      <th>category</th>\n",
       "    </tr>\n",
       "  </thead>\n",
       "  <tbody>\n",
       "    <tr>\n",
       "      <th>0</th>\n",
       "      <td>NM_001368254.1</td>\n",
       "      <td>GCTGAGCTGAGCTGGGGCGCAGCCGCCTGTCTGCACCGGCAGCACC...</td>\n",
       "      <td>NM</td>\n",
       "    </tr>\n",
       "    <tr>\n",
       "      <th>1</th>\n",
       "      <td>NM_001350977.1</td>\n",
       "      <td>TCCACAACTGAAACATCCACTTCTGAACACCATGTCCTACTACAGC...</td>\n",
       "      <td>NM</td>\n",
       "    </tr>\n",
       "  </tbody>\n",
       "</table>\n",
       "</div>"
      ],
      "text/plain": [
       "               ID                                           sequence category\n",
       "0  NM_001368254.1  GCTGAGCTGAGCTGGGGCGCAGCCGCCTGTCTGCACCGGCAGCACC...       NM\n",
       "1  NM_001350977.1  TCCACAACTGAAACATCCACTTCTGAACACCATGTCCTACTACAGC...       NM"
      ]
     },
     "execution_count": 1,
     "metadata": {},
     "output_type": "execute_result"
    }
   ],
   "source": [
    "from HumanGenomeDataset.load_dataset import load_dataset\n",
    "\n",
    "data_df = load_dataset('dna_protein_coding_sequences')\n",
    "data_df.head(2)"
   ]
  },
  {
   "cell_type": "markdown",
   "metadata": {},
   "source": [
    "Start simulation:"
   ]
  },
  {
   "cell_type": "code",
   "execution_count": 2,
   "metadata": {},
   "outputs": [],
   "source": [
    "from src.simulation import ProteinSinthesisProcess\n",
    "SIM_TIME = 30"
   ]
  },
  {
   "cell_type": "code",
   "execution_count": 3,
   "metadata": {},
   "outputs": [
    {
     "name": "stdout",
     "output_type": "stream",
     "text": [
      "Simulation environment initialized\n",
      "Simulation started:\n",
      "Time 0.0000: DNA Sequence 0 requesting to start synthesis\n",
      "Time 0.0000: DNA Sequence 0 synthesize started\n",
      "Time 0.1113: DNA Sequence 1 requesting to start synthesis\n",
      "Time 0.1113: DNA Sequence 1 synthesize started\n",
      "Time 0.7526: DNA Sequence 2 requesting to start synthesis\n",
      "Time 0.7526: DNA Sequence 2 synthesize started\n",
      "Time 0.9057: DNA Sequence 3 requesting to start synthesis\n",
      "Time 0.9057: DNA Sequence 3 synthesize started\n",
      "Time 1.8512: DNA Sequence 4 requesting to start synthesis\n",
      "Time 1.8512: DNA Sequence 4 synthesize started\n",
      "Time 1.8512: DNA Sequence 4 synthetis ended\n",
      "Time 2.2016: DNA Sequence 5 requesting to start synthesis\n",
      "Time 2.2016: DNA Sequence 5 synthesize started\n",
      "Time 2.2016: DNA Sequence 5 synthetis ended\n",
      "Time 2.6410: DNA Sequence 6 requesting to start synthesis\n",
      "Time 2.6410: DNA Sequence 6 synthesize started\n",
      "Time 2.6410: DNA Sequence 6 synthetis ended\n",
      "Time 3.1507: DNA Sequence 7 requesting to start synthesis\n",
      "Time 3.1507: DNA Sequence 7 synthesize started\n",
      "Time 3.4414: DNA Sequence 8 requesting to start synthesis\n",
      "Time 3.4793: DNA Sequence 9 requesting to start synthesis\n",
      "Time 4.3113: DNA Sequence 1 synthetis ended\n",
      "Time 4.3113: DNA Sequence 8 synthesize started\n",
      "Time 4.4676: DNA Sequence 10 requesting to start synthesis\n",
      "Time 4.5613: DNA Sequence 2 synthetis ended\n",
      "Time 4.5613: DNA Sequence 9 synthesize started\n"
     ]
    },
    {
     "name": "stderr",
     "output_type": "stream",
     "text": [
      "c:\\Users\\giuli\\anaconda3\\lib\\site-packages\\Bio\\Seq.py:2880: BiopythonWarning: Partial codon, len(sequence) not a multiple of three. Explicitly trim the sequence or add trailing N before translation. This may become an error in future.\n",
      "  warnings.warn(\n"
     ]
    },
    {
     "name": "stdout",
     "output_type": "stream",
     "text": [
      "Time 4.5613: DNA Sequence 9 synthetis ended\n",
      "Time 4.5613: DNA Sequence 10 synthesize started\n",
      "Time 4.6613: DNA Sequence 3 synthetis ended\n",
      "Time 5.0100: DNA Sequence 11 requesting to start synthesis\n",
      "Time 5.0100: DNA Sequence 11 synthesize started\n",
      "Time 5.3153: DNA Sequence 12 requesting to start synthesis\n",
      "Time 5.4769: DNA Sequence 13 requesting to start synthesis\n",
      "Time 5.7378: DNA Sequence 14 requesting to start synthesis\n",
      "Time 6.0440: DNA Sequence 15 requesting to start synthesis\n",
      "Time 6.6116: DNA Sequence 16 requesting to start synthesis\n",
      "Time 6.9718: DNA Sequence 17 requesting to start synthesis\n",
      "Time 7.3113: DNA Sequence 7 synthetis ended\n",
      "Time 7.3113: DNA Sequence 12 synthesize started\n",
      "Time 7.3113: DNA Sequence 12 synthetis ended\n",
      "Time 7.3113: DNA Sequence 13 synthesize started\n",
      "Time 7.3113: DNA Sequence 13 synthetis ended\n",
      "Time 7.3113: DNA Sequence 14 synthesize started\n",
      "Time 7.3113: DNA Sequence 14 synthetis ended\n",
      "Time 7.3113: DNA Sequence 15 synthesize started\n",
      "Time 7.3113: DNA Sequence 15 synthetis ended\n",
      "Time 7.3113: DNA Sequence 16 synthesize started\n",
      "Time 7.6742: DNA Sequence 18 requesting to start synthesis\n",
      "Time 8.2778: DNA Sequence 19 requesting to start synthesis\n",
      "Time 8.4113: DNA Sequence 8 synthetis ended\n",
      "Time 8.4113: DNA Sequence 17 synthesize started\n",
      "Time 9.1418: DNA Sequence 20 requesting to start synthesis\n",
      "Time 9.4113: DNA Sequence 21 requesting to start synthesis\n",
      "Time 9.5723: DNA Sequence 22 requesting to start synthesis\n",
      "Time 9.5746: DNA Sequence 23 requesting to start synthesis\n",
      "Time 9.7102: DNA Sequence 24 requesting to start synthesis\n",
      "Time 9.8087: DNA Sequence 25 requesting to start synthesis\n",
      "Time 10.5946: DNA Sequence 26 requesting to start synthesis\n",
      "Time 11.4271: DNA Sequence 27 requesting to start synthesis\n",
      "Time 12.1397: DNA Sequence 28 requesting to start synthesis\n",
      "Time 12.5715: DNA Sequence 29 requesting to start synthesis\n",
      "Time 12.9275: DNA Sequence 30 requesting to start synthesis\n",
      "Time 13.0613: DNA Sequence 10 synthetis ended\n",
      "Time 13.0613: DNA Sequence 18 synthesize started\n",
      "Time 13.0613: DNA Sequence 18 synthetis ended\n",
      "Time 13.0613: DNA Sequence 19 synthesize started\n",
      "Time 13.0613: DNA Sequence 19 synthetis ended\n",
      "Time 13.0613: DNA Sequence 20 synthesize started\n",
      "Time 13.0613: DNA Sequence 20 synthetis ended\n",
      "Time 13.0613: DNA Sequence 21 synthesize started\n",
      "Time 13.0803: DNA Sequence 31 requesting to start synthesis\n",
      "Time 13.2460: DNA Sequence 32 requesting to start synthesis\n",
      "Time 13.2759: DNA Sequence 33 requesting to start synthesis\n",
      "Time 13.6293: DNA Sequence 34 requesting to start synthesis\n",
      "Time 14.1970: DNA Sequence 35 requesting to start synthesis\n",
      "Time 14.7665: DNA Sequence 36 requesting to start synthesis\n",
      "Time 14.9721: DNA Sequence 37 requesting to start synthesis\n",
      "Time 15.6037: DNA Sequence 38 requesting to start synthesis\n",
      "Time 15.7113: DNA Sequence 11 synthetis ended\n",
      "Time 15.7113: DNA Sequence 22 synthesize started\n",
      "Time 16.3613: DNA Sequence 16 synthetis ended\n",
      "Time 16.3613: DNA Sequence 23 synthesize started\n",
      "Time 16.3742: DNA Sequence 39 requesting to start synthesis\n",
      "Time 17.0940: DNA Sequence 40 requesting to start synthesis\n",
      "Time 17.3157: DNA Sequence 41 requesting to start synthesis\n",
      "Time 17.7113: DNA Sequence 0 synthetis ended\n",
      "Time 17.7113: DNA Sequence 24 synthesize started\n",
      "Time 18.1758: DNA Sequence 42 requesting to start synthesis\n",
      "Time 19.1196: DNA Sequence 43 requesting to start synthesis\n",
      "Time 20.1155: DNA Sequence 44 requesting to start synthesis\n",
      "Time 21.0873: DNA Sequence 45 requesting to start synthesis\n",
      "Time 21.7928: DNA Sequence 46 requesting to start synthesis\n",
      "Time 22.5346: DNA Sequence 47 requesting to start synthesis\n",
      "Time 22.7553: DNA Sequence 48 requesting to start synthesis\n",
      "Time 22.9613: DNA Sequence 23 synthetis ended\n",
      "Time 22.9613: DNA Sequence 25 synthesize started\n",
      "Time 23.4413: DNA Sequence 49 requesting to start synthesis\n",
      "Time 23.8158: DNA Sequence 50 requesting to start synthesis\n",
      "Time 23.8250: DNA Sequence 51 requesting to start synthesis\n",
      "Time 24.0624: DNA Sequence 52 requesting to start synthesis\n",
      "Time 24.4782: DNA Sequence 53 requesting to start synthesis\n",
      "Time 25.0764: DNA Sequence 54 requesting to start synthesis\n",
      "Time 25.4113: DNA Sequence 24 synthetis ended\n",
      "Time 25.4113: DNA Sequence 26 synthesize started\n",
      "Time 26.0326: DNA Sequence 55 requesting to start synthesis\n",
      "Time 26.0639: DNA Sequence 56 requesting to start synthesis\n",
      "Time 26.6612: DNA Sequence 57 requesting to start synthesis\n",
      "Time 27.4518: DNA Sequence 58 requesting to start synthesis\n",
      "Time 27.5175: DNA Sequence 59 requesting to start synthesis\n",
      "Time 27.6613: DNA Sequence 17 synthetis ended\n",
      "Time 27.6613: DNA Sequence 27 synthesize started\n",
      "Time 27.9355: DNA Sequence 60 requesting to start synthesis\n",
      "Time 28.9010: DNA Sequence 61 requesting to start synthesis\n",
      "Time 29.2028: DNA Sequence 62 requesting to start synthesis\n",
      "Time 29.3294: DNA Sequence 63 requesting to start synthesis\n",
      "Time 29.4171: DNA Sequence 64 requesting to start synthesis\n",
      "Time 29.4613: DNA Sequence 21 synthetis ended\n",
      "Time 29.4613: DNA Sequence 28 synthesize started\n",
      "Time 29.9732: DNA Sequence 65 requesting to start synthesis\n",
      "End simulation\n"
     ]
    }
   ],
   "source": [
    "protein_synthesis_process = ProteinSinthesisProcess(dna_sequences_df=data_df, verbose=False)\n",
    "protein_synthesis_process.run(simulation_time=SIM_TIME) # run the simulation"
   ]
  },
  {
   "cell_type": "markdown",
   "metadata": {},
   "source": [
    "Results:"
   ]
  },
  {
   "cell_type": "code",
   "execution_count": 4,
   "metadata": {},
   "outputs": [],
   "source": [
    "results_df = protein_synthesis_process.dna_sequences_df"
   ]
  },
  {
   "cell_type": "code",
   "execution_count": 5,
   "metadata": {},
   "outputs": [
    {
     "data": {
      "text/plain": [
       "Index(['ID', 'sequence', 'category', 'mrna_sequences', 'polypeptides_chains',\n",
       "       'polypeptides_chains_ext', 'number_of_proteins_synthesized',\n",
       "       'protein_synthesized', 'request_start_process_time',\n",
       "       'start_process_time', 'start_transcription_time',\n",
       "       'start_translation_time', 'end_translation_time', 'end_process_time'],\n",
       "      dtype='object')"
      ]
     },
     "execution_count": 5,
     "metadata": {},
     "output_type": "execute_result"
    }
   ],
   "source": [
    "results_df.columns"
   ]
  },
  {
   "cell_type": "code",
   "execution_count": 6,
   "metadata": {},
   "outputs": [
    {
     "name": "stdout",
     "output_type": "stream",
     "text": [
      "Number of DNA sequence traslated: 13\n",
      "Number of DNA sequence not traslated: 11\n"
     ]
    }
   ],
   "source": [
    "print('Number of DNA sequence traslated:', results_df[results_df['mrna_sequences'].notna()].shape[0])\n",
    "print('Number of DNA sequence not traslated:', results_df[results_df['protein_synthesized']==False].shape[0])"
   ]
  },
  {
   "cell_type": "code",
   "execution_count": 7,
   "metadata": {},
   "outputs": [
    {
     "data": {
      "text/html": [
       "<div>\n",
       "<style scoped>\n",
       "    .dataframe tbody tr th:only-of-type {\n",
       "        vertical-align: middle;\n",
       "    }\n",
       "\n",
       "    .dataframe tbody tr th {\n",
       "        vertical-align: top;\n",
       "    }\n",
       "\n",
       "    .dataframe thead th {\n",
       "        text-align: right;\n",
       "    }\n",
       "</style>\n",
       "<table border=\"1\" class=\"dataframe\">\n",
       "  <thead>\n",
       "    <tr style=\"text-align: right;\">\n",
       "      <th></th>\n",
       "      <th>polypeptides_chains</th>\n",
       "      <th>number_of_proteins_synthesized</th>\n",
       "    </tr>\n",
       "  </thead>\n",
       "  <tbody>\n",
       "    <tr>\n",
       "      <th>6807</th>\n",
       "      <td>[NH2-MSSSFIKRPSLIFRHNITTEV-COOH, NH2-MSSSFIKRP...</td>\n",
       "      <td>3</td>\n",
       "    </tr>\n",
       "    <tr>\n",
       "      <th>6832</th>\n",
       "      <td>[NH2-MSQTRHDLTVVVDRPGSYGRLWGVRLHPGCPTGVASPGVSR...</td>\n",
       "      <td>1</td>\n",
       "    </tr>\n",
       "    <tr>\n",
       "      <th>13480</th>\n",
       "      <td>[NH2-MRGRHASAPVVTTETSSSEPPYRVSDPLTRAPGRLRWPEMA...</td>\n",
       "      <td>1</td>\n",
       "    </tr>\n",
       "    <tr>\n",
       "      <th>21397</th>\n",
       "      <td>[NH2-MDVLDRVRPVPQGGGTRHGRGRSLGGTSHSYSSRCGCHRSR...</td>\n",
       "      <td>2</td>\n",
       "    </tr>\n",
       "    <tr>\n",
       "      <th>21454</th>\n",
       "      <td>[NH2-MSIDPGTSTTSIL-COOH, NH2-MSIDPGTSTTSLL-COO...</td>\n",
       "      <td>4</td>\n",
       "    </tr>\n",
       "    <tr>\n",
       "      <th>38095</th>\n",
       "      <td>[NH2-MQKPRWGLVYYRHKLVFRQSLY-COOH, NH2-MQKPRWGL...</td>\n",
       "      <td>2</td>\n",
       "    </tr>\n",
       "    <tr>\n",
       "      <th>49628</th>\n",
       "      <td>[NH2-MPHSRKD-COOH, NH2-MPHSRKD-COOH, NH2-MPHSR...</td>\n",
       "      <td>4</td>\n",
       "    </tr>\n",
       "    <tr>\n",
       "      <th>69870</th>\n",
       "      <td>[NH2-MLGRTSLPGASGLPGPEGPPQVRGAPTSSNFPNICSPSCSF...</td>\n",
       "      <td>4</td>\n",
       "    </tr>\n",
       "    <tr>\n",
       "      <th>78446</th>\n",
       "      <td>[NH2-MVVMYGGLGSVPRSRLGVRLPRRDPGGPGRDTLPCLSVVGV...</td>\n",
       "      <td>1</td>\n",
       "    </tr>\n",
       "    <tr>\n",
       "      <th>113258</th>\n",
       "      <td>[NH2-MV-COOH, NH2-MV-COOH]</td>\n",
       "      <td>2</td>\n",
       "    </tr>\n",
       "    <tr>\n",
       "      <th>132315</th>\n",
       "      <td>[NH2-MSEPPTRSTAEERERATGAWTGATHGSTSLTTSRTPYGTGK...</td>\n",
       "      <td>1</td>\n",
       "    </tr>\n",
       "    <tr>\n",
       "      <th>167621</th>\n",
       "      <td>[NH2-MVFVPSFGKHSLDEGTGLWRTIRGGGL-COOH, NH2-MVF...</td>\n",
       "      <td>6</td>\n",
       "    </tr>\n",
       "    <tr>\n",
       "      <th>179860</th>\n",
       "      <td>[NH2-MDTVYPRAKPFGKGSSGELTLVHEYITPRVNTVVSGGDGRR...</td>\n",
       "      <td>1</td>\n",
       "    </tr>\n",
       "  </tbody>\n",
       "</table>\n",
       "</div>"
      ],
      "text/plain": [
       "                                      polypeptides_chains  \\\n",
       "6807    [NH2-MSSSFIKRPSLIFRHNITTEV-COOH, NH2-MSSSFIKRP...   \n",
       "6832    [NH2-MSQTRHDLTVVVDRPGSYGRLWGVRLHPGCPTGVASPGVSR...   \n",
       "13480   [NH2-MRGRHASAPVVTTETSSSEPPYRVSDPLTRAPGRLRWPEMA...   \n",
       "21397   [NH2-MDVLDRVRPVPQGGGTRHGRGRSLGGTSHSYSSRCGCHRSR...   \n",
       "21454   [NH2-MSIDPGTSTTSIL-COOH, NH2-MSIDPGTSTTSLL-COO...   \n",
       "38095   [NH2-MQKPRWGLVYYRHKLVFRQSLY-COOH, NH2-MQKPRWGL...   \n",
       "49628   [NH2-MPHSRKD-COOH, NH2-MPHSRKD-COOH, NH2-MPHSR...   \n",
       "69870   [NH2-MLGRTSLPGASGLPGPEGPPQVRGAPTSSNFPNICSPSCSF...   \n",
       "78446   [NH2-MVVMYGGLGSVPRSRLGVRLPRRDPGGPGRDTLPCLSVVGV...   \n",
       "113258                         [NH2-MV-COOH, NH2-MV-COOH]   \n",
       "132315  [NH2-MSEPPTRSTAEERERATGAWTGATHGSTSLTTSRTPYGTGK...   \n",
       "167621  [NH2-MVFVPSFGKHSLDEGTGLWRTIRGGGL-COOH, NH2-MVF...   \n",
       "179860  [NH2-MDTVYPRAKPFGKGSSGELTLVHEYITPRVNTVVSGGDGRR...   \n",
       "\n",
       "       number_of_proteins_synthesized  \n",
       "6807                                3  \n",
       "6832                                1  \n",
       "13480                               1  \n",
       "21397                               2  \n",
       "21454                               4  \n",
       "38095                               2  \n",
       "49628                               4  \n",
       "69870                               4  \n",
       "78446                               1  \n",
       "113258                              2  \n",
       "132315                              1  \n",
       "167621                              6  \n",
       "179860                              1  "
      ]
     },
     "execution_count": 7,
     "metadata": {},
     "output_type": "execute_result"
    }
   ],
   "source": [
    "results_df[results_df['mrna_sequences'].notna()][[\n",
    "    'polypeptides_chains', 'number_of_proteins_synthesized']]"
   ]
  },
  {
   "cell_type": "code",
   "execution_count": 8,
   "metadata": {},
   "outputs": [
    {
     "data": {
      "image/png": "[encoded data removed]",
      "text/plain": [
       "<Figure size 2000x500 with 1 Axes>"
      ]
     },
     "metadata": {},
     "output_type": "display_data"
    }
   ],
   "source": [
    "import matplotlib.pyplot as plt\n",
    "\n",
    "plt.figure(figsize=(20, 5))\n",
    "plt.bar(results_df['number_of_proteins_synthesized'].value_counts().index,\n",
    "        results_df['number_of_proteins_synthesized'].value_counts().values)\n",
    "plt.title('Number of proteins synthesized')\n",
    "plt.xlabel('Number of proteins')\n",
    "plt.ylabel('Number of DNA sequences')\n",
    "plt.show()"
   ]
  },
  {
   "cell_type": "code",
   "execution_count": 9,
   "metadata": {},
   "outputs": [
    {
     "data": {
      "image/png": "[encoded data removed]",
      "text/plain": [
       "<Figure size 2000x500 with 1 Axes>"
      ]
     },
     "metadata": {},
     "output_type": "display_data"
    }
   ],
   "source": [
    "# numero di proteine sintetizzate per ogni istante di tempo\n",
    "number_of_proteins_synthesized = results_df[results_df['mrna_sequences'].notna()]['number_of_proteins_synthesized']\n",
    "time = results_df[results_df['mrna_sequences'].notna()]['end_process_time']\n",
    "\n",
    "# convert float values to integers\n",
    "number_of_proteins_synthesized = number_of_proteins_synthesized\n",
    "time = time\n",
    "\n",
    "# riordina i valori in base al tempo\n",
    "time, number_of_proteins_synthesized = zip(*sorted(zip(time, number_of_proteins_synthesized)))\n",
    "cumulative_number_of_proteins_synthesized = [number_of_proteins_synthesized[0]]\n",
    "for i in range(len(number_of_proteins_synthesized)-1):\n",
    "    cumulative_number_of_proteins_synthesized.append(\n",
    "        cumulative_number_of_proteins_synthesized[i]+\n",
    "        number_of_proteins_synthesized[i+1])\n",
    "\n",
    "plt.figure(figsize=(20, 5))\n",
    "plt.plot(time, cumulative_number_of_proteins_synthesized)\n",
    "plt.title('Number of proteins synthesized over time')\n",
    "plt.xlabel('Time')\n",
    "plt.ylabel('Number of proteins')\n",
    "plt.show()"
   ]
  }
 ],
 "metadata": {
  "kernelspec": {
   "display_name": "base",
   "language": "python",
   "name": "python3"
  },
  "language_info": {
   "codemirror_mode": {
    "name": "ipython",
    "version": 3
   },
   "file_extension": ".py",
   "mimetype": "text/x-python",
   "name": "python",
   "nbconvert_exporter": "python",
   "pygments_lexer": "ipython3",
   "version": "3.10.9"
  }
 },
 "nbformat": 4,
 "nbformat_minor": 2
}
