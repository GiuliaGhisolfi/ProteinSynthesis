{
 "cells": [
  {
   "cell_type": "code",
   "execution_count": 1,
   "metadata": {},
   "outputs": [],
   "source": [
    "from dna2protein import gen_frames, find_prots\n",
    "import pandas as pd"
   ]
  },
  {
   "cell_type": "code",
   "execution_count": 3,
   "metadata": {},
   "outputs": [],
   "source": [
    "dna_data = pd.read_csv('../data/dna.txt', header=None, names=['dna_sequence'])\n",
    "sequences = dna_data['dna_sequence'].tolist()"
   ]
  },
  {
   "cell_type": "code",
   "execution_count": 4,
   "metadata": {},
   "outputs": [
    {
     "ename": "AttributeError",
     "evalue": "'list' object has no attribute 'items'",
     "output_type": "error",
     "traceback": [
      "\u001b[1;31m---------------------------------------------------------------------------\u001b[0m",
      "\u001b[1;31mAttributeError\u001b[0m                            Traceback (most recent call last)",
      "Cell \u001b[1;32mIn[4], line 1\u001b[0m\n\u001b[1;32m----> 1\u001b[0m sequences_frames \u001b[38;5;241m=\u001b[39m \u001b[43mgen_frames\u001b[49m\u001b[43m(\u001b[49m\u001b[43msequences\u001b[49m\u001b[43m)\u001b[49m\n\u001b[0;32m      3\u001b[0m proteins \u001b[38;5;241m=\u001b[39m find_prots(sequences_frames)\n\u001b[0;32m      5\u001b[0m \u001b[38;5;28;01mfor\u001b[39;00m key, values \u001b[38;5;129;01min\u001b[39;00m proteins\u001b[38;5;241m.\u001b[39mitems():\n",
      "File \u001b[1;32mc:\\Documenti\\VS_Code\\uni\\CMCS\\ProteinSynthesis\\fasta\\dna2protein.py:130\u001b[0m, in \u001b[0;36mgen_frames\u001b[1;34m(dictionary)\u001b[0m\n\u001b[0;32m    128\u001b[0m \u001b[38;5;28;01mdef\u001b[39;00m \u001b[38;5;21mgen_frames\u001b[39m(dictionary):\n\u001b[0;32m    129\u001b[0m     all_dict \u001b[38;5;241m=\u001b[39m {}\n\u001b[1;32m--> 130\u001b[0m     \u001b[38;5;28;01mfor\u001b[39;00m key, value \u001b[38;5;129;01min\u001b[39;00m \u001b[43mdictionary\u001b[49m\u001b[38;5;241;43m.\u001b[39;49m\u001b[43mitems\u001b[49m():\n\u001b[0;32m    131\u001b[0m         all_dict[key] \u001b[38;5;241m=\u001b[39m frame_id(dictionary[key])\n\u001b[0;32m    133\u001b[0m     \u001b[38;5;28;01mreturn\u001b[39;00m all_dict\n",
      "\u001b[1;31mAttributeError\u001b[0m: 'list' object has no attribute 'items'"
     ]
    }
   ],
   "source": [
    "sequences_frames = gen_frames(sequences)\n",
    "\n",
    "proteins = find_prots(sequences_frames)\n",
    "\n",
    "for key, values in proteins.items():\n",
    "    print(key)\n",
    "    print(values)"
   ]
  }
 ],
 "metadata": {
  "kernelspec": {
   "display_name": "base",
   "language": "python",
   "name": "python3"
  },
  "language_info": {
   "codemirror_mode": {
    "name": "ipython",
    "version": 3
   },
   "file_extension": ".py",
   "mimetype": "text/x-python",
   "name": "python",
   "nbconvert_exporter": "python",
   "pygments_lexer": "ipython3",
   "version": "3.10.9"
  }
 },
 "nbformat": 4,
 "nbformat_minor": 2
}
