{
 "cells": [
  {
   "cell_type": "code",
   "execution_count": 1,
   "metadata": {},
   "outputs": [],
   "source": [
    "from Bio import SeqIO\n",
    "from Bio.Seq import Seq\n",
    "import pandas as pd"
   ]
  },
  {
   "cell_type": "code",
   "execution_count": 2,
   "metadata": {},
   "outputs": [
    {
     "data": {
      "text/html": [
       "<div>\n",
       "<style scoped>\n",
       "    .dataframe tbody tr th:only-of-type {\n",
       "        vertical-align: middle;\n",
       "    }\n",
       "\n",
       "    .dataframe tbody tr th {\n",
       "        vertical-align: top;\n",
       "    }\n",
       "\n",
       "    .dataframe thead th {\n",
       "        text-align: right;\n",
       "    }\n",
       "</style>\n",
       "<table border=\"1\" class=\"dataframe\">\n",
       "  <thead>\n",
       "    <tr style=\"text-align: right;\">\n",
       "      <th></th>\n",
       "      <th>dna_ID</th>\n",
       "      <th>sequence</th>\n",
       "      <th>protein_ID</th>\n",
       "      <th>protein</th>\n",
       "    </tr>\n",
       "  </thead>\n",
       "  <tbody>\n",
       "    <tr>\n",
       "      <th>0</th>\n",
       "      <td>NR_168385.1</td>\n",
       "      <td>AGCAGGGCGTCCAGCGGAGAAGGCAGAGGAGGGGAGATGCGGGCTC...</td>\n",
       "      <td>NP_001355183.1</td>\n",
       "      <td>MLLMVVSMACVGLFLVQRAGPHMGGQDKPFLSAWPSAVVPRGGHVT...</td>\n",
       "    </tr>\n",
       "    <tr>\n",
       "      <th>0</th>\n",
       "      <td>NR_168385.1</td>\n",
       "      <td>AGCAGGGCGTCCAGCGGAGAAGGCAGAGGAGGGGAGATGCGGGCTC...</td>\n",
       "      <td>NP_001382095.1</td>\n",
       "      <td>MATDSGDPASTEDSEKPDGISFENRVPQVAATLTVEARLKEKNSTF...</td>\n",
       "    </tr>\n",
       "  </tbody>\n",
       "</table>\n",
       "</div>"
      ],
      "text/plain": [
       "        dna_ID                                           sequence  \\\n",
       "0  NR_168385.1  AGCAGGGCGTCCAGCGGAGAAGGCAGAGGAGGGGAGATGCGGGCTC...   \n",
       "0  NR_168385.1  AGCAGGGCGTCCAGCGGAGAAGGCAGAGGAGGGGAGATGCGGGCTC...   \n",
       "\n",
       "       protein_ID                                            protein  \n",
       "0  NP_001355183.1  MLLMVVSMACVGLFLVQRAGPHMGGQDKPFLSAWPSAVVPRGGHVT...  \n",
       "0  NP_001382095.1  MATDSGDPASTEDSEKPDGISFENRVPQVAATLTVEARLKEKNSTF...  "
      ]
     },
     "execution_count": 2,
     "metadata": {},
     "output_type": "execute_result"
    }
   ],
   "source": [
    "HUMAN_GENOMA_DATA_PATH = 'data/human_genoma.csv'\n",
    "df = pd.read_csv(HUMAN_GENOMA_DATA_PATH, index_col=0)\n",
    "df.head(2)"
   ]
  },
  {
   "cell_type": "code",
   "execution_count": 10,
   "metadata": {},
   "outputs": [
    {
     "name": "stdout",
     "output_type": "stream",
     "text": [
      "DNA Sequence: ATTGCTAGCTAGCTAGCTAY\n",
      "mRNA Sequence: AUUGCUAGCUAGCUAGCUAY\n",
      "Protein Sequence: IAS*LA\n"
     ]
    }
   ],
   "source": [
    "from Bio import SeqIO\n",
    "from Bio.Seq import Seq\n",
    "from Bio.SeqRecord import SeqRecord\n",
    "\n",
    "# Sequenza di DNA con ID\n",
    "dna_sequence = SeqRecord(Seq(\"ATTGCTAGCTAGCTAGCTAY\"), id=\"NR_168385.1\")\n",
    "\n",
    "# Trascrizione in mRNA\n",
    "mRNA_sequence = dna_sequence.seq.transcribe()\n",
    "\n",
    "# Traduzione in proteina\n",
    "protein_sequence = mRNA_sequence.translate()\n",
    "\n",
    "# Stampa le sequenze\n",
    "print(\"DNA Sequence:\", dna_sequence.seq)\n",
    "print(\"mRNA Sequence:\", mRNA_sequence)\n",
    "print(\"Protein Sequence:\", protein_sequence)"
   ]
  }
 ],
 "metadata": {
  "kernelspec": {
   "display_name": "base",
   "language": "python",
   "name": "python3"
  },
  "language_info": {
   "codemirror_mode": {
    "name": "ipython",
    "version": 3
   },
   "file_extension": ".py",
   "mimetype": "text/x-python",
   "name": "python",
   "nbconvert_exporter": "python",
   "pygments_lexer": "ipython3",
   "version": "3.10.9"
  }
 },
 "nbformat": 4,
 "nbformat_minor": 2
}
