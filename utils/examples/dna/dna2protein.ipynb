{
 "cells": [
  {
   "cell_type": "code",
   "execution_count": 24,
   "metadata": {},
   "outputs": [],
   "source": [
    "import pandas as pd\n",
    "from dna2protein import rev_seq, swap_dna"
   ]
  },
  {
   "cell_type": "code",
   "execution_count": 25,
   "metadata": {},
   "outputs": [
    {
     "data": {
      "text/html": [
       "<div>\n",
       "<style scoped>\n",
       "    .dataframe tbody tr th:only-of-type {\n",
       "        vertical-align: middle;\n",
       "    }\n",
       "\n",
       "    .dataframe tbody tr th {\n",
       "        vertical-align: top;\n",
       "    }\n",
       "\n",
       "    .dataframe thead th {\n",
       "        text-align: right;\n",
       "    }\n",
       "</style>\n",
       "<table border=\"1\" class=\"dataframe\">\n",
       "  <thead>\n",
       "    <tr style=\"text-align: right;\">\n",
       "      <th></th>\n",
       "      <th>dna_sequence</th>\n",
       "    </tr>\n",
       "  </thead>\n",
       "  <tbody>\n",
       "    <tr>\n",
       "      <th>1</th>\n",
       "      <td>CCAGAATGGT TACTATGGAC ATCCGCCAAC CATACAAGCT AT...</td>\n",
       "    </tr>\n",
       "    <tr>\n",
       "      <th>61</th>\n",
       "      <td>TCTCATTTTT AGTTTCAAAG CTTTTGTTAT AACACATGCA AA...</td>\n",
       "    </tr>\n",
       "  </tbody>\n",
       "</table>\n",
       "</div>"
      ],
      "text/plain": [
       "                                         dna_sequence\n",
       "1   CCAGAATGGT TACTATGGAC ATCCGCCAAC CATACAAGCT AT...\n",
       "61  TCTCATTTTT AGTTTCAAAG CTTTTGTTAT AACACATGCA AA..."
      ]
     },
     "execution_count": 25,
     "metadata": {},
     "output_type": "execute_result"
    }
   ],
   "source": [
    "sequences_df = pd.read_csv('data/dna_data.csv', index_col=0)\n",
    "sequences_df['dna_sequence'] = sequences_df['dna_sequence'].str.upper()\n",
    "sequences_df.head(2)"
   ]
  },
  {
   "cell_type": "code",
   "execution_count": 26,
   "metadata": {},
   "outputs": [],
   "source": [
    "sequences_df['rev_seq'] = sequences_df['dna_sequence'].apply(rev_seq)\n",
    "sequences_df['protein'] = sequences_df['dna_sequence'].apply(swap_dna).str.replace('_', '')"
   ]
  },
  {
   "cell_type": "code",
   "execution_count": 27,
   "metadata": {},
   "outputs": [
    {
     "data": {
      "text/html": [
       "<div>\n",
       "<style scoped>\n",
       "    .dataframe tbody tr th:only-of-type {\n",
       "        vertical-align: middle;\n",
       "    }\n",
       "\n",
       "    .dataframe tbody tr th {\n",
       "        vertical-align: top;\n",
       "    }\n",
       "\n",
       "    .dataframe thead th {\n",
       "        text-align: right;\n",
       "    }\n",
       "</style>\n",
       "<table border=\"1\" class=\"dataframe\">\n",
       "  <thead>\n",
       "    <tr style=\"text-align: right;\">\n",
       "      <th></th>\n",
       "      <th>dna_sequence</th>\n",
       "      <th>rev_seq</th>\n",
       "      <th>protein</th>\n",
       "    </tr>\n",
       "  </thead>\n",
       "  <tbody>\n",
       "    <tr>\n",
       "      <th>1</th>\n",
       "      <td>CCAGAATGGT TACTATGGAC ATCCGCCAAC CATACAAGCT AT...</td>\n",
       "      <td>TAGATAAAGC ATTTCACCAT AGCTTGTATG GTTGGCGGAT GT...</td>\n",
       "      <td>PEWNTMDNPPNHTSNWNNFI</td>\n",
       "    </tr>\n",
       "    <tr>\n",
       "      <th>61</th>\n",
       "      <td>TCTCATTTTT AGTTTCAAAG CTTTTGTTAT AACACATGCA AA...</td>\n",
       "      <td>ATTGGTTACG GATATGGATT TGCATGTGTT ATAACAAAAG CT...</td>\n",
       "      <td>SHFNVSKNFVNNTCNIHINP</td>\n",
       "    </tr>\n",
       "  </tbody>\n",
       "</table>\n",
       "</div>"
      ],
      "text/plain": [
       "                                         dna_sequence  \\\n",
       "1   CCAGAATGGT TACTATGGAC ATCCGCCAAC CATACAAGCT AT...   \n",
       "61  TCTCATTTTT AGTTTCAAAG CTTTTGTTAT AACACATGCA AA...   \n",
       "\n",
       "                                              rev_seq               protein  \n",
       "1   TAGATAAAGC ATTTCACCAT AGCTTGTATG GTTGGCGGAT GT...  PEWNTMDNPPNHTSNWNNFI  \n",
       "61  ATTGGTTACG GATATGGATT TGCATGTGTT ATAACAAAAG CT...  SHFNVSKNFVNNTCNIHINP  "
      ]
     },
     "execution_count": 27,
     "metadata": {},
     "output_type": "execute_result"
    }
   ],
   "source": [
    "sequences_df.head(2)"
   ]
  },
  {
   "cell_type": "code",
   "execution_count": 28,
   "metadata": {},
   "outputs": [],
   "source": [
    "sequences_df.to_csv('data/final_data.csv')"
   ]
  }
 ],
 "metadata": {
  "kernelspec": {
   "display_name": "base",
   "language": "python",
   "name": "python3"
  },
  "language_info": {
   "codemirror_mode": {
    "name": "ipython",
    "version": 3
   },
   "file_extension": ".py",
   "mimetype": "text/x-python",
   "name": "python",
   "nbconvert_exporter": "python",
   "pygments_lexer": "ipython3",
   "version": "3.10.9"
  }
 },
 "nbformat": 4,
 "nbformat_minor": 2
}
