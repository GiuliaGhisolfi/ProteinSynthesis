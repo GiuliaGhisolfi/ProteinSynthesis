{
 "cells": [
  {
   "cell_type": "code",
   "execution_count": 1,
   "metadata": {},
   "outputs": [],
   "source": [
    "from Bio import SeqIO\n",
    "import pandas as pd\n",
    "import glob\n",
    "import os"
   ]
  },
  {
   "cell_type": "code",
   "execution_count": 12,
   "metadata": {},
   "outputs": [],
   "source": [
    "RNA_FILE_PATH = '../rna/'\n",
    "PROTEIN_FILE_PATH = '../protein/'"
   ]
  },
  {
   "cell_type": "code",
   "execution_count": 13,
   "metadata": {},
   "outputs": [],
   "source": [
    "rna_files = glob.glob(os.path.join(RNA_FILE_PATH, '*.fna'))\n",
    "protein_files = glob.glob(os.path.join(PROTEIN_FILE_PATH, '*.faa'))"
   ]
  },
  {
   "cell_type": "code",
   "execution_count": 14,
   "metadata": {},
   "outputs": [],
   "source": [
    "def fasta_to_dataframe(filename):\n",
    "    sequences = []\n",
    "    for record in SeqIO.parse(filename, \"fasta\"):\n",
    "        sequences.append({\"ID\": record.id, \"Sequence\": str(record.seq)})\n",
    "    return pd.DataFrame(sequences)"
   ]
  },
  {
   "cell_type": "code",
   "execution_count": 15,
   "metadata": {},
   "outputs": [],
   "source": [
    "rna_df = pd.DataFrame()\n",
    "protein_df = pd.DataFrame()\n",
    "\n",
    "for rna_file in rna_files:\n",
    "    df = fasta_to_dataframe(rna_file)\n",
    "    rna_df = pd.concat([rna_df, df])\n",
    "\n",
    "for protein_file in protein_files:\n",
    "    df = fasta_to_dataframe(protein_file)\n",
    "    protein_df = pd.concat([protein_df, df])"
   ]
  },
  {
   "cell_type": "code",
   "execution_count": 16,
   "metadata": {},
   "outputs": [
    {
     "data": {
      "text/html": [
       "<div>\n",
       "<style scoped>\n",
       "    .dataframe tbody tr th:only-of-type {\n",
       "        vertical-align: middle;\n",
       "    }\n",
       "\n",
       "    .dataframe tbody tr th {\n",
       "        vertical-align: top;\n",
       "    }\n",
       "\n",
       "    .dataframe thead th {\n",
       "        text-align: right;\n",
       "    }\n",
       "</style>\n",
       "<table border=\"1\" class=\"dataframe\">\n",
       "  <thead>\n",
       "    <tr style=\"text-align: right;\">\n",
       "      <th></th>\n",
       "      <th>dna_ID</th>\n",
       "      <th>sequence</th>\n",
       "    </tr>\n",
       "  </thead>\n",
       "  <tbody>\n",
       "    <tr>\n",
       "      <th>0</th>\n",
       "      <td>NR_168385.1</td>\n",
       "      <td>AGCAGGGCGTCCAGCGGAGAAGGCAGAGGAGGGGAGATGCGGGCTC...</td>\n",
       "    </tr>\n",
       "    <tr>\n",
       "      <th>1</th>\n",
       "      <td>NR_168384.1</td>\n",
       "      <td>AGCAGGGCGTCCAGCGGAGAAGGCAGAGGAGGGGAGATGCGGGCTC...</td>\n",
       "    </tr>\n",
       "    <tr>\n",
       "      <th>2</th>\n",
       "      <td>NR_168380.1</td>\n",
       "      <td>AGTCCCAGGGAGGAGACCGCGGGAGAGGCGGCGGGACCAGGGTCCC...</td>\n",
       "    </tr>\n",
       "    <tr>\n",
       "      <th>3</th>\n",
       "      <td>NR_168400.1</td>\n",
       "      <td>GCACACCTGGCTCACGGCGAGTGCGGAGCAGAAAGCACTACTGGCG...</td>\n",
       "    </tr>\n",
       "    <tr>\n",
       "      <th>4</th>\n",
       "      <td>NR_028389.1</td>\n",
       "      <td>GCTACACTTAGTGACTCTGAGGGACATGCAACCCTCCCCGCATGCT...</td>\n",
       "    </tr>\n",
       "  </tbody>\n",
       "</table>\n",
       "</div>"
      ],
      "text/plain": [
       "        dna_ID                                           sequence\n",
       "0  NR_168385.1  AGCAGGGCGTCCAGCGGAGAAGGCAGAGGAGGGGAGATGCGGGCTC...\n",
       "1  NR_168384.1  AGCAGGGCGTCCAGCGGAGAAGGCAGAGGAGGGGAGATGCGGGCTC...\n",
       "2  NR_168380.1  AGTCCCAGGGAGGAGACCGCGGGAGAGGCGGCGGGACCAGGGTCCC...\n",
       "3  NR_168400.1  GCACACCTGGCTCACGGCGAGTGCGGAGCAGAAAGCACTACTGGCG...\n",
       "4  NR_028389.1  GCTACACTTAGTGACTCTGAGGGACATGCAACCCTCCCCGCATGCT..."
      ]
     },
     "execution_count": 16,
     "metadata": {},
     "output_type": "execute_result"
    }
   ],
   "source": [
    "rna_df = rna_df.rename(columns={'Sequence': 'sequence', 'ID': 'dna_ID'})\n",
    "rna_df.head()"
   ]
  },
  {
   "cell_type": "code",
   "execution_count": 17,
   "metadata": {},
   "outputs": [
    {
     "data": {
      "text/html": [
       "<div>\n",
       "<style scoped>\n",
       "    .dataframe tbody tr th:only-of-type {\n",
       "        vertical-align: middle;\n",
       "    }\n",
       "\n",
       "    .dataframe tbody tr th {\n",
       "        vertical-align: top;\n",
       "    }\n",
       "\n",
       "    .dataframe thead th {\n",
       "        text-align: right;\n",
       "    }\n",
       "</style>\n",
       "<table border=\"1\" class=\"dataframe\">\n",
       "  <thead>\n",
       "    <tr style=\"text-align: right;\">\n",
       "      <th></th>\n",
       "      <th>protein_ID</th>\n",
       "      <th>protein</th>\n",
       "    </tr>\n",
       "  </thead>\n",
       "  <tbody>\n",
       "    <tr>\n",
       "      <th>0</th>\n",
       "      <td>NP_001355183.1</td>\n",
       "      <td>MLLMVVSMACVGLFLVQRAGPHMGGQDKPFLSAWPSAVVPRGGHVT...</td>\n",
       "    </tr>\n",
       "    <tr>\n",
       "      <th>1</th>\n",
       "      <td>NP_001337906.1</td>\n",
       "      <td>MSYYSHLSGGLGCGLAVAVTMGRTVAVAEYGRCRHGCHSSYSAR</td>\n",
       "    </tr>\n",
       "    <tr>\n",
       "      <th>2</th>\n",
       "      <td>NP_001243796.1</td>\n",
       "      <td>MEDDSLYLRGEWQFNHFSKLTSSRPDAAFAEIQRTSLPEKSPLSCE...</td>\n",
       "    </tr>\n",
       "    <tr>\n",
       "      <th>3</th>\n",
       "      <td>NP_001229257.1</td>\n",
       "      <td>MEDDSLYLRGEWQFNHFSKLTSSRPDAAFAEIQRTSLPEKSPLSCE...</td>\n",
       "    </tr>\n",
       "    <tr>\n",
       "      <th>4</th>\n",
       "      <td>NP_001243802.1</td>\n",
       "      <td>MGDDSLYLGGEWQFNHFSKLTSSRPDAAFAEIQRTSLPEKSPLSSE...</td>\n",
       "    </tr>\n",
       "  </tbody>\n",
       "</table>\n",
       "</div>"
      ],
      "text/plain": [
       "       protein_ID                                            protein\n",
       "0  NP_001355183.1  MLLMVVSMACVGLFLVQRAGPHMGGQDKPFLSAWPSAVVPRGGHVT...\n",
       "1  NP_001337906.1       MSYYSHLSGGLGCGLAVAVTMGRTVAVAEYGRCRHGCHSSYSAR\n",
       "2  NP_001243796.1  MEDDSLYLRGEWQFNHFSKLTSSRPDAAFAEIQRTSLPEKSPLSCE...\n",
       "3  NP_001229257.1  MEDDSLYLRGEWQFNHFSKLTSSRPDAAFAEIQRTSLPEKSPLSCE...\n",
       "4  NP_001243802.1  MGDDSLYLGGEWQFNHFSKLTSSRPDAAFAEIQRTSLPEKSPLSSE..."
      ]
     },
     "execution_count": 17,
     "metadata": {},
     "output_type": "execute_result"
    }
   ],
   "source": [
    "protein_df = protein_df.rename(columns={'Sequence': 'protein', 'ID': 'protein_ID'})\n",
    "protein_df.head()"
   ]
  },
  {
   "cell_type": "code",
   "execution_count": 18,
   "metadata": {},
   "outputs": [
    {
     "data": {
      "text/html": [
       "<div>\n",
       "<style scoped>\n",
       "    .dataframe tbody tr th:only-of-type {\n",
       "        vertical-align: middle;\n",
       "    }\n",
       "\n",
       "    .dataframe tbody tr th {\n",
       "        vertical-align: top;\n",
       "    }\n",
       "\n",
       "    .dataframe thead th {\n",
       "        text-align: right;\n",
       "    }\n",
       "</style>\n",
       "<table border=\"1\" class=\"dataframe\">\n",
       "  <thead>\n",
       "    <tr style=\"text-align: right;\">\n",
       "      <th></th>\n",
       "      <th>dna_ID</th>\n",
       "      <th>sequence</th>\n",
       "      <th>protein_ID</th>\n",
       "      <th>protein</th>\n",
       "    </tr>\n",
       "  </thead>\n",
       "  <tbody>\n",
       "    <tr>\n",
       "      <th>0</th>\n",
       "      <td>NR_168385.1</td>\n",
       "      <td>AGCAGGGCGTCCAGCGGAGAAGGCAGAGGAGGGGAGATGCGGGCTC...</td>\n",
       "      <td>NP_001355183.1</td>\n",
       "      <td>MLLMVVSMACVGLFLVQRAGPHMGGQDKPFLSAWPSAVVPRGGHVT...</td>\n",
       "    </tr>\n",
       "    <tr>\n",
       "      <th>0</th>\n",
       "      <td>NR_168385.1</td>\n",
       "      <td>AGCAGGGCGTCCAGCGGAGAAGGCAGAGGAGGGGAGATGCGGGCTC...</td>\n",
       "      <td>NP_001382095.1</td>\n",
       "      <td>MATDSGDPASTEDSEKPDGISFENRVPQVAATLTVEARLKEKNSTF...</td>\n",
       "    </tr>\n",
       "    <tr>\n",
       "      <th>0</th>\n",
       "      <td>NR_168385.1</td>\n",
       "      <td>AGCAGGGCGTCCAGCGGAGAAGGCAGAGGAGGGGAGATGCGGGCTC...</td>\n",
       "      <td>NP_964013.1</td>\n",
       "      <td>MSDEDDLEDSEPDQDDSEKEEDEKETEEGEDYRKEGEEFPEEWLPT...</td>\n",
       "    </tr>\n",
       "    <tr>\n",
       "      <th>0</th>\n",
       "      <td>NR_168385.1</td>\n",
       "      <td>AGCAGGGCGTCCAGCGGAGAAGGCAGAGGAGGGGAGATGCGGGCTC...</td>\n",
       "      <td>NP_116253.2</td>\n",
       "      <td>MANRTVKDAHSIHGTNPQYLVEKIIRTRIYESKYWKEECFGLTAEL...</td>\n",
       "    </tr>\n",
       "    <tr>\n",
       "      <th>0</th>\n",
       "      <td>NR_168385.1</td>\n",
       "      <td>AGCAGGGCGTCCAGCGGAGAAGGCAGAGGAGGGGAGATGCGGGCTC...</td>\n",
       "      <td>NP_001186750.1</td>\n",
       "      <td>MARLPKLAVFDLDYTLWPFWVDTHVDPPFHKSSDGTVRDRRGQDVR...</td>\n",
       "    </tr>\n",
       "  </tbody>\n",
       "</table>\n",
       "</div>"
      ],
      "text/plain": [
       "        dna_ID                                           sequence  \\\n",
       "0  NR_168385.1  AGCAGGGCGTCCAGCGGAGAAGGCAGAGGAGGGGAGATGCGGGCTC...   \n",
       "0  NR_168385.1  AGCAGGGCGTCCAGCGGAGAAGGCAGAGGAGGGGAGATGCGGGCTC...   \n",
       "0  NR_168385.1  AGCAGGGCGTCCAGCGGAGAAGGCAGAGGAGGGGAGATGCGGGCTC...   \n",
       "0  NR_168385.1  AGCAGGGCGTCCAGCGGAGAAGGCAGAGGAGGGGAGATGCGGGCTC...   \n",
       "0  NR_168385.1  AGCAGGGCGTCCAGCGGAGAAGGCAGAGGAGGGGAGATGCGGGCTC...   \n",
       "\n",
       "       protein_ID                                            protein  \n",
       "0  NP_001355183.1  MLLMVVSMACVGLFLVQRAGPHMGGQDKPFLSAWPSAVVPRGGHVT...  \n",
       "0  NP_001382095.1  MATDSGDPASTEDSEKPDGISFENRVPQVAATLTVEARLKEKNSTF...  \n",
       "0     NP_964013.1  MSDEDDLEDSEPDQDDSEKEEDEKETEEGEDYRKEGEEFPEEWLPT...  \n",
       "0     NP_116253.2  MANRTVKDAHSIHGTNPQYLVEKIIRTRIYESKYWKEECFGLTAEL...  \n",
       "0  NP_001186750.1  MARLPKLAVFDLDYTLWPFWVDTHVDPPFHKSSDGTVRDRRGQDVR...  "
      ]
     },
     "execution_count": 18,
     "metadata": {},
     "output_type": "execute_result"
    }
   ],
   "source": [
    "# join dataframe\n",
    "final_df = rna_df.join(protein_df)\n",
    "final_df.head()"
   ]
  },
  {
   "cell_type": "code",
   "execution_count": 19,
   "metadata": {},
   "outputs": [],
   "source": [
    "PATH_TO_SAVE = '../../data/human_genoma.csv'\n",
    "\n",
    "final_df.to_csv(PATH_TO_SAVE)"
   ]
  },
  {
   "cell_type": "code",
   "execution_count": 20,
   "metadata": {},
   "outputs": [
    {
     "data": {
      "text/plain": [
       "(1678400, 4)"
      ]
     },
     "execution_count": 20,
     "metadata": {},
     "output_type": "execute_result"
    }
   ],
   "source": [
    "final_df.shape"
   ]
  }
 ],
 "metadata": {
  "kernelspec": {
   "display_name": "base",
   "language": "python",
   "name": "python3"
  },
  "language_info": {
   "codemirror_mode": {
    "name": "ipython",
    "version": 3
   },
   "file_extension": ".py",
   "mimetype": "text/x-python",
   "name": "python",
   "nbconvert_exporter": "python",
   "pygments_lexer": "ipython3",
   "version": "3.10.9"
  }
 },
 "nbformat": 4,
 "nbformat_minor": 2
}
