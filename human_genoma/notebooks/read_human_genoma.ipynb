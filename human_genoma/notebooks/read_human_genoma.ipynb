{
 "cells": [
  {
   "cell_type": "code",
   "execution_count": 1,
   "metadata": {},
   "outputs": [],
   "source": [
    "import requests\n",
    "import pandas as pd\n",
    "from Bio import SeqIO\n",
    "import os"
   ]
  },
  {
   "cell_type": "markdown",
   "metadata": {},
   "source": [
    "### Load data"
   ]
  },
  {
   "cell_type": "code",
   "execution_count": 2,
   "metadata": {},
   "outputs": [],
   "source": [
    "RNA_LINK = 'human_genoma\\human.rna.link'\n",
    "PROTEIN_LINK = 'human_genoma\\human.protein.link'\n",
    "\n",
    "PATH_TO_SAVE_RNA = 'human_genoma/rna/'\n",
    "PATH_TO_SAVE_PROTEIN = 'human_genoma/protein/'\n",
    "\n",
    "def data_from_link(link_file, path_to_save):\n",
    "    with open(link_file, 'r') as f:\n",
    "        urls = f.read().splitlines()\n",
    "\n",
    "    for url in urls:\n",
    "        response = requests.get(url)\n",
    "        filename = url.split(\"/\")[-1]\n",
    "\n",
    "        with open(path_to_save+filename, 'wb') as f:\n",
    "            f.write(response.content)"
   ]
  },
  {
   "cell_type": "code",
   "execution_count": 3,
   "metadata": {},
   "outputs": [],
   "source": [
    "data_from_link(RNA_LINK, PATH_TO_SAVE_RNA)"
   ]
  },
  {
   "cell_type": "code",
   "execution_count": 4,
   "metadata": {},
   "outputs": [],
   "source": [
    "data_from_link(PROTEIN_LINK, PATH_TO_SAVE_PROTEIN)"
   ]
  },
  {
   "cell_type": "markdown",
   "metadata": {},
   "source": [
    "### Extrapolate file"
   ]
  },
  {
   "cell_type": "code",
   "execution_count": 9,
   "metadata": {},
   "outputs": [],
   "source": [
    "PATH_RNA = 'human_genoma/data/rna/'\n",
    "PATH_PROTEIN = 'human_genoma/data/protein/'"
   ]
  },
  {
   "cell_type": "code",
   "execution_count": 35,
   "metadata": {},
   "outputs": [],
   "source": [
    "import gzip\n",
    "import glob\n",
    "\n",
    "def decompress_gzip(input_filepath, output_filepath):\n",
    "    input_files = glob.glob(os.path.join(input_filepath, '*.faa.gz'))\n",
    "\n",
    "    for f_path in input_files:\n",
    "        with gzip.open(f_path, 'rb') as f_in:\n",
    "            with open(output_filepath, 'wb') as f_out:\n",
    "                f_out.write(f_in.read())"
   ]
  },
  {
   "cell_type": "code",
   "execution_count": 25,
   "metadata": {},
   "outputs": [],
   "source": [
    "import os\n",
    "import glob\n",
    "\n",
    "def decompress_gz_files(files_gz_path, path_to_extract_files):\n",
    "    gz_files = glob.glob(os.path.join(files_gz_path, '*.faa.gz'))\n",
    "\n",
    "    for gz_file in gz_files:\n",
    "        os.system(f'gunzip -c {gz_file} > {os.path.join(path_to_extract_files, os.path.basename(gz_file)[:-7] + \".fna\")}')"
   ]
  },
  {
   "cell_type": "code",
   "execution_count": null,
   "metadata": {},
   "outputs": [],
   "source": [
    "decompress_gzip(PATH_TO_SAVE_RNA, PATH_RNA)"
   ]
  },
  {
   "cell_type": "code",
   "execution_count": 37,
   "metadata": {},
   "outputs": [],
   "source": [
    "decompress_gz_files(PATH_TO_SAVE_PROTEIN, PATH_PROTEIN)"
   ]
  },
  {
   "cell_type": "markdown",
   "metadata": {},
   "source": [
    "### Read data"
   ]
  },
  {
   "cell_type": "code",
   "execution_count": 7,
   "metadata": {},
   "outputs": [],
   "source": [
    "def fasta_to_dataframe(filename):\n",
    "    sequences = []\n",
    "    for record in SeqIO.parse(filename, \"fasta\"):\n",
    "        sequences.append({\"ID\": record.id, \"Sequence\": str(record.seq)})\n",
    "    return pd.DataFrame(sequences)\n",
    "\n",
    "PATH = 'human_genoma/rna/human.1.rna.fna'\n",
    "df = fasta_to_dataframe(PATH)"
   ]
  },
  {
   "cell_type": "code",
   "execution_count": 15,
   "metadata": {},
   "outputs": [
    {
     "data": {
      "text/plain": [
       "(17687, 2)"
      ]
     },
     "execution_count": 15,
     "metadata": {},
     "output_type": "execute_result"
    }
   ],
   "source": [
    "df.shape"
   ]
  },
  {
   "cell_type": "code",
   "execution_count": 12,
   "metadata": {},
   "outputs": [
    {
     "data": {
      "text/html": [
       "<div>\n",
       "<style scoped>\n",
       "    .dataframe tbody tr th:only-of-type {\n",
       "        vertical-align: middle;\n",
       "    }\n",
       "\n",
       "    .dataframe tbody tr th {\n",
       "        vertical-align: top;\n",
       "    }\n",
       "\n",
       "    .dataframe thead th {\n",
       "        text-align: right;\n",
       "    }\n",
       "</style>\n",
       "<table border=\"1\" class=\"dataframe\">\n",
       "  <thead>\n",
       "    <tr style=\"text-align: right;\">\n",
       "      <th></th>\n",
       "      <th>ID</th>\n",
       "      <th>Sequence</th>\n",
       "    </tr>\n",
       "  </thead>\n",
       "  <tbody>\n",
       "    <tr>\n",
       "      <th>0</th>\n",
       "      <td>NR_168385.1</td>\n",
       "      <td>AGCAGGGCGTCCAGCGGAGAAGGCAGAGGAGGGGAGATGCGGGCTC...</td>\n",
       "    </tr>\n",
       "    <tr>\n",
       "      <th>1</th>\n",
       "      <td>NR_168384.1</td>\n",
       "      <td>AGCAGGGCGTCCAGCGGAGAAGGCAGAGGAGGGGAGATGCGGGCTC...</td>\n",
       "    </tr>\n",
       "  </tbody>\n",
       "</table>\n",
       "</div>"
      ],
      "text/plain": [
       "            ID                                           Sequence\n",
       "0  NR_168385.1  AGCAGGGCGTCCAGCGGAGAAGGCAGAGGAGGGGAGATGCGGGCTC...\n",
       "1  NR_168384.1  AGCAGGGCGTCCAGCGGAGAAGGCAGAGGAGGGGAGATGCGGGCTC..."
      ]
     },
     "execution_count": 12,
     "metadata": {},
     "output_type": "execute_result"
    }
   ],
   "source": [
    "df.head(2)"
   ]
  }
 ],
 "metadata": {
  "kernelspec": {
   "display_name": "base",
   "language": "python",
   "name": "python3"
  },
  "language_info": {
   "codemirror_mode": {
    "name": "ipython",
    "version": 3
   },
   "file_extension": ".py",
   "mimetype": "text/x-python",
   "name": "python",
   "nbconvert_exporter": "python",
   "pygments_lexer": "ipython3",
   "version": "3.10.9"
  }
 },
 "nbformat": 4,
 "nbformat_minor": 2
}
