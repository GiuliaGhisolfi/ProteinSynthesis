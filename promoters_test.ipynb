{
 "cells": [
  {
   "cell_type": "code",
   "execution_count": 1,
   "metadata": {},
   "outputs": [
    {
     "name": "stderr",
     "output_type": "stream",
     "text": [
      "c:\\Users\\giuli\\anaconda3\\lib\\site-packages\\pandas\\core\\arrays\\masked.py:60: UserWarning: Pandas requires version '1.3.6' or newer of 'bottleneck' (version '1.3.5' currently installed).\n",
      "  from pandas.core import (\n"
     ]
    },
    {
     "data": {
      "text/html": [
       "<div>\n",
       "<style scoped>\n",
       "    .dataframe tbody tr th:only-of-type {\n",
       "        vertical-align: middle;\n",
       "    }\n",
       "\n",
       "    .dataframe tbody tr th {\n",
       "        vertical-align: top;\n",
       "    }\n",
       "\n",
       "    .dataframe thead th {\n",
       "        text-align: right;\n",
       "    }\n",
       "</style>\n",
       "<table border=\"1\" class=\"dataframe\">\n",
       "  <thead>\n",
       "    <tr style=\"text-align: right;\">\n",
       "      <th></th>\n",
       "      <th>ID</th>\n",
       "      <th>sequence</th>\n",
       "      <th>category</th>\n",
       "    </tr>\n",
       "  </thead>\n",
       "  <tbody>\n",
       "    <tr>\n",
       "      <th>0</th>\n",
       "      <td>NM_001368254.1</td>\n",
       "      <td>GCTGAGCTGAGCTGGGGCGCAGCCGCCTGTCTGCACCGGCAGCACC...</td>\n",
       "      <td>NM</td>\n",
       "    </tr>\n",
       "    <tr>\n",
       "      <th>1</th>\n",
       "      <td>NM_001350977.1</td>\n",
       "      <td>TCCACAACTGAAACATCCACTTCTGAACACCATGTCCTACTACAGC...</td>\n",
       "      <td>NM</td>\n",
       "    </tr>\n",
       "  </tbody>\n",
       "</table>\n",
       "</div>"
      ],
      "text/plain": [
       "               ID                                           sequence category\n",
       "0  NM_001368254.1  GCTGAGCTGAGCTGGGGCGCAGCCGCCTGTCTGCACCGGCAGCACC...       NM\n",
       "1  NM_001350977.1  TCCACAACTGAAACATCCACTTCTGAACACCATGTCCTACTACAGC...       NM"
      ]
     },
     "execution_count": 1,
     "metadata": {},
     "output_type": "execute_result"
    }
   ],
   "source": [
    "from HumanGenomeDataset.load_dataset import load_dataset\n",
    "\n",
    "data_df = load_dataset('dna_protein_coding_sequences')\n",
    "data_df.head(2)"
   ]
  },
  {
   "cell_type": "code",
   "execution_count": 2,
   "metadata": {},
   "outputs": [
    {
     "data": {
      "text/plain": [
       "'GCTGAGCTGAGCTGGGGCGCAGCCGCCTGTCTGCACCGGCAGCACCATGTTGCTCATGGTCGTCAGCATGGCGTGTGTTGGGTTGTTCTTGGTCCAGAGGGCCGGTCCACACATGGGTGGTCAGGACAAGCCCTTCCTGTCTGCCTGGCCCAGCGCTGTGGTGCCTCGCGGAGGACACGTGACTCTTCGGTGTCACTATCGTCATAGGTTTAACAATTTCATGCTATACAAAGAAGACAGAATCCACGTTCCCATCTTCCATGGCAGAATATTCCAGGAGGGCTTCAACATGAGCCCTGTGACCACAGCACATGCAGGGAACTACACATGTCGGGGTTCACACCCACACTCCCCCACTGGGTGGTCGGCACCCAGCAACCCCATGGTGATCATGGTCACAGGAAACCACAGAAAACCTTCCCTCCTGGCCCACCCAGGTCCCCTGGTGAAATCAGGAGAGAGAGTCATCCTGCAATGTTGGTCAGATATCATGTTTGAGCACTTCTTTCTGCACAAAGAGTGGATCTCTAAGGACCCCTCACGCCTCGTTGGACAGATCCATGATGGGGTCTCCAAGGCCAATTTCTCCATCGGTTCCATGATGCGTGCCCTTGCAGGGACCTACAGATGCTACGGTTCTGTTACTCACACCCCCTATCAGTTGTCAGCTCCCAGTGATCCCCTGGACATCGTGGTCACAGGTCTATATGAGAAACCTTCTCTCTCAGCCCAGCCGGGCCCCAAGGTTCAGGCAGGAGAGAGCGTGACCTTGTCCTGTAGCTCCCGGAGCTCCTATGACATGTACCATCTATCCAGGGAGGGGGGAGCCCATGAACGTAGGCTCCCTGCAGTGCGCAAGGTCAACAGAACATTCCAGGCAGATTTCCCTCTGGGCCCTGCCACCCACGGAGGGACCTACAGATGCTTCGGCTCTTTCCGTCACTCTCCCTACGAGTGGTCAGACCCGAGTGACCCACTGCTTGTTTCTGTCACAGGAAACCCTTCAAGTAGTTGGCCTTCACCCACAGAACCAAGCTCCAAATCTGGTAACCTCAGACACCTGCACATTCTGATTGGGACCTCAGTGGTCAAAATCCCTTTCACCATCCTCCTCTTCTTTCTCCTTCATCGCTGGTGCTCCAACAAAAAAAAATGCTGCTGTAATGGACCAAGAGCCTGCAGGGAACAGAAGTGAACAGCGAGGATTCTGATGAACAAGACCATCAGGAGGTGTCATACGCATAATTGGAACACTGTGTTTTCACACAGAGAAAAATCACTCGCCCTTCTCAGAGGCCCAAGACACCCCCAACAGATACCAGCATGTACATAGAACTTCCAAATGCTGAGCCCAGATCCAAAGTTGTCTTCTGTCCACGAGCACCACAGTCAGGCCTTGAGGGGATCTTCTAGGGAGACAACAGCCCTGTCTCAAAACTGGGTTGCCAGCTCCCATGTACCAGCAGCTGGAATCTGAAGGCATCAGTCTTCATCTTAGGGCATCGCTCTTCCTCACACCACAAATCTGAATGTGCCTCTCACTTGCTTACAAATGTCTAAGGTCCCCACTGCCTGCTGGAGAAAAAACACACTCCTTTGCTTAGCCCACAGTTCTCCATTTCACTTGACCCCTGCCCACCTCTCCAACCTAACTGGCTTACTTCCTAGTCTACTTGAGGCTGCAATCACACTGAGGAACTCACAATTCCACACATACAAGAGGCTCCGTCTTAACGCAGCACTTAGACACGTGCTGTTCCACCTTCCCTCATGCTGTTCCACCTCCCCTCAGACTAGCTTTCAGCCTTCTGTCAGCAGTAAAACTTATATACTTTTTAAAATAACTTCAATGTAGTTTTCCATCCTTCAAATAAACATGTCTGCCCCCATGG'"
      ]
     },
     "execution_count": 2,
     "metadata": {},
     "output_type": "execute_result"
    }
   ],
   "source": [
    "seq = data_df['sequence'][0]\n",
    "seq"
   ]
  },
  {
   "cell_type": "markdown",
   "metadata": {},
   "source": [
    "400  0.565  Marginal prediction\n",
    "\n",
    "900  0.631  Marginal prediction\n",
    "\n",
    "1300  0.523  Marginal prediction"
   ]
  },
  {
   "cell_type": "code",
   "execution_count": 9,
   "metadata": {},
   "outputs": [
    {
     "name": "stderr",
     "output_type": "stream",
     "text": [
      "c:\\Users\\giuli\\anaconda3\\lib\\site-packages\\torch\\nn\\modules\\conv.py:306: UserWarning: Using padding='same' with even kernel lengths and odd dilation may require a zero-padded copy of the input be created (Triggered internally at ..\\aten\\src\\ATen\\native\\Convolution.cpp:1041.)\n",
      "  return F.conv1d(input, weight, bias, self.stride,\n"
     ]
    },
    {
     "ename": "AttributeError",
     "evalue": "'str' object has no attribute 'permute'",
     "output_type": "error",
     "traceback": [
      "\u001b[1;31m---------------------------------------------------------------------------\u001b[0m",
      "\u001b[1;31mAttributeError\u001b[0m                            Traceback (most recent call last)",
      "Cell \u001b[1;32mIn[9], line 8\u001b[0m\n\u001b[0;32m      5\u001b[0m net \u001b[38;5;241m=\u001b[39m DeePromoter([\u001b[38;5;241m8\u001b[39m])\n\u001b[0;32m      6\u001b[0m \u001b[38;5;66;03m#net.to(device)\u001b[39;00m\n\u001b[1;32m----> 8\u001b[0m output \u001b[38;5;241m=\u001b[39m \u001b[43mnet\u001b[49m\u001b[43m(\u001b[49m\u001b[43mseq\u001b[49m\u001b[43m)\u001b[49m\n",
      "File \u001b[1;32mc:\\Users\\giuli\\anaconda3\\lib\\site-packages\\torch\\nn\\modules\\module.py:1511\u001b[0m, in \u001b[0;36mModule._wrapped_call_impl\u001b[1;34m(self, *args, **kwargs)\u001b[0m\n\u001b[0;32m   1509\u001b[0m     \u001b[38;5;28;01mreturn\u001b[39;00m \u001b[38;5;28mself\u001b[39m\u001b[38;5;241m.\u001b[39m_compiled_call_impl(\u001b[38;5;241m*\u001b[39margs, \u001b[38;5;241m*\u001b[39m\u001b[38;5;241m*\u001b[39mkwargs)  \u001b[38;5;66;03m# type: ignore[misc]\u001b[39;00m\n\u001b[0;32m   1510\u001b[0m \u001b[38;5;28;01melse\u001b[39;00m:\n\u001b[1;32m-> 1511\u001b[0m     \u001b[38;5;28;01mreturn\u001b[39;00m \u001b[38;5;28mself\u001b[39m\u001b[38;5;241m.\u001b[39m_call_impl(\u001b[38;5;241m*\u001b[39margs, \u001b[38;5;241m*\u001b[39m\u001b[38;5;241m*\u001b[39mkwargs)\n",
      "File \u001b[1;32mc:\\Users\\giuli\\anaconda3\\lib\\site-packages\\torch\\nn\\modules\\module.py:1520\u001b[0m, in \u001b[0;36mModule._call_impl\u001b[1;34m(self, *args, **kwargs)\u001b[0m\n\u001b[0;32m   1515\u001b[0m \u001b[38;5;66;03m# If we don't have any hooks, we want to skip the rest of the logic in\u001b[39;00m\n\u001b[0;32m   1516\u001b[0m \u001b[38;5;66;03m# this function, and just call forward.\u001b[39;00m\n\u001b[0;32m   1517\u001b[0m \u001b[38;5;28;01mif\u001b[39;00m \u001b[38;5;129;01mnot\u001b[39;00m (\u001b[38;5;28mself\u001b[39m\u001b[38;5;241m.\u001b[39m_backward_hooks \u001b[38;5;129;01mor\u001b[39;00m \u001b[38;5;28mself\u001b[39m\u001b[38;5;241m.\u001b[39m_backward_pre_hooks \u001b[38;5;129;01mor\u001b[39;00m \u001b[38;5;28mself\u001b[39m\u001b[38;5;241m.\u001b[39m_forward_hooks \u001b[38;5;129;01mor\u001b[39;00m \u001b[38;5;28mself\u001b[39m\u001b[38;5;241m.\u001b[39m_forward_pre_hooks\n\u001b[0;32m   1518\u001b[0m         \u001b[38;5;129;01mor\u001b[39;00m _global_backward_pre_hooks \u001b[38;5;129;01mor\u001b[39;00m _global_backward_hooks\n\u001b[0;32m   1519\u001b[0m         \u001b[38;5;129;01mor\u001b[39;00m _global_forward_hooks \u001b[38;5;129;01mor\u001b[39;00m _global_forward_pre_hooks):\n\u001b[1;32m-> 1520\u001b[0m     \u001b[38;5;28;01mreturn\u001b[39;00m forward_call(\u001b[38;5;241m*\u001b[39margs, \u001b[38;5;241m*\u001b[39m\u001b[38;5;241m*\u001b[39mkwargs)\n\u001b[0;32m   1522\u001b[0m \u001b[38;5;28;01mtry\u001b[39;00m:\n\u001b[0;32m   1523\u001b[0m     result \u001b[38;5;241m=\u001b[39m \u001b[38;5;28;01mNone\u001b[39;00m\n",
      "File \u001b[1;32mc:\\Documenti\\VS_Code\\uni\\CMCS\\ProteinSynthesis\\DeePromoter\\modules\\deepromoter.py:97\u001b[0m, in \u001b[0;36mDeePromoter.forward\u001b[1;34m(self, x)\u001b[0m\n\u001b[0;32m     96\u001b[0m \u001b[38;5;28;01mdef\u001b[39;00m \u001b[38;5;21mforward\u001b[39m(\u001b[38;5;28mself\u001b[39m, x):\n\u001b[1;32m---> 97\u001b[0m     x \u001b[38;5;241m=\u001b[39m \u001b[43mx\u001b[49m\u001b[38;5;241;43m.\u001b[39;49m\u001b[43mpermute\u001b[49m(\u001b[38;5;241m0\u001b[39m, \u001b[38;5;241m2\u001b[39m, \u001b[38;5;241m1\u001b[39m)\n\u001b[0;32m     98\u001b[0m     x \u001b[38;5;241m=\u001b[39m \u001b[38;5;28mself\u001b[39m\u001b[38;5;241m.\u001b[39mpconv(x)\n\u001b[0;32m     99\u001b[0m     x \u001b[38;5;241m=\u001b[39m x\u001b[38;5;241m.\u001b[39mpermute(\u001b[38;5;241m0\u001b[39m, \u001b[38;5;241m2\u001b[39m, \u001b[38;5;241m1\u001b[39m)\n",
      "\u001b[1;31mAttributeError\u001b[0m: 'str' object has no attribute 'permute'"
     ]
    }
   ],
   "source": [
    "from DeePromoter.modules.deepromoter import DeePromoter\n",
    "\n",
    "#device = torch.device('cuda' if torch.cuda.is_available() else 'cpu')\n",
    "\n",
    "net = DeePromoter([8])\n",
    "#net.to(device)\n",
    "\n",
    "output = net(seq)"
   ]
  },
  {
   "cell_type": "code",
   "execution_count": 22,
   "metadata": {},
   "outputs": [
    {
     "data": {
      "text/plain": [
       "[1, 104]"
      ]
     },
     "execution_count": 22,
     "metadata": {},
     "output_type": "execute_result"
    }
   ],
   "source": [
    "promoter_positions_list = [1, 2, 104]\n",
    "\n",
    "i = 0\n",
    "while i < len(promoter_positions_list)-1: \n",
    "    if promoter_positions_list[i+1] - promoter_positions_list[i] < 100:\n",
    "        del promoter_positions_list[i+1]  \n",
    "    else: i += 1\n",
    "\n",
    "\n",
    "promoter_positions_list"
   ]
  },
  {
   "cell_type": "code",
   "execution_count": 16,
   "metadata": {},
   "outputs": [
    {
     "name": "stdout",
     "output_type": "stream",
     "text": [
      "109224\n",
      "39\n",
      "4585.204543737521\n",
      "3940.234208795978\n"
     ]
    }
   ],
   "source": [
    "l = []\n",
    "for seq in data_df['sequence']:\n",
    "    l.append(len(seq))\n",
    "\n",
    "import numpy as np\n",
    "print(max(l))\n",
    "print(min(l))\n",
    "print(np.mean(l))\n",
    "print(np.std(l))"
   ]
  }
 ],
 "metadata": {
  "kernelspec": {
   "display_name": "base",
   "language": "python",
   "name": "python3"
  },
  "language_info": {
   "codemirror_mode": {
    "name": "ipython",
    "version": 3
   },
   "file_extension": ".py",
   "mimetype": "text/x-python",
   "name": "python",
   "nbconvert_exporter": "python",
   "pygments_lexer": "ipython3",
   "version": "3.10.9"
  }
 },
 "nbformat": 4,
 "nbformat_minor": 2
}
